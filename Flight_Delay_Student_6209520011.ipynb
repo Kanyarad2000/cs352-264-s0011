{
  "cells": [
    {
      "cell_type": "markdown",
      "metadata": {
        "id": "view-in-github",
        "colab_type": "text"
      },
      "source": [
        "<a href=\"https://colab.research.google.com/github/Kanyarad2000/cs352-264-s0011/blob/main/Flight_Delay_Student_6209520011.ipynb\" target=\"_parent\"><img src=\"https://colab.research.google.com/assets/colab-badge.svg\" alt=\"Open In Colab\"/></a>"
      ]
    },
    {
      "cell_type": "markdown",
      "source": [
        "กัญญารัตน์ เกิดสวัสดิ์ 6209520011"
      ],
      "metadata": {
        "id": "QU5LLyIKWD8E"
      }
    },
    {
      "cell_type": "markdown",
      "metadata": {
        "id": "AolsoeWDV_-j"
      },
      "source": [
        "# Problem: Predicting Airplane Delays\n",
        "\n",
        "The goals of this notebook are:\n",
        "- Process and create a dataset from downloaded .zip files\n",
        "- Perform exploratory data analysis (EDA)\n",
        "- Establish a baseline model\n",
        "- Move from a simple model to an ensemble model\n",
        "- Perform hyperparameter optimization\n",
        "- Check feature importance\n",
        "\n",
        "\n",
        "## Introduction to business scenario\n",
        "\n",
        "You work for a travel booking website that wants to improve the customer experience for flights that were delayed. The company wants to create a feature to let customers know if the flight will be delayed because of weather when they book a flight to or from the busiest airports for domestic travel in the US. \n",
        "\n",
        "You are tasked with solving part of this problem by using machine learning (ML) to identify whether the flight will be delayed because of weather. You have been given access to the a dataset about the on-time performance of domestic flights that were operated by large air carriers. You can use this data to train an ML model to predict if the flight is going to be delayed for the busiest airports.\n",
        "\n",
        "\n",
        "## About this dataset\n",
        "\n",
        "This dataset contains scheduled and actual departure and arrival times reported by certified US air carriers that account for at least 1 percent of domestic scheduled passenger revenues. The data was collected by the U.S. Office of Airline Information, Bureau of Transportation Statistics (BTS). The dataset contains date, time, origin, destination, airline, distance, and delay status of flights for flights between 2013 and 2018.\n",
        "\n",
        "\n",
        "### Features\n",
        "\n",
        "For more information about features in the dataset, see [On-time delay dataset features](https://www.transtats.bts.gov/Fields.asp).\n",
        "\n",
        "### Dataset attributions  \n",
        "Website: https://www.transtats.bts.gov/\n",
        "\n",
        "Dataset(s) used in this lab were compiled by the U.S. Office of Airline Information, Bureau of Transportation Statistics (BTS), Airline On-Time Performance Data, available at https://www.transtats.bts.gov/DatabaseInfo.asp?DB_ID=120&DB_URL=Mode_ID=1&Mode_Desc=Aviation&Subject_ID2=0."
      ]
    },
    {
      "cell_type": "markdown",
      "metadata": {
        "id": "0D7psTPsV_-o"
      },
      "source": [
        "# Step 1: Problem formulation and data collection\n",
        "\n",
        "Start this project by writing a few sentences that summarize the business problem and the business goal that you want to achieve in this scenario. You can write down your ideas in the following sections. Include a business metric that you would like your team to aspire toward. After you define that information, write the ML problem statement. Finally, add a comment or two about the type of ML this activity represents. \n",
        "\n",
        "#### <span style=\"color: blue;\">Project presentation: Include a summary of these details in your project presentation.</span>\n",
        "\n",
        "### 1. Determine if and why ML is an appropriate solution to deploy for this scenario."
      ]
    },
    {
      "cell_type": "code",
      "execution_count": null,
      "metadata": {
        "id": "PFP28iTpV_-p"
      },
      "outputs": [],
      "source": [
        "# Appropriate because ML is used to help analyze complex data.**"
      ]
    },
    {
      "cell_type": "markdown",
      "metadata": {
        "id": "Pp_IK24TV_-r"
      },
      "source": [
        "### 2. Formulate the business problem, success metrics, and desired ML output."
      ]
    },
    {
      "cell_type": "code",
      "execution_count": null,
      "metadata": {
        "id": "b02TXM8yV_-r"
      },
      "outputs": [],
      "source": [
        "# Airline delay problem to have an indicator of how good the value of the airline is**"
      ]
    },
    {
      "cell_type": "markdown",
      "metadata": {
        "id": "k6NLpd_AV_-r"
      },
      "source": [
        "### 3. Identify the type of ML problem that you're working with."
      ]
    },
    {
      "cell_type": "code",
      "execution_count": null,
      "metadata": {
        "id": "KLEgzU5qV_-s"
      },
      "outputs": [],
      "source": [
        "# The problem is that they are not familiar with the types of data being analyzed. The matter of the airline is complicated.**"
      ]
    },
    {
      "cell_type": "markdown",
      "metadata": {
        "id": "cDkznANvV_-t"
      },
      "source": [
        "### 4. Analyze the appropriateness of the data that you're working with."
      ]
    },
    {
      "cell_type": "code",
      "execution_count": null,
      "metadata": {
        "id": "hcb9yRZ7V_-t"
      },
      "outputs": [],
      "source": [
        "# The information of the airline, such as type of airline, flight time, was analyzed to find the value of How is the plane's delay?**"
      ]
    },
    {
      "cell_type": "markdown",
      "metadata": {
        "id": "PZuH6g1HV_-u"
      },
      "source": [
        "### Setup\n",
        "\n",
        "Now that you have decided where you want to focus your attention, you will set up this lab so that you can start solving the problem.\n",
        "\n",
        "**Note:** This notebook was created and tested on an `ml.m4.xlarge` notebook instance with 25 GB storage. "
      ]
    },
    {
      "cell_type": "code",
      "execution_count": null,
      "metadata": {
        "id": "oD6IEl6MV_-v"
      },
      "outputs": [],
      "source": [
        "import os\n",
        "from pathlib2 import Path\n",
        "from zipfile import ZipFile\n",
        "import time\n",
        "\n",
        "import pandas as pd\n",
        "import numpy as np\n",
        "import subprocess\n",
        "\n",
        "import matplotlib.pyplot as plt\n",
        "import seaborn as sns\n",
        "\n",
        "sns.set()\n",
        "instance_type='ml.m4.xlarge'\n",
        "\n",
        "import warnings\n",
        "warnings.filterwarnings('ignore')\n",
        "\n",
        "%matplotlib inline"
      ]
    },
    {
      "cell_type": "markdown",
      "metadata": {
        "id": "0fGDOJOWV_-w"
      },
      "source": [
        "# Step 2: Data preprocessing and visualization  \n",
        "In this data preprocessing phase, you explore and visualize your data to better understand it. First, import the necessary libraries and read the data into a pandas DataFrame. After you import the data, explore the dataset. Look for the shape of the dataset and explore your columns and the types of columns that you will work with (numerical, categorical). Consider performing basic statistics on the features to get a sense of feature means and ranges. Examine your target column closely, and determine its distribution.\n",
        "\n",
        "\n",
        "### Specific questions to consider\n",
        "\n",
        "Throughout this section of the lab, consider the following questions:\n",
        "\n",
        "1. What can you deduce from the basic statistics that you ran on the features? \n",
        "2. What can you deduce from the distributions of the target classes?\n",
        "3. Is there anything else you can deduce by exploring the data?\n",
        "\n",
        "#### <span style=\"color: blue;\">Project presentation: Include a summary of your answers to these questions (and other similar questions) in your project presentation.</span>"
      ]
    },
    {
      "cell_type": "markdown",
      "metadata": {
        "id": "ph4eAR16V_-w"
      },
      "source": [
        "Start by bringing in the dataset from a public Amazon Simple Storage Service (Amazon S3) bucket to this notebook environment."
      ]
    },
    {
      "cell_type": "code",
      "execution_count": null,
      "metadata": {
        "id": "Zd3ZfzGEV_-x",
        "outputId": "d0a5b2ea-6dc7-45bd-fedb-0a732ea99fb7"
      },
      "outputs": [
        {
          "name": "stdout",
          "output_type": "stream",
          "text": [
            "download: s3://aws-tc-largeobjects/CUR-TF-200-ACMLFO-1/flight_delay_project/data/On_Time_Reporting_Carrier_On_Time_Performance_1987_present_2014_1.zip to ../project/data/FlightDelays/On_Time_Reporting_Carrier_On_Time_Performance_1987_present_2014_1.zip\n",
            "download: s3://aws-tc-largeobjects/CUR-TF-200-ACMLFO-1/flight_delay_project/data/On_Time_Reporting_Carrier_On_Time_Performance_1987_present_2014_10.zip to ../project/data/FlightDelays/On_Time_Reporting_Carrier_On_Time_Performance_1987_present_2014_10.zip\n",
            "download: s3://aws-tc-largeobjects/CUR-TF-200-ACMLFO-1/flight_delay_project/data/On_Time_Reporting_Carrier_On_Time_Performance_1987_present_2014_12.zip to ../project/data/FlightDelays/On_Time_Reporting_Carrier_On_Time_Performance_1987_present_2014_12.zip\n",
            "download: s3://aws-tc-largeobjects/CUR-TF-200-ACMLFO-1/flight_delay_project/data/On_Time_Reporting_Carrier_On_Time_Performance_1987_present_2014_2.zip to ../project/data/FlightDelays/On_Time_Reporting_Carrier_On_Time_Performance_1987_present_2014_2.zip\n",
            "download: s3://aws-tc-largeobjects/CUR-TF-200-ACMLFO-1/flight_delay_project/data/On_Time_Reporting_Carrier_On_Time_Performance_1987_present_2014_3.zip to ../project/data/FlightDelays/On_Time_Reporting_Carrier_On_Time_Performance_1987_present_2014_3.zip\n",
            "download: s3://aws-tc-largeobjects/CUR-TF-200-ACMLFO-1/flight_delay_project/data/On_Time_Reporting_Carrier_On_Time_Performance_1987_present_2014_4.zip to ../project/data/FlightDelays/On_Time_Reporting_Carrier_On_Time_Performance_1987_present_2014_4.zip\n",
            "download: s3://aws-tc-largeobjects/CUR-TF-200-ACMLFO-1/flight_delay_project/data/On_Time_Reporting_Carrier_On_Time_Performance_1987_present_2014_7.zip to ../project/data/FlightDelays/On_Time_Reporting_Carrier_On_Time_Performance_1987_present_2014_7.zip\n",
            "download: s3://aws-tc-largeobjects/CUR-TF-200-ACMLFO-1/flight_delay_project/data/On_Time_Reporting_Carrier_On_Time_Performance_1987_present_2014_11.zip to ../project/data/FlightDelays/On_Time_Reporting_Carrier_On_Time_Performance_1987_present_2014_11.zip\n",
            "download: s3://aws-tc-largeobjects/CUR-TF-200-ACMLFO-1/flight_delay_project/data/On_Time_Reporting_Carrier_On_Time_Performance_1987_present_2014_8.zip to ../project/data/FlightDelays/On_Time_Reporting_Carrier_On_Time_Performance_1987_present_2014_8.zip\n",
            "download: s3://aws-tc-largeobjects/CUR-TF-200-ACMLFO-1/flight_delay_project/data/On_Time_Reporting_Carrier_On_Time_Performance_1987_present_2014_9.zip to ../project/data/FlightDelays/On_Time_Reporting_Carrier_On_Time_Performance_1987_present_2014_9.zip\n",
            "download: s3://aws-tc-largeobjects/CUR-TF-200-ACMLFO-1/flight_delay_project/data/On_Time_Reporting_Carrier_On_Time_Performance_1987_present_2014_5.zip to ../project/data/FlightDelays/On_Time_Reporting_Carrier_On_Time_Performance_1987_present_2014_5.zip\n",
            "download: s3://aws-tc-largeobjects/CUR-TF-200-ACMLFO-1/flight_delay_project/data/On_Time_Reporting_Carrier_On_Time_Performance_1987_present_2014_6.zip to ../project/data/FlightDelays/On_Time_Reporting_Carrier_On_Time_Performance_1987_present_2014_6.zip\n",
            "download: s3://aws-tc-largeobjects/CUR-TF-200-ACMLFO-1/flight_delay_project/data/On_Time_Reporting_Carrier_On_Time_Performance_1987_present_2015_1.zip to ../project/data/FlightDelays/On_Time_Reporting_Carrier_On_Time_Performance_1987_present_2015_1.zip\n",
            "download: s3://aws-tc-largeobjects/CUR-TF-200-ACMLFO-1/flight_delay_project/data/On_Time_Reporting_Carrier_On_Time_Performance_1987_present_2015_10.zip to ../project/data/FlightDelays/On_Time_Reporting_Carrier_On_Time_Performance_1987_present_2015_10.zip\n",
            "download: s3://aws-tc-largeobjects/CUR-TF-200-ACMLFO-1/flight_delay_project/data/On_Time_Reporting_Carrier_On_Time_Performance_1987_present_2015_12.zip to ../project/data/FlightDelays/On_Time_Reporting_Carrier_On_Time_Performance_1987_present_2015_12.zip\n",
            "download: s3://aws-tc-largeobjects/CUR-TF-200-ACMLFO-1/flight_delay_project/data/On_Time_Reporting_Carrier_On_Time_Performance_1987_present_2015_2.zip to ../project/data/FlightDelays/On_Time_Reporting_Carrier_On_Time_Performance_1987_present_2015_2.zip\n",
            "download: s3://aws-tc-largeobjects/CUR-TF-200-ACMLFO-1/flight_delay_project/data/On_Time_Reporting_Carrier_On_Time_Performance_1987_present_2015_3.zip to ../project/data/FlightDelays/On_Time_Reporting_Carrier_On_Time_Performance_1987_present_2015_3.zip\n",
            "download: s3://aws-tc-largeobjects/CUR-TF-200-ACMLFO-1/flight_delay_project/data/On_Time_Reporting_Carrier_On_Time_Performance_1987_present_2015_4.zip to ../project/data/FlightDelays/On_Time_Reporting_Carrier_On_Time_Performance_1987_present_2015_4.zip\n",
            "download: s3://aws-tc-largeobjects/CUR-TF-200-ACMLFO-1/flight_delay_project/data/On_Time_Reporting_Carrier_On_Time_Performance_1987_present_2015_6.zip to ../project/data/FlightDelays/On_Time_Reporting_Carrier_On_Time_Performance_1987_present_2015_6.zip\n",
            "download: s3://aws-tc-largeobjects/CUR-TF-200-ACMLFO-1/flight_delay_project/data/On_Time_Reporting_Carrier_On_Time_Performance_1987_present_2015_5.zip to ../project/data/FlightDelays/On_Time_Reporting_Carrier_On_Time_Performance_1987_present_2015_5.zip\n",
            "download: s3://aws-tc-largeobjects/CUR-TF-200-ACMLFO-1/flight_delay_project/data/On_Time_Reporting_Carrier_On_Time_Performance_1987_present_2015_11.zip to ../project/data/FlightDelays/On_Time_Reporting_Carrier_On_Time_Performance_1987_present_2015_11.zip\n",
            "download: s3://aws-tc-largeobjects/CUR-TF-200-ACMLFO-1/flight_delay_project/data/On_Time_Reporting_Carrier_On_Time_Performance_1987_present_2015_7.zip to ../project/data/FlightDelays/On_Time_Reporting_Carrier_On_Time_Performance_1987_present_2015_7.zip\n",
            "download: s3://aws-tc-largeobjects/CUR-TF-200-ACMLFO-1/flight_delay_project/data/On_Time_Reporting_Carrier_On_Time_Performance_1987_present_2015_8.zip to ../project/data/FlightDelays/On_Time_Reporting_Carrier_On_Time_Performance_1987_present_2015_8.zip\n",
            "download: s3://aws-tc-largeobjects/CUR-TF-200-ACMLFO-1/flight_delay_project/data/On_Time_Reporting_Carrier_On_Time_Performance_1987_present_2015_9.zip to ../project/data/FlightDelays/On_Time_Reporting_Carrier_On_Time_Performance_1987_present_2015_9.zip\n",
            "download: s3://aws-tc-largeobjects/CUR-TF-200-ACMLFO-1/flight_delay_project/data/On_Time_Reporting_Carrier_On_Time_Performance_1987_present_2016_1.zip to ../project/data/FlightDelays/On_Time_Reporting_Carrier_On_Time_Performance_1987_present_2016_1.zip\n",
            "download: s3://aws-tc-largeobjects/CUR-TF-200-ACMLFO-1/flight_delay_project/data/On_Time_Reporting_Carrier_On_Time_Performance_1987_present_2016_10.zip to ../project/data/FlightDelays/On_Time_Reporting_Carrier_On_Time_Performance_1987_present_2016_10.zip\n",
            "download: s3://aws-tc-largeobjects/CUR-TF-200-ACMLFO-1/flight_delay_project/data/On_Time_Reporting_Carrier_On_Time_Performance_1987_present_2016_2.zip to ../project/data/FlightDelays/On_Time_Reporting_Carrier_On_Time_Performance_1987_present_2016_2.zip\n",
            "download: s3://aws-tc-largeobjects/CUR-TF-200-ACMLFO-1/flight_delay_project/data/On_Time_Reporting_Carrier_On_Time_Performance_1987_present_2016_11.zip to ../project/data/FlightDelays/On_Time_Reporting_Carrier_On_Time_Performance_1987_present_2016_11.zip\n",
            "download: s3://aws-tc-largeobjects/CUR-TF-200-ACMLFO-1/flight_delay_project/data/On_Time_Reporting_Carrier_On_Time_Performance_1987_present_2016_3.zip to ../project/data/FlightDelays/On_Time_Reporting_Carrier_On_Time_Performance_1987_present_2016_3.zip\n",
            "download: s3://aws-tc-largeobjects/CUR-TF-200-ACMLFO-1/flight_delay_project/data/On_Time_Reporting_Carrier_On_Time_Performance_1987_present_2016_12.zip to ../project/data/FlightDelays/On_Time_Reporting_Carrier_On_Time_Performance_1987_present_2016_12.zip\n",
            "download: s3://aws-tc-largeobjects/CUR-TF-200-ACMLFO-1/flight_delay_project/data/On_Time_Reporting_Carrier_On_Time_Performance_1987_present_2016_4.zip to ../project/data/FlightDelays/On_Time_Reporting_Carrier_On_Time_Performance_1987_present_2016_4.zip\n",
            "download: s3://aws-tc-largeobjects/CUR-TF-200-ACMLFO-1/flight_delay_project/data/On_Time_Reporting_Carrier_On_Time_Performance_1987_present_2016_5.zip to ../project/data/FlightDelays/On_Time_Reporting_Carrier_On_Time_Performance_1987_present_2016_5.zip\n",
            "download: s3://aws-tc-largeobjects/CUR-TF-200-ACMLFO-1/flight_delay_project/data/On_Time_Reporting_Carrier_On_Time_Performance_1987_present_2016_6.zip to ../project/data/FlightDelays/On_Time_Reporting_Carrier_On_Time_Performance_1987_present_2016_6.zip\n",
            "download: s3://aws-tc-largeobjects/CUR-TF-200-ACMLFO-1/flight_delay_project/data/On_Time_Reporting_Carrier_On_Time_Performance_1987_present_2016_9.zip to ../project/data/FlightDelays/On_Time_Reporting_Carrier_On_Time_Performance_1987_present_2016_9.zip\n",
            "download: s3://aws-tc-largeobjects/CUR-TF-200-ACMLFO-1/flight_delay_project/data/On_Time_Reporting_Carrier_On_Time_Performance_1987_present_2016_7.zip to ../project/data/FlightDelays/On_Time_Reporting_Carrier_On_Time_Performance_1987_present_2016_7.zip\n",
            "download: s3://aws-tc-largeobjects/CUR-TF-200-ACMLFO-1/flight_delay_project/data/On_Time_Reporting_Carrier_On_Time_Performance_1987_present_2016_8.zip to ../project/data/FlightDelays/On_Time_Reporting_Carrier_On_Time_Performance_1987_present_2016_8.zip\n",
            "download: s3://aws-tc-largeobjects/CUR-TF-200-ACMLFO-1/flight_delay_project/data/On_Time_Reporting_Carrier_On_Time_Performance_1987_present_2017_1.zip to ../project/data/FlightDelays/On_Time_Reporting_Carrier_On_Time_Performance_1987_present_2017_1.zip\n",
            "download: s3://aws-tc-largeobjects/CUR-TF-200-ACMLFO-1/flight_delay_project/data/On_Time_Reporting_Carrier_On_Time_Performance_1987_present_2017_11.zip to ../project/data/FlightDelays/On_Time_Reporting_Carrier_On_Time_Performance_1987_present_2017_11.zip\n",
            "download: s3://aws-tc-largeobjects/CUR-TF-200-ACMLFO-1/flight_delay_project/data/On_Time_Reporting_Carrier_On_Time_Performance_1987_present_2017_10.zip to ../project/data/FlightDelays/On_Time_Reporting_Carrier_On_Time_Performance_1987_present_2017_10.zip\n",
            "download: s3://aws-tc-largeobjects/CUR-TF-200-ACMLFO-1/flight_delay_project/data/On_Time_Reporting_Carrier_On_Time_Performance_1987_present_2017_2.zip to ../project/data/FlightDelays/On_Time_Reporting_Carrier_On_Time_Performance_1987_present_2017_2.zip\n",
            "download: s3://aws-tc-largeobjects/CUR-TF-200-ACMLFO-1/flight_delay_project/data/On_Time_Reporting_Carrier_On_Time_Performance_1987_present_2017_12.zip to ../project/data/FlightDelays/On_Time_Reporting_Carrier_On_Time_Performance_1987_present_2017_12.zip\n",
            "download: s3://aws-tc-largeobjects/CUR-TF-200-ACMLFO-1/flight_delay_project/data/On_Time_Reporting_Carrier_On_Time_Performance_1987_present_2017_3.zip to ../project/data/FlightDelays/On_Time_Reporting_Carrier_On_Time_Performance_1987_present_2017_3.zip\n",
            "download: s3://aws-tc-largeobjects/CUR-TF-200-ACMLFO-1/flight_delay_project/data/On_Time_Reporting_Carrier_On_Time_Performance_1987_present_2017_4.zip to ../project/data/FlightDelays/On_Time_Reporting_Carrier_On_Time_Performance_1987_present_2017_4.zip\n",
            "download: s3://aws-tc-largeobjects/CUR-TF-200-ACMLFO-1/flight_delay_project/data/On_Time_Reporting_Carrier_On_Time_Performance_1987_present_2017_5.zip to ../project/data/FlightDelays/On_Time_Reporting_Carrier_On_Time_Performance_1987_present_2017_5.zip\n",
            "download: s3://aws-tc-largeobjects/CUR-TF-200-ACMLFO-1/flight_delay_project/data/On_Time_Reporting_Carrier_On_Time_Performance_1987_present_2017_7.zip to ../project/data/FlightDelays/On_Time_Reporting_Carrier_On_Time_Performance_1987_present_2017_7.zip\n",
            "download: s3://aws-tc-largeobjects/CUR-TF-200-ACMLFO-1/flight_delay_project/data/On_Time_Reporting_Carrier_On_Time_Performance_1987_present_2017_6.zip to ../project/data/FlightDelays/On_Time_Reporting_Carrier_On_Time_Performance_1987_present_2017_6.zip\n",
            "download: s3://aws-tc-largeobjects/CUR-TF-200-ACMLFO-1/flight_delay_project/data/On_Time_Reporting_Carrier_On_Time_Performance_1987_present_2018_1.zip to ../project/data/FlightDelays/On_Time_Reporting_Carrier_On_Time_Performance_1987_present_2018_1.zip\n",
            "download: s3://aws-tc-largeobjects/CUR-TF-200-ACMLFO-1/flight_delay_project/data/On_Time_Reporting_Carrier_On_Time_Performance_1987_present_2018_10.zip to ../project/data/FlightDelays/On_Time_Reporting_Carrier_On_Time_Performance_1987_present_2018_10.zip\n",
            "download: s3://aws-tc-largeobjects/CUR-TF-200-ACMLFO-1/flight_delay_project/data/On_Time_Reporting_Carrier_On_Time_Performance_1987_present_2017_8.zip to ../project/data/FlightDelays/On_Time_Reporting_Carrier_On_Time_Performance_1987_present_2017_8.zip\n",
            "download: s3://aws-tc-largeobjects/CUR-TF-200-ACMLFO-1/flight_delay_project/data/On_Time_Reporting_Carrier_On_Time_Performance_1987_present_2018_12.zip to ../project/data/FlightDelays/On_Time_Reporting_Carrier_On_Time_Performance_1987_present_2018_12.zip\n",
            "download: s3://aws-tc-largeobjects/CUR-TF-200-ACMLFO-1/flight_delay_project/data/On_Time_Reporting_Carrier_On_Time_Performance_1987_present_2018_11.zip to ../project/data/FlightDelays/On_Time_Reporting_Carrier_On_Time_Performance_1987_present_2018_11.zip\n",
            "download: s3://aws-tc-largeobjects/CUR-TF-200-ACMLFO-1/flight_delay_project/data/On_Time_Reporting_Carrier_On_Time_Performance_1987_present_2018_3.zip to ../project/data/FlightDelays/On_Time_Reporting_Carrier_On_Time_Performance_1987_present_2018_3.zip\n",
            "download: s3://aws-tc-largeobjects/CUR-TF-200-ACMLFO-1/flight_delay_project/data/On_Time_Reporting_Carrier_On_Time_Performance_1987_present_2018_2.zip to ../project/data/FlightDelays/On_Time_Reporting_Carrier_On_Time_Performance_1987_present_2018_2.zip\n",
            "download: s3://aws-tc-largeobjects/CUR-TF-200-ACMLFO-1/flight_delay_project/data/On_Time_Reporting_Carrier_On_Time_Performance_1987_present_2017_9.zip to ../project/data/FlightDelays/On_Time_Reporting_Carrier_On_Time_Performance_1987_present_2017_9.zip\n",
            "download: s3://aws-tc-largeobjects/CUR-TF-200-ACMLFO-1/flight_delay_project/data/On_Time_Reporting_Carrier_On_Time_Performance_1987_present_2018_4.zip to ../project/data/FlightDelays/On_Time_Reporting_Carrier_On_Time_Performance_1987_present_2018_4.zip\n",
            "download: s3://aws-tc-largeobjects/CUR-TF-200-ACMLFO-1/flight_delay_project/data/On_Time_Reporting_Carrier_On_Time_Performance_1987_present_2018_5.zip to ../project/data/FlightDelays/On_Time_Reporting_Carrier_On_Time_Performance_1987_present_2018_5.zip\n",
            "download: s3://aws-tc-largeobjects/CUR-TF-200-ACMLFO-1/flight_delay_project/data/On_Time_Reporting_Carrier_On_Time_Performance_1987_present_2018_7.zip to ../project/data/FlightDelays/On_Time_Reporting_Carrier_On_Time_Performance_1987_present_2018_7.zip\n",
            "download: s3://aws-tc-largeobjects/CUR-TF-200-ACMLFO-1/flight_delay_project/data/On_Time_Reporting_Carrier_On_Time_Performance_1987_present_2018_6.zip to ../project/data/FlightDelays/On_Time_Reporting_Carrier_On_Time_Performance_1987_present_2018_6.zip\n",
            "download: s3://aws-tc-largeobjects/CUR-TF-200-ACMLFO-1/flight_delay_project/data/On_Time_Reporting_Carrier_On_Time_Performance_1987_present_2018_8.zip to ../project/data/FlightDelays/On_Time_Reporting_Carrier_On_Time_Performance_1987_present_2018_8.zip\n",
            "download: s3://aws-tc-largeobjects/CUR-TF-200-ACMLFO-1/flight_delay_project/data/On_Time_Reporting_Carrier_On_Time_Performance_1987_present_2018_9.zip to ../project/data/FlightDelays/On_Time_Reporting_Carrier_On_Time_Performance_1987_present_2018_9.zip\n"
          ]
        }
      ],
      "source": [
        "# download the files\n",
        "\n",
        "zip_path = '/home/ec2-user/SageMaker/project/data/FlightDelays/'\n",
        "base_path = '/home/ec2-user/SageMaker/project/data/FlightDelays/'\n",
        "csv_base_path = '/home/ec2-user/SageMaker/project/data/csvFlightDelays/'\n",
        "\n",
        "!mkdir -p {zip_path}\n",
        "!mkdir -p {csv_base_path}\n",
        "!aws s3 cp s3://aws-tc-largeobjects/CUR-TF-200-ACMLFO-1/flight_delay_project/data/ {zip_path} --recursive\n"
      ]
    },
    {
      "cell_type": "code",
      "execution_count": null,
      "metadata": {
        "id": "xUQ_9JLmV_-y",
        "outputId": "10f89afd-c94a-4781-e8e5-36a378bf43bf"
      },
      "outputs": [
        {
          "data": {
            "text/plain": [
              "60"
            ]
          },
          "execution_count": 3,
          "metadata": {},
          "output_type": "execute_result"
        }
      ],
      "source": [
        "zip_files = [str(file) for file in list(Path(base_path).iterdir()) if '.zip' in str(file)]\n",
        "len(zip_files)"
      ]
    },
    {
      "cell_type": "markdown",
      "metadata": {
        "id": "sBUy7tz-V_-y"
      },
      "source": [
        "Extract comma-separated values (CSV) files from the .zip files."
      ]
    },
    {
      "cell_type": "code",
      "execution_count": null,
      "metadata": {
        "id": "4lWJvYHAV_-y",
        "outputId": "de22610a-b912-4aef-c20a-43b02bc170d5"
      },
      "outputs": [
        {
          "name": "stdout",
          "output_type": "stream",
          "text": [
            "Extracting /home/ec2-user/SageMaker/project/data/FlightDelays/On_Time_Reporting_Carrier_On_Time_Performance_1987_present_2017_10.zip \n",
            "Extracting /home/ec2-user/SageMaker/project/data/FlightDelays/On_Time_Reporting_Carrier_On_Time_Performance_1987_present_2015_1.zip \n",
            "Extracting /home/ec2-user/SageMaker/project/data/FlightDelays/On_Time_Reporting_Carrier_On_Time_Performance_1987_present_2016_10.zip \n",
            "Extracting /home/ec2-user/SageMaker/project/data/FlightDelays/On_Time_Reporting_Carrier_On_Time_Performance_1987_present_2018_5.zip \n",
            "Extracting /home/ec2-user/SageMaker/project/data/FlightDelays/On_Time_Reporting_Carrier_On_Time_Performance_1987_present_2014_9.zip \n",
            "Extracting /home/ec2-user/SageMaker/project/data/FlightDelays/On_Time_Reporting_Carrier_On_Time_Performance_1987_present_2015_11.zip \n",
            "Extracting /home/ec2-user/SageMaker/project/data/FlightDelays/On_Time_Reporting_Carrier_On_Time_Performance_1987_present_2014_4.zip \n",
            "Extracting /home/ec2-user/SageMaker/project/data/FlightDelays/On_Time_Reporting_Carrier_On_Time_Performance_1987_present_2014_11.zip \n",
            "Extracting /home/ec2-user/SageMaker/project/data/FlightDelays/On_Time_Reporting_Carrier_On_Time_Performance_1987_present_2014_12.zip \n",
            "Extracting /home/ec2-user/SageMaker/project/data/FlightDelays/On_Time_Reporting_Carrier_On_Time_Performance_1987_present_2015_3.zip \n",
            "Extracting /home/ec2-user/SageMaker/project/data/FlightDelays/On_Time_Reporting_Carrier_On_Time_Performance_1987_present_2016_5.zip \n",
            "Extracting /home/ec2-user/SageMaker/project/data/FlightDelays/On_Time_Reporting_Carrier_On_Time_Performance_1987_present_2018_2.zip \n",
            "Extracting /home/ec2-user/SageMaker/project/data/FlightDelays/On_Time_Reporting_Carrier_On_Time_Performance_1987_present_2018_10.zip \n",
            "Extracting /home/ec2-user/SageMaker/project/data/FlightDelays/On_Time_Reporting_Carrier_On_Time_Performance_1987_present_2015_10.zip \n",
            "Extracting /home/ec2-user/SageMaker/project/data/FlightDelays/On_Time_Reporting_Carrier_On_Time_Performance_1987_present_2014_1.zip \n",
            "Extracting /home/ec2-user/SageMaker/project/data/FlightDelays/On_Time_Reporting_Carrier_On_Time_Performance_1987_present_2015_9.zip \n",
            "Extracting /home/ec2-user/SageMaker/project/data/FlightDelays/On_Time_Reporting_Carrier_On_Time_Performance_1987_present_2016_12.zip \n",
            "Extracting /home/ec2-user/SageMaker/project/data/FlightDelays/On_Time_Reporting_Carrier_On_Time_Performance_1987_present_2016_8.zip \n",
            "Extracting /home/ec2-user/SageMaker/project/data/FlightDelays/On_Time_Reporting_Carrier_On_Time_Performance_1987_present_2016_7.zip \n",
            "Extracting /home/ec2-user/SageMaker/project/data/FlightDelays/On_Time_Reporting_Carrier_On_Time_Performance_1987_present_2017_11.zip \n",
            "Extracting /home/ec2-user/SageMaker/project/data/FlightDelays/On_Time_Reporting_Carrier_On_Time_Performance_1987_present_2014_7.zip \n",
            "Extracting /home/ec2-user/SageMaker/project/data/FlightDelays/On_Time_Reporting_Carrier_On_Time_Performance_1987_present_2016_4.zip \n",
            "Extracting /home/ec2-user/SageMaker/project/data/FlightDelays/On_Time_Reporting_Carrier_On_Time_Performance_1987_present_2015_5.zip \n",
            "Extracting /home/ec2-user/SageMaker/project/data/FlightDelays/On_Time_Reporting_Carrier_On_Time_Performance_1987_present_2017_6.zip \n",
            "Extracting /home/ec2-user/SageMaker/project/data/FlightDelays/On_Time_Reporting_Carrier_On_Time_Performance_1987_present_2016_6.zip \n",
            "Extracting /home/ec2-user/SageMaker/project/data/FlightDelays/On_Time_Reporting_Carrier_On_Time_Performance_1987_present_2018_1.zip \n",
            "Extracting /home/ec2-user/SageMaker/project/data/FlightDelays/On_Time_Reporting_Carrier_On_Time_Performance_1987_present_2016_3.zip \n",
            "Extracting /home/ec2-user/SageMaker/project/data/FlightDelays/On_Time_Reporting_Carrier_On_Time_Performance_1987_present_2014_6.zip \n",
            "Extracting /home/ec2-user/SageMaker/project/data/FlightDelays/On_Time_Reporting_Carrier_On_Time_Performance_1987_present_2016_2.zip \n",
            "Extracting /home/ec2-user/SageMaker/project/data/FlightDelays/On_Time_Reporting_Carrier_On_Time_Performance_1987_present_2016_11.zip \n",
            "Extracting /home/ec2-user/SageMaker/project/data/FlightDelays/On_Time_Reporting_Carrier_On_Time_Performance_1987_present_2017_4.zip \n",
            "Extracting /home/ec2-user/SageMaker/project/data/FlightDelays/On_Time_Reporting_Carrier_On_Time_Performance_1987_present_2018_8.zip \n",
            "Extracting /home/ec2-user/SageMaker/project/data/FlightDelays/On_Time_Reporting_Carrier_On_Time_Performance_1987_present_2017_2.zip \n",
            "Extracting /home/ec2-user/SageMaker/project/data/FlightDelays/On_Time_Reporting_Carrier_On_Time_Performance_1987_present_2017_9.zip \n",
            "Extracting /home/ec2-user/SageMaker/project/data/FlightDelays/On_Time_Reporting_Carrier_On_Time_Performance_1987_present_2017_1.zip \n",
            "Extracting /home/ec2-user/SageMaker/project/data/FlightDelays/On_Time_Reporting_Carrier_On_Time_Performance_1987_present_2014_3.zip \n",
            "Extracting /home/ec2-user/SageMaker/project/data/FlightDelays/On_Time_Reporting_Carrier_On_Time_Performance_1987_present_2018_11.zip \n",
            "Extracting /home/ec2-user/SageMaker/project/data/FlightDelays/On_Time_Reporting_Carrier_On_Time_Performance_1987_present_2018_4.zip \n",
            "Extracting /home/ec2-user/SageMaker/project/data/FlightDelays/On_Time_Reporting_Carrier_On_Time_Performance_1987_present_2016_9.zip \n",
            "Extracting /home/ec2-user/SageMaker/project/data/FlightDelays/On_Time_Reporting_Carrier_On_Time_Performance_1987_present_2015_8.zip \n",
            "Extracting /home/ec2-user/SageMaker/project/data/FlightDelays/On_Time_Reporting_Carrier_On_Time_Performance_1987_present_2017_8.zip \n",
            "Extracting /home/ec2-user/SageMaker/project/data/FlightDelays/On_Time_Reporting_Carrier_On_Time_Performance_1987_present_2017_12.zip \n",
            "Extracting /home/ec2-user/SageMaker/project/data/FlightDelays/On_Time_Reporting_Carrier_On_Time_Performance_1987_present_2018_9.zip \n",
            "Extracting /home/ec2-user/SageMaker/project/data/FlightDelays/On_Time_Reporting_Carrier_On_Time_Performance_1987_present_2017_3.zip \n",
            "Extracting /home/ec2-user/SageMaker/project/data/FlightDelays/On_Time_Reporting_Carrier_On_Time_Performance_1987_present_2014_5.zip \n",
            "Extracting /home/ec2-user/SageMaker/project/data/FlightDelays/On_Time_Reporting_Carrier_On_Time_Performance_1987_present_2015_2.zip \n",
            "Extracting /home/ec2-user/SageMaker/project/data/FlightDelays/On_Time_Reporting_Carrier_On_Time_Performance_1987_present_2018_6.zip \n",
            "Extracting /home/ec2-user/SageMaker/project/data/FlightDelays/On_Time_Reporting_Carrier_On_Time_Performance_1987_present_2014_8.zip \n",
            "Extracting /home/ec2-user/SageMaker/project/data/FlightDelays/On_Time_Reporting_Carrier_On_Time_Performance_1987_present_2018_3.zip \n",
            "Extracting /home/ec2-user/SageMaker/project/data/FlightDelays/On_Time_Reporting_Carrier_On_Time_Performance_1987_present_2015_7.zip \n",
            "Extracting /home/ec2-user/SageMaker/project/data/FlightDelays/On_Time_Reporting_Carrier_On_Time_Performance_1987_present_2015_6.zip \n",
            "Extracting /home/ec2-user/SageMaker/project/data/FlightDelays/On_Time_Reporting_Carrier_On_Time_Performance_1987_present_2015_4.zip \n",
            "Extracting /home/ec2-user/SageMaker/project/data/FlightDelays/On_Time_Reporting_Carrier_On_Time_Performance_1987_present_2017_5.zip \n",
            "Extracting /home/ec2-user/SageMaker/project/data/FlightDelays/On_Time_Reporting_Carrier_On_Time_Performance_1987_present_2014_2.zip \n",
            "Extracting /home/ec2-user/SageMaker/project/data/FlightDelays/On_Time_Reporting_Carrier_On_Time_Performance_1987_present_2014_10.zip \n",
            "Extracting /home/ec2-user/SageMaker/project/data/FlightDelays/On_Time_Reporting_Carrier_On_Time_Performance_1987_present_2016_1.zip \n",
            "Extracting /home/ec2-user/SageMaker/project/data/FlightDelays/On_Time_Reporting_Carrier_On_Time_Performance_1987_present_2017_7.zip \n",
            "Extracting /home/ec2-user/SageMaker/project/data/FlightDelays/On_Time_Reporting_Carrier_On_Time_Performance_1987_present_2018_7.zip \n",
            "Extracting /home/ec2-user/SageMaker/project/data/FlightDelays/On_Time_Reporting_Carrier_On_Time_Performance_1987_present_2015_12.zip \n",
            "Extracting /home/ec2-user/SageMaker/project/data/FlightDelays/On_Time_Reporting_Carrier_On_Time_Performance_1987_present_2018_12.zip \n",
            "Files Extracted\n"
          ]
        }
      ],
      "source": [
        "def zip2csv(zipFile_name , file_path):\n",
        "    \"\"\"\n",
        "    Extract csv from zip files\n",
        "    zipFile_name: name of the zip file\n",
        "    file_path : name of the folder to store csv\n",
        "    \"\"\"\n",
        "\n",
        "    try:\n",
        "        with ZipFile(zipFile_name, 'r') as z: \n",
        "            print(f'Extracting {zipFile_name} ') \n",
        "            z.extractall(path=file_path) \n",
        "    except:\n",
        "        print(f'zip2csv failed for {zipFile_name}')\n",
        "\n",
        "for file in zip_files:\n",
        "    zip2csv(file, csv_base_path)\n",
        "\n",
        "print(\"Files Extracted\")"
      ]
    },
    {
      "cell_type": "code",
      "execution_count": null,
      "metadata": {
        "id": "4Ypch4vzV_-z",
        "outputId": "deb3d4a0-0e5a-4f5a-c00d-0f1d2eaa49c6"
      },
      "outputs": [
        {
          "data": {
            "text/plain": [
              "60"
            ]
          },
          "execution_count": 5,
          "metadata": {},
          "output_type": "execute_result"
        }
      ],
      "source": [
        "csv_files = [str(file) for file in list(Path(csv_base_path).iterdir()) if '.csv' in str(file)]\n",
        "len(csv_files)"
      ]
    },
    {
      "cell_type": "markdown",
      "metadata": {
        "id": "Q71AotEqV_-z"
      },
      "source": [
        "Before you load the CSV file, read the HTML file from the extracted folder. This HTML file includes the background and more information about the features that are included in the dataset."
      ]
    },
    {
      "cell_type": "code",
      "execution_count": null,
      "metadata": {
        "id": "s8Qp6Z80V_-z",
        "outputId": "6f90debf-289d-4416-e52b-1ec6e452e23b"
      },
      "outputs": [
        {
          "data": {
            "text/html": [
              "\n",
              "        <iframe\n",
              "            width=\"1000\"\n",
              "            height=\"600\"\n",
              "            src=\"../project/data/csvFlightDelays/readme.html\"\n",
              "            frameborder=\"0\"\n",
              "            allowfullscreen\n",
              "        ></iframe>\n",
              "        "
            ],
            "text/plain": [
              "<IPython.lib.display.IFrame at 0x7f37e87fc9e8>"
            ]
          },
          "execution_count": 6,
          "metadata": {},
          "output_type": "execute_result"
        }
      ],
      "source": [
        "from IPython.display import IFrame\n",
        "\n",
        "IFrame(src=os.path.relpath(f\"{csv_base_path}readme.html\"), width=1000, height=600)"
      ]
    },
    {
      "cell_type": "markdown",
      "metadata": {
        "id": "AvCxg4kfV_-0"
      },
      "source": [
        "#### Load sample CSV file\n",
        "\n",
        "Before you combine all the CSV files, examine the data from a single CSV file. By using pandas, read the `On_Time_Reporting_Carrier_On_Time_Performance_(1987_present)_2018_9.csv` file first. You can use the built-in `read_csv` function in Python ([pandas.read_csv documentation](https://pandas.pydata.org/pandas-docs/stable/reference/api/pandas.read_csv.html))."
      ]
    },
    {
      "cell_type": "code",
      "execution_count": null,
      "metadata": {
        "id": "7siEUJ_5V_-0"
      },
      "outputs": [],
      "source": [
        "df_temp = pd.read_csv(f\"{csv_base_path}On_Time_Reporting_Carrier_On_Time_Performance_(1987_present)_2018_9.csv\")"
      ]
    },
    {
      "cell_type": "markdown",
      "metadata": {
        "id": "-485Yfb3V_-0"
      },
      "source": [
        "**Question**: Print the row and column length in the dataset, and print the column names.\n",
        "\n",
        "**Hint**: To view the rows and columns of a DataFrame, use the `<DataFrame>.shape` function. To view the column names, use the `<DataFrame>.columns` function."
      ]
    },
    {
      "cell_type": "code",
      "execution_count": null,
      "metadata": {
        "id": "JRPWdNLEV_-1",
        "outputId": "f21e864f-84fa-47b9-da48-98d51750b3d5"
      },
      "outputs": [
        {
          "name": "stdout",
          "output_type": "stream",
          "text": [
            "Rows and columns in one CSV file is (585749, 110)\n"
          ]
        }
      ],
      "source": [
        "# add code df_temp.shape\n",
        "df_shape = df_temp.shape\n",
        "print(f'Rows and columns in one CSV file is {df_shape}')"
      ]
    },
    {
      "cell_type": "markdown",
      "metadata": {
        "id": "fovAzbmXV_-1"
      },
      "source": [
        "**Question**: Print the first 10 rows of the dataset.  \n",
        "\n",
        "**Hint**: To print `x` number of rows, use the built-in `head(x)` function in pandas."
      ]
    },
    {
      "cell_type": "code",
      "execution_count": null,
      "metadata": {
        "id": "b7o4fkdpV_-1",
        "outputId": "ef2867c5-00a2-44e0-ca65-9cbb4cf2f8dc"
      },
      "outputs": [
        {
          "data": {
            "text/html": [
              "<div>\n",
              "<style scoped>\n",
              "    .dataframe tbody tr th:only-of-type {\n",
              "        vertical-align: middle;\n",
              "    }\n",
              "\n",
              "    .dataframe tbody tr th {\n",
              "        vertical-align: top;\n",
              "    }\n",
              "\n",
              "    .dataframe thead th {\n",
              "        text-align: right;\n",
              "    }\n",
              "</style>\n",
              "<table border=\"1\" class=\"dataframe\">\n",
              "  <thead>\n",
              "    <tr style=\"text-align: right;\">\n",
              "      <th></th>\n",
              "      <th>Year</th>\n",
              "      <th>Quarter</th>\n",
              "      <th>Month</th>\n",
              "      <th>DayofMonth</th>\n",
              "      <th>DayOfWeek</th>\n",
              "      <th>FlightDate</th>\n",
              "      <th>Reporting_Airline</th>\n",
              "      <th>DOT_ID_Reporting_Airline</th>\n",
              "      <th>IATA_CODE_Reporting_Airline</th>\n",
              "      <th>Tail_Number</th>\n",
              "      <th>...</th>\n",
              "      <th>Div4TailNum</th>\n",
              "      <th>Div5Airport</th>\n",
              "      <th>Div5AirportID</th>\n",
              "      <th>Div5AirportSeqID</th>\n",
              "      <th>Div5WheelsOn</th>\n",
              "      <th>Div5TotalGTime</th>\n",
              "      <th>Div5LongestGTime</th>\n",
              "      <th>Div5WheelsOff</th>\n",
              "      <th>Div5TailNum</th>\n",
              "      <th>Unnamed: 109</th>\n",
              "    </tr>\n",
              "  </thead>\n",
              "  <tbody>\n",
              "    <tr>\n",
              "      <th>0</th>\n",
              "      <td>2018</td>\n",
              "      <td>3</td>\n",
              "      <td>9</td>\n",
              "      <td>3</td>\n",
              "      <td>1</td>\n",
              "      <td>2018-09-03</td>\n",
              "      <td>9E</td>\n",
              "      <td>20363</td>\n",
              "      <td>9E</td>\n",
              "      <td>N908XJ</td>\n",
              "      <td>...</td>\n",
              "      <td>NaN</td>\n",
              "      <td>NaN</td>\n",
              "      <td>NaN</td>\n",
              "      <td>NaN</td>\n",
              "      <td>NaN</td>\n",
              "      <td>NaN</td>\n",
              "      <td>NaN</td>\n",
              "      <td>NaN</td>\n",
              "      <td>NaN</td>\n",
              "      <td>NaN</td>\n",
              "    </tr>\n",
              "    <tr>\n",
              "      <th>1</th>\n",
              "      <td>2018</td>\n",
              "      <td>3</td>\n",
              "      <td>9</td>\n",
              "      <td>9</td>\n",
              "      <td>7</td>\n",
              "      <td>2018-09-09</td>\n",
              "      <td>9E</td>\n",
              "      <td>20363</td>\n",
              "      <td>9E</td>\n",
              "      <td>N315PQ</td>\n",
              "      <td>...</td>\n",
              "      <td>NaN</td>\n",
              "      <td>NaN</td>\n",
              "      <td>NaN</td>\n",
              "      <td>NaN</td>\n",
              "      <td>NaN</td>\n",
              "      <td>NaN</td>\n",
              "      <td>NaN</td>\n",
              "      <td>NaN</td>\n",
              "      <td>NaN</td>\n",
              "      <td>NaN</td>\n",
              "    </tr>\n",
              "    <tr>\n",
              "      <th>2</th>\n",
              "      <td>2018</td>\n",
              "      <td>3</td>\n",
              "      <td>9</td>\n",
              "      <td>10</td>\n",
              "      <td>1</td>\n",
              "      <td>2018-09-10</td>\n",
              "      <td>9E</td>\n",
              "      <td>20363</td>\n",
              "      <td>9E</td>\n",
              "      <td>N582CA</td>\n",
              "      <td>...</td>\n",
              "      <td>NaN</td>\n",
              "      <td>NaN</td>\n",
              "      <td>NaN</td>\n",
              "      <td>NaN</td>\n",
              "      <td>NaN</td>\n",
              "      <td>NaN</td>\n",
              "      <td>NaN</td>\n",
              "      <td>NaN</td>\n",
              "      <td>NaN</td>\n",
              "      <td>NaN</td>\n",
              "    </tr>\n",
              "    <tr>\n",
              "      <th>3</th>\n",
              "      <td>2018</td>\n",
              "      <td>3</td>\n",
              "      <td>9</td>\n",
              "      <td>13</td>\n",
              "      <td>4</td>\n",
              "      <td>2018-09-13</td>\n",
              "      <td>9E</td>\n",
              "      <td>20363</td>\n",
              "      <td>9E</td>\n",
              "      <td>N292PQ</td>\n",
              "      <td>...</td>\n",
              "      <td>NaN</td>\n",
              "      <td>NaN</td>\n",
              "      <td>NaN</td>\n",
              "      <td>NaN</td>\n",
              "      <td>NaN</td>\n",
              "      <td>NaN</td>\n",
              "      <td>NaN</td>\n",
              "      <td>NaN</td>\n",
              "      <td>NaN</td>\n",
              "      <td>NaN</td>\n",
              "    </tr>\n",
              "    <tr>\n",
              "      <th>4</th>\n",
              "      <td>2018</td>\n",
              "      <td>3</td>\n",
              "      <td>9</td>\n",
              "      <td>14</td>\n",
              "      <td>5</td>\n",
              "      <td>2018-09-14</td>\n",
              "      <td>9E</td>\n",
              "      <td>20363</td>\n",
              "      <td>9E</td>\n",
              "      <td>N600LR</td>\n",
              "      <td>...</td>\n",
              "      <td>NaN</td>\n",
              "      <td>NaN</td>\n",
              "      <td>NaN</td>\n",
              "      <td>NaN</td>\n",
              "      <td>NaN</td>\n",
              "      <td>NaN</td>\n",
              "      <td>NaN</td>\n",
              "      <td>NaN</td>\n",
              "      <td>NaN</td>\n",
              "      <td>NaN</td>\n",
              "    </tr>\n",
              "    <tr>\n",
              "      <th>5</th>\n",
              "      <td>2018</td>\n",
              "      <td>3</td>\n",
              "      <td>9</td>\n",
              "      <td>16</td>\n",
              "      <td>7</td>\n",
              "      <td>2018-09-16</td>\n",
              "      <td>9E</td>\n",
              "      <td>20363</td>\n",
              "      <td>9E</td>\n",
              "      <td>N316PQ</td>\n",
              "      <td>...</td>\n",
              "      <td>NaN</td>\n",
              "      <td>NaN</td>\n",
              "      <td>NaN</td>\n",
              "      <td>NaN</td>\n",
              "      <td>NaN</td>\n",
              "      <td>NaN</td>\n",
              "      <td>NaN</td>\n",
              "      <td>NaN</td>\n",
              "      <td>NaN</td>\n",
              "      <td>NaN</td>\n",
              "    </tr>\n",
              "    <tr>\n",
              "      <th>6</th>\n",
              "      <td>2018</td>\n",
              "      <td>3</td>\n",
              "      <td>9</td>\n",
              "      <td>17</td>\n",
              "      <td>1</td>\n",
              "      <td>2018-09-17</td>\n",
              "      <td>9E</td>\n",
              "      <td>20363</td>\n",
              "      <td>9E</td>\n",
              "      <td>N916XJ</td>\n",
              "      <td>...</td>\n",
              "      <td>NaN</td>\n",
              "      <td>NaN</td>\n",
              "      <td>NaN</td>\n",
              "      <td>NaN</td>\n",
              "      <td>NaN</td>\n",
              "      <td>NaN</td>\n",
              "      <td>NaN</td>\n",
              "      <td>NaN</td>\n",
              "      <td>NaN</td>\n",
              "      <td>NaN</td>\n",
              "    </tr>\n",
              "    <tr>\n",
              "      <th>7</th>\n",
              "      <td>2018</td>\n",
              "      <td>3</td>\n",
              "      <td>9</td>\n",
              "      <td>20</td>\n",
              "      <td>4</td>\n",
              "      <td>2018-09-20</td>\n",
              "      <td>9E</td>\n",
              "      <td>20363</td>\n",
              "      <td>9E</td>\n",
              "      <td>N371CA</td>\n",
              "      <td>...</td>\n",
              "      <td>NaN</td>\n",
              "      <td>NaN</td>\n",
              "      <td>NaN</td>\n",
              "      <td>NaN</td>\n",
              "      <td>NaN</td>\n",
              "      <td>NaN</td>\n",
              "      <td>NaN</td>\n",
              "      <td>NaN</td>\n",
              "      <td>NaN</td>\n",
              "      <td>NaN</td>\n",
              "    </tr>\n",
              "    <tr>\n",
              "      <th>8</th>\n",
              "      <td>2018</td>\n",
              "      <td>3</td>\n",
              "      <td>9</td>\n",
              "      <td>21</td>\n",
              "      <td>5</td>\n",
              "      <td>2018-09-21</td>\n",
              "      <td>9E</td>\n",
              "      <td>20363</td>\n",
              "      <td>9E</td>\n",
              "      <td>N601LR</td>\n",
              "      <td>...</td>\n",
              "      <td>NaN</td>\n",
              "      <td>NaN</td>\n",
              "      <td>NaN</td>\n",
              "      <td>NaN</td>\n",
              "      <td>NaN</td>\n",
              "      <td>NaN</td>\n",
              "      <td>NaN</td>\n",
              "      <td>NaN</td>\n",
              "      <td>NaN</td>\n",
              "      <td>NaN</td>\n",
              "    </tr>\n",
              "    <tr>\n",
              "      <th>9</th>\n",
              "      <td>2018</td>\n",
              "      <td>3</td>\n",
              "      <td>9</td>\n",
              "      <td>23</td>\n",
              "      <td>7</td>\n",
              "      <td>2018-09-23</td>\n",
              "      <td>9E</td>\n",
              "      <td>20363</td>\n",
              "      <td>9E</td>\n",
              "      <td>N906XJ</td>\n",
              "      <td>...</td>\n",
              "      <td>NaN</td>\n",
              "      <td>NaN</td>\n",
              "      <td>NaN</td>\n",
              "      <td>NaN</td>\n",
              "      <td>NaN</td>\n",
              "      <td>NaN</td>\n",
              "      <td>NaN</td>\n",
              "      <td>NaN</td>\n",
              "      <td>NaN</td>\n",
              "      <td>NaN</td>\n",
              "    </tr>\n",
              "  </tbody>\n",
              "</table>\n",
              "<p>10 rows × 110 columns</p>\n",
              "</div>"
            ],
            "text/plain": [
              "   Year  Quarter  Month  DayofMonth  DayOfWeek  FlightDate Reporting_Airline  \\\n",
              "0  2018        3      9           3          1  2018-09-03                9E   \n",
              "1  2018        3      9           9          7  2018-09-09                9E   \n",
              "2  2018        3      9          10          1  2018-09-10                9E   \n",
              "3  2018        3      9          13          4  2018-09-13                9E   \n",
              "4  2018        3      9          14          5  2018-09-14                9E   \n",
              "5  2018        3      9          16          7  2018-09-16                9E   \n",
              "6  2018        3      9          17          1  2018-09-17                9E   \n",
              "7  2018        3      9          20          4  2018-09-20                9E   \n",
              "8  2018        3      9          21          5  2018-09-21                9E   \n",
              "9  2018        3      9          23          7  2018-09-23                9E   \n",
              "\n",
              "   DOT_ID_Reporting_Airline IATA_CODE_Reporting_Airline Tail_Number  ...  \\\n",
              "0                     20363                          9E      N908XJ  ...   \n",
              "1                     20363                          9E      N315PQ  ...   \n",
              "2                     20363                          9E      N582CA  ...   \n",
              "3                     20363                          9E      N292PQ  ...   \n",
              "4                     20363                          9E      N600LR  ...   \n",
              "5                     20363                          9E      N316PQ  ...   \n",
              "6                     20363                          9E      N916XJ  ...   \n",
              "7                     20363                          9E      N371CA  ...   \n",
              "8                     20363                          9E      N601LR  ...   \n",
              "9                     20363                          9E      N906XJ  ...   \n",
              "\n",
              "   Div4TailNum  Div5Airport  Div5AirportID  Div5AirportSeqID Div5WheelsOn  \\\n",
              "0          NaN          NaN            NaN               NaN          NaN   \n",
              "1          NaN          NaN            NaN               NaN          NaN   \n",
              "2          NaN          NaN            NaN               NaN          NaN   \n",
              "3          NaN          NaN            NaN               NaN          NaN   \n",
              "4          NaN          NaN            NaN               NaN          NaN   \n",
              "5          NaN          NaN            NaN               NaN          NaN   \n",
              "6          NaN          NaN            NaN               NaN          NaN   \n",
              "7          NaN          NaN            NaN               NaN          NaN   \n",
              "8          NaN          NaN            NaN               NaN          NaN   \n",
              "9          NaN          NaN            NaN               NaN          NaN   \n",
              "\n",
              "  Div5TotalGTime Div5LongestGTime  Div5WheelsOff Div5TailNum  Unnamed: 109  \n",
              "0            NaN              NaN            NaN         NaN           NaN  \n",
              "1            NaN              NaN            NaN         NaN           NaN  \n",
              "2            NaN              NaN            NaN         NaN           NaN  \n",
              "3            NaN              NaN            NaN         NaN           NaN  \n",
              "4            NaN              NaN            NaN         NaN           NaN  \n",
              "5            NaN              NaN            NaN         NaN           NaN  \n",
              "6            NaN              NaN            NaN         NaN           NaN  \n",
              "7            NaN              NaN            NaN         NaN           NaN  \n",
              "8            NaN              NaN            NaN         NaN           NaN  \n",
              "9            NaN              NaN            NaN         NaN           NaN  \n",
              "\n",
              "[10 rows x 110 columns]"
            ]
          },
          "execution_count": 9,
          "metadata": {},
          "output_type": "execute_result"
        }
      ],
      "source": [
        "# add code df_temp.head(10)\n",
        "df_temp.head(10)"
      ]
    },
    {
      "cell_type": "markdown",
      "metadata": {
        "id": "aLyBucdBV_-1"
      },
      "source": [
        "**Question**: Print all the columns in the dataset. To view the column names, use `<DataFrame>.columns`."
      ]
    },
    {
      "cell_type": "code",
      "execution_count": null,
      "metadata": {
        "id": "pwoIQfgVV_-2",
        "outputId": "37c01f8c-de65-49d9-a0f5-eb5682c5e744"
      },
      "outputs": [
        {
          "name": "stdout",
          "output_type": "stream",
          "text": [
            "The column names are :\n",
            "#########\n",
            "Year\n",
            "Quarter\n",
            "Month\n",
            "DayofMonth\n",
            "DayOfWeek\n",
            "FlightDate\n",
            "Reporting_Airline\n",
            "DOT_ID_Reporting_Airline\n",
            "IATA_CODE_Reporting_Airline\n",
            "Tail_Number\n",
            "Flight_Number_Reporting_Airline\n",
            "OriginAirportID\n",
            "OriginAirportSeqID\n",
            "OriginCityMarketID\n",
            "Origin\n",
            "OriginCityName\n",
            "OriginState\n",
            "OriginStateFips\n",
            "OriginStateName\n",
            "OriginWac\n",
            "DestAirportID\n",
            "DestAirportSeqID\n",
            "DestCityMarketID\n",
            "Dest\n",
            "DestCityName\n",
            "DestState\n",
            "DestStateFips\n",
            "DestStateName\n",
            "DestWac\n",
            "CRSDepTime\n",
            "DepTime\n",
            "DepDelay\n",
            "DepDelayMinutes\n",
            "DepDel15\n",
            "DepartureDelayGroups\n",
            "DepTimeBlk\n",
            "TaxiOut\n",
            "WheelsOff\n",
            "WheelsOn\n",
            "TaxiIn\n",
            "CRSArrTime\n",
            "ArrTime\n",
            "ArrDelay\n",
            "ArrDelayMinutes\n",
            "ArrDel15\n",
            "ArrivalDelayGroups\n",
            "ArrTimeBlk\n",
            "Cancelled\n",
            "CancellationCode\n",
            "Diverted\n",
            "CRSElapsedTime\n",
            "ActualElapsedTime\n",
            "AirTime\n",
            "Flights\n",
            "Distance\n",
            "DistanceGroup\n",
            "CarrierDelay\n",
            "WeatherDelay\n",
            "NASDelay\n",
            "SecurityDelay\n",
            "LateAircraftDelay\n",
            "FirstDepTime\n",
            "TotalAddGTime\n",
            "LongestAddGTime\n",
            "DivAirportLandings\n",
            "DivReachedDest\n",
            "DivActualElapsedTime\n",
            "DivArrDelay\n",
            "DivDistance\n",
            "Div1Airport\n",
            "Div1AirportID\n",
            "Div1AirportSeqID\n",
            "Div1WheelsOn\n",
            "Div1TotalGTime\n",
            "Div1LongestGTime\n",
            "Div1WheelsOff\n",
            "Div1TailNum\n",
            "Div2Airport\n",
            "Div2AirportID\n",
            "Div2AirportSeqID\n",
            "Div2WheelsOn\n",
            "Div2TotalGTime\n",
            "Div2LongestGTime\n",
            "Div2WheelsOff\n",
            "Div2TailNum\n",
            "Div3Airport\n",
            "Div3AirportID\n",
            "Div3AirportSeqID\n",
            "Div3WheelsOn\n",
            "Div3TotalGTime\n",
            "Div3LongestGTime\n",
            "Div3WheelsOff\n",
            "Div3TailNum\n",
            "Div4Airport\n",
            "Div4AirportID\n",
            "Div4AirportSeqID\n",
            "Div4WheelsOn\n",
            "Div4TotalGTime\n",
            "Div4LongestGTime\n",
            "Div4WheelsOff\n",
            "Div4TailNum\n",
            "Div5Airport\n",
            "Div5AirportID\n",
            "Div5AirportSeqID\n",
            "Div5WheelsOn\n",
            "Div5TotalGTime\n",
            "Div5LongestGTime\n",
            "Div5WheelsOff\n",
            "Div5TailNum\n",
            "Unnamed: 109\n"
          ]
        }
      ],
      "source": [
        "# add code df_temp.columns \n",
        "print(f'The column names are :')\n",
        "print('#########')\n",
        "for col in df_temp.columns:\n",
        "    print(col)"
      ]
    },
    {
      "cell_type": "markdown",
      "metadata": {
        "id": "KCb67X1zV_-2"
      },
      "source": [
        "**Question**: Print all the columns in the dataset that contain the word *Del*. This will help you see how many columns have *delay data* in them.\n",
        "\n",
        "**Hint**: To include values that pass certain `if` statement criteria, you can use a Python list comprehension.\n",
        "\n",
        "For example: `[x for x in [1,2,3,4,5] if x > 2]`  \n",
        "\n",
        "**Hint**: To check if the value is in a list, you can use the `in` keyword ([Python in Keyword documentation](https://www.w3schools.com/python/ref_keyword_in.asp)). \n",
        "\n",
        "For example: `5 in [1,2,3,4,5]`"
      ]
    },
    {
      "cell_type": "code",
      "execution_count": null,
      "metadata": {
        "id": "5GjP0FPHV_-2",
        "outputId": "1a842bab-4e17-4b9f-e787-b880d3a4e253"
      },
      "outputs": [
        {
          "name": "stdout",
          "output_type": "stream",
          "text": [
            "['DepDelay', 'DepDelayMinutes', 'DepDel15', 'DepartureDelayGroups', 'ArrDelay', 'ArrDelayMinutes', 'ArrDel15', 'ArrivalDelayGroups', 'CarrierDelay', 'WeatherDelay', 'NASDelay', 'SecurityDelay', 'LateAircraftDelay', 'DivArrDelay']\n"
          ]
        }
      ],
      "source": [
        "# add code for Print all the columns in the dataset\n",
        "print ([x for x in df_temp.columns if \"Del\" in x])"
      ]
    },
    {
      "cell_type": "markdown",
      "metadata": {
        "id": "3W0vpmYbV_-2"
      },
      "source": [
        "Here are some more questions to help you learn more about your dataset.\n",
        "\n",
        "**Questions**   \n",
        "\n",
        "1. How many rows and columns does the dataset have?   \n",
        "2. How many years are included in the dataset?   \n",
        "3. What is the date range for the dataset?   \n",
        "4. Which airlines are included in the dataset?   \n",
        "5. Which origin and destination airports are covered?\n",
        "\n",
        "**Hints**\n",
        "- To show the dimensions of the DataFrame, use `df_temp.shape`.\n",
        "- To refer to a specific column, use `df_temp.columnName` (for example, `df_temp.CarrierDelay`).\n",
        "- To get unique values for a column, use `df_temp.column.unique()` (for, example `df_temp.Year.unique()`)."
      ]
    },
    {
      "cell_type": "code",
      "execution_count": null,
      "metadata": {
        "id": "E_5he3fJV_-3",
        "outputId": "b5cc0e15-b530-4de8-fd4b-651d68b468dc"
      },
      "outputs": [
        {
          "name": "stdout",
          "output_type": "stream",
          "text": [
            "The #rows and #columns are  585749  and  110\n",
            "The years in this dataset are:  [2018]\n",
            "The months covered in this dataset are:  [9]\n",
            "The date range for data is : 2018-09-01  to  2018-09-30\n",
            "The airlines covered in this dataset are:  ['9E', 'B6', 'WN', 'YV', 'YX', 'EV', 'AA', 'AS', 'DL', 'HA', 'UA', 'F9', 'G4', 'MQ', 'NK', 'OH', 'OO']\n",
            "The Origin airports covered are:  ['DFW', 'LGA', 'MSN', 'MSP', 'ATL', 'BDL', 'VLD', 'JFK', 'RDU', 'CHS', 'DTW', 'GRB', 'PVD', 'SHV', 'FNT', 'PIT', 'RIC', 'RST', 'RSW', 'CVG', 'LIT', 'ORD', 'JAX', 'TRI', 'BOS', 'CWA', 'DCA', 'CHO', 'AVP', 'IND', 'GRR', 'BTR', 'MEM', 'TUL', 'CLE', 'STL', 'BTV', 'OMA', 'MGM', 'TVC', 'SAV', 'GSP', 'EWR', 'OAJ', 'BNA', 'MCI', 'TLH', 'ROC', 'LEX', 'PWM', 'BUF', 'AGS', 'CLT', 'GSO', 'BWI', 'SAT', 'PHL', 'TYS', 'ACK', 'DSM', 'GNV', 'AVL', 'BGR', 'MHT', 'ILM', 'MOT', 'IAH', 'SBN', 'SYR', 'ORF', 'MKE', 'XNA', 'MSY', 'PBI', 'ABE', 'HPN', 'EVV', 'ALB', 'LNK', 'AUS', 'PHF', 'CHA', 'GTR', 'BMI', 'BQK', 'CID', 'CAK', 'ATW', 'ABY', 'CAE', 'SRQ', 'MLI', 'BHM', 'IAD', 'CSG', 'CMH', 'MCO', 'MBS', 'FLL', 'SDF', 'TPA', 'MVY', 'LAS', 'LGB', 'SFO', 'SAN', 'LAX', 'RNO', 'PDX', 'ANC', 'ABQ', 'SLC', 'DEN', 'PHX', 'OAK', 'SMF', 'SJU', 'SEA', 'HOU', 'STX', 'BUR', 'SWF', 'SJC', 'DAB', 'BQN', 'PSE', 'ORH', 'HYA', 'STT', 'ONT', 'HRL', 'ICT', 'ISP', 'LBB', 'MAF', 'MDW', 'OKC', 'PNS', 'SNA', 'TUS', 'AMA', 'BOI', 'CRP', 'DAL', 'ECP', 'ELP', 'GEG', 'LFT', 'MFE', 'MDT', 'JAN', 'COS', 'MOB', 'VPS', 'MTJ', 'DRO', 'GPT', 'BFL', 'MRY', 'SBA', 'PSP', 'FSD', 'BRO', 'RAP', 'COU', 'STS', 'PIA', 'FAT', 'SBP', 'FSM', 'HSV', 'BIS', 'DAY', 'BZN', 'MIA', 'EYW', 'MYR', 'HHH', 'GJT', 'FAR', 'SGF', 'HOB', 'CLL', 'LRD', 'AEX', 'ERI', 'MLU', 'LCH', 'ROA', 'LAW', 'MHK', 'GRK', 'SAF', 'GRI', 'JLN', 'ROW', 'FWA', 'CRW', 'LAN', 'OGG', 'HNL', 'KOA', 'EGE', 'LIH', 'MLB', 'JAC', 'FAI', 'RDM', 'ADQ', 'BET', 'BRW', 'SCC', 'KTN', 'YAK', 'CDV', 'JNU', 'SIT', 'PSG', 'WRG', 'OME', 'OTZ', 'ADK', 'FCA', 'FAY', 'PSC', 'BIL', 'MSO', 'ITO', 'PPG', 'MFR', 'EUG', 'GUM', 'SPN', 'DLH', 'TTN', 'BKG', 'SFB', 'PIE', 'PGD', 'AZA', 'SMX', 'RFD', 'SCK', 'OWB', 'HTS', 'BLV', 'IAG', 'USA', 'GFK', 'BLI', 'ELM', 'PBG', 'LCK', 'GTF', 'OGD', 'IDA', 'PVU', 'TOL', 'PSM', 'CKB', 'HGR', 'SPI', 'STC', 'ACT', 'TYR', 'ABI', 'AZO', 'CMI', 'BPT', 'GCK', 'MQT', 'ALO', 'TXK', 'SPS', 'SWO', 'DBQ', 'SUX', 'SJT', 'GGG', 'LSE', 'LBE', 'ACY', 'LYH', 'PGV', 'HVN', 'EWN', 'DHN', 'PIH', 'IMT', 'WYS', 'CPR', 'SCE', 'HLN', 'SUN', 'ISN', 'CMX', 'EAU', 'LWB', 'SHD', 'LBF', 'HYS', 'SLN', 'EAR', 'VEL', 'CNY', 'GCC', 'RKS', 'PUB', 'LBL', 'MKG', 'PAH', 'CGI', 'UIN', 'BFF', 'DVL', 'JMS', 'LAR', 'SGU', 'PRC', 'ASE', 'RDD', 'ACV', 'OTH', 'COD', 'LWS', 'ABR', 'APN', 'ESC', 'PLN', 'BJI', 'BRD', 'BTM', 'CDC', 'CIU', 'EKO', 'TWF', 'HIB', 'BGM', 'RHI', 'ITH', 'INL', 'FLG', 'YUM', 'MEI', 'PIB', 'HDN']\n",
            "The Destination airports covered are:  ['CVG', 'PWM', 'RDU', 'MSP', 'MSN', 'SHV', 'CLT', 'PIT', 'RIC', 'IAH', 'ATL', 'JFK', 'DCA', 'DTW', 'LGA', 'TYS', 'PVD', 'FNT', 'LIT', 'BUF', 'ORD', 'TRI', 'IND', 'BGR', 'AVP', 'BWI', 'LEX', 'BDL', 'GRR', 'CWA', 'TUL', 'MEM', 'AGS', 'EWR', 'MGM', 'PHL', 'SYR', 'OMA', 'STL', 'TVC', 'ORF', 'CLE', 'ABY', 'BOS', 'OAJ', 'TLH', 'BTR', 'SAT', 'JAX', 'BNA', 'CHO', 'VLD', 'ROC', 'DFW', 'GNV', 'ACK', 'PBI', 'CHS', 'GRB', 'MOT', 'MKE', 'DSM', 'ILM', 'GSO', 'MCI', 'SBN', 'BTV', 'MVY', 'XNA', 'RST', 'EVV', 'HPN', 'RSW', 'MDT', 'ROA', 'GSP', 'MCO', 'CSG', 'SAV', 'PHF', 'ALB', 'CHA', 'ABE', 'BMI', 'MSY', 'IAD', 'GTR', 'CID', 'CAK', 'ATW', 'AUS', 'BQK', 'MLI', 'CAE', 'CMH', 'AVL', 'MBS', 'FLL', 'SDF', 'TPA', 'LNK', 'SRQ', 'MHT', 'BHM', 'LAS', 'SFO', 'SAN', 'RNO', 'LGB', 'ANC', 'PDX', 'SJU', 'ABQ', 'SLC', 'DEN', 'LAX', 'PHX', 'OAK', 'SMF', 'SEA', 'STX', 'BUR', 'DAB', 'SJC', 'SWF', 'HOU', 'BQN', 'PSE', 'ORH', 'HYA', 'STT', 'ONT', 'DAL', 'ECP', 'ELP', 'HRL', 'MAF', 'MDW', 'OKC', 'PNS', 'SNA', 'AMA', 'BOI', 'GEG', 'ICT', 'LBB', 'TUS', 'ISP', 'CRP', 'MFE', 'LFT', 'VPS', 'JAN', 'COS', 'MOB', 'DRO', 'GPT', 'BFL', 'COU', 'SBP', 'MTJ', 'SBA', 'PSP', 'FSD', 'FSM', 'BRO', 'PIA', 'STS', 'FAT', 'RAP', 'MRY', 'HSV', 'BIS', 'DAY', 'BZN', 'MIA', 'EYW', 'MYR', 'HHH', 'GJT', 'FAR', 'MLU', 'LRD', 'CLL', 'LCH', 'FWA', 'GRK', 'SGF', 'HOB', 'LAW', 'MHK', 'SAF', 'JLN', 'ROW', 'GRI', 'AEX', 'CRW', 'LAN', 'ERI', 'HNL', 'KOA', 'OGG', 'EGE', 'LIH', 'JAC', 'MLB', 'RDM', 'BET', 'ADQ', 'BRW', 'SCC', 'FAI', 'JNU', 'CDV', 'YAK', 'SIT', 'KTN', 'WRG', 'PSG', 'OME', 'OTZ', 'ADK', 'FCA', 'BIL', 'PSC', 'FAY', 'MSO', 'ITO', 'PPG', 'MFR', 'DLH', 'EUG', 'GUM', 'SPN', 'TTN', 'BKG', 'AZA', 'SFB', 'LCK', 'BLI', 'SCK', 'PIE', 'RFD', 'PVU', 'PBG', 'BLV', 'PGD', 'SPI', 'USA', 'TOL', 'IDA', 'ELM', 'HTS', 'HGR', 'SMX', 'OGD', 'GFK', 'STC', 'GTF', 'IAG', 'CKB', 'OWB', 'PSM', 'ABI', 'TYR', 'ALO', 'SUX', 'AZO', 'ACT', 'CMI', 'BPT', 'TXK', 'SWO', 'SPS', 'DBQ', 'SJT', 'GGG', 'LSE', 'MQT', 'GCK', 'LBE', 'ACY', 'LYH', 'PGV', 'HVN', 'EWN', 'DHN', 'PIH', 'WYS', 'SCE', 'IMT', 'HLN', 'ASE', 'SUN', 'ISN', 'EAR', 'SGU', 'VEL', 'SHD', 'LWB', 'MKG', 'SLN', 'HYS', 'BFF', 'PUB', 'LBL', 'CMX', 'EAU', 'PAH', 'UIN', 'RKS', 'CGI', 'CNY', 'JMS', 'DVL', 'LAR', 'GCC', 'LBF', 'PRC', 'RDD', 'ACV', 'OTH', 'COD', 'LWS', 'ABR', 'APN', 'PLN', 'BJI', 'CPR', 'BRD', 'BTM', 'CDC', 'CIU', 'ESC', 'EKO', 'ITH', 'HIB', 'BGM', 'TWF', 'RHI', 'INL', 'FLG', 'YUM', 'MEI', 'PIB', 'HDN']\n"
          ]
        }
      ],
      "source": [
        "# print row and colume in dataset\n",
        "print(\"The #rows and #columns are \", df_temp.shape[0] , \" and \", df_temp.shape[1])\n",
        "# print years in this dataset are unique\n",
        "print(\"The years in this dataset are: \", df_temp.Year.unique())\n",
        "# print months covered in this dataset are unique\n",
        "print(\"The months covered in this dataset are: \",df_temp.Month.unique())\n",
        "# print date range in dataset\n",
        "print(\"The date range for data is :\" , min(df_temp.FlightDate.unique()), \" to \", max(df_temp.FlightDate.unique()))\n",
        "# The airlines covered in this dataset unique\n",
        "print(\"The airlines covered in this dataset are: \", list(df_temp.Reporting_Airline.unique()))\n",
        "# print Origin airports covered are unique\n",
        "print(\"The Origin airports covered are: \", list(df_temp.Origin.unique()))\n",
        "# print Destination airports covered are unqiue\n",
        "print(\"The Destination airports covered are: \", list(df_temp.Dest.unique()))"
      ]
    },
    {
      "cell_type": "markdown",
      "metadata": {
        "id": "cAal_eqBV_-3"
      },
      "source": [
        "**Question**: What is the count of all the origin and destination airports?\n",
        "\n",
        "**Hint**: To find the values for each airport by using the **Origin** and **Dest** columns, you can use the `values_count` function in pandas ([pandas.Series.value_counts documentation](https://pandas.pydata.org/pandas-docs/stable/reference/api/pandas.Series.value_counts.html))."
      ]
    },
    {
      "cell_type": "code",
      "execution_count": null,
      "metadata": {
        "id": "A-rP6OqbV_-3",
        "outputId": "17aaa635-399f-4d43-ca16-79cbf8375a1a"
      },
      "outputs": [
        {
          "data": {
            "text/html": [
              "<div>\n",
              "<style scoped>\n",
              "    .dataframe tbody tr th:only-of-type {\n",
              "        vertical-align: middle;\n",
              "    }\n",
              "\n",
              "    .dataframe tbody tr th {\n",
              "        vertical-align: top;\n",
              "    }\n",
              "\n",
              "    .dataframe thead th {\n",
              "        text-align: right;\n",
              "    }\n",
              "</style>\n",
              "<table border=\"1\" class=\"dataframe\">\n",
              "  <thead>\n",
              "    <tr style=\"text-align: right;\">\n",
              "      <th></th>\n",
              "      <th>Origin</th>\n",
              "      <th>Destination</th>\n",
              "    </tr>\n",
              "  </thead>\n",
              "  <tbody>\n",
              "    <tr>\n",
              "      <th>ABE</th>\n",
              "      <td>303</td>\n",
              "      <td>303</td>\n",
              "    </tr>\n",
              "    <tr>\n",
              "      <th>ABI</th>\n",
              "      <td>169</td>\n",
              "      <td>169</td>\n",
              "    </tr>\n",
              "    <tr>\n",
              "      <th>ABQ</th>\n",
              "      <td>2077</td>\n",
              "      <td>2076</td>\n",
              "    </tr>\n",
              "    <tr>\n",
              "      <th>ABR</th>\n",
              "      <td>60</td>\n",
              "      <td>60</td>\n",
              "    </tr>\n",
              "    <tr>\n",
              "      <th>ABY</th>\n",
              "      <td>79</td>\n",
              "      <td>79</td>\n",
              "    </tr>\n",
              "    <tr>\n",
              "      <th>...</th>\n",
              "      <td>...</td>\n",
              "      <td>...</td>\n",
              "    </tr>\n",
              "    <tr>\n",
              "      <th>WRG</th>\n",
              "      <td>60</td>\n",
              "      <td>60</td>\n",
              "    </tr>\n",
              "    <tr>\n",
              "      <th>WYS</th>\n",
              "      <td>52</td>\n",
              "      <td>52</td>\n",
              "    </tr>\n",
              "    <tr>\n",
              "      <th>XNA</th>\n",
              "      <td>1004</td>\n",
              "      <td>1004</td>\n",
              "    </tr>\n",
              "    <tr>\n",
              "      <th>YAK</th>\n",
              "      <td>60</td>\n",
              "      <td>60</td>\n",
              "    </tr>\n",
              "    <tr>\n",
              "      <th>YUM</th>\n",
              "      <td>96</td>\n",
              "      <td>96</td>\n",
              "    </tr>\n",
              "  </tbody>\n",
              "</table>\n",
              "<p>346 rows × 2 columns</p>\n",
              "</div>"
            ],
            "text/plain": [
              "     Origin  Destination\n",
              "ABE     303          303\n",
              "ABI     169          169\n",
              "ABQ    2077         2076\n",
              "ABR      60           60\n",
              "ABY      79           79\n",
              "..      ...          ...\n",
              "WRG      60           60\n",
              "WYS      52           52\n",
              "XNA    1004         1004\n",
              "YAK      60           60\n",
              "YUM      96           96\n",
              "\n",
              "[346 rows x 2 columns]"
            ]
          },
          "execution_count": 13,
          "metadata": {},
          "output_type": "execute_result"
        }
      ],
      "source": [
        "# add code df_temp.Origin.value_counts() and df_temp.Dest.value_counts()\n",
        "counts = pd.DataFrame({'Origin':df_temp.Origin.value_counts(), 'Destination':df_temp.Dest.value_counts()})\n",
        "counts"
      ]
    },
    {
      "cell_type": "markdown",
      "metadata": {
        "id": "MR1SY9DzV_-4"
      },
      "source": [
        "**Question**: Print the top 15 origin and destination airports based on number of flights in the dataset.\n",
        "\n",
        "**Hint**: You can use the `sort_values` function in pandas ([pandas.DataFrame.sort_values documentation](https://pandas.pydata.org/pandas-docs/stable/reference/api/pandas.DataFrame.sort_values.html))."
      ]
    },
    {
      "cell_type": "code",
      "execution_count": null,
      "metadata": {
        "id": "wBxGxl_LV_-4",
        "outputId": "9c0b284d-f9aa-4cfc-bec3-b0b998a088b0"
      },
      "outputs": [
        {
          "data": {
            "text/html": [
              "<div>\n",
              "<style scoped>\n",
              "    .dataframe tbody tr th:only-of-type {\n",
              "        vertical-align: middle;\n",
              "    }\n",
              "\n",
              "    .dataframe tbody tr th {\n",
              "        vertical-align: top;\n",
              "    }\n",
              "\n",
              "    .dataframe thead th {\n",
              "        text-align: right;\n",
              "    }\n",
              "</style>\n",
              "<table border=\"1\" class=\"dataframe\">\n",
              "  <thead>\n",
              "    <tr style=\"text-align: right;\">\n",
              "      <th></th>\n",
              "      <th>Origin</th>\n",
              "      <th>Destination</th>\n",
              "    </tr>\n",
              "  </thead>\n",
              "  <tbody>\n",
              "    <tr>\n",
              "      <th>ATL</th>\n",
              "      <td>31525</td>\n",
              "      <td>31521</td>\n",
              "    </tr>\n",
              "    <tr>\n",
              "      <th>ORD</th>\n",
              "      <td>28257</td>\n",
              "      <td>28250</td>\n",
              "    </tr>\n",
              "    <tr>\n",
              "      <th>DFW</th>\n",
              "      <td>22802</td>\n",
              "      <td>22795</td>\n",
              "    </tr>\n",
              "    <tr>\n",
              "      <th>DEN</th>\n",
              "      <td>19807</td>\n",
              "      <td>19807</td>\n",
              "    </tr>\n",
              "    <tr>\n",
              "      <th>CLT</th>\n",
              "      <td>19655</td>\n",
              "      <td>19654</td>\n",
              "    </tr>\n",
              "    <tr>\n",
              "      <th>LAX</th>\n",
              "      <td>17875</td>\n",
              "      <td>17873</td>\n",
              "    </tr>\n",
              "    <tr>\n",
              "      <th>SFO</th>\n",
              "      <td>14332</td>\n",
              "      <td>14348</td>\n",
              "    </tr>\n",
              "    <tr>\n",
              "      <th>IAH</th>\n",
              "      <td>14210</td>\n",
              "      <td>14203</td>\n",
              "    </tr>\n",
              "    <tr>\n",
              "      <th>LGA</th>\n",
              "      <td>13850</td>\n",
              "      <td>13850</td>\n",
              "    </tr>\n",
              "    <tr>\n",
              "      <th>MSP</th>\n",
              "      <td>13349</td>\n",
              "      <td>13347</td>\n",
              "    </tr>\n",
              "    <tr>\n",
              "      <th>LAS</th>\n",
              "      <td>13318</td>\n",
              "      <td>13322</td>\n",
              "    </tr>\n",
              "    <tr>\n",
              "      <th>PHX</th>\n",
              "      <td>13126</td>\n",
              "      <td>13128</td>\n",
              "    </tr>\n",
              "    <tr>\n",
              "      <th>DTW</th>\n",
              "      <td>12725</td>\n",
              "      <td>12724</td>\n",
              "    </tr>\n",
              "    <tr>\n",
              "      <th>BOS</th>\n",
              "      <td>12223</td>\n",
              "      <td>12227</td>\n",
              "    </tr>\n",
              "    <tr>\n",
              "      <th>SEA</th>\n",
              "      <td>11872</td>\n",
              "      <td>11877</td>\n",
              "    </tr>\n",
              "  </tbody>\n",
              "</table>\n",
              "</div>"
            ],
            "text/plain": [
              "     Origin  Destination\n",
              "ATL   31525        31521\n",
              "ORD   28257        28250\n",
              "DFW   22802        22795\n",
              "DEN   19807        19807\n",
              "CLT   19655        19654\n",
              "LAX   17875        17873\n",
              "SFO   14332        14348\n",
              "IAH   14210        14203\n",
              "LGA   13850        13850\n",
              "MSP   13349        13347\n",
              "LAS   13318        13322\n",
              "PHX   13126        13128\n",
              "DTW   12725        12724\n",
              "BOS   12223        12227\n",
              "SEA   11872        11877"
            ]
          },
          "execution_count": 14,
          "metadata": {},
          "output_type": "execute_result"
        }
      ],
      "source": [
        "# add ['Origin','Destination']\n",
        "counts.sort_values(by= ['Origin','Destination'],ascending=False).head(15) "
      ]
    },
    {
      "cell_type": "markdown",
      "metadata": {
        "id": "x3E-wwuJV_-4"
      },
      "source": [
        "**Given all the information about a flight trip, can you predict if it would be delayed?**"
      ]
    },
    {
      "cell_type": "markdown",
      "metadata": {
        "id": "p-3Rs9-dV_-4"
      },
      "source": [
        "The **ArrDel15** column is an indicator variable that takes the value *1* when the delay is more than 15 minutes. Otherwise, it takes a value of *0*.\n",
        "\n",
        "You could use this as a target column for the classification problem."
      ]
    },
    {
      "cell_type": "markdown",
      "metadata": {
        "id": "Q9MXFFXrV_-5"
      },
      "source": [
        "Now, assume that you are traveling from San Francisco to Los Angeles on a work trip. You want to better manage your reservations in Los Angeles. Thus, want to have an idea of whether your flight will be delayed, given a set of features. How many features from this dataset would you need to know before your flight?\n",
        "\n",
        "Columns such as `DepDelay`, `ArrDelay`, `CarrierDelay`, `WeatherDelay`, `NASDelay`, `SecurityDelay`, `LateAircraftDelay`, and `DivArrDelay` contain information about a delay. But this delay could have occured at the origin or the destination. If there were a sudden weather delay 10 minutes before landing, this data wouldn't be helpful to managing your Los Angeles reservations.\n",
        "\n",
        "So to simplify the problem statement, consider the following columns to predict an arrival delay:<br>\n",
        "\n",
        "`Year`, `Quarter`, `Month`, `DayofMonth`, `DayOfWeek`, `FlightDate`, `Reporting_Airline`, `Origin`, `OriginState`, `Dest`, `DestState`, `CRSDepTime`, `DepDelayMinutes`, `DepartureDelayGroups`, `Cancelled`, `Diverted`, `Distance`, `DistanceGroup`, `ArrDelay`, `ArrDelayMinutes`, `ArrDel15`, `AirTime`\n",
        "\n",
        "You will also filter the source and destination airports to be:\n",
        "- Top airports: ATL, ORD, DFW, DEN, CLT, LAX, IAH, PHX, SFO\n",
        "- Top five airlines: UA, OO, WN, AA, DL\n",
        "\n",
        "This information should help reduce the size of data across the CSV files that will be combined."
      ]
    },
    {
      "cell_type": "markdown",
      "metadata": {
        "id": "23wF6iwEV_-5"
      },
      "source": [
        "#### Combine all CSV files\n",
        " \n",
        "First, create an empy DataFrame that you will use to copy your individual DataFrames from each file. Then, for each file in the `csv_files` list:\n",
        "\n",
        "1. Read the CSV file into a dataframe \n",
        "2. Filter the columns based on the `filter_cols` variable\n",
        "\n",
        "```\n",
        "        columns = ['col1', 'col2']\n",
        "        df_filter = df[columns]\n",
        "```\n",
        "\n",
        "3. Keep only the `subset_vals` in each of the `subset_cols`. To check if the `val` is in the DataFrame column, use the `isin` function in pandas ([pandas.DataFram.isin documentation](https://pandas.pydata.org/pandas-docs/stable/reference/api/pandas.DataFrame.isin.html)). Then, choose the rows that include it.\n",
        "\n",
        "```\n",
        "        df_eg[df_eg['col1'].isin('5')]\n",
        "```\n",
        "\n",
        "4. Concatenate the DataFrame with the empty DataFrame "
      ]
    },
    {
      "cell_type": "code",
      "execution_count": null,
      "metadata": {
        "id": "g_WGK30wV_-5"
      },
      "outputs": [],
      "source": [
        "def combine_csv(csv_files, filter_cols, subset_cols, subset_vals, file_name):\n",
        "\n",
        "    \"\"\"\n",
        "    Combine csv files into one Data Frame\n",
        "    csv_files: list of csv file paths\n",
        "    filter_cols: list of columns to filter\n",
        "    subset_cols: list of columns to subset rows\n",
        "    subset_vals: list of list of values to subset rows\n",
        "    \"\"\"\n",
        "\n",
        "    df = pd.DataFrame()\n",
        "    \n",
        "    for file in csv_files:\n",
        "        df_temp = pd.read_csv(file)\n",
        "        df_temp = df_temp[filter_cols]\n",
        "        for col, val in zip(subset_cols,subset_vals):\n",
        "            df_temp = df_temp[df_temp[col].isin(val)]      \n",
        "        \n",
        "        df = pd.concat([df, df_temp], axis=0)\n",
        "      \n",
        "    df.to_csv(file_name, index=False)\n",
        "    print(f'Combined csv stored at {file_name}')"
      ]
    },
    {
      "cell_type": "code",
      "execution_count": null,
      "metadata": {
        "id": "slSeG7ncV_-5"
      },
      "outputs": [],
      "source": [
        "#cols is the list of columns to predict Arrival Delay \n",
        "cols = ['Year','Quarter','Month','DayofMonth','DayOfWeek','FlightDate',\n",
        "        'Reporting_Airline','Origin','OriginState','Dest','DestState',\n",
        "        'CRSDepTime','Cancelled','Diverted','Distance','DistanceGroup',\n",
        "        'ArrDelay','ArrDelayMinutes','ArrDel15','AirTime']\n",
        "\n",
        "subset_cols = ['Origin', 'Dest', 'Reporting_Airline']\n",
        "\n",
        "# subset_vals is a list collection of the top origin and destination airports and top 5 airlines\n",
        "subset_vals = [['ATL', 'ORD', 'DFW', 'DEN', 'CLT', 'LAX', 'IAH', 'PHX', 'SFO'], \n",
        "               ['ATL', 'ORD', 'DFW', 'DEN', 'CLT', 'LAX', 'IAH', 'PHX', 'SFO'], \n",
        "               ['UA', 'OO', 'WN', 'AA', 'DL']]"
      ]
    },
    {
      "cell_type": "markdown",
      "metadata": {
        "id": "U1iNOYvFV_-6"
      },
      "source": [
        "Use the previous function to merge all the different files into a single file that you can read easily. \n",
        "\n",
        "**Note**: This process will take 5-7 minutes to complete."
      ]
    },
    {
      "cell_type": "code",
      "execution_count": null,
      "metadata": {
        "id": "vcLZdfFnV_-6",
        "outputId": "38994255-2d82-4bb5-efea-05a4c7011376"
      },
      "outputs": [
        {
          "name": "stdout",
          "output_type": "stream",
          "text": [
            "Combined csv stored at /home/ec2-user/SageMaker/project/data/FlightDelays/combined_files.csv\n",
            "CSVs merged in 4.26 minutes\n"
          ]
        }
      ],
      "source": [
        "start = time.time()\n",
        "combined_csv_filename = f\"{base_path}combined_files.csv\"\n",
        "combine_csv(csv_files, cols, subset_cols, subset_vals, combined_csv_filename)\n",
        "print(f'CSVs merged in {round((time.time() - start)/60,2)} minutes')"
      ]
    },
    {
      "cell_type": "markdown",
      "metadata": {
        "id": "kpEEh_LuV_-6"
      },
      "source": [
        "#### Load the dataset\n",
        "\n",
        "Load the combined dataset."
      ]
    },
    {
      "cell_type": "code",
      "execution_count": null,
      "metadata": {
        "id": "OISVJmeiV_-6"
      },
      "outputs": [],
      "source": [
        "data = pd.read_csv(combined_csv_filename)"
      ]
    },
    {
      "cell_type": "markdown",
      "metadata": {
        "id": "f4P-IMV2V_-7"
      },
      "source": [
        "Print the first five records."
      ]
    },
    {
      "cell_type": "code",
      "execution_count": null,
      "metadata": {
        "id": "H032ZBRAV_-7",
        "outputId": "7dcb576d-87c4-4675-a5c4-0da0cffb6002"
      },
      "outputs": [
        {
          "data": {
            "text/html": [
              "<div>\n",
              "<style scoped>\n",
              "    .dataframe tbody tr th:only-of-type {\n",
              "        vertical-align: middle;\n",
              "    }\n",
              "\n",
              "    .dataframe tbody tr th {\n",
              "        vertical-align: top;\n",
              "    }\n",
              "\n",
              "    .dataframe thead th {\n",
              "        text-align: right;\n",
              "    }\n",
              "</style>\n",
              "<table border=\"1\" class=\"dataframe\">\n",
              "  <thead>\n",
              "    <tr style=\"text-align: right;\">\n",
              "      <th></th>\n",
              "      <th>Year</th>\n",
              "      <th>Quarter</th>\n",
              "      <th>Month</th>\n",
              "      <th>DayofMonth</th>\n",
              "      <th>DayOfWeek</th>\n",
              "      <th>FlightDate</th>\n",
              "      <th>Reporting_Airline</th>\n",
              "      <th>Origin</th>\n",
              "      <th>OriginState</th>\n",
              "      <th>Dest</th>\n",
              "      <th>DestState</th>\n",
              "      <th>CRSDepTime</th>\n",
              "      <th>Cancelled</th>\n",
              "      <th>Diverted</th>\n",
              "      <th>Distance</th>\n",
              "      <th>DistanceGroup</th>\n",
              "      <th>ArrDelay</th>\n",
              "      <th>ArrDelayMinutes</th>\n",
              "      <th>ArrDel15</th>\n",
              "      <th>AirTime</th>\n",
              "    </tr>\n",
              "  </thead>\n",
              "  <tbody>\n",
              "    <tr>\n",
              "      <th>0</th>\n",
              "      <td>2017</td>\n",
              "      <td>4</td>\n",
              "      <td>10</td>\n",
              "      <td>1</td>\n",
              "      <td>7</td>\n",
              "      <td>2017-10-01</td>\n",
              "      <td>OO</td>\n",
              "      <td>ATL</td>\n",
              "      <td>GA</td>\n",
              "      <td>ORD</td>\n",
              "      <td>IL</td>\n",
              "      <td>1903</td>\n",
              "      <td>0.0</td>\n",
              "      <td>0.0</td>\n",
              "      <td>606.0</td>\n",
              "      <td>3</td>\n",
              "      <td>-5.0</td>\n",
              "      <td>0.0</td>\n",
              "      <td>0.0</td>\n",
              "      <td>96.0</td>\n",
              "    </tr>\n",
              "    <tr>\n",
              "      <th>1</th>\n",
              "      <td>2017</td>\n",
              "      <td>4</td>\n",
              "      <td>10</td>\n",
              "      <td>1</td>\n",
              "      <td>7</td>\n",
              "      <td>2017-10-01</td>\n",
              "      <td>OO</td>\n",
              "      <td>ORD</td>\n",
              "      <td>IL</td>\n",
              "      <td>ATL</td>\n",
              "      <td>GA</td>\n",
              "      <td>1520</td>\n",
              "      <td>0.0</td>\n",
              "      <td>0.0</td>\n",
              "      <td>606.0</td>\n",
              "      <td>3</td>\n",
              "      <td>-8.0</td>\n",
              "      <td>0.0</td>\n",
              "      <td>0.0</td>\n",
              "      <td>86.0</td>\n",
              "    </tr>\n",
              "    <tr>\n",
              "      <th>2</th>\n",
              "      <td>2017</td>\n",
              "      <td>4</td>\n",
              "      <td>10</td>\n",
              "      <td>1</td>\n",
              "      <td>7</td>\n",
              "      <td>2017-10-01</td>\n",
              "      <td>OO</td>\n",
              "      <td>LAX</td>\n",
              "      <td>CA</td>\n",
              "      <td>PHX</td>\n",
              "      <td>AZ</td>\n",
              "      <td>1805</td>\n",
              "      <td>0.0</td>\n",
              "      <td>0.0</td>\n",
              "      <td>370.0</td>\n",
              "      <td>2</td>\n",
              "      <td>15.0</td>\n",
              "      <td>15.0</td>\n",
              "      <td>1.0</td>\n",
              "      <td>57.0</td>\n",
              "    </tr>\n",
              "    <tr>\n",
              "      <th>3</th>\n",
              "      <td>2017</td>\n",
              "      <td>4</td>\n",
              "      <td>10</td>\n",
              "      <td>1</td>\n",
              "      <td>7</td>\n",
              "      <td>2017-10-01</td>\n",
              "      <td>OO</td>\n",
              "      <td>PHX</td>\n",
              "      <td>AZ</td>\n",
              "      <td>LAX</td>\n",
              "      <td>CA</td>\n",
              "      <td>540</td>\n",
              "      <td>0.0</td>\n",
              "      <td>0.0</td>\n",
              "      <td>370.0</td>\n",
              "      <td>2</td>\n",
              "      <td>-12.0</td>\n",
              "      <td>0.0</td>\n",
              "      <td>0.0</td>\n",
              "      <td>58.0</td>\n",
              "    </tr>\n",
              "    <tr>\n",
              "      <th>4</th>\n",
              "      <td>2017</td>\n",
              "      <td>4</td>\n",
              "      <td>10</td>\n",
              "      <td>1</td>\n",
              "      <td>7</td>\n",
              "      <td>2017-10-01</td>\n",
              "      <td>OO</td>\n",
              "      <td>PHX</td>\n",
              "      <td>AZ</td>\n",
              "      <td>LAX</td>\n",
              "      <td>CA</td>\n",
              "      <td>1530</td>\n",
              "      <td>0.0</td>\n",
              "      <td>0.0</td>\n",
              "      <td>370.0</td>\n",
              "      <td>2</td>\n",
              "      <td>61.0</td>\n",
              "      <td>61.0</td>\n",
              "      <td>1.0</td>\n",
              "      <td>57.0</td>\n",
              "    </tr>\n",
              "  </tbody>\n",
              "</table>\n",
              "</div>"
            ],
            "text/plain": [
              "   Year  Quarter  Month  DayofMonth  DayOfWeek  FlightDate Reporting_Airline  \\\n",
              "0  2017        4     10           1          7  2017-10-01                OO   \n",
              "1  2017        4     10           1          7  2017-10-01                OO   \n",
              "2  2017        4     10           1          7  2017-10-01                OO   \n",
              "3  2017        4     10           1          7  2017-10-01                OO   \n",
              "4  2017        4     10           1          7  2017-10-01                OO   \n",
              "\n",
              "  Origin OriginState Dest DestState  CRSDepTime  Cancelled  Diverted  \\\n",
              "0    ATL          GA  ORD        IL        1903        0.0       0.0   \n",
              "1    ORD          IL  ATL        GA        1520        0.0       0.0   \n",
              "2    LAX          CA  PHX        AZ        1805        0.0       0.0   \n",
              "3    PHX          AZ  LAX        CA         540        0.0       0.0   \n",
              "4    PHX          AZ  LAX        CA        1530        0.0       0.0   \n",
              "\n",
              "   Distance  DistanceGroup  ArrDelay  ArrDelayMinutes  ArrDel15  AirTime  \n",
              "0     606.0              3      -5.0              0.0       0.0     96.0  \n",
              "1     606.0              3      -8.0              0.0       0.0     86.0  \n",
              "2     370.0              2      15.0             15.0       1.0     57.0  \n",
              "3     370.0              2     -12.0              0.0       0.0     58.0  \n",
              "4     370.0              2      61.0             61.0       1.0     57.0  "
            ]
          },
          "execution_count": 19,
          "metadata": {},
          "output_type": "execute_result"
        }
      ],
      "source": [
        "# # print data first 5 records\n",
        "data.head(5)"
      ]
    },
    {
      "cell_type": "markdown",
      "metadata": {
        "id": "jyqN7Mw6V_-7"
      },
      "source": [
        "Here are some more questions to help you learn more about your dataset.\n",
        "\n",
        "**Questions**   \n",
        "\n",
        "1. How many rows and columns does the dataset have?   \n",
        "2. How many years are included in the dataset?   \n",
        "3. What is the date range for the dataset?   \n",
        "4. Which airlines are included in the dataset?   \n",
        "5. Which origin and destination airports are covered?"
      ]
    },
    {
      "cell_type": "code",
      "execution_count": null,
      "metadata": {
        "id": "myBWprS2V_-7",
        "outputId": "ac514586-3c2f-4f64-e2ab-d6ff4c240fe5"
      },
      "outputs": [
        {
          "name": "stdout",
          "output_type": "stream",
          "text": [
            "The #rows and #columns are  1658130  and  20\n",
            "The years in this dataset are:  [2017, 2015, 2014, 2018, 2016]\n",
            "The months covered in this dataset are:  [1, 2, 3, 4, 5, 6, 7, 8, 9, 10, 11, 12]\n",
            "The date range for data is : 2014-01-01  to  2018-12-31\n",
            "The airlines covered in this dataset are:  ['OO', 'WN', 'UA', 'DL', 'AA']\n",
            "The Origin airports covered are:  ['ATL', 'ORD', 'LAX', 'PHX', 'IAH', 'DEN', 'SFO', 'DFW', 'CLT']\n",
            "The Destination airports covered are:  ['ORD', 'ATL', 'PHX', 'LAX', 'IAH', 'DEN', 'SFO', 'DFW', 'CLT']\n"
          ]
        }
      ],
      "source": [
        "# show row and columes in data\n",
        "print(\"The #rows and #columns are \", data.shape[0] , \" and \", data.shape[1])\n",
        "# show years in dataset\n",
        "print(\"The years in this dataset are: \", list(data.Year.unique()))\n",
        "# show month\n",
        "print(\"The months covered in this dataset are: \", sorted(list(data.Month.unique())))\n",
        "# show rang data\n",
        "print(\"The date range for data is :\" , min(data.FlightDate.unique()), \" to \", max(data.FlightDate.unique()))\n",
        "# show airlines in dataset\n",
        "print(\"The airlines covered in this dataset are: \", list(data.Reporting_Airline.unique()))\n",
        "# show Origin aieport\n",
        "print(\"The Origin airports covered are: \", list(data.Origin.unique()))\n",
        "# show Des airport\n",
        "print(\"The Destination airports covered are: \", list(data.Dest.unique()))"
      ]
    },
    {
      "cell_type": "markdown",
      "metadata": {
        "id": "OBIcGOIZV_-7"
      },
      "source": [
        "Define your target column: **is_delay** (*1* means that the arrival time delayed more than 15 minutes, and *0* means all other cases). To rename the column from **ArrDel15** to *is_delay*, use the `rename` method .\n",
        "\n",
        "**Hint**: You can use the `rename` function in pandas ([pandas.DataFrame.rename documentation](https://pandas.pydata.org/pandas-docs/stable/reference/api/pandas.DataFrame.rename.html)).\n",
        "\n",
        "For example:\n",
        "```\n",
        "data.rename(columns={'col1':'column1'}, inplace=True)\n",
        "```"
      ]
    },
    {
      "cell_type": "code",
      "execution_count": null,
      "metadata": {
        "id": "DTKcyBWmV_-8"
      },
      "outputs": [],
      "source": [
        "## rename ArrDel15 -> is_delay\n",
        "data.rename(columns= {'ArrDel15' : 'is_delay'}, inplace=True) "
      ]
    },
    {
      "cell_type": "markdown",
      "metadata": {
        "id": "PfdkZMc_V_-8"
      },
      "source": [
        "Look for nulls across columns. You can use the `isnull()` function ([pandas.isnull documentation](https://pandas.pydata.org/pandas-docs/version/0.17.0/generated/pandas.isnull.html)).\n",
        "\n",
        "**Hint**: `isnull()` detects whether the particular value is null or not. It returns a boolean (*True* or *False*) in its place. To sum the number of columns, use the `sum(axis=0)` function (for example, `df.isnull().sum(axis=0)`)."
      ]
    },
    {
      "cell_type": "code",
      "execution_count": null,
      "metadata": {
        "id": "D3AKNjHyV_-8",
        "outputId": "8e8d7e55-ee1f-4b43-dfaa-8a97b0db3c5a"
      },
      "outputs": [
        {
          "data": {
            "text/plain": [
              "Year                     0\n",
              "Quarter                  0\n",
              "Month                    0\n",
              "DayofMonth               0\n",
              "DayOfWeek                0\n",
              "FlightDate               0\n",
              "Reporting_Airline        0\n",
              "Origin                   0\n",
              "OriginState              0\n",
              "Dest                     0\n",
              "DestState                0\n",
              "CRSDepTime               0\n",
              "Cancelled                0\n",
              "Diverted                 0\n",
              "Distance                 0\n",
              "DistanceGroup            0\n",
              "ArrDelay             22540\n",
              "ArrDelayMinutes      22540\n",
              "is_delay             22540\n",
              "AirTime              22540\n",
              "dtype: int64"
            ]
          },
          "execution_count": 26,
          "metadata": {},
          "output_type": "execute_result"
        }
      ],
      "source": [
        "# show boolean (True or False) value is null or not\n",
        "data.isnull().sum(axis=0)"
      ]
    },
    {
      "cell_type": "markdown",
      "metadata": {
        "id": "87EA53WaV_-8"
      },
      "source": [
        "The arrival delay details and airtime are missing for 22,540 out of 1,658,130 rows, which is 1.3 percent. You can either remove or impute these rows. The documentation doesn't mention any information about missing rows.\n"
      ]
    },
    {
      "cell_type": "code",
      "execution_count": null,
      "metadata": {
        "id": "SPNaO2YQV_-8",
        "outputId": "d1d66bb9-994d-41a2-a437-65119147dace"
      },
      "outputs": [
        {
          "data": {
            "text/plain": [
              "Year                 0\n",
              "Quarter              0\n",
              "Month                0\n",
              "DayofMonth           0\n",
              "DayOfWeek            0\n",
              "FlightDate           0\n",
              "Reporting_Airline    0\n",
              "Origin               0\n",
              "OriginState          0\n",
              "Dest                 0\n",
              "DestState            0\n",
              "CRSDepTime           0\n",
              "Cancelled            0\n",
              "Diverted             0\n",
              "Distance             0\n",
              "DistanceGroup        0\n",
              "ArrDelay             0\n",
              "ArrDelayMinutes      0\n",
              "is_delay             0\n",
              "AirTime              0\n",
              "dtype: int64"
            ]
          },
          "execution_count": 27,
          "metadata": {},
          "output_type": "execute_result"
        }
      ],
      "source": [
        "### Remove null columns\n",
        "data = data[~data.is_delay.isnull()]\n",
        "data.isnull().sum(axis = 0)"
      ]
    },
    {
      "cell_type": "markdown",
      "metadata": {
        "id": "1nswnvkBV_-8"
      },
      "source": [
        "Get the hour of the day in 24-hour-time format from CRSDepTime."
      ]
    },
    {
      "cell_type": "code",
      "execution_count": null,
      "metadata": {
        "id": "DDmzNnxgV_-9"
      },
      "outputs": [],
      "source": [
        "data['DepHourofDay'] = (data['CRSDepTime']//100)"
      ]
    },
    {
      "cell_type": "markdown",
      "metadata": {
        "id": "kJ4qqitlV_-9"
      },
      "source": [
        "## **The ML problem statement**\n",
        "- Given a set of features, can you predict if a flight is going to be delayed more than 15 minutes?\n",
        "- Because the target variable takes only a value of *0* or *1*, you could use a classification algorithm. \n",
        "\n",
        "Before you start modeling, it's a good practice to look at feature distribution, correlations, and others.\n",
        "- This will give you an idea of any non-linearity or patterns in the data\n",
        "    - Linear models: Add power, exponential, or interaction features\n",
        "    - Try a non-linear model\n",
        "- Data imbalance \n",
        "    - Choose metrics that won't give biased model performance (accuracy versus the area under the curve, or AUC)\n",
        "    - Use weighted or custom loss functions\n",
        "- Missing data\n",
        "    - Do imputation based on simple statistics -- mean, median, mode (numerical variables), frequent class (categorical variables)\n",
        "    - Clustering-based imputation (k-nearest neighbors, or KNNs, to predict column value)\n",
        "    - Drop column"
      ]
    },
    {
      "cell_type": "markdown",
      "metadata": {
        "id": "xoMmUgIHV_-9"
      },
      "source": [
        "### Data exploration\n",
        "\n",
        "Check the classes *delay* versus *no delay*.\n"
      ]
    },
    {
      "cell_type": "code",
      "execution_count": null,
      "metadata": {
        "id": "rRUz7dhCV_-9",
        "outputId": "4a51a2cf-4102-4a8a-eeb2-ce5ca285feef"
      },
      "outputs": [
        {
          "data": {
            "image/png": "[encoded data removed]",
            "text/plain": [
              "<Figure size 432x288 with 1 Axes>"
            ]
          },
          "metadata": {
            "needs_background": "light"
          },
          "output_type": "display_data"
        }
      ],
      "source": [
        "(data.groupby('is_delay').size()/len(data) ).plot(kind='bar')# Enter your code here\n",
        "plt.ylabel('Frequency')\n",
        "plt.title('Distribution of classes')\n",
        "plt.show()"
      ]
    },
    {
      "cell_type": "markdown",
      "metadata": {
        "id": "B0zFaJo-V_-9"
      },
      "source": [
        "**Question**: What can you deduce from the bar plot about the ratio of *delay* versus *no delay*?"
      ]
    },
    {
      "cell_type": "code",
      "execution_count": null,
      "metadata": {
        "id": "tsTnc4O_V_--"
      },
      "outputs": [],
      "source": [
        "# Delays are less frequent and the machine is not good. more frequency**"
      ]
    },
    {
      "cell_type": "markdown",
      "metadata": {
        "id": "cGtsrDfTV_--"
      },
      "source": [
        "Run the following two cells and answer the questions."
      ]
    },
    {
      "cell_type": "code",
      "execution_count": null,
      "metadata": {
        "id": "tNW-KKyMV_--",
        "outputId": "010d9ea4-3cee-4b3b-d5db-320998d604bb"
      },
      "outputs": [
        {
          "data": {
            "image/png": "[encoded data removed]",
            "text/plain": [
              "<Figure size 1440x1440 with 6 Axes>"
            ]
          },
          "metadata": {
            "needs_background": "light"
          },
          "output_type": "display_data"
        }
      ],
      "source": [
        "viz_columns = ['Month', 'DepHourofDay', 'DayOfWeek', 'Reporting_Airline', 'Origin', 'Dest']\n",
        "fig, axes = plt.subplots(3, 2, figsize=(20,20), squeeze=False)\n",
        "# fig.autofmt_xdate(rotation=90)\n",
        "\n",
        "for idx, column in enumerate(viz_columns):\n",
        "    ax = axes[idx//2, idx%2]\n",
        "    temp = data.groupby(column)['is_delay'].value_counts(normalize=True).rename('percentage').\\\n",
        "    mul(100).reset_index().sort_values(column)\n",
        "    sns.barplot(x=column, y=\"percentage\", hue=\"is_delay\", data=temp, ax=ax)\n",
        "    plt.ylabel('% delay/no-delay')\n",
        "    \n",
        "\n",
        "plt.show()"
      ]
    },
    {
      "cell_type": "code",
      "execution_count": null,
      "metadata": {
        "id": "OglkUBu4V_--",
        "outputId": "1f0ce24f-f69c-4ddd-ea85-b64aeaea1db3"
      },
      "outputs": [
        {
          "data": {
            "image/png": "[encoded data removed]",
            "text/plain": [
              "<Figure size 360x360 with 1 Axes>"
            ]
          },
          "metadata": {
            "needs_background": "light"
          },
          "output_type": "display_data"
        }
      ],
      "source": [
        "sns.lmplot( x=\"is_delay\", y=\"Distance\", data=data, fit_reg=False, hue='is_delay', legend=False)\n",
        "plt.legend(loc='center')\n",
        "plt.xlabel('is_delay')\n",
        "plt.ylabel('Distance')\n",
        "plt.show()"
      ]
    },
    {
      "cell_type": "markdown",
      "metadata": {
        "id": "P3N__T0nV_--"
      },
      "source": [
        "**Questions**\n",
        "\n",
        "Using the data from the previous charts, answer these questions:\n",
        "\n",
        "- Which months have the most delays?\n",
        "- What time of the day has the most delays?\n",
        "- What day of the week has the most delays?\n",
        "- Which airline has the most delays?\n",
        "- Which origin and destination airports have the most delays?\n",
        "- Is flight distance a factor in the delays?"
      ]
    },
    {
      "cell_type": "code",
      "execution_count": null,
      "metadata": {
        "id": "1uWsjDJkV_-_"
      },
      "outputs": [],
      "source": [
        "#Which months have the most delays? 6th month\n",
        "#What time of the day has the most delays? 20\n",
        "#What day of the week has the most delays? 4 and 5\n",
        "#Which airline has the most delays? WN airline\n",
        "#Which origin and destination airports have the most delays? ORD orgin and SFO destination\n",
        "#Is flight distance a factor in the delays? effective\n"
      ]
    },
    {
      "cell_type": "markdown",
      "metadata": {
        "id": "zeKsDuxXV_-_"
      },
      "source": [
        "### Features\n",
        "\n",
        "Look at all the columns and what their specific types are."
      ]
    },
    {
      "cell_type": "code",
      "execution_count": null,
      "metadata": {
        "id": "S9MmXBilV_-_",
        "outputId": "6338b32e-b6b8-49a7-fd18-edf6df082cf8"
      },
      "outputs": [
        {
          "data": {
            "text/plain": [
              "Index(['Year', 'Quarter', 'Month', 'DayofMonth', 'DayOfWeek', 'FlightDate',\n",
              "       'Reporting_Airline', 'Origin', 'OriginState', 'Dest', 'DestState',\n",
              "       'CRSDepTime', 'Cancelled', 'Diverted', 'Distance', 'DistanceGroup',\n",
              "       'ArrDelay', 'ArrDelayMinutes', 'is_delay', 'AirTime', 'DepHourofDay'],\n",
              "      dtype='object')"
            ]
          },
          "execution_count": 32,
          "metadata": {},
          "output_type": "execute_result"
        }
      ],
      "source": [
        "data.columns"
      ]
    },
    {
      "cell_type": "code",
      "execution_count": null,
      "metadata": {
        "id": "MzETQOKMV_-_",
        "outputId": "d0970978-d2b0-4e17-9f3a-c967caf033bf"
      },
      "outputs": [
        {
          "data": {
            "text/plain": [
              "Year                   int64\n",
              "Quarter                int64\n",
              "Month                  int64\n",
              "DayofMonth             int64\n",
              "DayOfWeek              int64\n",
              "FlightDate            object\n",
              "Reporting_Airline     object\n",
              "Origin                object\n",
              "OriginState           object\n",
              "Dest                  object\n",
              "DestState             object\n",
              "CRSDepTime             int64\n",
              "Cancelled            float64\n",
              "Diverted             float64\n",
              "Distance             float64\n",
              "DistanceGroup          int64\n",
              "ArrDelay             float64\n",
              "ArrDelayMinutes      float64\n",
              "is_delay             float64\n",
              "AirTime              float64\n",
              "DepHourofDay           int64\n",
              "dtype: object"
            ]
          },
          "execution_count": 33,
          "metadata": {},
          "output_type": "execute_result"
        }
      ],
      "source": [
        "data.dtypes"
      ]
    },
    {
      "cell_type": "markdown",
      "metadata": {
        "id": "n02Z4YseV_-_"
      },
      "source": [
        "Filtering the required columns:\n",
        "- *Date* is redundant, because you have *Year*, *Quarter*, *Month*, *DayofMonth*, and *DayOfWeek* to describe the date.\n",
        "- Use *Origin* and *Dest* codes instead of *OriginState* and *DestState*.\n",
        "- Because you are only classifying whether the flight is delayed or not, you don't need *TotalDelayMinutes*, *DepDelayMinutes*, and *ArrDelayMinutes*.\n",
        "\n",
        "Treat *DepHourofDay* as a categorical variable because it doesn't have any quantitative relation with the target.\n",
        "- If you needed to do a one-hot encoding of this variable, it would result in 23 more columns.\n",
        "- Other alternatives to handling categorical variables include hash encoding, regularized mean encoding, and bucketizing the values, among others.\n",
        "- In this case, you only need to split into buckets.\n",
        "\n",
        "To change a column type to category, use the `astype` function ([pandas.DataFrame.astype documentation](https://pandas.pydata.org/pandas-docs/stable/reference/api/pandas.DataFrame.astype.html))."
      ]
    },
    {
      "cell_type": "code",
      "execution_count": null,
      "metadata": {
        "id": "TPWedd-ZV__A"
      },
      "outputs": [],
      "source": [
        "data_orig = data.copy()\n",
        "data = data[[ 'is_delay', 'Quarter', 'Month', 'DayofMonth', 'DayOfWeek', \n",
        "       'Reporting_Airline', 'Origin', 'Dest','Distance','DepHourofDay']]\n",
        "categorical_columns  = ['Quarter', 'Month', 'DayofMonth', 'DayOfWeek', \n",
        "       'Reporting_Airline', 'Origin', 'Dest', 'DepHourofDay']\n",
        "for c in categorical_columns:\n",
        "    data[c] = data[c].astype('category')"
      ]
    },
    {
      "cell_type": "markdown",
      "metadata": {
        "id": "Sdii3jyJV__A"
      },
      "source": [
        "To use one-hot encoding, use the `get_dummies` function in pandas for the categorical columns that you selected. Then, you can concatenate those generated features to your original dataset by using the `concat` function in pandas. For encoding categorical variables, you can also use *dummy encoding* by using a keyword `drop_first=True`. For more information about dummy encoding, see [Dummy variable (statistics)](https://en.wikiversity.org/wiki/Dummy_variable_(statistics)).\n",
        "\n",
        "For example:\n",
        "```\n",
        "pd.get_dummies(df[['column1','columns2']], drop_first=True)\n",
        "```"
      ]
    },
    {
      "cell_type": "code",
      "execution_count": null,
      "metadata": {
        "id": "AwRzG0FnV__A"
      },
      "outputs": [],
      "source": [
        "# add code ['Quarter', 'Month', 'DayofMonth', 'DayOfWeek','Reporting_Airline', 'Origin', 'Dest','Distance','DepHourofDay'\n",
        "# add code [data, data_dummies]\n",
        "\n",
        "data_dummies = pd.get_dummies(data[['Quarter', 'Month', 'DayofMonth', 'DayOfWeek', \n",
        "       'Reporting_Airline', 'Origin', 'Dest','Distance','DepHourofDay']], drop_first=True)\n",
        "data = pd.concat([data, data_dummies], axis = 1)\n",
        "data.drop(categorical_columns,axis=1, inplace=True)"
      ]
    },
    {
      "cell_type": "markdown",
      "metadata": {
        "id": "UtkEKA4oV__A"
      },
      "source": [
        "Check the length of the dataset and the new columns.\n",
        "\n",
        "**Hint**: Use the `shape` and `columns` properties."
      ]
    },
    {
      "cell_type": "code",
      "execution_count": null,
      "metadata": {
        "id": "SeO5AOwpV__A",
        "outputId": "e96402a8-2c2e-48bc-cbf7-4cdc26b447c4"
      },
      "outputs": [
        {
          "data": {
            "text/html": [
              "<div>\n",
              "<style scoped>\n",
              "    .dataframe tbody tr th:only-of-type {\n",
              "        vertical-align: middle;\n",
              "    }\n",
              "\n",
              "    .dataframe tbody tr th {\n",
              "        vertical-align: top;\n",
              "    }\n",
              "\n",
              "    .dataframe thead th {\n",
              "        text-align: right;\n",
              "    }\n",
              "</style>\n",
              "<table border=\"1\" class=\"dataframe\">\n",
              "  <thead>\n",
              "    <tr style=\"text-align: right;\">\n",
              "      <th></th>\n",
              "      <th>is_delay</th>\n",
              "      <th>Distance</th>\n",
              "      <th>Distance</th>\n",
              "      <th>Quarter_2</th>\n",
              "      <th>Quarter_3</th>\n",
              "      <th>Quarter_4</th>\n",
              "      <th>Month_2</th>\n",
              "      <th>Month_3</th>\n",
              "      <th>Month_4</th>\n",
              "      <th>Month_5</th>\n",
              "      <th>...</th>\n",
              "      <th>DepHourofDay_14</th>\n",
              "      <th>DepHourofDay_15</th>\n",
              "      <th>DepHourofDay_16</th>\n",
              "      <th>DepHourofDay_17</th>\n",
              "      <th>DepHourofDay_18</th>\n",
              "      <th>DepHourofDay_19</th>\n",
              "      <th>DepHourofDay_20</th>\n",
              "      <th>DepHourofDay_21</th>\n",
              "      <th>DepHourofDay_22</th>\n",
              "      <th>DepHourofDay_23</th>\n",
              "    </tr>\n",
              "  </thead>\n",
              "  <tbody>\n",
              "    <tr>\n",
              "      <th>0</th>\n",
              "      <td>0.0</td>\n",
              "      <td>606.0</td>\n",
              "      <td>606.0</td>\n",
              "      <td>0</td>\n",
              "      <td>0</td>\n",
              "      <td>1</td>\n",
              "      <td>0</td>\n",
              "      <td>0</td>\n",
              "      <td>0</td>\n",
              "      <td>0</td>\n",
              "      <td>...</td>\n",
              "      <td>0</td>\n",
              "      <td>0</td>\n",
              "      <td>0</td>\n",
              "      <td>0</td>\n",
              "      <td>0</td>\n",
              "      <td>1</td>\n",
              "      <td>0</td>\n",
              "      <td>0</td>\n",
              "      <td>0</td>\n",
              "      <td>0</td>\n",
              "    </tr>\n",
              "    <tr>\n",
              "      <th>1</th>\n",
              "      <td>0.0</td>\n",
              "      <td>606.0</td>\n",
              "      <td>606.0</td>\n",
              "      <td>0</td>\n",
              "      <td>0</td>\n",
              "      <td>1</td>\n",
              "      <td>0</td>\n",
              "      <td>0</td>\n",
              "      <td>0</td>\n",
              "      <td>0</td>\n",
              "      <td>...</td>\n",
              "      <td>0</td>\n",
              "      <td>1</td>\n",
              "      <td>0</td>\n",
              "      <td>0</td>\n",
              "      <td>0</td>\n",
              "      <td>0</td>\n",
              "      <td>0</td>\n",
              "      <td>0</td>\n",
              "      <td>0</td>\n",
              "      <td>0</td>\n",
              "    </tr>\n",
              "    <tr>\n",
              "      <th>2</th>\n",
              "      <td>1.0</td>\n",
              "      <td>370.0</td>\n",
              "      <td>370.0</td>\n",
              "      <td>0</td>\n",
              "      <td>0</td>\n",
              "      <td>1</td>\n",
              "      <td>0</td>\n",
              "      <td>0</td>\n",
              "      <td>0</td>\n",
              "      <td>0</td>\n",
              "      <td>...</td>\n",
              "      <td>0</td>\n",
              "      <td>0</td>\n",
              "      <td>0</td>\n",
              "      <td>0</td>\n",
              "      <td>1</td>\n",
              "      <td>0</td>\n",
              "      <td>0</td>\n",
              "      <td>0</td>\n",
              "      <td>0</td>\n",
              "      <td>0</td>\n",
              "    </tr>\n",
              "    <tr>\n",
              "      <th>3</th>\n",
              "      <td>0.0</td>\n",
              "      <td>370.0</td>\n",
              "      <td>370.0</td>\n",
              "      <td>0</td>\n",
              "      <td>0</td>\n",
              "      <td>1</td>\n",
              "      <td>0</td>\n",
              "      <td>0</td>\n",
              "      <td>0</td>\n",
              "      <td>0</td>\n",
              "      <td>...</td>\n",
              "      <td>0</td>\n",
              "      <td>0</td>\n",
              "      <td>0</td>\n",
              "      <td>0</td>\n",
              "      <td>0</td>\n",
              "      <td>0</td>\n",
              "      <td>0</td>\n",
              "      <td>0</td>\n",
              "      <td>0</td>\n",
              "      <td>0</td>\n",
              "    </tr>\n",
              "    <tr>\n",
              "      <th>4</th>\n",
              "      <td>1.0</td>\n",
              "      <td>370.0</td>\n",
              "      <td>370.0</td>\n",
              "      <td>0</td>\n",
              "      <td>0</td>\n",
              "      <td>1</td>\n",
              "      <td>0</td>\n",
              "      <td>0</td>\n",
              "      <td>0</td>\n",
              "      <td>0</td>\n",
              "      <td>...</td>\n",
              "      <td>0</td>\n",
              "      <td>1</td>\n",
              "      <td>0</td>\n",
              "      <td>0</td>\n",
              "      <td>0</td>\n",
              "      <td>0</td>\n",
              "      <td>0</td>\n",
              "      <td>0</td>\n",
              "      <td>0</td>\n",
              "      <td>0</td>\n",
              "    </tr>\n",
              "  </tbody>\n",
              "</table>\n",
              "<p>5 rows × 95 columns</p>\n",
              "</div>"
            ],
            "text/plain": [
              "   is_delay  Distance  Distance  Quarter_2  Quarter_3  Quarter_4  Month_2  \\\n",
              "0       0.0     606.0     606.0          0          0          1        0   \n",
              "1       0.0     606.0     606.0          0          0          1        0   \n",
              "2       1.0     370.0     370.0          0          0          1        0   \n",
              "3       0.0     370.0     370.0          0          0          1        0   \n",
              "4       1.0     370.0     370.0          0          0          1        0   \n",
              "\n",
              "   Month_3  Month_4  Month_5  ...  DepHourofDay_14  DepHourofDay_15  \\\n",
              "0        0        0        0  ...                0                0   \n",
              "1        0        0        0  ...                0                1   \n",
              "2        0        0        0  ...                0                0   \n",
              "3        0        0        0  ...                0                0   \n",
              "4        0        0        0  ...                0                1   \n",
              "\n",
              "   DepHourofDay_16  DepHourofDay_17  DepHourofDay_18  DepHourofDay_19  \\\n",
              "0                0                0                0                1   \n",
              "1                0                0                0                0   \n",
              "2                0                0                1                0   \n",
              "3                0                0                0                0   \n",
              "4                0                0                0                0   \n",
              "\n",
              "   DepHourofDay_20  DepHourofDay_21  DepHourofDay_22  DepHourofDay_23  \n",
              "0                0                0                0                0  \n",
              "1                0                0                0                0  \n",
              "2                0                0                0                0  \n",
              "3                0                0                0                0  \n",
              "4                0                0                0                0  \n",
              "\n",
              "[5 rows x 95 columns]"
            ]
          },
          "execution_count": 36,
          "metadata": {},
          "output_type": "execute_result"
        }
      ],
      "source": [
        "# show hed data\n",
        "data.head()"
      ]
    },
    {
      "cell_type": "code",
      "execution_count": null,
      "metadata": {
        "id": "eOVkHeQSV__A",
        "outputId": "31c6d466-97b5-4ba4-ae1a-ae21bfcb8f2e"
      },
      "outputs": [
        {
          "data": {
            "text/plain": [
              "(1635590, 95)"
            ]
          },
          "execution_count": 37,
          "metadata": {},
          "output_type": "execute_result"
        }
      ],
      "source": [
        "# show shape data\n",
        "data.shape"
      ]
    },
    {
      "cell_type": "markdown",
      "metadata": {
        "id": "sG60CRLtV__B"
      },
      "source": [
        "You are now ready to train the model. Before you split the data, rename the **is_delay** column to *target*.\n",
        "\n",
        "**Hint**: You can use the `rename` function in pandas ([pandas.DataFrame.rename documentation](https://pandas.pydata.org/pandas-docs/stable/reference/api/pandas.DataFrame.rename.html))."
      ]
    },
    {
      "cell_type": "code",
      "execution_count": null,
      "metadata": {
        "id": "UNTn_DFjV__B"
      },
      "outputs": [],
      "source": [
        "# rename is_delay -> target\n",
        "data.rename(columns = {'is_delay':'target'}, inplace=True )"
      ]
    },
    {
      "cell_type": "markdown",
      "metadata": {
        "id": "xaITTeLRV__B"
      },
      "source": [
        "## <span style=\"color:red\"> End of Step 2 </span>\n",
        "\n",
        "Save the project file to your local computer. Follow these steps:\n",
        "\n",
        "1. In the file explorer on the left, right-click the notebook that you're working on. \n",
        "\n",
        "2. Choose **Download**, and save the file locally.  \n",
        "\n",
        "This action downloads the current notebook to the default download folder on your computer."
      ]
    },
    {
      "cell_type": "markdown",
      "metadata": {
        "id": "oSDl4opKV__B"
      },
      "source": [
        "# Step 3: Model training and evaluation\n",
        "\n",
        "You must include some preliminary steps when you convert the dataset from a DataFrame to a format that a machine learning algorithm can use. For Amazon SageMaker, you must perform these steps:\n",
        "\n",
        "1. Split the data into `train_data`, `validation_data`, and `test_data` by using `sklearn.model_selection.train_test_split`.  \n",
        "\n",
        "2. Convert the dataset to an appropriate file format that the Amazon SageMaker training job can use. This can be either a CSV file or record protobuf. For more information, see [Common Data Formats for Training](https://docs.aws.amazon.com/sagemaker/latest/dg/cdf-training.html).  \n",
        "\n",
        "3. Upload the data to your S3 bucket. If you haven't created one before, see [Create a Bucket](https://docs.aws.amazon.com/AmazonS3/latest/gsg/CreatingABucket.html).  \n",
        "\n",
        "Use the following cells to complete these steps. Insert and delete cells where needed.\n",
        "\n",
        "#### <span style=\"color: blue;\">Project presentation: In your project presentation, write down the key decisions that you made in this phase.</span>"
      ]
    },
    {
      "cell_type": "markdown",
      "metadata": {
        "id": "waF9hjyLV__B"
      },
      "source": [
        "### Train-test split"
      ]
    },
    {
      "cell_type": "code",
      "execution_count": null,
      "metadata": {
        "id": "1OUCTJPJV__B"
      },
      "outputs": [],
      "source": [
        "from sklearn.model_selection import train_test_split\n",
        "def split_data(data):\n",
        "    train, test_and_validate = train_test_split(data, test_size=0.2, random_state=42, stratify=data['target'])\n",
        "    test, validate = train_test_split(test_and_validate, test_size=0.5, random_state=42, stratify=test_and_validate['target'])\n",
        "    return train, validate, test"
      ]
    },
    {
      "cell_type": "code",
      "execution_count": null,
      "metadata": {
        "id": "6-B35lSoV__C",
        "outputId": "03a6bc5a-c076-4e0c-acb9-dcd091f52f8d"
      },
      "outputs": [
        {
          "name": "stdout",
          "output_type": "stream",
          "text": [
            "0.0    1033806\n",
            "1.0     274666\n",
            "Name: target, dtype: int64\n",
            "0.0    129226\n",
            "1.0     34333\n",
            "Name: target, dtype: int64\n",
            "0.0    129226\n",
            "1.0     34333\n",
            "Name: target, dtype: int64\n"
          ]
        }
      ],
      "source": [
        "train, validate, test = split_data(data)\n",
        "print(train['target'].value_counts())\n",
        "print(test['target'].value_counts())\n",
        "print(validate['target'].value_counts())"
      ]
    },
    {
      "cell_type": "markdown",
      "metadata": {
        "id": "YTLt0Yk3V__C"
      },
      "source": [
        "**Sample answer**\n",
        "```\n",
        "0.0    1033570\n",
        "1.0     274902\n",
        "Name: target, dtype: int64\n",
        "0.0    129076\n",
        "1.0     34483\n",
        "Name: target, dtype: int64\n",
        "0.0    129612\n",
        "1.0     33947\n",
        "Name: target, dtype: int64\n",
        "```"
      ]
    },
    {
      "cell_type": "markdown",
      "metadata": {
        "id": "pDnjp_kjV__C"
      },
      "source": [
        "### Baseline classification model"
      ]
    },
    {
      "cell_type": "code",
      "execution_count": null,
      "metadata": {
        "id": "IzNPyJUlV__C"
      },
      "outputs": [],
      "source": [
        "import sagemaker\n",
        "from sagemaker.serializers import CSVSerializer\n",
        "from sagemaker.amazon.amazon_estimator import RecordSet\n",
        "import boto3\n",
        "\n",
        "# Instantiate the LinearLearner estimator object with 1 ml.m4.xlarge\n",
        "classifier_estimator = sagemaker.LinearLearner(role=sagemaker.get_execution_role(),\n",
        "                                               instance_count= 1,\n",
        "                                               instance_type= 'ml.m4.xlarge',\n",
        "                                               predictor_type='binary_classifier',\n",
        "                                               binary_classifier_model_selection_criteria='cross_entropy_loss')"
      ]
    },
    {
      "cell_type": "markdown",
      "metadata": {
        "id": "6CNubd8pV__C"
      },
      "source": [
        "### Sample code\n",
        "```\n",
        "num_classes = len(pd.unique(train_labels))\n",
        "classifier_estimator = sagemaker.LinearLearner(role=sagemaker.get_execution_role(),\n",
        "                                              instance_count=1,\n",
        "                                              instance_type='ml.m4.xlarge',\n",
        "                                              predictor_type='binary_classifier',\n",
        "                                              binary_classifier_model_selection_criteria = 'cross_entropy_loss')\n",
        "                                              \n",
        "```"
      ]
    },
    {
      "cell_type": "markdown",
      "metadata": {
        "id": "zHEf9IEmV__D"
      },
      "source": [
        "Linear learner accepts training data in protobuf or CSV content types. It also accepts inference requests in protobuf, CSV, or JavaScript Object Notation (JSON) content types. Training data has features and ground-truth labels, but the data in an inference request has only features.\n",
        "\n",
        "In a production pipeline, AWS recommends converting the data to the Amazon SageMaker protobuf format and storing it in Amazon S3. To get up and running quickly, AWS provides the `record_set` operation for converting and uploading the dataset when it's small enough to fit in local memory. It accepts NumPy arrays like the ones you already have, so you will use it for this step. The `RecordSet` object will track the temporary Amazon S3 location of your data. Create train, validation, and test records by using the `estimator.record_set` function. Then, start your training job by using the `estimator.fit` function."
      ]
    },
    {
      "cell_type": "code",
      "execution_count": null,
      "metadata": {
        "id": "dfyis4ClV__D"
      },
      "outputs": [],
      "source": [
        "### Create train, validate, and test records\n",
        "train_records = classifier_estimator.record_set(train.values[:, 1:].astype(np.float32), train.values[:, 0].astype(np.float32), channel='train')\n",
        "val_records = classifier_estimator.record_set(validate.values[:, 1:].astype(np.float32), validate.values[:, 0].astype(np.float32), channel='validation')\n",
        "test_records = classifier_estimator.record_set(test.values[:, 1:].astype(np.float32), test.values[:, 0].astype(np.float32), channel='test')"
      ]
    },
    {
      "cell_type": "markdown",
      "metadata": {
        "id": "_eozIVb1V__D"
      },
      "source": [
        "Now, train your model on the dataset that you just uploaded.\n",
        "\n",
        "### Sample code\n",
        "```\n",
        "linear.fit([train_records,val_records,test_records])\n",
        "```"
      ]
    },
    {
      "cell_type": "code",
      "execution_count": null,
      "metadata": {
        "id": "qWKk3C4XV__D",
        "outputId": "011a82fb-cc50-4bbf-adc8-5e18c4e61a0f"
      },
      "outputs": [
        {
          "name": "stderr",
          "output_type": "stream",
          "text": [
            "Defaulting to the only supported framework/algorithm version: 1. Ignoring framework/algorithm version: 1.\n",
            "Defaulting to the only supported framework/algorithm version: 1. Ignoring framework/algorithm version: 1.\n"
          ]
        },
        {
          "name": "stdout",
          "output_type": "stream",
          "text": [
            "2022-04-17 06:39:14 Starting - Starting the training job...\n",
            "2022-04-17 06:39:40 Starting - Preparing the instances for trainingProfilerReport-1650177553: InProgress\n",
            ".........\n",
            "2022-04-17 06:41:02 Downloading - Downloading input data...\n",
            "2022-04-17 06:41:42 Training - Downloading the training image.....\u001b[34mDocker entrypoint called with argument(s): train\u001b[0m\n",
            "\u001b[34mRunning default environment configuration script\u001b[0m\n",
            "\u001b[34m[04/17/2022 06:42:24 INFO 140392468272960 integration.py:636] worker started\u001b[0m\n",
            "\u001b[34m[04/17/2022 06:42:24 INFO 140392468272960] Reading default configuration from /opt/amazon/lib/python3.7/site-packages/algorithm/resources/default-input.json: {'mini_batch_size': '1000', 'epochs': '15', 'feature_dim': 'auto', 'use_bias': 'true', 'binary_classifier_model_selection_criteria': 'accuracy', 'f_beta': '1.0', 'target_recall': '0.8', 'target_precision': '0.8', 'num_models': 'auto', 'num_calibration_samples': '10000000', 'init_method': 'uniform', 'init_scale': '0.07', 'init_sigma': '0.01', 'init_bias': '0.0', 'optimizer': 'auto', 'loss': 'auto', 'margin': '1.0', 'quantile': '0.5', 'loss_insensitivity': '0.01', 'huber_delta': '1.0', 'num_classes': '1', 'accuracy_top_k': '3', 'wd': 'auto', 'l1': 'auto', 'momentum': 'auto', 'learning_rate': 'auto', 'beta_1': 'auto', 'beta_2': 'auto', 'bias_lr_mult': 'auto', 'bias_wd_mult': 'auto', 'use_lr_scheduler': 'true', 'lr_scheduler_step': 'auto', 'lr_scheduler_factor': 'auto', 'lr_scheduler_minimum_lr': 'auto', 'positive_example_weight_mult': '1.0', 'balance_multiclass_weights': 'false', 'normalize_data': 'true', 'normalize_label': 'auto', 'unbias_data': 'auto', 'unbias_label': 'auto', 'num_point_for_scaler': '10000', '_kvstore': 'auto', '_num_gpus': 'auto', '_num_kv_servers': 'auto', '_log_level': 'info', '_tuning_objective_metric': '', 'early_stopping_patience': '3', 'early_stopping_tolerance': '0.001', '_enable_profiler': 'false'}\u001b[0m\n",
            "\u001b[34m[04/17/2022 06:42:24 INFO 140392468272960] Merging with provided configuration from /opt/ml/input/config/hyperparameters.json: {'binary_classifier_model_selection_criteria': 'cross_entropy_loss', 'feature_dim': '94', 'mini_batch_size': '1000', 'predictor_type': 'binary_classifier'}\u001b[0m\n",
            "\u001b[34m[04/17/2022 06:42:24 INFO 140392468272960] Final configuration: {'mini_batch_size': '1000', 'epochs': '15', 'feature_dim': '94', 'use_bias': 'true', 'binary_classifier_model_selection_criteria': 'cross_entropy_loss', 'f_beta': '1.0', 'target_recall': '0.8', 'target_precision': '0.8', 'num_models': 'auto', 'num_calibration_samples': '10000000', 'init_method': 'uniform', 'init_scale': '0.07', 'init_sigma': '0.01', 'init_bias': '0.0', 'optimizer': 'auto', 'loss': 'auto', 'margin': '1.0', 'quantile': '0.5', 'loss_insensitivity': '0.01', 'huber_delta': '1.0', 'num_classes': '1', 'accuracy_top_k': '3', 'wd': 'auto', 'l1': 'auto', 'momentum': 'auto', 'learning_rate': 'auto', 'beta_1': 'auto', 'beta_2': 'auto', 'bias_lr_mult': 'auto', 'bias_wd_mult': 'auto', 'use_lr_scheduler': 'true', 'lr_scheduler_step': 'auto', 'lr_scheduler_factor': 'auto', 'lr_scheduler_minimum_lr': 'auto', 'positive_example_weight_mult': '1.0', 'balance_multiclass_weights': 'false', 'normalize_data': 'true', 'normalize_label': 'auto', 'unbias_data': 'auto', 'unbias_label': 'auto', 'num_point_for_scaler': '10000', '_kvstore': 'auto', '_num_gpus': 'auto', '_num_kv_servers': 'auto', '_log_level': 'info', '_tuning_objective_metric': '', 'early_stopping_patience': '3', 'early_stopping_tolerance': '0.001', '_enable_profiler': 'false', 'predictor_type': 'binary_classifier'}\u001b[0m\n",
            "\u001b[34m[04/17/2022 06:42:24 WARNING 140392468272960] Loggers have already been setup.\u001b[0m\n",
            "\u001b[34mProcess 1 is a worker.\u001b[0m\n",
            "\u001b[34m[04/17/2022 06:42:24 INFO 140392468272960] Using default worker.\u001b[0m\n",
            "\u001b[34m[04/17/2022 06:42:25 INFO 140392468272960] Checkpoint loading and saving are disabled.\u001b[0m\n",
            "\u001b[34m[2022-04-17 06:42:25.027] [tensorio] [warning] TensorIO is already initialized; ignoring the initialization routine.\u001b[0m\n",
            "\u001b[34m[2022-04-17 06:42:25.051] [tensorio] [warning] TensorIO is already initialized; ignoring the initialization routine.\u001b[0m\n",
            "\u001b[34m[2022-04-17 06:42:25.128] [tensorio] [info] epoch_stats={\"data_pipeline\": \"/opt/ml/input/data/train\", \"epoch\": 0, \"duration\": 110, \"num_examples\": 1, \"num_bytes\": 424000}\u001b[0m\n",
            "\u001b[34m[04/17/2022 06:42:25 INFO 140392468272960] Create Store: local\u001b[0m\n",
            "\u001b[34m[2022-04-17 06:42:25.303] [tensorio] [info] epoch_stats={\"data_pipeline\": \"/opt/ml/input/data/train\", \"epoch\": 1, \"duration\": 173, \"num_examples\": 11, \"num_bytes\": 4664000}\u001b[0m\n",
            "\u001b[34m[04/17/2022 06:42:25 INFO 140392468272960] Scaler algorithm parameters\n",
            " <algorithm.scaler.ScalerAlgorithmStable object at 0x7faf4a8013d0>\u001b[0m\n",
            "\u001b[34m[04/17/2022 06:42:25 INFO 140392468272960] Scaling model computed with parameters:\n",
            " {'stdev_label': None, 'stdev_weight': \u001b[0m\n",
            "\u001b[34m[5.3641687e+02 5.3641687e+02 4.3041015e-01 4.3498889e-01 4.3952560e-01\n",
            " 2.6132649e-01 2.8210127e-01 2.6874292e-01 2.7969170e-01 2.7380994e-01\n",
            " 2.8329492e-01 2.8076637e-01 2.7002233e-01 2.7996090e-01 2.7996090e-01\n",
            " 2.8644207e-01 1.8076091e-01 1.7208265e-01 1.7982028e-01 1.7058723e-01\n",
            " 1.7454273e-01 1.8005599e-01 1.8629010e-01 1.7600001e-01 1.7624155e-01\n",
            " 1.7307144e-01 1.7624155e-01 1.8831517e-01 1.8629010e-01 1.7672351e-01\n",
            " 1.7429848e-01 1.7307144e-01 1.7233047e-01 1.7208262e-01 1.8285701e-01\n",
            " 1.8122913e-01 1.7934787e-01 1.7454273e-01 1.7183442e-01 1.7839867e-01\n",
            " 1.7648271e-01 1.7672351e-01 1.8169595e-01 1.7405385e-01 1.7863649e-01\n",
            " 1.4308006e-01 3.5608852e-01 3.4914336e-01 3.5954881e-01 3.5635713e-01\n",
            " 3.2496154e-01 3.4604138e-01 3.7394696e-01 2.4345285e-01 4.6059972e-01\n",
            " 3.1491855e-01 2.3664276e-01 3.2066044e-01 3.2947785e-01 2.7656806e-01\n",
            " 3.5787159e-01 3.4006530e-01 2.9508927e-01 3.3082199e-01 2.3966353e-01\n",
            " 3.1978837e-01 3.2271576e-01 2.7227587e-01 3.5173386e-01 3.3348146e-01\n",
            " 3.0841854e-01 3.3102793e-01 4.3651421e-02 9.5341932e-03 9.5341932e-03\n",
            " 1.6261294e-01 2.3357147e-01 2.6368451e-01 2.4907495e-01 2.3982988e-01\n",
            " 2.4539959e-01 2.4065956e-01 2.3933031e-01 2.4247178e-01 2.3374344e-01\n",
            " 2.4214359e-01 2.2886536e-01 2.4780476e-01 2.2583821e-01 2.1925400e-01\n",
            " 1.9185394e-01 1.5722699e-01 1.6831590e-01 9.9498749e-02]\u001b[0m\n",
            "\u001b[34m<NDArray 94 @cpu(0)>, 'mean_label': None, 'mean_weight': \u001b[0m\n",
            "\u001b[34m[1.01205817e+03 1.01205817e+03 2.45545477e-01 2.53454566e-01\n",
            " 2.61636376e-01 7.37272799e-02 8.71818364e-02 7.83636421e-02\n",
            " 8.55454579e-02 8.16363692e-02 8.79999995e-02 8.62727389e-02\n",
            " 7.91818202e-02 8.57272744e-02 8.57272819e-02 9.01818201e-02\n",
            " 3.38181816e-02 3.05454563e-02 3.34545448e-02 3.00000012e-02\n",
            " 3.14545445e-02 3.35454606e-02 3.60000059e-02 3.19999978e-02\n",
            " 3.20909135e-02 3.09090931e-02 3.20909098e-02 3.68181840e-02\n",
            " 3.60000022e-02 3.22727337e-02 3.13636400e-02 3.09090931e-02\n",
            " 3.06363646e-02 3.05454563e-02 3.46363634e-02 3.40000018e-02\n",
            " 3.32727283e-02 3.14545482e-02 3.04545462e-02 3.29090916e-02\n",
            " 3.21818218e-02 3.22727300e-02 3.41818221e-02 3.12727280e-02\n",
            " 3.29999998e-02 2.09090952e-02 1.49000019e-01 1.42090917e-01\n",
            " 1.52545467e-01 1.49272725e-01 1.20000005e-01 1.39090925e-01\n",
            " 1.68090910e-01 6.32727295e-02 3.05454522e-01 1.11636370e-01\n",
            " 5.95454574e-02 1.16363652e-01 1.23909101e-01 8.34545568e-02\n",
            " 1.50818214e-01 1.33454561e-01 9.63636413e-02 1.25090942e-01\n",
            " 6.11818247e-02 1.15636379e-01 1.18090905e-01 8.06363747e-02\n",
            " 1.44636393e-01 1.27454549e-01 1.06454559e-01 1.25272736e-01\n",
            " 1.90909090e-03 9.09090959e-05 9.09090813e-05 2.71818191e-02\n",
            " 5.79090975e-02 7.51818269e-02 6.64545521e-02 6.12727329e-02\n",
            " 6.43636435e-02 6.17272779e-02 6.10000081e-02 6.27272800e-02\n",
            " 5.80000021e-02 6.25454560e-02 5.54545484e-02 6.57272786e-02\n",
            " 5.39091006e-02 5.06363697e-02 3.82727310e-02 2.53636353e-02\n",
            " 2.91818231e-02 9.99999978e-03]\u001b[0m\n",
            "\u001b[34m<NDArray 94 @cpu(0)>}\u001b[0m\n",
            "\u001b[34m[04/17/2022 06:42:25 INFO 140392468272960] nvidia-smi: took 0.088 seconds to run.\u001b[0m\n",
            "\u001b[34m[04/17/2022 06:42:25 INFO 140392468272960] nvidia-smi identified 0 GPUs.\u001b[0m\n",
            "\u001b[34m[04/17/2022 06:42:25 INFO 140392468272960] Number of GPUs being used: 0\u001b[0m\n",
            "\u001b[34m#metrics {\"StartTime\": 1650177745.5487835, \"EndTime\": 1650177745.548854, \"Dimensions\": {\"Algorithm\": \"Linear Learner\", \"Host\": \"algo-1\", \"Operation\": \"training\", \"Meta\": \"init_train_data_iter\"}, \"Metrics\": {\"Total Records Seen\": {\"sum\": 12000.0, \"count\": 1, \"min\": 12000, \"max\": 12000}, \"Total Batches Seen\": {\"sum\": 12.0, \"count\": 1, \"min\": 12, \"max\": 12}, \"Max Records Seen Between Resets\": {\"sum\": 11000.0, \"count\": 1, \"min\": 11000, \"max\": 11000}, \"Max Batches Seen Between Resets\": {\"sum\": 11.0, \"count\": 1, \"min\": 11, \"max\": 11}, \"Reset Count\": {\"sum\": 2.0, \"count\": 1, \"min\": 2, \"max\": 2}, \"Number of Records Since Last Reset\": {\"sum\": 0.0, \"count\": 1, \"min\": 0, \"max\": 0}, \"Number of Batches Since Last Reset\": {\"sum\": 0.0, \"count\": 1, \"min\": 0, \"max\": 0}}}\u001b[0m\n",
            "\n",
            "2022-04-17 06:42:37 Training - Training image download completed. Training in progress.\u001b[34m[2022-04-17 06:43:21.725] [tensorio] [info] epoch_stats={\"data_pipeline\": \"/opt/ml/input/data/train\", \"epoch\": 3, \"duration\": 56176, \"num_examples\": 1309, \"num_bytes\": 554792128}\u001b[0m\n",
            "\u001b[34m#metrics {\"StartTime\": 1650177801.7259078, \"EndTime\": 1650177801.7260146, \"Dimensions\": {\"Algorithm\": \"Linear Learner\", \"Host\": \"algo-1\", \"Operation\": \"training\", \"epoch\": 0, \"model\": 0}, \"Metrics\": {\"train_binary_classification_cross_entropy_objective\": {\"sum\": 0.49446222157142944, \"count\": 1, \"min\": 0.49446222157142944, \"max\": 0.49446222157142944}}}\u001b[0m\n",
            "\u001b[34m#metrics {\"StartTime\": 1650177801.7264192, \"EndTime\": 1650177801.7264473, \"Dimensions\": {\"Algorithm\": \"Linear Learner\", \"Host\": \"algo-1\", \"Operation\": \"training\", \"epoch\": 0, \"model\": 1}, \"Metrics\": {\"train_binary_classification_cross_entropy_objective\": {\"sum\": 0.49497116413174785, \"count\": 1, \"min\": 0.49497116413174785, \"max\": 0.49497116413174785}}}\u001b[0m\n",
            "\u001b[34m#metrics {\"StartTime\": 1650177801.7265136, \"EndTime\": 1650177801.7266133, \"Dimensions\": {\"Algorithm\": \"Linear Learner\", \"Host\": \"algo-1\", \"Operation\": \"training\", \"epoch\": 0, \"model\": 2}, \"Metrics\": {\"train_binary_classification_cross_entropy_objective\": {\"sum\": 0.49450097075296107, \"count\": 1, \"min\": 0.49450097075296107, \"max\": 0.49450097075296107}}}\u001b[0m\n",
            "\u001b[34m#metrics {\"StartTime\": 1650177801.7266955, \"EndTime\": 1650177801.726792, \"Dimensions\": {\"Algorithm\": \"Linear Learner\", \"Host\": \"algo-1\", \"Operation\": \"training\", \"epoch\": 0, \"model\": 3}, \"Metrics\": {\"train_binary_classification_cross_entropy_objective\": {\"sum\": 0.4949588428928947, \"count\": 1, \"min\": 0.4949588428928947, \"max\": 0.4949588428928947}}}\u001b[0m\n",
            "\u001b[34m#metrics {\"StartTime\": 1650177801.7269647, \"EndTime\": 1650177801.7269878, \"Dimensions\": {\"Algorithm\": \"Linear Learner\", \"Host\": \"algo-1\", \"Operation\": \"training\", \"epoch\": 0, \"model\": 4}, \"Metrics\": {\"train_binary_classification_cross_entropy_objective\": {\"sum\": 0.5076720594820262, \"count\": 1, \"min\": 0.5076720594820262, \"max\": 0.5076720594820262}}}\u001b[0m\n",
            "\u001b[34m#metrics {\"StartTime\": 1650177801.7270477, \"EndTime\": 1650177801.7271478, \"Dimensions\": {\"Algorithm\": \"Linear Learner\", \"Host\": \"algo-1\", \"Operation\": \"training\", \"epoch\": 0, \"model\": 5}, \"Metrics\": {\"train_binary_classification_cross_entropy_objective\": {\"sum\": 0.5180916043202811, \"count\": 1, \"min\": 0.5180916043202811, \"max\": 0.5180916043202811}}}\u001b[0m\n",
            "\u001b[34m#metrics {\"StartTime\": 1650177801.7272115, \"EndTime\": 1650177801.7272296, \"Dimensions\": {\"Algorithm\": \"Linear Learner\", \"Host\": \"algo-1\", \"Operation\": \"training\", \"epoch\": 0, \"model\": 6}, \"Metrics\": {\"train_binary_classification_cross_entropy_objective\": {\"sum\": 0.5077347130265075, \"count\": 1, \"min\": 0.5077347130265075, \"max\": 0.5077347130265075}}}\u001b[0m\n",
            "\u001b[34m#metrics {\"StartTime\": 1650177801.7272868, \"EndTime\": 1650177801.727303, \"Dimensions\": {\"Algorithm\": \"Linear Learner\", \"Host\": \"algo-1\", \"Operation\": \"training\", \"epoch\": 0, \"model\": 7}, \"Metrics\": {\"train_binary_classification_cross_entropy_objective\": {\"sum\": 0.5181137298210681, \"count\": 1, \"min\": 0.5181137298210681, \"max\": 0.5181137298210681}}}\u001b[0m\n",
            "\u001b[34m#metrics {\"StartTime\": 1650177801.7273562, \"EndTime\": 1650177801.727373, \"Dimensions\": {\"Algorithm\": \"Linear Learner\", \"Host\": \"algo-1\", \"Operation\": \"training\", \"epoch\": 0, \"model\": 8}, \"Metrics\": {\"train_binary_classification_cross_entropy_objective\": {\"sum\": 0.4945089306612627, \"count\": 1, \"min\": 0.4945089306612627, \"max\": 0.4945089306612627}}}\u001b[0m\n",
            "\u001b[34m#metrics {\"StartTime\": 1650177801.727475, \"EndTime\": 1650177801.7274969, \"Dimensions\": {\"Algorithm\": \"Linear Learner\", \"Host\": \"algo-1\", \"Operation\": \"training\", \"epoch\": 0, \"model\": 9}, \"Metrics\": {\"train_binary_classification_cross_entropy_objective\": {\"sum\": 0.4950528834398369, \"count\": 1, \"min\": 0.4950528834398369, \"max\": 0.4950528834398369}}}\u001b[0m\n",
            "\u001b[34m#metrics {\"StartTime\": 1650177801.7275558, \"EndTime\": 1650177801.7275724, \"Dimensions\": {\"Algorithm\": \"Linear Learner\", \"Host\": \"algo-1\", \"Operation\": \"training\", \"epoch\": 0, \"model\": 10}, \"Metrics\": {\"train_binary_classification_cross_entropy_objective\": {\"sum\": 0.4945503520673933, \"count\": 1, \"min\": 0.4945503520673933, \"max\": 0.4945503520673933}}}\u001b[0m\n",
            "\u001b[34m#metrics {\"StartTime\": 1650177801.7276273, \"EndTime\": 1650177801.7276447, \"Dimensions\": {\"Algorithm\": \"Linear Learner\", \"Host\": \"algo-1\", \"Operation\": \"training\", \"epoch\": 0, \"model\": 11}, \"Metrics\": {\"train_binary_classification_cross_entropy_objective\": {\"sum\": 0.4950205669578062, \"count\": 1, \"min\": 0.4950205669578062, \"max\": 0.4950205669578062}}}\u001b[0m\n",
            "\u001b[34m#metrics {\"StartTime\": 1650177801.7277079, \"EndTime\": 1650177801.727726, \"Dimensions\": {\"Algorithm\": \"Linear Learner\", \"Host\": \"algo-1\", \"Operation\": \"training\", \"epoch\": 0, \"model\": 12}, \"Metrics\": {\"train_binary_classification_cross_entropy_objective\": {\"sum\": 0.5067226322185738, \"count\": 1, \"min\": 0.5067226322185738, \"max\": 0.5067226322185738}}}\u001b[0m\n",
            "\u001b[34m#metrics {\"StartTime\": 1650177801.7277908, \"EndTime\": 1650177801.727809, \"Dimensions\": {\"Algorithm\": \"Linear Learner\", \"Host\": \"algo-1\", \"Operation\": \"training\", \"epoch\": 0, \"model\": 13}, \"Metrics\": {\"train_binary_classification_cross_entropy_objective\": {\"sum\": 0.5164918744148465, \"count\": 1, \"min\": 0.5164918744148465, \"max\": 0.5164918744148465}}}\u001b[0m\n",
            "\u001b[34m#metrics {\"StartTime\": 1650177801.7278616, \"EndTime\": 1650177801.7278793, \"Dimensions\": {\"Algorithm\": \"Linear Learner\", \"Host\": \"algo-1\", \"Operation\": \"training\", \"epoch\": 0, \"model\": 14}, \"Metrics\": {\"train_binary_classification_cross_entropy_objective\": {\"sum\": 0.5067912369940988, \"count\": 1, \"min\": 0.5067912369940988, \"max\": 0.5067912369940988}}}\u001b[0m\n",
            "\u001b[34m#metrics {\"StartTime\": 1650177801.7279332, \"EndTime\": 1650177801.7279508, \"Dimensions\": {\"Algorithm\": \"Linear Learner\", \"Host\": \"algo-1\", \"Operation\": \"training\", \"epoch\": 0, \"model\": 15}, \"Metrics\": {\"train_binary_classification_cross_entropy_objective\": {\"sum\": 0.5164791522711424, \"count\": 1, \"min\": 0.5164791522711424, \"max\": 0.5164791522711424}}}\u001b[0m\n",
            "\u001b[34m#metrics {\"StartTime\": 1650177801.7280138, \"EndTime\": 1650177801.7280312, \"Dimensions\": {\"Algorithm\": \"Linear Learner\", \"Host\": \"algo-1\", \"Operation\": \"training\", \"epoch\": 0, \"model\": 16}, \"Metrics\": {\"train_binary_classification_cross_entropy_objective\": {\"sum\": 0.5091998765344649, \"count\": 1, \"min\": 0.5091998765344649, \"max\": 0.5091998765344649}}}\u001b[0m\n",
            "\u001b[34m#metrics {\"StartTime\": 1650177801.7280946, \"EndTime\": 1650177801.7281115, \"Dimensions\": {\"Algorithm\": \"Linear Learner\", \"Host\": \"algo-1\", \"Operation\": \"training\", \"epoch\": 0, \"model\": 17}, \"Metrics\": {\"train_binary_classification_cross_entropy_objective\": {\"sum\": 0.5093367548018056, \"count\": 1, \"min\": 0.5093367548018056, \"max\": 0.5093367548018056}}}\u001b[0m\n",
            "\u001b[34m#metrics {\"StartTime\": 1650177801.7281744, \"EndTime\": 1650177801.7281919, \"Dimensions\": {\"Algorithm\": \"Linear Learner\", \"Host\": \"algo-1\", \"Operation\": \"training\", \"epoch\": 0, \"model\": 18}, \"Metrics\": {\"train_binary_classification_cross_entropy_objective\": {\"sum\": 0.5092264144150853, \"count\": 1, \"min\": 0.5092264144150853, \"max\": 0.5092264144150853}}}\u001b[0m\n",
            "\u001b[34m#metrics {\"StartTime\": 1650177801.7282462, \"EndTime\": 1650177801.7282622, \"Dimensions\": {\"Algorithm\": \"Linear Learner\", \"Host\": \"algo-1\", \"Operation\": \"training\", \"epoch\": 0, \"model\": 19}, \"Metrics\": {\"train_binary_classification_cross_entropy_objective\": {\"sum\": 0.5093524186720542, \"count\": 1, \"min\": 0.5093524186720542, \"max\": 0.5093524186720542}}}\u001b[0m\n",
            "\u001b[34m#metrics {\"StartTime\": 1650177801.7283156, \"EndTime\": 1650177801.7283313, \"Dimensions\": {\"Algorithm\": \"Linear Learner\", \"Host\": \"algo-1\", \"Operation\": \"training\", \"epoch\": 0, \"model\": 20}, \"Metrics\": {\"train_binary_classification_cross_entropy_objective\": {\"sum\": 0.5107585517579991, \"count\": 1, \"min\": 0.5107585517579991, \"max\": 0.5107585517579991}}}\u001b[0m\n",
            "\u001b[34m#metrics {\"StartTime\": 1650177801.7283962, \"EndTime\": 1650177801.7284145, \"Dimensions\": {\"Algorithm\": \"Linear Learner\", \"Host\": \"algo-1\", \"Operation\": \"training\", \"epoch\": 0, \"model\": 21}, \"Metrics\": {\"train_binary_classification_cross_entropy_objective\": {\"sum\": 0.5125430212691654, \"count\": 1, \"min\": 0.5125430212691654, \"max\": 0.5125430212691654}}}\u001b[0m\n",
            "\u001b[34m#metrics {\"StartTime\": 1650177801.7284696, \"EndTime\": 1650177801.7284856, \"Dimensions\": {\"Algorithm\": \"Linear Learner\", \"Host\": \"algo-1\", \"Operation\": \"training\", \"epoch\": 0, \"model\": 22}, \"Metrics\": {\"train_binary_classification_cross_entropy_objective\": {\"sum\": 0.5107816184974228, \"count\": 1, \"min\": 0.5107816184974228, \"max\": 0.5107816184974228}}}\u001b[0m\n",
            "\u001b[34m#metrics {\"StartTime\": 1650177801.7285407, \"EndTime\": 1650177801.7285552, \"Dimensions\": {\"Algorithm\": \"Linear Learner\", \"Host\": \"algo-1\", \"Operation\": \"training\", \"epoch\": 0, \"model\": 23}, \"Metrics\": {\"train_binary_classification_cross_entropy_objective\": {\"sum\": 0.5125524182334223, \"count\": 1, \"min\": 0.5125524182334223, \"max\": 0.5125524182334223}}}\u001b[0m\n",
            "\u001b[34m#metrics {\"StartTime\": 1650177801.7286043, \"EndTime\": 1650177801.7286217, \"Dimensions\": {\"Algorithm\": \"Linear Learner\", \"Host\": \"algo-1\", \"Operation\": \"training\", \"epoch\": 0, \"model\": 24}, \"Metrics\": {\"train_binary_classification_cross_entropy_objective\": {\"sum\": 0.5150704569685349, \"count\": 1, \"min\": 0.5150704569685349, \"max\": 0.5150704569685349}}}\u001b[0m\n",
            "\u001b[34m#metrics {\"StartTime\": 1650177801.7286773, \"EndTime\": 1650177801.7286944, \"Dimensions\": {\"Algorithm\": \"Linear Learner\", \"Host\": \"algo-1\", \"Operation\": \"training\", \"epoch\": 0, \"model\": 25}, \"Metrics\": {\"train_binary_classification_cross_entropy_objective\": {\"sum\": 0.5151065517507197, \"count\": 1, \"min\": 0.5151065517507197, \"max\": 0.5151065517507197}}}\u001b[0m\n",
            "\u001b[34m#metrics {\"StartTime\": 1650177801.7287488, \"EndTime\": 1650177801.7287648, \"Dimensions\": {\"Algorithm\": \"Linear Learner\", \"Host\": \"algo-1\", \"Operation\": \"training\", \"epoch\": 0, \"model\": 26}, \"Metrics\": {\"train_binary_classification_cross_entropy_objective\": {\"sum\": 0.5150662253143591, \"count\": 1, \"min\": 0.5150662253143591, \"max\": 0.5150662253143591}}}\u001b[0m\n",
            "\u001b[34m#metrics {\"StartTime\": 1650177801.728798, \"EndTime\": 1650177801.7288063, \"Dimensions\": {\"Algorithm\": \"Linear Learner\", \"Host\": \"algo-1\", \"Operation\": \"training\", \"epoch\": 0, \"model\": 27}, \"Metrics\": {\"train_binary_classification_cross_entropy_objective\": {\"sum\": 0.5150857792425593, \"count\": 1, \"min\": 0.5150857792425593, \"max\": 0.5150857792425593}}}\u001b[0m\n",
            "\u001b[34m#metrics {\"StartTime\": 1650177801.7288315, \"EndTime\": 1650177801.7288387, \"Dimensions\": {\"Algorithm\": \"Linear Learner\", \"Host\": \"algo-1\", \"Operation\": \"training\", \"epoch\": 0, \"model\": 28}, \"Metrics\": {\"train_binary_classification_cross_entropy_objective\": {\"sum\": 0.5150978723928469, \"count\": 1, \"min\": 0.5150978723928469, \"max\": 0.5150978723928469}}}\u001b[0m\n",
            "\u001b[34m#metrics {\"StartTime\": 1650177801.728863, \"EndTime\": 1650177801.7288704, \"Dimensions\": {\"Algorithm\": \"Linear Learner\", \"Host\": \"algo-1\", \"Operation\": \"training\", \"epoch\": 0, \"model\": 29}, \"Metrics\": {\"train_binary_classification_cross_entropy_objective\": {\"sum\": 0.515851168174627, \"count\": 1, \"min\": 0.515851168174627, \"max\": 0.515851168174627}}}\u001b[0m\n",
            "\u001b[34m#metrics {\"StartTime\": 1650177801.7289128, \"EndTime\": 1650177801.7289283, \"Dimensions\": {\"Algorithm\": \"Linear Learner\", \"Host\": \"algo-1\", \"Operation\": \"training\", \"epoch\": 0, \"model\": 30}, \"Metrics\": {\"train_binary_classification_cross_entropy_objective\": {\"sum\": 0.5150972547618621, \"count\": 1, \"min\": 0.5150972547618621, \"max\": 0.5150972547618621}}}\u001b[0m\n",
            "\u001b[34m#metrics {\"StartTime\": 1650177801.7289822, \"EndTime\": 1650177801.7289994, \"Dimensions\": {\"Algorithm\": \"Linear Learner\", \"Host\": \"algo-1\", \"Operation\": \"training\", \"epoch\": 0, \"model\": 31}, \"Metrics\": {\"train_binary_classification_cross_entropy_objective\": {\"sum\": 0.5158259962589369, \"count\": 1, \"min\": 0.5158259962589369, \"max\": 0.5158259962589369}}}\u001b[0m\n",
            "\u001b[34m[04/17/2022 06:43:21 INFO 140392468272960] #quality_metric: host=algo-1, epoch=0, train binary_classification_cross_entropy_objective <loss>=0.49446222157142944\u001b[0m\n",
            "\u001b[34m[2022-04-17 06:43:21.765] [tensorio] [info] epoch_stats={\"data_pipeline\": \"/opt/ml/input/data/validation\", \"epoch\": 0, \"duration\": 56737, \"num_examples\": 1, \"num_bytes\": 424000}\u001b[0m\n",
            "\u001b[34m[2022-04-17 06:43:27.406] [tensorio] [info] epoch_stats={\"data_pipeline\": \"/opt/ml/input/data/validation\", \"epoch\": 2, \"duration\": 5641, \"num_examples\": 164, \"num_bytes\": 69349016}\u001b[0m\n",
            "\u001b[34m#metrics {\"StartTime\": 1650177807.4153836, \"EndTime\": 1650177807.415441, \"Dimensions\": {\"Algorithm\": \"Linear Learner\", \"Host\": \"algo-1\", \"Operation\": \"training\", \"epoch\": 0, \"model\": 0}, \"Metrics\": {\"validation_binary_classification_cross_entropy_objective\": {\"sum\": 0.49209488746552993, \"count\": 1, \"min\": 0.49209488746552993, \"max\": 0.49209488746552993}}}\u001b[0m\n",
            "\u001b[34m#metrics {\"StartTime\": 1650177807.4155295, \"EndTime\": 1650177807.4155505, \"Dimensions\": {\"Algorithm\": \"Linear Learner\", \"Host\": \"algo-1\", \"Operation\": \"training\", \"epoch\": 0, \"model\": 1}, \"Metrics\": {\"validation_binary_classification_cross_entropy_objective\": {\"sum\": 0.49341934184790065, \"count\": 1, \"min\": 0.49341934184790065, \"max\": 0.49341934184790065}}}\u001b[0m\n",
            "\u001b[34m#metrics {\"StartTime\": 1650177807.4155917, \"EndTime\": 1650177807.415602, \"Dimensions\": {\"Algorithm\": \"Linear Learner\", \"Host\": \"algo-1\", \"Operation\": \"training\", \"epoch\": 0, \"model\": 2}, \"Metrics\": {\"validation_binary_classification_cross_entropy_objective\": {\"sum\": 0.4920907714109353, \"count\": 1, \"min\": 0.4920907714109353, \"max\": 0.4920907714109353}}}\u001b[0m\n",
            "\u001b[34m#metrics {\"StartTime\": 1650177807.415631, \"EndTime\": 1650177807.4156394, \"Dimensions\": {\"Algorithm\": \"Linear Learner\", \"Host\": \"algo-1\", \"Operation\": \"training\", \"epoch\": 0, \"model\": 3}, \"Metrics\": {\"validation_binary_classification_cross_entropy_objective\": {\"sum\": 0.4934215564196134, \"count\": 1, \"min\": 0.4934215564196134, \"max\": 0.4934215564196134}}}\u001b[0m\n",
            "\u001b[34m#metrics {\"StartTime\": 1650177807.4156651, \"EndTime\": 1650177807.4156728, \"Dimensions\": {\"Algorithm\": \"Linear Learner\", \"Host\": \"algo-1\", \"Operation\": \"training\", \"epoch\": 0, \"model\": 4}, \"Metrics\": {\"validation_binary_classification_cross_entropy_objective\": {\"sum\": 0.5013284562472368, \"count\": 1, \"min\": 0.5013284562472368, \"max\": 0.5013284562472368}}}\u001b[0m\n",
            "\u001b[34m#metrics {\"StartTime\": 1650177807.4156978, \"EndTime\": 1650177807.4157052, \"Dimensions\": {\"Algorithm\": \"Linear Learner\", \"Host\": \"algo-1\", \"Operation\": \"training\", \"epoch\": 0, \"model\": 5}, \"Metrics\": {\"validation_binary_classification_cross_entropy_objective\": {\"sum\": 0.5131219788756346, \"count\": 1, \"min\": 0.5131219788756346, \"max\": 0.5131219788756346}}}\u001b[0m\n",
            "\u001b[34m#metrics {\"StartTime\": 1650177807.41573, \"EndTime\": 1650177807.4157372, \"Dimensions\": {\"Algorithm\": \"Linear Learner\", \"Host\": \"algo-1\", \"Operation\": \"training\", \"epoch\": 0, \"model\": 6}, \"Metrics\": {\"validation_binary_classification_cross_entropy_objective\": {\"sum\": 0.5013175487025611, \"count\": 1, \"min\": 0.5013175487025611, \"max\": 0.5013175487025611}}}\u001b[0m\n",
            "\u001b[34m#metrics {\"StartTime\": 1650177807.4157615, \"EndTime\": 1650177807.4157686, \"Dimensions\": {\"Algorithm\": \"Linear Learner\", \"Host\": \"algo-1\", \"Operation\": \"training\", \"epoch\": 0, \"model\": 7}, \"Metrics\": {\"validation_binary_classification_cross_entropy_objective\": {\"sum\": 0.5130875169006769, \"count\": 1, \"min\": 0.5130875169006769, \"max\": 0.5130875169006769}}}\u001b[0m\n",
            "\u001b[34m#metrics {\"StartTime\": 1650177807.4157932, \"EndTime\": 1650177807.4158, \"Dimensions\": {\"Algorithm\": \"Linear Learner\", \"Host\": \"algo-1\", \"Operation\": \"training\", \"epoch\": 0, \"model\": 8}, \"Metrics\": {\"validation_binary_classification_cross_entropy_objective\": {\"sum\": 0.49233800542075506, \"count\": 1, \"min\": 0.49233800542075506, \"max\": 0.49233800542075506}}}\u001b[0m\n",
            "\u001b[34m#metrics {\"StartTime\": 1650177807.4158268, \"EndTime\": 1650177807.4158337, \"Dimensions\": {\"Algorithm\": \"Linear Learner\", \"Host\": \"algo-1\", \"Operation\": \"training\", \"epoch\": 0, \"model\": 9}, \"Metrics\": {\"validation_binary_classification_cross_entropy_objective\": {\"sum\": 0.4936103680162696, \"count\": 1, \"min\": 0.4936103680162696, \"max\": 0.4936103680162696}}}\u001b[0m\n",
            "\u001b[34m#metrics {\"StartTime\": 1650177807.41586, \"EndTime\": 1650177807.4158673, \"Dimensions\": {\"Algorithm\": \"Linear Learner\", \"Host\": \"algo-1\", \"Operation\": \"training\", \"epoch\": 0, \"model\": 10}, \"Metrics\": {\"validation_binary_classification_cross_entropy_objective\": {\"sum\": 0.49233839575557886, \"count\": 1, \"min\": 0.49233839575557886, \"max\": 0.49233839575557886}}}\u001b[0m\n",
            "\u001b[34m#metrics {\"StartTime\": 1650177807.4158924, \"EndTime\": 1650177807.4158998, \"Dimensions\": {\"Algorithm\": \"Linear Learner\", \"Host\": \"algo-1\", \"Operation\": \"training\", \"epoch\": 0, \"model\": 11}, \"Metrics\": {\"validation_binary_classification_cross_entropy_objective\": {\"sum\": 0.49361124906839093, \"count\": 1, \"min\": 0.49361124906839093, \"max\": 0.49361124906839093}}}\u001b[0m\n",
            "\u001b[34m#metrics {\"StartTime\": 1650177807.4159236, \"EndTime\": 1650177807.415931, \"Dimensions\": {\"Algorithm\": \"Linear Learner\", \"Host\": \"algo-1\", \"Operation\": \"training\", \"epoch\": 0, \"model\": 12}, \"Metrics\": {\"validation_binary_classification_cross_entropy_objective\": {\"sum\": 0.5012129768464548, \"count\": 1, \"min\": 0.5012129768464548, \"max\": 0.5012129768464548}}}\u001b[0m\n",
            "\u001b[34m#metrics {\"StartTime\": 1650177807.4159548, \"EndTime\": 1650177807.4159617, \"Dimensions\": {\"Algorithm\": \"Linear Learner\", \"Host\": \"algo-1\", \"Operation\": \"training\", \"epoch\": 0, \"model\": 13}, \"Metrics\": {\"validation_binary_classification_cross_entropy_objective\": {\"sum\": 0.5125654612396893, \"count\": 1, \"min\": 0.5125654612396893, \"max\": 0.5125654612396893}}}\u001b[0m\n",
            "\u001b[34m#metrics {\"StartTime\": 1650177807.415986, \"EndTime\": 1650177807.4159935, \"Dimensions\": {\"Algorithm\": \"Linear Learner\", \"Host\": \"algo-1\", \"Operation\": \"training\", \"epoch\": 0, \"model\": 14}, \"Metrics\": {\"validation_binary_classification_cross_entropy_objective\": {\"sum\": 0.501204304584374, \"count\": 1, \"min\": 0.501204304584374, \"max\": 0.501204304584374}}}\u001b[0m\n",
            "\u001b[34m#metrics {\"StartTime\": 1650177807.4160168, \"EndTime\": 1650177807.4160237, \"Dimensions\": {\"Algorithm\": \"Linear Learner\", \"Host\": \"algo-1\", \"Operation\": \"training\", \"epoch\": 0, \"model\": 15}, \"Metrics\": {\"validation_binary_classification_cross_entropy_objective\": {\"sum\": 0.5125695330737517, \"count\": 1, \"min\": 0.5125695330737517, \"max\": 0.5125695330737517}}}\u001b[0m\n",
            "\u001b[34m#metrics {\"StartTime\": 1650177807.4160478, \"EndTime\": 1650177807.4160547, \"Dimensions\": {\"Algorithm\": \"Linear Learner\", \"Host\": \"algo-1\", \"Operation\": \"training\", \"epoch\": 0, \"model\": 16}, \"Metrics\": {\"validation_binary_classification_cross_entropy_objective\": {\"sum\": 0.5076238219978628, \"count\": 1, \"min\": 0.5076238219978628, \"max\": 0.5076238219978628}}}\u001b[0m\n",
            "\u001b[34m#metrics {\"StartTime\": 1650177807.4160788, \"EndTime\": 1650177807.4160857, \"Dimensions\": {\"Algorithm\": \"Linear Learner\", \"Host\": \"algo-1\", \"Operation\": \"training\", \"epoch\": 0, \"model\": 17}, \"Metrics\": {\"validation_binary_classification_cross_entropy_objective\": {\"sum\": 0.5083637787156866, \"count\": 1, \"min\": 0.5083637787156866, \"max\": 0.5083637787156866}}}\u001b[0m\n",
            "\u001b[34m#metrics {\"StartTime\": 1650177807.4161096, \"EndTime\": 1650177807.4161167, \"Dimensions\": {\"Algorithm\": \"Linear Learner\", \"Host\": \"algo-1\", \"Operation\": \"training\", \"epoch\": 0, \"model\": 18}, \"Metrics\": {\"validation_binary_classification_cross_entropy_objective\": {\"sum\": 0.5076236329877402, \"count\": 1, \"min\": 0.5076236329877402, \"max\": 0.5076236329877402}}}\u001b[0m\n",
            "\u001b[34m#metrics {\"StartTime\": 1650177807.4161408, \"EndTime\": 1650177807.4161477, \"Dimensions\": {\"Algorithm\": \"Linear Learner\", \"Host\": \"algo-1\", \"Operation\": \"training\", \"epoch\": 0, \"model\": 19}, \"Metrics\": {\"validation_binary_classification_cross_entropy_objective\": {\"sum\": 0.5083638494312211, \"count\": 1, \"min\": 0.5083638494312211, \"max\": 0.5083638494312211}}}\u001b[0m\n",
            "\u001b[34m#metrics {\"StartTime\": 1650177807.4161718, \"EndTime\": 1650177807.4161787, \"Dimensions\": {\"Algorithm\": \"Linear Learner\", \"Host\": \"algo-1\", \"Operation\": \"training\", \"epoch\": 0, \"model\": 20}, \"Metrics\": {\"validation_binary_classification_cross_entropy_objective\": {\"sum\": 0.511873252621008, \"count\": 1, \"min\": 0.511873252621008, \"max\": 0.511873252621008}}}\u001b[0m\n",
            "\u001b[34m#metrics {\"StartTime\": 1650177807.4162037, \"EndTime\": 1650177807.416211, \"Dimensions\": {\"Algorithm\": \"Linear Learner\", \"Host\": \"algo-1\", \"Operation\": \"training\", \"epoch\": 0, \"model\": 21}, \"Metrics\": {\"validation_binary_classification_cross_entropy_objective\": {\"sum\": 0.5124875056659003, \"count\": 1, \"min\": 0.5124875056659003, \"max\": 0.5124875056659003}}}\u001b[0m\n",
            "\u001b[34m#metrics {\"StartTime\": 1650177807.4162354, \"EndTime\": 1650177807.4162424, \"Dimensions\": {\"Algorithm\": \"Linear Learner\", \"Host\": \"algo-1\", \"Operation\": \"training\", \"epoch\": 0, \"model\": 22}, \"Metrics\": {\"validation_binary_classification_cross_entropy_objective\": {\"sum\": 0.511869772259886, \"count\": 1, \"min\": 0.511869772259886, \"max\": 0.511869772259886}}}\u001b[0m\n",
            "\u001b[34m#metrics {\"StartTime\": 1650177807.4162662, \"EndTime\": 1650177807.4162729, \"Dimensions\": {\"Algorithm\": \"Linear Learner\", \"Host\": \"algo-1\", \"Operation\": \"training\", \"epoch\": 0, \"model\": 23}, \"Metrics\": {\"validation_binary_classification_cross_entropy_objective\": {\"sum\": 0.5124923917548245, \"count\": 1, \"min\": 0.5124923917548245, \"max\": 0.5124923917548245}}}\u001b[0m\n",
            "\u001b[34m#metrics {\"StartTime\": 1650177807.4162967, \"EndTime\": 1650177807.4163036, \"Dimensions\": {\"Algorithm\": \"Linear Learner\", \"Host\": \"algo-1\", \"Operation\": \"training\", \"epoch\": 0, \"model\": 24}, \"Metrics\": {\"validation_binary_classification_cross_entropy_objective\": {\"sum\": 0.5137622688578978, \"count\": 1, \"min\": 0.5137622688578978, \"max\": 0.5137622688578978}}}\u001b[0m\n",
            "\u001b[34m#metrics {\"StartTime\": 1650177807.4163275, \"EndTime\": 1650177807.4163346, \"Dimensions\": {\"Algorithm\": \"Linear Learner\", \"Host\": \"algo-1\", \"Operation\": \"training\", \"epoch\": 0, \"model\": 25}, \"Metrics\": {\"validation_binary_classification_cross_entropy_objective\": {\"sum\": 0.5144637714382931, \"count\": 1, \"min\": 0.5144637714382931, \"max\": 0.5144637714382931}}}\u001b[0m\n",
            "\u001b[34m#metrics {\"StartTime\": 1650177807.416367, \"EndTime\": 1650177807.4163816, \"Dimensions\": {\"Algorithm\": \"Linear Learner\", \"Host\": \"algo-1\", \"Operation\": \"training\", \"epoch\": 0, \"model\": 26}, \"Metrics\": {\"validation_binary_classification_cross_entropy_objective\": {\"sum\": 0.5137632724960512, \"count\": 1, \"min\": 0.5137632724960512, \"max\": 0.5137632724960512}}}\u001b[0m\n",
            "\u001b[34m#metrics {\"StartTime\": 1650177807.4164338, \"EndTime\": 1650177807.4164538, \"Dimensions\": {\"Algorithm\": \"Linear Learner\", \"Host\": \"algo-1\", \"Operation\": \"training\", \"epoch\": 0, \"model\": 27}, \"Metrics\": {\"validation_binary_classification_cross_entropy_objective\": {\"sum\": 0.5144603670170722, \"count\": 1, \"min\": 0.5144603670170722, \"max\": 0.5144603670170722}}}\u001b[0m\n",
            "\u001b[34m#metrics {\"StartTime\": 1650177807.416515, \"EndTime\": 1650177807.4165297, \"Dimensions\": {\"Algorithm\": \"Linear Learner\", \"Host\": \"algo-1\", \"Operation\": \"training\", \"epoch\": 0, \"model\": 28}, \"Metrics\": {\"validation_binary_classification_cross_entropy_objective\": {\"sum\": 0.5153562059618729, \"count\": 1, \"min\": 0.5153562059618729, \"max\": 0.5153562059618729}}}\u001b[0m\n",
            "\u001b[34m#metrics {\"StartTime\": 1650177807.416578, \"EndTime\": 1650177807.4165943, \"Dimensions\": {\"Algorithm\": \"Linear Learner\", \"Host\": \"algo-1\", \"Operation\": \"training\", \"epoch\": 0, \"model\": 29}, \"Metrics\": {\"validation_binary_classification_cross_entropy_objective\": {\"sum\": 0.5141243980723555, \"count\": 1, \"min\": 0.5141243980723555, \"max\": 0.5141243980723555}}}\u001b[0m\n",
            "\u001b[34m#metrics {\"StartTime\": 1650177807.4166455, \"EndTime\": 1650177807.4166596, \"Dimensions\": {\"Algorithm\": \"Linear Learner\", \"Host\": \"algo-1\", \"Operation\": \"training\", \"epoch\": 0, \"model\": 30}, \"Metrics\": {\"validation_binary_classification_cross_entropy_objective\": {\"sum\": 0.5154130162847509, \"count\": 1, \"min\": 0.5154130162847509, \"max\": 0.5154130162847509}}}\u001b[0m\n",
            "\u001b[34m#metrics {\"StartTime\": 1650177807.4167066, \"EndTime\": 1650177807.4167163, \"Dimensions\": {\"Algorithm\": \"Linear Learner\", \"Host\": \"algo-1\", \"Operation\": \"training\", \"epoch\": 0, \"model\": 31}, \"Metrics\": {\"validation_binary_classification_cross_entropy_objective\": {\"sum\": 0.5140757855271143, \"count\": 1, \"min\": 0.5140757855271143, \"max\": 0.5140757855271143}}}\u001b[0m\n",
            "\u001b[34m[04/17/2022 06:43:27 INFO 140392468272960] #quality_metric: host=algo-1, epoch=0, validation binary_classification_cross_entropy_objective <loss>=0.49209488746552993\u001b[0m\n",
            "\u001b[34m[04/17/2022 06:43:27 INFO 140392468272960] #early_stopping_criteria_metric: host=algo-1, epoch=0, criteria=binary_classification_cross_entropy_objective, value=0.4920907714109353\u001b[0m\n",
            "\u001b[34m[04/17/2022 06:43:27 INFO 140392468272960] Epoch 0: Loss improved. Updating best model\u001b[0m\n",
            "\u001b[34m[04/17/2022 06:43:27 INFO 140392468272960] Saving model for epoch: 0\u001b[0m\n",
            "\u001b[34m[04/17/2022 06:43:27 INFO 140392468272960] Saved checkpoint to \"/tmp/tmpvzdz9pzz/mx-mod-0000.params\"\u001b[0m\n",
            "\u001b[34m[04/17/2022 06:43:27 INFO 140392468272960] #progress_metric: host=algo-1, completed 6.666666666666667 % of epochs\u001b[0m\n",
            "\u001b[34m#metrics {\"StartTime\": 1650177745.5492382, \"EndTime\": 1650177807.428046, \"Dimensions\": {\"Algorithm\": \"Linear Learner\", \"Host\": \"algo-1\", \"Operation\": \"training\", \"epoch\": 0, \"Meta\": \"training_data_iter\"}, \"Metrics\": {\"Total Records Seen\": {\"sum\": 1320472.0, \"count\": 1, \"min\": 1320472, \"max\": 1320472}, \"Total Batches Seen\": {\"sum\": 1321.0, \"count\": 1, \"min\": 1321, \"max\": 1321}, \"Max Records Seen Between Resets\": {\"sum\": 1308472.0, \"count\": 1, \"min\": 1308472, \"max\": 1308472}, \"Max Batches Seen Between Resets\": {\"sum\": 1309.0, \"count\": 1, \"min\": 1309, \"max\": 1309}, \"Reset Count\": {\"sum\": 3.0, \"count\": 1, \"min\": 3, \"max\": 3}, \"Number of Records Since Last Reset\": {\"sum\": 1308472.0, \"count\": 1, \"min\": 1308472, \"max\": 1308472}, \"Number of Batches Since Last Reset\": {\"sum\": 1309.0, \"count\": 1, \"min\": 1309, \"max\": 1309}}}\u001b[0m\n",
            "\u001b[34m[04/17/2022 06:43:27 INFO 140392468272960] #throughput_metric: host=algo-1, train throughput=21145.664291562618 records/second\u001b[0m\n",
            "\u001b[34m[2022-04-17 06:44:23.180] [tensorio] [info] epoch_stats={\"data_pipeline\": \"/opt/ml/input/data/train\", \"epoch\": 5, \"duration\": 55746, \"num_examples\": 1309, \"num_bytes\": 554792128}\u001b[0m\n",
            "\u001b[34m#metrics {\"StartTime\": 1650177863.1805954, \"EndTime\": 1650177863.180696, \"Dimensions\": {\"Algorithm\": \"Linear Learner\", \"Host\": \"algo-1\", \"Operation\": \"training\", \"epoch\": 1, \"model\": 0}, \"Metrics\": {\"train_binary_classification_cross_entropy_objective\": {\"sum\": 0.4922276450107586, \"count\": 1, \"min\": 0.4922276450107586, \"max\": 0.4922276450107586}}}\u001b[0m\n",
            "\u001b[34m#metrics {\"StartTime\": 1650177863.1807964, \"EndTime\": 1650177863.1808176, \"Dimensions\": {\"Algorithm\": \"Linear Learner\", \"Host\": \"algo-1\", \"Operation\": \"training\", \"epoch\": 1, \"model\": 1}, \"Metrics\": {\"train_binary_classification_cross_entropy_objective\": {\"sum\": 0.4932497717014511, \"count\": 1, \"min\": 0.4932497717014511, \"max\": 0.4932497717014511}}}\u001b[0m\n",
            "\u001b[34m#metrics {\"StartTime\": 1650177863.1808836, \"EndTime\": 1650177863.1809006, \"Dimensions\": {\"Algorithm\": \"Linear Learner\", \"Host\": \"algo-1\", \"Operation\": \"training\", \"epoch\": 1, \"model\": 2}, \"Metrics\": {\"train_binary_classification_cross_entropy_objective\": {\"sum\": 0.4922276219825861, \"count\": 1, \"min\": 0.4922276219825861, \"max\": 0.4922276219825861}}}\u001b[0m\n",
            "\u001b[34m#metrics {\"StartTime\": 1650177863.1809535, \"EndTime\": 1650177863.1809683, \"Dimensions\": {\"Algorithm\": \"Linear Learner\", \"Host\": \"algo-1\", \"Operation\": \"training\", \"epoch\": 1, \"model\": 3}, \"Metrics\": {\"train_binary_classification_cross_entropy_objective\": {\"sum\": 0.4932519654440224, \"count\": 1, \"min\": 0.4932519654440224, \"max\": 0.4932519654440224}}}\u001b[0m\n",
            "\u001b[34m#metrics {\"StartTime\": 1650177863.181023, \"EndTime\": 1650177863.1810398, \"Dimensions\": {\"Algorithm\": \"Linear Learner\", \"Host\": \"algo-1\", \"Operation\": \"training\", \"epoch\": 1, \"model\": 4}, \"Metrics\": {\"train_binary_classification_cross_entropy_objective\": {\"sum\": 0.49635780336805807, \"count\": 1, \"min\": 0.49635780336805807, \"max\": 0.49635780336805807}}}\u001b[0m\n",
            "\u001b[34m#metrics {\"StartTime\": 1650177863.181093, \"EndTime\": 1650177863.1811087, \"Dimensions\": {\"Algorithm\": \"Linear Learner\", \"Host\": \"algo-1\", \"Operation\": \"training\", \"epoch\": 1, \"model\": 5}, \"Metrics\": {\"train_binary_classification_cross_entropy_objective\": {\"sum\": 0.5143198406207816, \"count\": 1, \"min\": 0.5143198406207816, \"max\": 0.5143198406207816}}}\u001b[0m\n",
            "\u001b[34m#metrics {\"StartTime\": 1650177863.1811619, \"EndTime\": 1650177863.181178, \"Dimensions\": {\"Algorithm\": \"Linear Learner\", \"Host\": \"algo-1\", \"Operation\": \"training\", \"epoch\": 1, \"model\": 6}, \"Metrics\": {\"train_binary_classification_cross_entropy_objective\": {\"sum\": 0.49635667466096556, \"count\": 1, \"min\": 0.49635667466096556, \"max\": 0.49635667466096556}}}\u001b[0m\n",
            "\u001b[34m#metrics {\"StartTime\": 1650177863.1812313, \"EndTime\": 1650177863.1812484, \"Dimensions\": {\"Algorithm\": \"Linear Learner\", \"Host\": \"algo-1\", \"Operation\": \"training\", \"epoch\": 1, \"model\": 7}, \"Metrics\": {\"train_binary_classification_cross_entropy_objective\": {\"sum\": 0.5142648720230896, \"count\": 1, \"min\": 0.5142648720230896, \"max\": 0.5142648720230896}}}\u001b[0m\n",
            "\u001b[34m#metrics {\"StartTime\": 1650177863.1813025, \"EndTime\": 1650177863.181319, \"Dimensions\": {\"Algorithm\": \"Linear Learner\", \"Host\": \"algo-1\", \"Operation\": \"training\", \"epoch\": 1, \"model\": 8}, \"Metrics\": {\"train_binary_classification_cross_entropy_objective\": {\"sum\": 0.49241270789750125, \"count\": 1, \"min\": 0.49241270789750125, \"max\": 0.49241270789750125}}}\u001b[0m\n",
            "\u001b[34m#metrics {\"StartTime\": 1650177863.1813695, \"EndTime\": 1650177863.1813846, \"Dimensions\": {\"Algorithm\": \"Linear Learner\", \"Host\": \"algo-1\", \"Operation\": \"training\", \"epoch\": 1, \"model\": 9}, \"Metrics\": {\"train_binary_classification_cross_entropy_objective\": {\"sum\": 0.4933811573413534, \"count\": 1, \"min\": 0.4933811573413534, \"max\": 0.4933811573413534}}}\u001b[0m\n",
            "\u001b[34m#metrics {\"StartTime\": 1650177863.181435, \"EndTime\": 1650177863.1814494, \"Dimensions\": {\"Algorithm\": \"Linear Learner\", \"Host\": \"algo-1\", \"Operation\": \"training\", \"epoch\": 1, \"model\": 10}, \"Metrics\": {\"train_binary_classification_cross_entropy_objective\": {\"sum\": 0.4924134181311371, \"count\": 1, \"min\": 0.4924134181311371, \"max\": 0.4924134181311371}}}\u001b[0m\n",
            "\u001b[34m#metrics {\"StartTime\": 1650177863.1815062, \"EndTime\": 1650177863.1815228, \"Dimensions\": {\"Algorithm\": \"Linear Learner\", \"Host\": \"algo-1\", \"Operation\": \"training\", \"epoch\": 1, \"model\": 11}, \"Metrics\": {\"train_binary_classification_cross_entropy_objective\": {\"sum\": 0.4933812522304897, \"count\": 1, \"min\": 0.4933812522304897, \"max\": 0.4933812522304897}}}\u001b[0m\n",
            "\u001b[34m#metrics {\"StartTime\": 1650177863.1815763, \"EndTime\": 1650177863.1815922, \"Dimensions\": {\"Algorithm\": \"Linear Learner\", \"Host\": \"algo-1\", \"Operation\": \"training\", \"epoch\": 1, \"model\": 12}, \"Metrics\": {\"train_binary_classification_cross_entropy_objective\": {\"sum\": 0.4962990653595064, \"count\": 1, \"min\": 0.4962990653595064, \"max\": 0.4962990653595064}}}\u001b[0m\n",
            "\u001b[34m#metrics {\"StartTime\": 1650177863.181647, \"EndTime\": 1650177863.181663, \"Dimensions\": {\"Algorithm\": \"Linear Learner\", \"Host\": \"algo-1\", \"Operation\": \"training\", \"epoch\": 1, \"model\": 13}, \"Metrics\": {\"train_binary_classification_cross_entropy_objective\": {\"sum\": 0.5129342778290448, \"count\": 1, \"min\": 0.5129342778290448, \"max\": 0.5129342778290448}}}\u001b[0m\n",
            "\u001b[34m#metrics {\"StartTime\": 1650177863.1817174, \"EndTime\": 1650177863.1817336, \"Dimensions\": {\"Algorithm\": \"Linear Learner\", \"Host\": \"algo-1\", \"Operation\": \"training\", \"epoch\": 1, \"model\": 14}, \"Metrics\": {\"train_binary_classification_cross_entropy_objective\": {\"sum\": 0.4962973685541649, \"count\": 1, \"min\": 0.4962973685541649, \"max\": 0.4962973685541649}}}\u001b[0m\n",
            "\u001b[34m#metrics {\"StartTime\": 1650177863.1817968, \"EndTime\": 1650177863.1818128, \"Dimensions\": {\"Algorithm\": \"Linear Learner\", \"Host\": \"algo-1\", \"Operation\": \"training\", \"epoch\": 1, \"model\": 15}, \"Metrics\": {\"train_binary_classification_cross_entropy_objective\": {\"sum\": 0.5129354172919504, \"count\": 1, \"min\": 0.5129354172919504, \"max\": 0.5129354172919504}}}\u001b[0m\n",
            "\u001b[34m#metrics {\"StartTime\": 1650177863.181866, \"EndTime\": 1650177863.181881, \"Dimensions\": {\"Algorithm\": \"Linear Learner\", \"Host\": \"algo-1\", \"Operation\": \"training\", \"epoch\": 1, \"model\": 16}, \"Metrics\": {\"train_binary_classification_cross_entropy_objective\": {\"sum\": 0.5078235580490998, \"count\": 1, \"min\": 0.5078235580490998, \"max\": 0.5078235580490998}}}\u001b[0m\n",
            "\u001b[34m#metrics {\"StartTime\": 1650177863.1819296, \"EndTime\": 1650177863.1819444, \"Dimensions\": {\"Algorithm\": \"Linear Learner\", \"Host\": \"algo-1\", \"Operation\": \"training\", \"epoch\": 1, \"model\": 17}, \"Metrics\": {\"train_binary_classification_cross_entropy_objective\": {\"sum\": 0.5080617102760059, \"count\": 1, \"min\": 0.5080617102760059, \"max\": 0.5080617102760059}}}\u001b[0m\n",
            "\u001b[34m#metrics {\"StartTime\": 1650177863.1819935, \"EndTime\": 1650177863.182008, \"Dimensions\": {\"Algorithm\": \"Linear Learner\", \"Host\": \"algo-1\", \"Operation\": \"training\", \"epoch\": 1, \"model\": 18}, \"Metrics\": {\"train_binary_classification_cross_entropy_objective\": {\"sum\": 0.5078235835270779, \"count\": 1, \"min\": 0.5078235835270779, \"max\": 0.5078235835270779}}}\u001b[0m\n",
            "\u001b[34m#metrics {\"StartTime\": 1650177863.1820543, \"EndTime\": 1650177863.1820695, \"Dimensions\": {\"Algorithm\": \"Linear Learner\", \"Host\": \"algo-1\", \"Operation\": \"training\", \"epoch\": 1, \"model\": 19}, \"Metrics\": {\"train_binary_classification_cross_entropy_objective\": {\"sum\": 0.5080618259534924, \"count\": 1, \"min\": 0.5080618259534924, \"max\": 0.5080618259534924}}}\u001b[0m\n",
            "\u001b[34m#metrics {\"StartTime\": 1650177863.1821218, \"EndTime\": 1650177863.1821384, \"Dimensions\": {\"Algorithm\": \"Linear Learner\", \"Host\": \"algo-1\", \"Operation\": \"training\", \"epoch\": 1, \"model\": 20}, \"Metrics\": {\"train_binary_classification_cross_entropy_objective\": {\"sum\": 0.5086695724393979, \"count\": 1, \"min\": 0.5086695724393979, \"max\": 0.5086695724393979}}}\u001b[0m\n",
            "\u001b[34m#metrics {\"StartTime\": 1650177863.1821902, \"EndTime\": 1650177863.1822069, \"Dimensions\": {\"Algorithm\": \"Linear Learner\", \"Host\": \"algo-1\", \"Operation\": \"training\", \"epoch\": 1, \"model\": 21}, \"Metrics\": {\"train_binary_classification_cross_entropy_objective\": {\"sum\": 0.5117410718352058, \"count\": 1, \"min\": 0.5117410718352058, \"max\": 0.5117410718352058}}}\u001b[0m\n",
            "\u001b[34m#metrics {\"StartTime\": 1650177863.182259, \"EndTime\": 1650177863.1822758, \"Dimensions\": {\"Algorithm\": \"Linear Learner\", \"Host\": \"algo-1\", \"Operation\": \"training\", \"epoch\": 1, \"model\": 22}, \"Metrics\": {\"train_binary_classification_cross_entropy_objective\": {\"sum\": 0.5086696328212726, \"count\": 1, \"min\": 0.5086696328212726, \"max\": 0.5086696328212726}}}\u001b[0m\n",
            "\u001b[34m#metrics {\"StartTime\": 1650177863.1823285, \"EndTime\": 1650177863.1823435, \"Dimensions\": {\"Algorithm\": \"Linear Learner\", \"Host\": \"algo-1\", \"Operation\": \"training\", \"epoch\": 1, \"model\": 23}, \"Metrics\": {\"train_binary_classification_cross_entropy_objective\": {\"sum\": 0.5117423935636468, \"count\": 1, \"min\": 0.5117423935636468, \"max\": 0.5117423935636468}}}\u001b[0m\n",
            "\u001b[34m#metrics {\"StartTime\": 1650177863.1823967, \"EndTime\": 1650177863.1824124, \"Dimensions\": {\"Algorithm\": \"Linear Learner\", \"Host\": \"algo-1\", \"Operation\": \"training\", \"epoch\": 1, \"model\": 24}, \"Metrics\": {\"train_binary_classification_cross_entropy_objective\": {\"sum\": 0.5137815882364909, \"count\": 1, \"min\": 0.5137815882364909, \"max\": 0.5137815882364909}}}\u001b[0m\n",
            "\u001b[34m#metrics {\"StartTime\": 1650177863.1824644, \"EndTime\": 1650177863.1824794, \"Dimensions\": {\"Algorithm\": \"Linear Learner\", \"Host\": \"algo-1\", \"Operation\": \"training\", \"epoch\": 1, \"model\": 25}, \"Metrics\": {\"train_binary_classification_cross_entropy_objective\": {\"sum\": 0.5138789974294307, \"count\": 1, \"min\": 0.5138789974294307, \"max\": 0.5138789974294307}}}\u001b[0m\n",
            "\u001b[34m#metrics {\"StartTime\": 1650177863.1825278, \"EndTime\": 1650177863.1825433, \"Dimensions\": {\"Algorithm\": \"Linear Learner\", \"Host\": \"algo-1\", \"Operation\": \"training\", \"epoch\": 1, \"model\": 26}, \"Metrics\": {\"train_binary_classification_cross_entropy_objective\": {\"sum\": 0.5137815712745036, \"count\": 1, \"min\": 0.5137815712745036, \"max\": 0.5137815712745036}}}\u001b[0m\n",
            "\u001b[34m#metrics {\"StartTime\": 1650177863.1825948, \"EndTime\": 1650177863.1826103, \"Dimensions\": {\"Algorithm\": \"Linear Learner\", \"Host\": \"algo-1\", \"Operation\": \"training\", \"epoch\": 1, \"model\": 27}, \"Metrics\": {\"train_binary_classification_cross_entropy_objective\": {\"sum\": 0.513878867846381, \"count\": 1, \"min\": 0.513878867846381, \"max\": 0.513878867846381}}}\u001b[0m\n",
            "\u001b[34m#metrics {\"StartTime\": 1650177863.1826591, \"EndTime\": 1650177863.182675, \"Dimensions\": {\"Algorithm\": \"Linear Learner\", \"Host\": \"algo-1\", \"Operation\": \"training\", \"epoch\": 1, \"model\": 28}, \"Metrics\": {\"train_binary_classification_cross_entropy_objective\": {\"sum\": 0.5141619276460887, \"count\": 1, \"min\": 0.5141619276460887, \"max\": 0.5141619276460887}}}\u001b[0m\n",
            "\u001b[34m#metrics {\"StartTime\": 1650177863.18273, \"EndTime\": 1650177863.1827438, \"Dimensions\": {\"Algorithm\": \"Linear Learner\", \"Host\": \"algo-1\", \"Operation\": \"training\", \"epoch\": 1, \"model\": 29}, \"Metrics\": {\"train_binary_classification_cross_entropy_objective\": {\"sum\": 0.5152580318859229, \"count\": 1, \"min\": 0.5152580318859229, \"max\": 0.5152580318859229}}}\u001b[0m\n",
            "\u001b[34m#metrics {\"StartTime\": 1650177863.1827729, \"EndTime\": 1650177863.1827807, \"Dimensions\": {\"Algorithm\": \"Linear Learner\", \"Host\": \"algo-1\", \"Operation\": \"training\", \"epoch\": 1, \"model\": 30}, \"Metrics\": {\"train_binary_classification_cross_entropy_objective\": {\"sum\": 0.5141628172288247, \"count\": 1, \"min\": 0.5141628172288247, \"max\": 0.5141628172288247}}}\u001b[0m\n",
            "\u001b[34m#metrics {\"StartTime\": 1650177863.1828501, \"EndTime\": 1650177863.182866, \"Dimensions\": {\"Algorithm\": \"Linear Learner\", \"Host\": \"algo-1\", \"Operation\": \"training\", \"epoch\": 1, \"model\": 31}, \"Metrics\": {\"train_binary_classification_cross_entropy_objective\": {\"sum\": 0.5152566073356418, \"count\": 1, \"min\": 0.5152566073356418, \"max\": 0.5152566073356418}}}\u001b[0m\n",
            "\u001b[34m[04/17/2022 06:44:23 INFO 140392468272960] #quality_metric: host=algo-1, epoch=1, train binary_classification_cross_entropy_objective <loss>=0.4922276450107586\u001b[0m\n",
            "\u001b[34m[2022-04-17 06:44:28.187] [tensorio] [info] epoch_stats={\"data_pipeline\": \"/opt/ml/input/data/validation\", \"epoch\": 5, \"duration\": 4975, \"num_examples\": 164, \"num_bytes\": 69349016}\u001b[0m\n",
            "\u001b[34m#metrics {\"StartTime\": 1650177868.1957443, \"EndTime\": 1650177868.1958265, \"Dimensions\": {\"Algorithm\": \"Linear Learner\", \"Host\": \"algo-1\", \"Operation\": \"training\", \"epoch\": 1, \"model\": 0}, \"Metrics\": {\"validation_binary_classification_cross_entropy_objective\": {\"sum\": 0.49170892245132825, \"count\": 1, \"min\": 0.49170892245132825, \"max\": 0.49170892245132825}}}\u001b[0m\n",
            "\u001b[34m#metrics {\"StartTime\": 1650177868.195911, \"EndTime\": 1650177868.1959321, \"Dimensions\": {\"Algorithm\": \"Linear Learner\", \"Host\": \"algo-1\", \"Operation\": \"training\", \"epoch\": 1, \"model\": 1}, \"Metrics\": {\"validation_binary_classification_cross_entropy_objective\": {\"sum\": 0.49337472780900404, \"count\": 1, \"min\": 0.49337472780900404, \"max\": 0.49337472780900404}}}\u001b[0m\n",
            "\u001b[34m#metrics {\"StartTime\": 1650177868.1960506, \"EndTime\": 1650177868.1960735, \"Dimensions\": {\"Algorithm\": \"Linear Learner\", \"Host\": \"algo-1\", \"Operation\": \"training\", \"epoch\": 1, \"model\": 2}, \"Metrics\": {\"validation_binary_classification_cross_entropy_objective\": {\"sum\": 0.4917070812352476, \"count\": 1, \"min\": 0.4917070812352476, \"max\": 0.4917070812352476}}}\u001b[0m\n",
            "\u001b[34m#metrics {\"StartTime\": 1650177868.1961381, \"EndTime\": 1650177868.196157, \"Dimensions\": {\"Algorithm\": \"Linear Learner\", \"Host\": \"algo-1\", \"Operation\": \"training\", \"epoch\": 1, \"model\": 3}, \"Metrics\": {\"validation_binary_classification_cross_entropy_objective\": {\"sum\": 0.4933750466819552, \"count\": 1, \"min\": 0.4933750466819552, \"max\": 0.4933750466819552}}}\u001b[0m\n",
            "\u001b[34m#metrics {\"StartTime\": 1650177868.1962128, \"EndTime\": 1650177868.1962306, \"Dimensions\": {\"Algorithm\": \"Linear Learner\", \"Host\": \"algo-1\", \"Operation\": \"training\", \"epoch\": 1, \"model\": 4}, \"Metrics\": {\"validation_binary_classification_cross_entropy_objective\": {\"sum\": 0.4933907093332194, \"count\": 1, \"min\": 0.4933907093332194, \"max\": 0.4933907093332194}}}\u001b[0m\n",
            "\u001b[34m#metrics {\"StartTime\": 1650177868.1962914, \"EndTime\": 1650177868.1963084, \"Dimensions\": {\"Algorithm\": \"Linear Learner\", \"Host\": \"algo-1\", \"Operation\": \"training\", \"epoch\": 1, \"model\": 5}, \"Metrics\": {\"validation_binary_classification_cross_entropy_objective\": {\"sum\": 0.5108575967450011, \"count\": 1, \"min\": 0.5108575967450011, \"max\": 0.5108575967450011}}}\u001b[0m\n",
            "\u001b[34m#metrics {\"StartTime\": 1650177868.1963646, \"EndTime\": 1650177868.1963813, \"Dimensions\": {\"Algorithm\": \"Linear Learner\", \"Host\": \"algo-1\", \"Operation\": \"training\", \"epoch\": 1, \"model\": 6}, \"Metrics\": {\"validation_binary_classification_cross_entropy_objective\": {\"sum\": 0.4933907240733968, \"count\": 1, \"min\": 0.4933907240733968, \"max\": 0.4933907240733968}}}\u001b[0m\n",
            "\u001b[34m#metrics {\"StartTime\": 1650177868.1964355, \"EndTime\": 1650177868.1964517, \"Dimensions\": {\"Algorithm\": \"Linear Learner\", \"Host\": \"algo-1\", \"Operation\": \"training\", \"epoch\": 1, \"model\": 7}, \"Metrics\": {\"validation_binary_classification_cross_entropy_objective\": {\"sum\": 0.5107614079449637, \"count\": 1, \"min\": 0.5107614079449637, \"max\": 0.5107614079449637}}}\u001b[0m\n",
            "\u001b[34m#metrics {\"StartTime\": 1650177868.1965063, \"EndTime\": 1650177868.196523, \"Dimensions\": {\"Algorithm\": \"Linear Learner\", \"Host\": \"algo-1\", \"Operation\": \"training\", \"epoch\": 1, \"model\": 8}, \"Metrics\": {\"validation_binary_classification_cross_entropy_objective\": {\"sum\": 0.49198332969826875, \"count\": 1, \"min\": 0.49198332969826875, \"max\": 0.49198332969826875}}}\u001b[0m\n",
            "\u001b[34m#metrics {\"StartTime\": 1650177868.196576, \"EndTime\": 1650177868.1965928, \"Dimensions\": {\"Algorithm\": \"Linear Learner\", \"Host\": \"algo-1\", \"Operation\": \"training\", \"epoch\": 1, \"model\": 9}, \"Metrics\": {\"validation_binary_classification_cross_entropy_objective\": {\"sum\": 0.4935921068023427, \"count\": 1, \"min\": 0.4935921068023427, \"max\": 0.4935921068023427}}}\u001b[0m\n",
            "\u001b[34m#metrics {\"StartTime\": 1650177868.196647, \"EndTime\": 1650177868.1966634, \"Dimensions\": {\"Algorithm\": \"Linear Learner\", \"Host\": \"algo-1\", \"Operation\": \"training\", \"epoch\": 1, \"model\": 10}, \"Metrics\": {\"validation_binary_classification_cross_entropy_objective\": {\"sum\": 0.49198380063760677, \"count\": 1, \"min\": 0.49198380063760677, \"max\": 0.49198380063760677}}}\u001b[0m\n",
            "\u001b[34m#metrics {\"StartTime\": 1650177868.1967206, \"EndTime\": 1650177868.1967375, \"Dimensions\": {\"Algorithm\": \"Linear Learner\", \"Host\": \"algo-1\", \"Operation\": \"training\", \"epoch\": 1, \"model\": 11}, \"Metrics\": {\"validation_binary_classification_cross_entropy_objective\": {\"sum\": 0.49359222920179036, \"count\": 1, \"min\": 0.49359222920179036, \"max\": 0.49359222920179036}}}\u001b[0m\n",
            "\u001b[34m#metrics {\"StartTime\": 1650177868.1967926, \"EndTime\": 1650177868.196809, \"Dimensions\": {\"Algorithm\": \"Linear Learner\", \"Host\": \"algo-1\", \"Operation\": \"training\", \"epoch\": 1, \"model\": 12}, \"Metrics\": {\"validation_binary_classification_cross_entropy_objective\": {\"sum\": 0.4935672903143418, \"count\": 1, \"min\": 0.4935672903143418, \"max\": 0.4935672903143418}}}\u001b[0m\n",
            "\u001b[34m#metrics {\"StartTime\": 1650177868.1968625, \"EndTime\": 1650177868.196879, \"Dimensions\": {\"Algorithm\": \"Linear Learner\", \"Host\": \"algo-1\", \"Operation\": \"training\", \"epoch\": 1, \"model\": 13}, \"Metrics\": {\"validation_binary_classification_cross_entropy_objective\": {\"sum\": 0.5097941283981908, \"count\": 1, \"min\": 0.5097941283981908, \"max\": 0.5097941283981908}}}\u001b[0m\n",
            "\u001b[34m#metrics {\"StartTime\": 1650177868.196911, \"EndTime\": 1650177868.1969194, \"Dimensions\": {\"Algorithm\": \"Linear Learner\", \"Host\": \"algo-1\", \"Operation\": \"training\", \"epoch\": 1, \"model\": 14}, \"Metrics\": {\"validation_binary_classification_cross_entropy_objective\": {\"sum\": 0.49356731065205495, \"count\": 1, \"min\": 0.49356731065205495, \"max\": 0.49356731065205495}}}\u001b[0m\n",
            "\u001b[34m#metrics {\"StartTime\": 1650177868.196945, \"EndTime\": 1650177868.196952, \"Dimensions\": {\"Algorithm\": \"Linear Learner\", \"Host\": \"algo-1\", \"Operation\": \"training\", \"epoch\": 1, \"model\": 15}, \"Metrics\": {\"validation_binary_classification_cross_entropy_objective\": {\"sum\": 0.5097943539788801, \"count\": 1, \"min\": 0.5097943539788801, \"max\": 0.5097943539788801}}}\u001b[0m\n",
            "\u001b[34m#metrics {\"StartTime\": 1650177868.1969762, \"EndTime\": 1650177868.1969833, \"Dimensions\": {\"Algorithm\": \"Linear Learner\", \"Host\": \"algo-1\", \"Operation\": \"training\", \"epoch\": 1, \"model\": 16}, \"Metrics\": {\"validation_binary_classification_cross_entropy_objective\": {\"sum\": 0.5078030722571825, \"count\": 1, \"min\": 0.5078030722571825, \"max\": 0.5078030722571825}}}\u001b[0m\n",
            "\u001b[34m#metrics {\"StartTime\": 1650177868.1970263, \"EndTime\": 1650177868.1970417, \"Dimensions\": {\"Algorithm\": \"Linear Learner\", \"Host\": \"algo-1\", \"Operation\": \"training\", \"epoch\": 1, \"model\": 17}, \"Metrics\": {\"validation_binary_classification_cross_entropy_objective\": {\"sum\": 0.5084057932589979, \"count\": 1, \"min\": 0.5084057932589979, \"max\": 0.5084057932589979}}}\u001b[0m\n",
            "\u001b[34m#metrics {\"StartTime\": 1650177868.1970906, \"EndTime\": 1650177868.197106, \"Dimensions\": {\"Algorithm\": \"Linear Learner\", \"Host\": \"algo-1\", \"Operation\": \"training\", \"epoch\": 1, \"model\": 18}, \"Metrics\": {\"validation_binary_classification_cross_entropy_objective\": {\"sum\": 0.5078031383081039, \"count\": 1, \"min\": 0.5078031383081039, \"max\": 0.5078031383081039}}}\u001b[0m\n",
            "\u001b[34m#metrics {\"StartTime\": 1650177868.197141, \"EndTime\": 1650177868.1971498, \"Dimensions\": {\"Algorithm\": \"Linear Learner\", \"Host\": \"algo-1\", \"Operation\": \"training\", \"epoch\": 1, \"model\": 19}, \"Metrics\": {\"validation_binary_classification_cross_entropy_objective\": {\"sum\": 0.5084057275812456, \"count\": 1, \"min\": 0.5084057275812456, \"max\": 0.5084057275812456}}}\u001b[0m\n",
            "\u001b[34m#metrics {\"StartTime\": 1650177868.1971748, \"EndTime\": 1650177868.197182, \"Dimensions\": {\"Algorithm\": \"Linear Learner\", \"Host\": \"algo-1\", \"Operation\": \"training\", \"epoch\": 1, \"model\": 20}, \"Metrics\": {\"validation_binary_classification_cross_entropy_objective\": {\"sum\": 0.5082472281331536, \"count\": 1, \"min\": 0.5082472281331536, \"max\": 0.5082472281331536}}}\u001b[0m\n",
            "\u001b[34m#metrics {\"StartTime\": 1650177868.197206, \"EndTime\": 1650177868.1972132, \"Dimensions\": {\"Algorithm\": \"Linear Learner\", \"Host\": \"algo-1\", \"Operation\": \"training\", \"epoch\": 1, \"model\": 21}, \"Metrics\": {\"validation_binary_classification_cross_entropy_objective\": {\"sum\": 0.5109891142051091, \"count\": 1, \"min\": 0.5109891142051091, \"max\": 0.5109891142051091}}}\u001b[0m\n",
            "\u001b[34m#metrics {\"StartTime\": 1650177868.1972578, \"EndTime\": 1650177868.197273, \"Dimensions\": {\"Algorithm\": \"Linear Learner\", \"Host\": \"algo-1\", \"Operation\": \"training\", \"epoch\": 1, \"model\": 22}, \"Metrics\": {\"validation_binary_classification_cross_entropy_objective\": {\"sum\": 0.5082468825786155, \"count\": 1, \"min\": 0.5082468825786155, \"max\": 0.5082468825786155}}}\u001b[0m\n",
            "\u001b[34m#metrics {\"StartTime\": 1650177868.1973233, \"EndTime\": 1650177868.1973403, \"Dimensions\": {\"Algorithm\": \"Linear Learner\", \"Host\": \"algo-1\", \"Operation\": \"training\", \"epoch\": 1, \"model\": 23}, \"Metrics\": {\"validation_binary_classification_cross_entropy_objective\": {\"sum\": 0.5109842986451348, \"count\": 1, \"min\": 0.5109842986451348, \"max\": 0.5109842986451348}}}\u001b[0m\n",
            "\u001b[34m#metrics {\"StartTime\": 1650177868.197391, \"EndTime\": 1650177868.197406, \"Dimensions\": {\"Algorithm\": \"Linear Learner\", \"Host\": \"algo-1\", \"Operation\": \"training\", \"epoch\": 1, \"model\": 24}, \"Metrics\": {\"validation_binary_classification_cross_entropy_objective\": {\"sum\": 0.5137555876392703, \"count\": 1, \"min\": 0.5137555876392703, \"max\": 0.5137555876392703}}}\u001b[0m\n",
            "\u001b[34m#metrics {\"StartTime\": 1650177868.197458, \"EndTime\": 1650177868.1974738, \"Dimensions\": {\"Algorithm\": \"Linear Learner\", \"Host\": \"algo-1\", \"Operation\": \"training\", \"epoch\": 1, \"model\": 25}, \"Metrics\": {\"validation_binary_classification_cross_entropy_objective\": {\"sum\": 0.5145947373545489, \"count\": 1, \"min\": 0.5145947373545489, \"max\": 0.5145947373545489}}}\u001b[0m\n",
            "\u001b[34m#metrics {\"StartTime\": 1650177868.197524, \"EndTime\": 1650177868.1975389, \"Dimensions\": {\"Algorithm\": \"Linear Learner\", \"Host\": \"algo-1\", \"Operation\": \"training\", \"epoch\": 1, \"model\": 26}, \"Metrics\": {\"validation_binary_classification_cross_entropy_objective\": {\"sum\": 0.5137675603949922, \"count\": 1, \"min\": 0.5137675603949922, \"max\": 0.5137675603949922}}}\u001b[0m\n",
            "\u001b[34m#metrics {\"StartTime\": 1650177868.1975963, \"EndTime\": 1650177868.1976132, \"Dimensions\": {\"Algorithm\": \"Linear Learner\", \"Host\": \"algo-1\", \"Operation\": \"training\", \"epoch\": 1, \"model\": 27}, \"Metrics\": {\"validation_binary_classification_cross_entropy_objective\": {\"sum\": 0.5145961007276642, \"count\": 1, \"min\": 0.5145961007276642, \"max\": 0.5145961007276642}}}\u001b[0m\n",
            "\u001b[34m#metrics {\"StartTime\": 1650177868.1976674, \"EndTime\": 1650177868.1976826, \"Dimensions\": {\"Algorithm\": \"Linear Learner\", \"Host\": \"algo-1\", \"Operation\": \"training\", \"epoch\": 1, \"model\": 28}, \"Metrics\": {\"validation_binary_classification_cross_entropy_objective\": {\"sum\": 0.5140133104980943, \"count\": 1, \"min\": 0.5140133104980943, \"max\": 0.5140133104980943}}}\u001b[0m\n",
            "\u001b[34m#metrics {\"StartTime\": 1650177868.197737, \"EndTime\": 1650177868.1977522, \"Dimensions\": {\"Algorithm\": \"Linear Learner\", \"Host\": \"algo-1\", \"Operation\": \"training\", \"epoch\": 1, \"model\": 29}, \"Metrics\": {\"validation_binary_classification_cross_entropy_objective\": {\"sum\": 0.5136882601065403, \"count\": 1, \"min\": 0.5136882601065403, \"max\": 0.5136882601065403}}}\u001b[0m\n",
            "\u001b[34m#metrics {\"StartTime\": 1650177868.197806, \"EndTime\": 1650177868.197821, \"Dimensions\": {\"Algorithm\": \"Linear Learner\", \"Host\": \"algo-1\", \"Operation\": \"training\", \"epoch\": 1, \"model\": 30}, \"Metrics\": {\"validation_binary_classification_cross_entropy_objective\": {\"sum\": 0.5139818376072076, \"count\": 1, \"min\": 0.5139818376072076, \"max\": 0.5139818376072076}}}\u001b[0m\n",
            "\u001b[34m#metrics {\"StartTime\": 1650177868.1978846, \"EndTime\": 1650177868.1979027, \"Dimensions\": {\"Algorithm\": \"Linear Learner\", \"Host\": \"algo-1\", \"Operation\": \"training\", \"epoch\": 1, \"model\": 31}, \"Metrics\": {\"validation_binary_classification_cross_entropy_objective\": {\"sum\": 0.5136822263362103, \"count\": 1, \"min\": 0.5136822263362103, \"max\": 0.5136822263362103}}}\u001b[0m\n",
            "\u001b[34m[04/17/2022 06:44:28 INFO 140392468272960] #quality_metric: host=algo-1, epoch=1, validation binary_classification_cross_entropy_objective <loss>=0.49170892245132825\u001b[0m\n",
            "\u001b[34m[04/17/2022 06:44:28 INFO 140392468272960] #early_stopping_criteria_metric: host=algo-1, epoch=1, criteria=binary_classification_cross_entropy_objective, value=0.4917070812352476\u001b[0m\n",
            "\u001b[34m[04/17/2022 06:44:28 INFO 140392468272960] Saving model for epoch: 1\u001b[0m\n",
            "\u001b[34m[04/17/2022 06:44:28 INFO 140392468272960] Saved checkpoint to \"/tmp/tmp2w7mnvjd/mx-mod-0000.params\"\u001b[0m\n",
            "\u001b[34m[04/17/2022 06:44:28 INFO 140392468272960] #progress_metric: host=algo-1, completed 13.333333333333334 % of epochs\u001b[0m\n",
            "\u001b[34m#metrics {\"StartTime\": 1650177807.4333453, \"EndTime\": 1650177868.204988, \"Dimensions\": {\"Algorithm\": \"Linear Learner\", \"Host\": \"algo-1\", \"Operation\": \"training\", \"epoch\": 1, \"Meta\": \"training_data_iter\"}, \"Metrics\": {\"Total Records Seen\": {\"sum\": 2628944.0, \"count\": 1, \"min\": 2628944, \"max\": 2628944}, \"Total Batches Seen\": {\"sum\": 2630.0, \"count\": 1, \"min\": 2630, \"max\": 2630}, \"Max Records Seen Between Resets\": {\"sum\": 1308472.0, \"count\": 1, \"min\": 1308472, \"max\": 1308472}, \"Max Batches Seen Between Resets\": {\"sum\": 1309.0, \"count\": 1, \"min\": 1309, \"max\": 1309}, \"Reset Count\": {\"sum\": 4.0, \"count\": 1, \"min\": 4, \"max\": 4}, \"Number of Records Since Last Reset\": {\"sum\": 1308472.0, \"count\": 1, \"min\": 1308472, \"max\": 1308472}, \"Number of Batches Since Last Reset\": {\"sum\": 1309.0, \"count\": 1, \"min\": 1309, \"max\": 1309}}}\u001b[0m\n",
            "\u001b[34m[04/17/2022 06:44:28 INFO 140392468272960] #throughput_metric: host=algo-1, train throughput=21530.92346209372 records/second\u001b[0m\n",
            "\u001b[34m[2022-04-17 06:45:24.693] [tensorio] [info] epoch_stats={\"data_pipeline\": \"/opt/ml/input/data/train\", \"epoch\": 7, \"duration\": 56478, \"num_examples\": 1309, \"num_bytes\": 554792128}\u001b[0m\n",
            "\u001b[34m#metrics {\"StartTime\": 1650177924.693979, \"EndTime\": 1650177924.694081, \"Dimensions\": {\"Algorithm\": \"Linear Learner\", \"Host\": \"algo-1\", \"Operation\": \"training\", \"epoch\": 2, \"model\": 0}, \"Metrics\": {\"train_binary_classification_cross_entropy_objective\": {\"sum\": 0.4920542363858004, \"count\": 1, \"min\": 0.4920542363858004, \"max\": 0.4920542363858004}}}\u001b[0m\n",
            "\u001b[34m#metrics {\"StartTime\": 1650177924.6941814, \"EndTime\": 1650177924.6942055, \"Dimensions\": {\"Algorithm\": \"Linear Learner\", \"Host\": \"algo-1\", \"Operation\": \"training\", \"epoch\": 2, \"model\": 1}, \"Metrics\": {\"train_binary_classification_cross_entropy_objective\": {\"sum\": 0.49310602777230267, \"count\": 1, \"min\": 0.49310602777230267, \"max\": 0.49310602777230267}}}\u001b[0m\n",
            "\u001b[34m#metrics {\"StartTime\": 1650177924.694271, \"EndTime\": 1650177924.6942894, \"Dimensions\": {\"Algorithm\": \"Linear Learner\", \"Host\": \"algo-1\", \"Operation\": \"training\", \"epoch\": 2, \"model\": 2}, \"Metrics\": {\"train_binary_classification_cross_entropy_objective\": {\"sum\": 0.4920544934753978, \"count\": 1, \"min\": 0.4920544934753978, \"max\": 0.4920544934753978}}}\u001b[0m\n",
            "\u001b[34m#metrics {\"StartTime\": 1650177924.6943476, \"EndTime\": 1650177924.694366, \"Dimensions\": {\"Algorithm\": \"Linear Learner\", \"Host\": \"algo-1\", \"Operation\": \"training\", \"epoch\": 2, \"model\": 3}, \"Metrics\": {\"train_binary_classification_cross_entropy_objective\": {\"sum\": 0.49310680811704116, \"count\": 1, \"min\": 0.49310680811704116, \"max\": 0.49310680811704116}}}\u001b[0m\n",
            "\u001b[34m#metrics {\"StartTime\": 1650177924.694424, \"EndTime\": 1650177924.6944404, \"Dimensions\": {\"Algorithm\": \"Linear Learner\", \"Host\": \"algo-1\", \"Operation\": \"training\", \"epoch\": 2, \"model\": 4}, \"Metrics\": {\"train_binary_classification_cross_entropy_objective\": {\"sum\": 0.49319869080523104, \"count\": 1, \"min\": 0.49319869080523104, \"max\": 0.49319869080523104}}}\u001b[0m\n",
            "\u001b[34m#metrics {\"StartTime\": 1650177924.6944964, \"EndTime\": 1650177924.6945655, \"Dimensions\": {\"Algorithm\": \"Linear Learner\", \"Host\": \"algo-1\", \"Operation\": \"training\", \"epoch\": 2, \"model\": 5}, \"Metrics\": {\"train_binary_classification_cross_entropy_objective\": {\"sum\": 0.5116296230631137, \"count\": 1, \"min\": 0.5116296230631137, \"max\": 0.5116296230631137}}}\u001b[0m\n",
            "\u001b[34m#metrics {\"StartTime\": 1650177924.6946309, \"EndTime\": 1650177924.6946487, \"Dimensions\": {\"Algorithm\": \"Linear Learner\", \"Host\": \"algo-1\", \"Operation\": \"training\", \"epoch\": 2, \"model\": 6}, \"Metrics\": {\"train_binary_classification_cross_entropy_objective\": {\"sum\": 0.4931986335731063, \"count\": 1, \"min\": 0.4931986335731063, \"max\": 0.4931986335731063}}}\u001b[0m\n",
            "\u001b[34m#metrics {\"StartTime\": 1650177924.6947055, \"EndTime\": 1650177924.6947217, \"Dimensions\": {\"Algorithm\": \"Linear Learner\", \"Host\": \"algo-1\", \"Operation\": \"training\", \"epoch\": 2, \"model\": 7}, \"Metrics\": {\"train_binary_classification_cross_entropy_objective\": {\"sum\": 0.5116096247635121, \"count\": 1, \"min\": 0.5116096247635121, \"max\": 0.5116096247635121}}}\u001b[0m\n",
            "\u001b[34m#metrics {\"StartTime\": 1650177924.6947768, \"EndTime\": 1650177924.694794, \"Dimensions\": {\"Algorithm\": \"Linear Learner\", \"Host\": \"algo-1\", \"Operation\": \"training\", \"epoch\": 2, \"model\": 8}, \"Metrics\": {\"train_binary_classification_cross_entropy_objective\": {\"sum\": 0.49225121412364714, \"count\": 1, \"min\": 0.49225121412364714, \"max\": 0.49225121412364714}}}\u001b[0m\n",
            "\u001b[34m#metrics {\"StartTime\": 1650177924.6948857, \"EndTime\": 1650177924.694904, \"Dimensions\": {\"Algorithm\": \"Linear Learner\", \"Host\": \"algo-1\", \"Operation\": \"training\", \"epoch\": 2, \"model\": 9}, \"Metrics\": {\"train_binary_classification_cross_entropy_objective\": {\"sum\": 0.4932534245015649, \"count\": 1, \"min\": 0.4932534245015649, \"max\": 0.4932534245015649}}}\u001b[0m\n",
            "\u001b[34m#metrics {\"StartTime\": 1650177924.6949599, \"EndTime\": 1650177924.6949768, \"Dimensions\": {\"Algorithm\": \"Linear Learner\", \"Host\": \"algo-1\", \"Operation\": \"training\", \"epoch\": 2, \"model\": 10}, \"Metrics\": {\"train_binary_classification_cross_entropy_objective\": {\"sum\": 0.49225161563511655, \"count\": 1, \"min\": 0.49225161563511655, \"max\": 0.49225161563511655}}}\u001b[0m\n",
            "\u001b[34m#metrics {\"StartTime\": 1650177924.695035, \"EndTime\": 1650177924.6950517, \"Dimensions\": {\"Algorithm\": \"Linear Learner\", \"Host\": \"algo-1\", \"Operation\": \"training\", \"epoch\": 2, \"model\": 11}, \"Metrics\": {\"train_binary_classification_cross_entropy_objective\": {\"sum\": 0.4932534416968669, \"count\": 1, \"min\": 0.4932534416968669, \"max\": 0.4932534416968669}}}\u001b[0m\n",
            "\u001b[34m#metrics {\"StartTime\": 1650177924.6951058, \"EndTime\": 1650177924.695122, \"Dimensions\": {\"Algorithm\": \"Linear Learner\", \"Host\": \"algo-1\", \"Operation\": \"training\", \"epoch\": 2, \"model\": 12}, \"Metrics\": {\"train_binary_classification_cross_entropy_objective\": {\"sum\": 0.49333934144652947, \"count\": 1, \"min\": 0.49333934144652947, \"max\": 0.49333934144652947}}}\u001b[0m\n",
            "\u001b[34m#metrics {\"StartTime\": 1650177924.6951761, \"EndTime\": 1650177924.6951933, \"Dimensions\": {\"Algorithm\": \"Linear Learner\", \"Host\": \"algo-1\", \"Operation\": \"training\", \"epoch\": 2, \"model\": 13}, \"Metrics\": {\"train_binary_classification_cross_entropy_objective\": {\"sum\": 0.5104643840731466, \"count\": 1, \"min\": 0.5104643840731466, \"max\": 0.5104643840731466}}}\u001b[0m\n",
            "\u001b[34m#metrics {\"StartTime\": 1650177924.6952474, \"EndTime\": 1650177924.6952646, \"Dimensions\": {\"Algorithm\": \"Linear Learner\", \"Host\": \"algo-1\", \"Operation\": \"training\", \"epoch\": 2, \"model\": 14}, \"Metrics\": {\"train_binary_classification_cross_entropy_objective\": {\"sum\": 0.49333925047708216, \"count\": 1, \"min\": 0.49333925047708216, \"max\": 0.49333925047708216}}}\u001b[0m\n",
            "\u001b[34m#metrics {\"StartTime\": 1650177924.6953208, \"EndTime\": 1650177924.695338, \"Dimensions\": {\"Algorithm\": \"Linear Learner\", \"Host\": \"algo-1\", \"Operation\": \"training\", \"epoch\": 2, \"model\": 15}, \"Metrics\": {\"train_binary_classification_cross_entropy_objective\": {\"sum\": 0.5104646035990584, \"count\": 1, \"min\": 0.5104646035990584, \"max\": 0.5104646035990584}}}\u001b[0m\n",
            "\u001b[34m#metrics {\"StartTime\": 1650177924.695392, \"EndTime\": 1650177924.695408, \"Dimensions\": {\"Algorithm\": \"Linear Learner\", \"Host\": \"algo-1\", \"Operation\": \"training\", \"epoch\": 2, \"model\": 16}, \"Metrics\": {\"train_binary_classification_cross_entropy_objective\": {\"sum\": 0.507795265687715, \"count\": 1, \"min\": 0.507795265687715, \"max\": 0.507795265687715}}}\u001b[0m\n",
            "\u001b[34m#metrics {\"StartTime\": 1650177924.6954606, \"EndTime\": 1650177924.6954775, \"Dimensions\": {\"Algorithm\": \"Linear Learner\", \"Host\": \"algo-1\", \"Operation\": \"training\", \"epoch\": 2, \"model\": 17}, \"Metrics\": {\"train_binary_classification_cross_entropy_objective\": {\"sum\": 0.5080414122368582, \"count\": 1, \"min\": 0.5080414122368582, \"max\": 0.5080414122368582}}}\u001b[0m\n",
            "\u001b[34m#metrics {\"StartTime\": 1650177924.695532, \"EndTime\": 1650177924.6955495, \"Dimensions\": {\"Algorithm\": \"Linear Learner\", \"Host\": \"algo-1\", \"Operation\": \"training\", \"epoch\": 2, \"model\": 18}, \"Metrics\": {\"train_binary_classification_cross_entropy_objective\": {\"sum\": 0.5077952426128796, \"count\": 1, \"min\": 0.5077952426128796, \"max\": 0.5077952426128796}}}\u001b[0m\n",
            "\u001b[34m#metrics {\"StartTime\": 1650177924.6956205, \"EndTime\": 1650177924.6956377, \"Dimensions\": {\"Algorithm\": \"Linear Learner\", \"Host\": \"algo-1\", \"Operation\": \"training\", \"epoch\": 2, \"model\": 19}, \"Metrics\": {\"train_binary_classification_cross_entropy_objective\": {\"sum\": 0.5080414210794898, \"count\": 1, \"min\": 0.5080414210794898, \"max\": 0.5080414210794898}}}\u001b[0m\n",
            "\u001b[34m#metrics {\"StartTime\": 1650177924.6956973, \"EndTime\": 1650177924.6957152, \"Dimensions\": {\"Algorithm\": \"Linear Learner\", \"Host\": \"algo-1\", \"Operation\": \"training\", \"epoch\": 2, \"model\": 20}, \"Metrics\": {\"train_binary_classification_cross_entropy_objective\": {\"sum\": 0.5080365543890437, \"count\": 1, \"min\": 0.5080365543890437, \"max\": 0.5080365543890437}}}\u001b[0m\n",
            "\u001b[34m#metrics {\"StartTime\": 1650177924.6957772, \"EndTime\": 1650177924.6957955, \"Dimensions\": {\"Algorithm\": \"Linear Learner\", \"Host\": \"algo-1\", \"Operation\": \"training\", \"epoch\": 2, \"model\": 21}, \"Metrics\": {\"train_binary_classification_cross_entropy_objective\": {\"sum\": 0.5112997659572402, \"count\": 1, \"min\": 0.5112997659572402, \"max\": 0.5112997659572402}}}\u001b[0m\n",
            "\u001b[34m#metrics {\"StartTime\": 1650177924.6958477, \"EndTime\": 1650177924.6958637, \"Dimensions\": {\"Algorithm\": \"Linear Learner\", \"Host\": \"algo-1\", \"Operation\": \"training\", \"epoch\": 2, \"model\": 22}, \"Metrics\": {\"train_binary_classification_cross_entropy_objective\": {\"sum\": 0.5080365461530306, \"count\": 1, \"min\": 0.5080365461530306, \"max\": 0.5080365461530306}}}\u001b[0m\n",
            "\u001b[34m#metrics {\"StartTime\": 1650177924.6959157, \"EndTime\": 1650177924.6959321, \"Dimensions\": {\"Algorithm\": \"Linear Learner\", \"Host\": \"algo-1\", \"Operation\": \"training\", \"epoch\": 2, \"model\": 23}, \"Metrics\": {\"train_binary_classification_cross_entropy_objective\": {\"sum\": 0.5112999028663752, \"count\": 1, \"min\": 0.5112999028663752, \"max\": 0.5112999028663752}}}\u001b[0m\n",
            "\u001b[34m#metrics {\"StartTime\": 1650177924.6959956, \"EndTime\": 1650177924.696012, \"Dimensions\": {\"Algorithm\": \"Linear Learner\", \"Host\": \"algo-1\", \"Operation\": \"training\", \"epoch\": 2, \"model\": 24}, \"Metrics\": {\"train_binary_classification_cross_entropy_objective\": {\"sum\": 0.5137731018999665, \"count\": 1, \"min\": 0.5137731018999665, \"max\": 0.5137731018999665}}}\u001b[0m\n",
            "\u001b[34m#metrics {\"StartTime\": 1650177924.6960714, \"EndTime\": 1650177924.6960878, \"Dimensions\": {\"Algorithm\": \"Linear Learner\", \"Host\": \"algo-1\", \"Operation\": \"training\", \"epoch\": 2, \"model\": 25}, \"Metrics\": {\"train_binary_classification_cross_entropy_objective\": {\"sum\": 0.5138807877240196, \"count\": 1, \"min\": 0.5138807877240196, \"max\": 0.5138807877240196}}}\u001b[0m\n",
            "\u001b[34m#metrics {\"StartTime\": 1650177924.6961458, \"EndTime\": 1650177924.6961622, \"Dimensions\": {\"Algorithm\": \"Linear Learner\", \"Host\": \"algo-1\", \"Operation\": \"training\", \"epoch\": 2, \"model\": 26}, \"Metrics\": {\"train_binary_classification_cross_entropy_objective\": {\"sum\": 0.5137730311122509, \"count\": 1, \"min\": 0.5137730311122509, \"max\": 0.5137730311122509}}}\u001b[0m\n",
            "\u001b[34m#metrics {\"StartTime\": 1650177924.6962106, \"EndTime\": 1650177924.696227, \"Dimensions\": {\"Algorithm\": \"Linear Learner\", \"Host\": \"algo-1\", \"Operation\": \"training\", \"epoch\": 2, \"model\": 27}, \"Metrics\": {\"train_binary_classification_cross_entropy_objective\": {\"sum\": 0.5138817438248101, \"count\": 1, \"min\": 0.5138817438248101, \"max\": 0.5138817438248101}}}\u001b[0m\n",
            "\u001b[34m#metrics {\"StartTime\": 1650177924.6962814, \"EndTime\": 1650177924.6962974, \"Dimensions\": {\"Algorithm\": \"Linear Learner\", \"Host\": \"algo-1\", \"Operation\": \"training\", \"epoch\": 2, \"model\": 28}, \"Metrics\": {\"train_binary_classification_cross_entropy_objective\": {\"sum\": 0.5138752593060881, \"count\": 1, \"min\": 0.5138752593060881, \"max\": 0.5138752593060881}}}\u001b[0m\n",
            "\u001b[34m#metrics {\"StartTime\": 1650177924.6963432, \"EndTime\": 1650177924.6963594, \"Dimensions\": {\"Algorithm\": \"Linear Learner\", \"Host\": \"algo-1\", \"Operation\": \"training\", \"epoch\": 2, \"model\": 29}, \"Metrics\": {\"train_binary_classification_cross_entropy_objective\": {\"sum\": 0.5150706260984461, \"count\": 1, \"min\": 0.5150706260984461, \"max\": 0.5150706260984461}}}\u001b[0m\n",
            "\u001b[34m#metrics {\"StartTime\": 1650177924.6964135, \"EndTime\": 1650177924.6964304, \"Dimensions\": {\"Algorithm\": \"Linear Learner\", \"Host\": \"algo-1\", \"Operation\": \"training\", \"epoch\": 2, \"model\": 30}, \"Metrics\": {\"train_binary_classification_cross_entropy_objective\": {\"sum\": 0.5138751615471796, \"count\": 1, \"min\": 0.5138751615471796, \"max\": 0.5138751615471796}}}\u001b[0m\n",
            "\u001b[34m#metrics {\"StartTime\": 1650177924.6964824, \"EndTime\": 1650177924.6964986, \"Dimensions\": {\"Algorithm\": \"Linear Learner\", \"Host\": \"algo-1\", \"Operation\": \"training\", \"epoch\": 2, \"model\": 31}, \"Metrics\": {\"train_binary_classification_cross_entropy_objective\": {\"sum\": 0.5150713638165675, \"count\": 1, \"min\": 0.5150713638165675, \"max\": 0.5150713638165675}}}\u001b[0m\n",
            "\u001b[34m[04/17/2022 06:45:24 INFO 140392468272960] #quality_metric: host=algo-1, epoch=2, train binary_classification_cross_entropy_objective <loss>=0.4920542363858004\u001b[0m\n",
            "\u001b[34m[2022-04-17 06:45:29.623] [tensorio] [info] epoch_stats={\"data_pipeline\": \"/opt/ml/input/data/validation\", \"epoch\": 8, \"duration\": 4895, \"num_examples\": 164, \"num_bytes\": 69349016}\u001b[0m\n",
            "\u001b[34m#metrics {\"StartTime\": 1650177929.6321733, \"EndTime\": 1650177929.632237, \"Dimensions\": {\"Algorithm\": \"Linear Learner\", \"Host\": \"algo-1\", \"Operation\": \"training\", \"epoch\": 2, \"model\": 0}, \"Metrics\": {\"validation_binary_classification_cross_entropy_objective\": {\"sum\": 0.4916128866506004, \"count\": 1, \"min\": 0.4916128866506004, \"max\": 0.4916128866506004}}}\u001b[0m\n",
            "\u001b[34m#metrics {\"StartTime\": 1650177929.6323402, \"EndTime\": 1650177929.6323564, \"Dimensions\": {\"Algorithm\": \"Linear Learner\", \"Host\": \"algo-1\", \"Operation\": \"training\", \"epoch\": 2, \"model\": 1}, \"Metrics\": {\"validation_binary_classification_cross_entropy_objective\": {\"sum\": 0.49324228488965804, \"count\": 1, \"min\": 0.49324228488965804, \"max\": 0.49324228488965804}}}\u001b[0m\n",
            "\u001b[34m#metrics {\"StartTime\": 1650177929.632424, \"EndTime\": 1650177929.632444, \"Dimensions\": {\"Algorithm\": \"Linear Learner\", \"Host\": \"algo-1\", \"Operation\": \"training\", \"epoch\": 2, \"model\": 2}, \"Metrics\": {\"validation_binary_classification_cross_entropy_objective\": {\"sum\": 0.49161132344546016, \"count\": 1, \"min\": 0.49161132344546016, \"max\": 0.49161132344546016}}}\u001b[0m\n",
            "\u001b[34m#metrics {\"StartTime\": 1650177929.6325045, \"EndTime\": 1650177929.632523, \"Dimensions\": {\"Algorithm\": \"Linear Learner\", \"Host\": \"algo-1\", \"Operation\": \"training\", \"epoch\": 2, \"model\": 3}, \"Metrics\": {\"validation_binary_classification_cross_entropy_objective\": {\"sum\": 0.49324226007391636, \"count\": 1, \"min\": 0.49324226007391636, \"max\": 0.49324226007391636}}}\u001b[0m\n",
            "\u001b[34m#metrics {\"StartTime\": 1650177929.6325786, \"EndTime\": 1650177929.6325958, \"Dimensions\": {\"Algorithm\": \"Linear Learner\", \"Host\": \"algo-1\", \"Operation\": \"training\", \"epoch\": 2, \"model\": 4}, \"Metrics\": {\"validation_binary_classification_cross_entropy_objective\": {\"sum\": 0.4924531084805526, \"count\": 1, \"min\": 0.4924531084805526, \"max\": 0.4924531084805526}}}\u001b[0m\n",
            "\u001b[34m#metrics {\"StartTime\": 1650177929.632649, \"EndTime\": 1650177929.6326652, \"Dimensions\": {\"Algorithm\": \"Linear Learner\", \"Host\": \"algo-1\", \"Operation\": \"training\", \"epoch\": 2, \"model\": 5}, \"Metrics\": {\"validation_binary_classification_cross_entropy_objective\": {\"sum\": 0.5099791030707, \"count\": 1, \"min\": 0.5099791030707, \"max\": 0.5099791030707}}}\u001b[0m\n",
            "\u001b[34m#metrics {\"StartTime\": 1650177929.6327188, \"EndTime\": 1650177929.6327353, \"Dimensions\": {\"Algorithm\": \"Linear Learner\", \"Host\": \"algo-1\", \"Operation\": \"training\", \"epoch\": 2, \"model\": 6}, \"Metrics\": {\"validation_binary_classification_cross_entropy_objective\": {\"sum\": 0.4924530970988967, \"count\": 1, \"min\": 0.4924530970988967, \"max\": 0.4924530970988967}}}\u001b[0m\n",
            "\u001b[34m#metrics {\"StartTime\": 1650177929.6328003, \"EndTime\": 1650177929.6328185, \"Dimensions\": {\"Algorithm\": \"Linear Learner\", \"Host\": \"algo-1\", \"Operation\": \"training\", \"epoch\": 2, \"model\": 7}, \"Metrics\": {\"validation_binary_classification_cross_entropy_objective\": {\"sum\": 0.5101282690011589, \"count\": 1, \"min\": 0.5101282690011589, \"max\": 0.5101282690011589}}}\u001b[0m\n",
            "\u001b[34m#metrics {\"StartTime\": 1650177929.6328835, \"EndTime\": 1650177929.6329021, \"Dimensions\": {\"Algorithm\": \"Linear Learner\", \"Host\": \"algo-1\", \"Operation\": \"training\", \"epoch\": 2, \"model\": 8}, \"Metrics\": {\"validation_binary_classification_cross_entropy_objective\": {\"sum\": 0.49189231600658295, \"count\": 1, \"min\": 0.49189231600658295, \"max\": 0.49189231600658295}}}\u001b[0m\n",
            "\u001b[34m#metrics {\"StartTime\": 1650177929.6329672, \"EndTime\": 1650177929.6329842, \"Dimensions\": {\"Algorithm\": \"Linear Learner\", \"Host\": \"algo-1\", \"Operation\": \"training\", \"epoch\": 2, \"model\": 9}, \"Metrics\": {\"validation_binary_classification_cross_entropy_objective\": {\"sum\": 0.4934737678071493, \"count\": 1, \"min\": 0.4934737678071493, \"max\": 0.4934737678071493}}}\u001b[0m\n",
            "\u001b[34m#metrics {\"StartTime\": 1650177929.6330404, \"EndTime\": 1650177929.6330562, \"Dimensions\": {\"Algorithm\": \"Linear Learner\", \"Host\": \"algo-1\", \"Operation\": \"training\", \"epoch\": 2, \"model\": 10}, \"Metrics\": {\"validation_binary_classification_cross_entropy_objective\": {\"sum\": 0.49189264887337336, \"count\": 1, \"min\": 0.49189264887337336, \"max\": 0.49189264887337336}}}\u001b[0m\n",
            "\u001b[34m#metrics {\"StartTime\": 1650177929.6331105, \"EndTime\": 1650177929.6331272, \"Dimensions\": {\"Algorithm\": \"Linear Learner\", \"Host\": \"algo-1\", \"Operation\": \"training\", \"epoch\": 2, \"model\": 11}, \"Metrics\": {\"validation_binary_classification_cross_entropy_objective\": {\"sum\": 0.4934737982204267, \"count\": 1, \"min\": 0.4934737982204267, \"max\": 0.4934737982204267}}}\u001b[0m\n",
            "\u001b[34m#metrics {\"StartTime\": 1650177929.633182, \"EndTime\": 1650177929.6331983, \"Dimensions\": {\"Algorithm\": \"Linear Learner\", \"Host\": \"algo-1\", \"Operation\": \"training\", \"epoch\": 2, \"model\": 12}, \"Metrics\": {\"validation_binary_classification_cross_entropy_objective\": {\"sum\": 0.4927099702517994, \"count\": 1, \"min\": 0.4927099702517994, \"max\": 0.4927099702517994}}}\u001b[0m\n",
            "\u001b[34m#metrics {\"StartTime\": 1650177929.6332529, \"EndTime\": 1650177929.6332686, \"Dimensions\": {\"Algorithm\": \"Linear Learner\", \"Host\": \"algo-1\", \"Operation\": \"training\", \"epoch\": 2, \"model\": 13}, \"Metrics\": {\"validation_binary_classification_cross_entropy_objective\": {\"sum\": 0.5088498987571477, \"count\": 1, \"min\": 0.5088498987571477, \"max\": 0.5088498987571477}}}\u001b[0m\n",
            "\u001b[34m#metrics {\"StartTime\": 1650177929.6333234, \"EndTime\": 1650177929.63334, \"Dimensions\": {\"Algorithm\": \"Linear Learner\", \"Host\": \"algo-1\", \"Operation\": \"training\", \"epoch\": 2, \"model\": 14}, \"Metrics\": {\"validation_binary_classification_cross_entropy_objective\": {\"sum\": 0.492709919873978, \"count\": 1, \"min\": 0.492709919873978, \"max\": 0.492709919873978}}}\u001b[0m\n",
            "\u001b[34m#metrics {\"StartTime\": 1650177929.6333947, \"EndTime\": 1650177929.6334102, \"Dimensions\": {\"Algorithm\": \"Linear Learner\", \"Host\": \"algo-1\", \"Operation\": \"training\", \"epoch\": 2, \"model\": 15}, \"Metrics\": {\"validation_binary_classification_cross_entropy_objective\": {\"sum\": 0.508849740346887, \"count\": 1, \"min\": 0.508849740346887, \"max\": 0.508849740346887}}}\u001b[0m\n",
            "\u001b[34m#metrics {\"StartTime\": 1650177929.633464, \"EndTime\": 1650177929.6334796, \"Dimensions\": {\"Algorithm\": \"Linear Learner\", \"Host\": \"algo-1\", \"Operation\": \"training\", \"epoch\": 2, \"model\": 16}, \"Metrics\": {\"validation_binary_classification_cross_entropy_objective\": {\"sum\": 0.5077991289798568, \"count\": 1, \"min\": 0.5077991289798568, \"max\": 0.5077991289798568}}}\u001b[0m\n",
            "\u001b[34m#metrics {\"StartTime\": 1650177929.6335409, \"EndTime\": 1650177929.633558, \"Dimensions\": {\"Algorithm\": \"Linear Learner\", \"Host\": \"algo-1\", \"Operation\": \"training\", \"epoch\": 2, \"model\": 17}, \"Metrics\": {\"validation_binary_classification_cross_entropy_objective\": {\"sum\": 0.5082747756588291, \"count\": 1, \"min\": 0.5082747756588291, \"max\": 0.5082747756588291}}}\u001b[0m\n",
            "\u001b[34m#metrics {\"StartTime\": 1650177929.633623, \"EndTime\": 1650177929.6336405, \"Dimensions\": {\"Algorithm\": \"Linear Learner\", \"Host\": \"algo-1\", \"Operation\": \"training\", \"epoch\": 2, \"model\": 18}, \"Metrics\": {\"validation_binary_classification_cross_entropy_objective\": {\"sum\": 0.5077990035950569, \"count\": 1, \"min\": 0.5077990035950569, \"max\": 0.5077990035950569}}}\u001b[0m\n",
            "\u001b[34m#metrics {\"StartTime\": 1650177929.6336992, \"EndTime\": 1650177929.633716, \"Dimensions\": {\"Algorithm\": \"Linear Learner\", \"Host\": \"algo-1\", \"Operation\": \"training\", \"epoch\": 2, \"model\": 19}, \"Metrics\": {\"validation_binary_classification_cross_entropy_objective\": {\"sum\": 0.508274767075941, \"count\": 1, \"min\": 0.508274767075941, \"max\": 0.508274767075941}}}\u001b[0m\n",
            "\u001b[34m#metrics {\"StartTime\": 1650177929.633773, \"EndTime\": 1650177929.6337893, \"Dimensions\": {\"Algorithm\": \"Linear Learner\", \"Host\": \"algo-1\", \"Operation\": \"training\", \"epoch\": 2, \"model\": 20}, \"Metrics\": {\"validation_binary_classification_cross_entropy_objective\": {\"sum\": 0.5077655842544181, \"count\": 1, \"min\": 0.5077655842544181, \"max\": 0.5077655842544181}}}\u001b[0m\n",
            "\u001b[34m#metrics {\"StartTime\": 1650177929.6338437, \"EndTime\": 1650177929.6338592, \"Dimensions\": {\"Algorithm\": \"Linear Learner\", \"Host\": \"algo-1\", \"Operation\": \"training\", \"epoch\": 2, \"model\": 21}, \"Metrics\": {\"validation_binary_classification_cross_entropy_objective\": {\"sum\": 0.5100804276097545, \"count\": 1, \"min\": 0.5100804276097545, \"max\": 0.5100804276097545}}}\u001b[0m\n",
            "\u001b[34m#metrics {\"StartTime\": 1650177929.6339116, \"EndTime\": 1650177929.6339285, \"Dimensions\": {\"Algorithm\": \"Linear Learner\", \"Host\": \"algo-1\", \"Operation\": \"training\", \"epoch\": 2, \"model\": 22}, \"Metrics\": {\"validation_binary_classification_cross_entropy_objective\": {\"sum\": 0.507765568581318, \"count\": 1, \"min\": 0.507765568581318, \"max\": 0.507765568581318}}}\u001b[0m\n",
            "\u001b[34m#metrics {\"StartTime\": 1650177929.6339812, \"EndTime\": 1650177929.6339982, \"Dimensions\": {\"Algorithm\": \"Linear Learner\", \"Host\": \"algo-1\", \"Operation\": \"training\", \"epoch\": 2, \"model\": 23}, \"Metrics\": {\"validation_binary_classification_cross_entropy_objective\": {\"sum\": 0.510079874573226, \"count\": 1, \"min\": 0.510079874573226, \"max\": 0.510079874573226}}}\u001b[0m\n",
            "\u001b[34m#metrics {\"StartTime\": 1650177929.6340506, \"EndTime\": 1650177929.634066, \"Dimensions\": {\"Algorithm\": \"Linear Learner\", \"Host\": \"algo-1\", \"Operation\": \"training\", \"epoch\": 2, \"model\": 24}, \"Metrics\": {\"validation_binary_classification_cross_entropy_objective\": {\"sum\": 0.5137642888219522, \"count\": 1, \"min\": 0.5137642888219522, \"max\": 0.5137642888219522}}}\u001b[0m\n",
            "\u001b[34m#metrics {\"StartTime\": 1650177929.634097, \"EndTime\": 1650177929.634107, \"Dimensions\": {\"Algorithm\": \"Linear Learner\", \"Host\": \"algo-1\", \"Operation\": \"training\", \"epoch\": 2, \"model\": 25}, \"Metrics\": {\"validation_binary_classification_cross_entropy_objective\": {\"sum\": 0.5145797762610941, \"count\": 1, \"min\": 0.5145797762610941, \"max\": 0.5145797762610941}}}\u001b[0m\n",
            "\u001b[34m#metrics {\"StartTime\": 1650177929.6341558, \"EndTime\": 1650177929.6341715, \"Dimensions\": {\"Algorithm\": \"Linear Learner\", \"Host\": \"algo-1\", \"Operation\": \"training\", \"epoch\": 2, \"model\": 26}, \"Metrics\": {\"validation_binary_classification_cross_entropy_objective\": {\"sum\": 0.5137600546593541, \"count\": 1, \"min\": 0.5137600546593541, \"max\": 0.5137600546593541}}}\u001b[0m\n",
            "\u001b[34m#metrics {\"StartTime\": 1650177929.6342366, \"EndTime\": 1650177929.6342537, \"Dimensions\": {\"Algorithm\": \"Linear Learner\", \"Host\": \"algo-1\", \"Operation\": \"training\", \"epoch\": 2, \"model\": 27}, \"Metrics\": {\"validation_binary_classification_cross_entropy_objective\": {\"sum\": 0.5145659154565759, \"count\": 1, \"min\": 0.5145659154565759, \"max\": 0.5145659154565759}}}\u001b[0m\n",
            "\u001b[34m#metrics {\"StartTime\": 1650177929.6343164, \"EndTime\": 1650177929.634335, \"Dimensions\": {\"Algorithm\": \"Linear Learner\", \"Host\": \"algo-1\", \"Operation\": \"training\", \"epoch\": 2, \"model\": 28}, \"Metrics\": {\"validation_binary_classification_cross_entropy_objective\": {\"sum\": 0.5139992713187715, \"count\": 1, \"min\": 0.5139992713187715, \"max\": 0.5139992713187715}}}\u001b[0m\n",
            "\u001b[34m#metrics {\"StartTime\": 1650177929.6343987, \"EndTime\": 1650177929.6344168, \"Dimensions\": {\"Algorithm\": \"Linear Learner\", \"Host\": \"algo-1\", \"Operation\": \"training\", \"epoch\": 2, \"model\": 29}, \"Metrics\": {\"validation_binary_classification_cross_entropy_objective\": {\"sum\": 0.5138969420220566, \"count\": 1, \"min\": 0.5138969420220566, \"max\": 0.5138969420220566}}}\u001b[0m\n",
            "\u001b[34m#metrics {\"StartTime\": 1650177929.634479, \"EndTime\": 1650177929.634497, \"Dimensions\": {\"Algorithm\": \"Linear Learner\", \"Host\": \"algo-1\", \"Operation\": \"training\", \"epoch\": 2, \"model\": 30}, \"Metrics\": {\"validation_binary_classification_cross_entropy_objective\": {\"sum\": 0.5139925294601738, \"count\": 1, \"min\": 0.5139925294601738, \"max\": 0.5139925294601738}}}\u001b[0m\n",
            "\u001b[34m#metrics {\"StartTime\": 1650177929.6345518, \"EndTime\": 1650177929.6345673, \"Dimensions\": {\"Algorithm\": \"Linear Learner\", \"Host\": \"algo-1\", \"Operation\": \"training\", \"epoch\": 2, \"model\": 31}, \"Metrics\": {\"validation_binary_classification_cross_entropy_objective\": {\"sum\": 0.5138971685356685, \"count\": 1, \"min\": 0.5138971685356685, \"max\": 0.5138971685356685}}}\u001b[0m\n",
            "\u001b[34m[04/17/2022 06:45:29 INFO 140392468272960] #quality_metric: host=algo-1, epoch=2, validation binary_classification_cross_entropy_objective <loss>=0.4916128866506004\u001b[0m\n",
            "\u001b[34m[04/17/2022 06:45:29 INFO 140392468272960] #early_stopping_criteria_metric: host=algo-1, epoch=2, criteria=binary_classification_cross_entropy_objective, value=0.49161132344546016\u001b[0m\n",
            "\u001b[34m[04/17/2022 06:45:29 INFO 140392468272960] Saving model for epoch: 2\u001b[0m\n",
            "\u001b[34m[04/17/2022 06:45:29 INFO 140392468272960] Saved checkpoint to \"/tmp/tmp9vzp54kg/mx-mod-0000.params\"\u001b[0m\n",
            "\u001b[34m[04/17/2022 06:45:29 INFO 140392468272960] #progress_metric: host=algo-1, completed 20.0 % of epochs\u001b[0m\n",
            "\u001b[34m#metrics {\"StartTime\": 1650177868.214917, \"EndTime\": 1650177929.641342, \"Dimensions\": {\"Algorithm\": \"Linear Learner\", \"Host\": \"algo-1\", \"Operation\": \"training\", \"epoch\": 2, \"Meta\": \"training_data_iter\"}, \"Metrics\": {\"Total Records Seen\": {\"sum\": 3937416.0, \"count\": 1, \"min\": 3937416, \"max\": 3937416}, \"Total Batches Seen\": {\"sum\": 3939.0, \"count\": 1, \"min\": 3939, \"max\": 3939}, \"Max Records Seen Between Resets\": {\"sum\": 1308472.0, \"count\": 1, \"min\": 1308472, \"max\": 1308472}, \"Max Batches Seen Between Resets\": {\"sum\": 1309.0, \"count\": 1, \"min\": 1309, \"max\": 1309}, \"Reset Count\": {\"sum\": 5.0, \"count\": 1, \"min\": 5, \"max\": 5}, \"Number of Records Since Last Reset\": {\"sum\": 1308472.0, \"count\": 1, \"min\": 1308472, \"max\": 1308472}, \"Number of Batches Since Last Reset\": {\"sum\": 1309.0, \"count\": 1, \"min\": 1309, \"max\": 1309}}}\u001b[0m\n",
            "\u001b[34m[04/17/2022 06:45:29 INFO 140392468272960] #throughput_metric: host=algo-1, train throughput=21301.40003524274 records/second\u001b[0m\n",
            "\u001b[34m[2022-04-17 06:46:25.629] [tensorio] [info] epoch_stats={\"data_pipeline\": \"/opt/ml/input/data/train\", \"epoch\": 9, \"duration\": 55986, \"num_examples\": 1309, \"num_bytes\": 554792128}\u001b[0m\n",
            "\u001b[34m#metrics {\"StartTime\": 1650177985.6300278, \"EndTime\": 1650177985.630119, \"Dimensions\": {\"Algorithm\": \"Linear Learner\", \"Host\": \"algo-1\", \"Operation\": \"training\", \"epoch\": 3, \"model\": 0}, \"Metrics\": {\"train_binary_classification_cross_entropy_objective\": {\"sum\": 0.49198245414243924, \"count\": 1, \"min\": 0.49198245414243924, \"max\": 0.49198245414243924}}}\u001b[0m\n",
            "\u001b[34m#metrics {\"StartTime\": 1650177985.6302102, \"EndTime\": 1650177985.630226, \"Dimensions\": {\"Algorithm\": \"Linear Learner\", \"Host\": \"algo-1\", \"Operation\": \"training\", \"epoch\": 3, \"model\": 1}, \"Metrics\": {\"train_binary_classification_cross_entropy_objective\": {\"sum\": 0.4929686510978489, \"count\": 1, \"min\": 0.4929686510978489, \"max\": 0.4929686510978489}}}\u001b[0m\n",
            "\u001b[34m#metrics {\"StartTime\": 1650177985.6302707, \"EndTime\": 1650177985.6302822, \"Dimensions\": {\"Algorithm\": \"Linear Learner\", \"Host\": \"algo-1\", \"Operation\": \"training\", \"epoch\": 3, \"model\": 2}, \"Metrics\": {\"train_binary_classification_cross_entropy_objective\": {\"sum\": 0.4919987990119771, \"count\": 1, \"min\": 0.4919987990119771, \"max\": 0.4919987990119771}}}\u001b[0m\n",
            "\u001b[34m#metrics {\"StartTime\": 1650177985.6303217, \"EndTime\": 1650177985.6303322, \"Dimensions\": {\"Algorithm\": \"Linear Learner\", \"Host\": \"algo-1\", \"Operation\": \"training\", \"epoch\": 3, \"model\": 3}, \"Metrics\": {\"train_binary_classification_cross_entropy_objective\": {\"sum\": 0.4929689781818915, \"count\": 1, \"min\": 0.4929689781818915, \"max\": 0.4929689781818915}}}\u001b[0m\n",
            "\u001b[34m#metrics {\"StartTime\": 1650177985.63037, \"EndTime\": 1650177985.63038, \"Dimensions\": {\"Algorithm\": \"Linear Learner\", \"Host\": \"algo-1\", \"Operation\": \"training\", \"epoch\": 3, \"model\": 4}, \"Metrics\": {\"train_binary_classification_cross_entropy_objective\": {\"sum\": 0.49231060252058395, \"count\": 1, \"min\": 0.49231060252058395, \"max\": 0.49231060252058395}}}\u001b[0m\n",
            "\u001b[34m#metrics {\"StartTime\": 1650177985.6304533, \"EndTime\": 1650177985.6304672, \"Dimensions\": {\"Algorithm\": \"Linear Learner\", \"Host\": \"algo-1\", \"Operation\": \"training\", \"epoch\": 3, \"model\": 5}, \"Metrics\": {\"train_binary_classification_cross_entropy_objective\": {\"sum\": 0.5093417251073622, \"count\": 1, \"min\": 0.5093417251073622, \"max\": 0.5093417251073622}}}\u001b[0m\n",
            "\u001b[34m#metrics {\"StartTime\": 1650177985.6305072, \"EndTime\": 1650177985.6305177, \"Dimensions\": {\"Algorithm\": \"Linear Learner\", \"Host\": \"algo-1\", \"Operation\": \"training\", \"epoch\": 3, \"model\": 6}, \"Metrics\": {\"train_binary_classification_cross_entropy_objective\": {\"sum\": 0.4923106000941099, \"count\": 1, \"min\": 0.4923106000941099, \"max\": 0.4923106000941099}}}\u001b[0m\n",
            "\u001b[34m#metrics {\"StartTime\": 1650177985.6305554, \"EndTime\": 1650177985.6305656, \"Dimensions\": {\"Algorithm\": \"Linear Learner\", \"Host\": \"algo-1\", \"Operation\": \"training\", \"epoch\": 3, \"model\": 7}, \"Metrics\": {\"train_binary_classification_cross_entropy_objective\": {\"sum\": 0.5092940239862564, \"count\": 1, \"min\": 0.5092940239862564, \"max\": 0.5092940239862564}}}\u001b[0m\n",
            "\u001b[34m#metrics {\"StartTime\": 1650177985.6306064, \"EndTime\": 1650177985.630617, \"Dimensions\": {\"Algorithm\": \"Linear Learner\", \"Host\": \"algo-1\", \"Operation\": \"training\", \"epoch\": 3, \"model\": 8}, \"Metrics\": {\"train_binary_classification_cross_entropy_objective\": {\"sum\": 0.49218528031282105, \"count\": 1, \"min\": 0.49218528031282105, \"max\": 0.49218528031282105}}}\u001b[0m\n",
            "\u001b[34m#metrics {\"StartTime\": 1650177985.6306577, \"EndTime\": 1650177985.630668, \"Dimensions\": {\"Algorithm\": \"Linear Learner\", \"Host\": \"algo-1\", \"Operation\": \"training\", \"epoch\": 3, \"model\": 9}, \"Metrics\": {\"train_binary_classification_cross_entropy_objective\": {\"sum\": 0.4931266027328071, \"count\": 1, \"min\": 0.4931266027328071, \"max\": 0.4931266027328071}}}\u001b[0m\n",
            "\u001b[34m#metrics {\"StartTime\": 1650177985.630705, \"EndTime\": 1650177985.6307154, \"Dimensions\": {\"Algorithm\": \"Linear Learner\", \"Host\": \"algo-1\", \"Operation\": \"training\", \"epoch\": 3, \"model\": 10}, \"Metrics\": {\"train_binary_classification_cross_entropy_objective\": {\"sum\": 0.49220156844019525, \"count\": 1, \"min\": 0.49220156844019525, \"max\": 0.49220156844019525}}}\u001b[0m\n",
            "\u001b[34m#metrics {\"StartTime\": 1650177985.6307533, \"EndTime\": 1650177985.6307633, \"Dimensions\": {\"Algorithm\": \"Linear Learner\", \"Host\": \"algo-1\", \"Operation\": \"training\", \"epoch\": 3, \"model\": 11}, \"Metrics\": {\"train_binary_classification_cross_entropy_objective\": {\"sum\": 0.49312660795905905, \"count\": 1, \"min\": 0.49312660795905905, \"max\": 0.49312660795905905}}}\u001b[0m\n",
            "\u001b[34m#metrics {\"StartTime\": 1650177985.6308005, \"EndTime\": 1650177985.63081, \"Dimensions\": {\"Algorithm\": \"Linear Learner\", \"Host\": \"algo-1\", \"Operation\": \"training\", \"epoch\": 3, \"model\": 12}, \"Metrics\": {\"train_binary_classification_cross_entropy_objective\": {\"sum\": 0.4925086358679909, \"count\": 1, \"min\": 0.4925086358679909, \"max\": 0.4925086358679909}}}\u001b[0m\n",
            "\u001b[34m#metrics {\"StartTime\": 1650177985.6308756, \"EndTime\": 1650177985.6308887, \"Dimensions\": {\"Algorithm\": \"Linear Learner\", \"Host\": \"algo-1\", \"Operation\": \"training\", \"epoch\": 3, \"model\": 13}, \"Metrics\": {\"train_binary_classification_cross_entropy_objective\": {\"sum\": 0.5083332783643624, \"count\": 1, \"min\": 0.5083332783643624, \"max\": 0.5083332783643624}}}\u001b[0m\n",
            "\u001b[34m#metrics {\"StartTime\": 1650177985.630928, \"EndTime\": 1650177985.6309383, \"Dimensions\": {\"Algorithm\": \"Linear Learner\", \"Host\": \"algo-1\", \"Operation\": \"training\", \"epoch\": 3, \"model\": 14}, \"Metrics\": {\"train_binary_classification_cross_entropy_objective\": {\"sum\": 0.4925086320882908, \"count\": 1, \"min\": 0.4925086320882908, \"max\": 0.4925086320882908}}}\u001b[0m\n",
            "\u001b[34m#metrics {\"StartTime\": 1650177985.6309757, \"EndTime\": 1650177985.630986, \"Dimensions\": {\"Algorithm\": \"Linear Learner\", \"Host\": \"algo-1\", \"Operation\": \"training\", \"epoch\": 3, \"model\": 15}, \"Metrics\": {\"train_binary_classification_cross_entropy_objective\": {\"sum\": 0.5083333019291589, \"count\": 1, \"min\": 0.5083333019291589, \"max\": 0.5083333019291589}}}\u001b[0m\n",
            "\u001b[34m#metrics {\"StartTime\": 1650177985.6310248, \"EndTime\": 1650177985.6310353, \"Dimensions\": {\"Algorithm\": \"Linear Learner\", \"Host\": \"algo-1\", \"Operation\": \"training\", \"epoch\": 3, \"model\": 16}, \"Metrics\": {\"train_binary_classification_cross_entropy_objective\": {\"sum\": 0.5077812282783905, \"count\": 1, \"min\": 0.5077812282783905, \"max\": 0.5077812282783905}}}\u001b[0m\n",
            "\u001b[34m#metrics {\"StartTime\": 1650177985.6310732, \"EndTime\": 1650177985.6310835, \"Dimensions\": {\"Algorithm\": \"Linear Learner\", \"Host\": \"algo-1\", \"Operation\": \"training\", \"epoch\": 3, \"model\": 17}, \"Metrics\": {\"train_binary_classification_cross_entropy_objective\": {\"sum\": 0.5080096136903909, \"count\": 1, \"min\": 0.5080096136903909, \"max\": 0.5080096136903909}}}\u001b[0m\n",
            "\u001b[34m#metrics {\"StartTime\": 1650177985.6311202, \"EndTime\": 1650177985.6311302, \"Dimensions\": {\"Algorithm\": \"Linear Learner\", \"Host\": \"algo-1\", \"Operation\": \"training\", \"epoch\": 3, \"model\": 18}, \"Metrics\": {\"train_binary_classification_cross_entropy_objective\": {\"sum\": 0.5077901665223847, \"count\": 1, \"min\": 0.5077901665223847, \"max\": 0.5077901665223847}}}\u001b[0m\n",
            "\u001b[34m#metrics {\"StartTime\": 1650177985.631167, \"EndTime\": 1650177985.631177, \"Dimensions\": {\"Algorithm\": \"Linear Learner\", \"Host\": \"algo-1\", \"Operation\": \"training\", \"epoch\": 3, \"model\": 19}, \"Metrics\": {\"train_binary_classification_cross_entropy_objective\": {\"sum\": 0.5080096099106908, \"count\": 1, \"min\": 0.5080096099106908, \"max\": 0.5080096099106908}}}\u001b[0m\n",
            "\u001b[34m#metrics {\"StartTime\": 1650177985.631213, \"EndTime\": 1650177985.631223, \"Dimensions\": {\"Algorithm\": \"Linear Learner\", \"Host\": \"algo-1\", \"Operation\": \"training\", \"epoch\": 3, \"model\": 20}, \"Metrics\": {\"train_binary_classification_cross_entropy_objective\": {\"sum\": 0.5078405628262674, \"count\": 1, \"min\": 0.5078405628262674, \"max\": 0.5078405628262674}}}\u001b[0m\n",
            "\u001b[34m#metrics {\"StartTime\": 1650177985.6312597, \"EndTime\": 1650177985.6312697, \"Dimensions\": {\"Algorithm\": \"Linear Learner\", \"Host\": \"algo-1\", \"Operation\": \"training\", \"epoch\": 3, \"model\": 21}, \"Metrics\": {\"train_binary_classification_cross_entropy_objective\": {\"sum\": 0.5108439895909861, \"count\": 1, \"min\": 0.5108439895909861, \"max\": 0.5108439895909861}}}\u001b[0m\n",
            "\u001b[34m#metrics {\"StartTime\": 1650177985.6313064, \"EndTime\": 1650177985.6313179, \"Dimensions\": {\"Algorithm\": \"Linear Learner\", \"Host\": \"algo-1\", \"Operation\": \"training\", \"epoch\": 3, \"model\": 22}, \"Metrics\": {\"train_binary_classification_cross_entropy_objective\": {\"sum\": 0.5078405636895322, \"count\": 1, \"min\": 0.5078405636895322, \"max\": 0.5078405636895322}}}\u001b[0m\n",
            "\u001b[34m#metrics {\"StartTime\": 1650177985.631352, \"EndTime\": 1650177985.6313608, \"Dimensions\": {\"Algorithm\": \"Linear Learner\", \"Host\": \"algo-1\", \"Operation\": \"training\", \"epoch\": 3, \"model\": 23}, \"Metrics\": {\"train_binary_classification_cross_entropy_objective\": {\"sum\": 0.5108440131557827, \"count\": 1, \"min\": 0.5108440131557827, \"max\": 0.5108440131557827}}}\u001b[0m\n",
            "\u001b[34m#metrics {\"StartTime\": 1650177985.6313863, \"EndTime\": 1650177985.631394, \"Dimensions\": {\"Algorithm\": \"Linear Learner\", \"Host\": \"algo-1\", \"Operation\": \"training\", \"epoch\": 3, \"model\": 24}, \"Metrics\": {\"train_binary_classification_cross_entropy_objective\": {\"sum\": 0.5137683266922604, \"count\": 1, \"min\": 0.5137683266922604, \"max\": 0.5137683266922604}}}\u001b[0m\n",
            "\u001b[34m#metrics {\"StartTime\": 1650177985.6314178, \"EndTime\": 1650177985.6314251, \"Dimensions\": {\"Algorithm\": \"Linear Learner\", \"Host\": \"algo-1\", \"Operation\": \"training\", \"epoch\": 3, \"model\": 25}, \"Metrics\": {\"train_binary_classification_cross_entropy_objective\": {\"sum\": 0.5138693865388176, \"count\": 1, \"min\": 0.5138693865388176, \"max\": 0.5138693865388176}}}\u001b[0m\n",
            "\u001b[34m#metrics {\"StartTime\": 1650177985.631449, \"EndTime\": 1650177985.631456, \"Dimensions\": {\"Algorithm\": \"Linear Learner\", \"Host\": \"algo-1\", \"Operation\": \"training\", \"epoch\": 3, \"model\": 26}, \"Metrics\": {\"train_binary_classification_cross_entropy_objective\": {\"sum\": 0.5137698612738093, \"count\": 1, \"min\": 0.5137698612738093, \"max\": 0.5137698612738093}}}\u001b[0m\n",
            "\u001b[34m#metrics {\"StartTime\": 1650177985.63148, \"EndTime\": 1650177985.6314871, \"Dimensions\": {\"Algorithm\": \"Linear Learner\", \"Host\": \"algo-1\", \"Operation\": \"training\", \"epoch\": 3, \"model\": 27}, \"Metrics\": {\"train_binary_classification_cross_entropy_objective\": {\"sum\": 0.5138693475052486, \"count\": 1, \"min\": 0.5138693475052486, \"max\": 0.5138693475052486}}}\u001b[0m\n",
            "\u001b[34m#metrics {\"StartTime\": 1650177985.6315114, \"EndTime\": 1650177985.6315184, \"Dimensions\": {\"Algorithm\": \"Linear Learner\", \"Host\": \"algo-1\", \"Operation\": \"training\", \"epoch\": 3, \"model\": 28}, \"Metrics\": {\"train_binary_classification_cross_entropy_objective\": {\"sum\": 0.5137894825366659, \"count\": 1, \"min\": 0.5137894825366659, \"max\": 0.5137894825366659}}}\u001b[0m\n",
            "\u001b[34m#metrics {\"StartTime\": 1650177985.6315424, \"EndTime\": 1650177985.6315496, \"Dimensions\": {\"Algorithm\": \"Linear Learner\", \"Host\": \"algo-1\", \"Operation\": \"training\", \"epoch\": 3, \"model\": 29}, \"Metrics\": {\"train_binary_classification_cross_entropy_objective\": {\"sum\": 0.5148635295669602, \"count\": 1, \"min\": 0.5148635295669602, \"max\": 0.5148635295669602}}}\u001b[0m\n",
            "\u001b[34m#metrics {\"StartTime\": 1650177985.6315758, \"EndTime\": 1650177985.6315832, \"Dimensions\": {\"Algorithm\": \"Linear Learner\", \"Host\": \"algo-1\", \"Operation\": \"training\", \"epoch\": 3, \"model\": 30}, \"Metrics\": {\"train_binary_classification_cross_entropy_objective\": {\"sum\": 0.5137896427072881, \"count\": 1, \"min\": 0.5137896427072881, \"max\": 0.5137896427072881}}}\u001b[0m\n",
            "\u001b[34m#metrics {\"StartTime\": 1650177985.6316075, \"EndTime\": 1650177985.6316147, \"Dimensions\": {\"Algorithm\": \"Linear Learner\", \"Host\": \"algo-1\", \"Operation\": \"training\", \"epoch\": 3, \"model\": 31}, \"Metrics\": {\"train_binary_classification_cross_entropy_objective\": {\"sum\": 0.5148634650320817, \"count\": 1, \"min\": 0.5148634650320817, \"max\": 0.5148634650320817}}}\u001b[0m\n",
            "\u001b[34m[04/17/2022 06:46:25 INFO 140392468272960] #quality_metric: host=algo-1, epoch=3, train binary_classification_cross_entropy_objective <loss>=0.49198245414243924\u001b[0m\n",
            "\u001b[34m[2022-04-17 06:46:30.624] [tensorio] [info] epoch_stats={\"data_pipeline\": \"/opt/ml/input/data/validation\", \"epoch\": 11, \"duration\": 4969, \"num_examples\": 164, \"num_bytes\": 69349016}\u001b[0m\n",
            "\u001b[34m#metrics {\"StartTime\": 1650177990.6334813, \"EndTime\": 1650177990.63354, \"Dimensions\": {\"Algorithm\": \"Linear Learner\", \"Host\": \"algo-1\", \"Operation\": \"training\", \"epoch\": 3, \"model\": 0}, \"Metrics\": {\"validation_binary_classification_cross_entropy_objective\": {\"sum\": 0.49159323911366176, \"count\": 1, \"min\": 0.49159323911366176, \"max\": 0.49159323911366176}}}\u001b[0m\n",
            "\u001b[34m#metrics {\"StartTime\": 1650177990.6336212, \"EndTime\": 1650177990.6336355, \"Dimensions\": {\"Algorithm\": \"Linear Learner\", \"Host\": \"algo-1\", \"Operation\": \"training\", \"epoch\": 3, \"model\": 1}, \"Metrics\": {\"validation_binary_classification_cross_entropy_objective\": {\"sum\": 0.4930769122274636, \"count\": 1, \"min\": 0.4930769122274636, \"max\": 0.4930769122274636}}}\u001b[0m\n",
            "\u001b[34m#metrics {\"StartTime\": 1650177990.6336937, \"EndTime\": 1650177990.6337123, \"Dimensions\": {\"Algorithm\": \"Linear Learner\", \"Host\": \"algo-1\", \"Operation\": \"training\", \"epoch\": 3, \"model\": 2}, \"Metrics\": {\"validation_binary_classification_cross_entropy_objective\": {\"sum\": 0.49160790894867495, \"count\": 1, \"min\": 0.49160790894867495, \"max\": 0.49160790894867495}}}\u001b[0m\n",
            "\u001b[34m#metrics {\"StartTime\": 1650177990.6337802, \"EndTime\": 1650177990.6338003, \"Dimensions\": {\"Algorithm\": \"Linear Learner\", \"Host\": \"algo-1\", \"Operation\": \"training\", \"epoch\": 3, \"model\": 3}, \"Metrics\": {\"validation_binary_classification_cross_entropy_objective\": {\"sum\": 0.4930768096059755, \"count\": 1, \"min\": 0.4930768096059755, \"max\": 0.4930768096059755}}}\u001b[0m\n",
            "\u001b[34m#metrics {\"StartTime\": 1650177990.6338642, \"EndTime\": 1650177990.6338837, \"Dimensions\": {\"Algorithm\": \"Linear Learner\", \"Host\": \"algo-1\", \"Operation\": \"training\", \"epoch\": 3, \"model\": 4}, \"Metrics\": {\"validation_binary_classification_cross_entropy_objective\": {\"sum\": 0.4917542218151807, \"count\": 1, \"min\": 0.4917542218151807, \"max\": 0.4917542218151807}}}\u001b[0m\n",
            "\u001b[34m#metrics {\"StartTime\": 1650177990.6339388, \"EndTime\": 1650177990.6339562, \"Dimensions\": {\"Algorithm\": \"Linear Learner\", \"Host\": \"algo-1\", \"Operation\": \"training\", \"epoch\": 3, \"model\": 5}, \"Metrics\": {\"validation_binary_classification_cross_entropy_objective\": {\"sum\": 0.5093865117426806, \"count\": 1, \"min\": 0.5093865117426806, \"max\": 0.5093865117426806}}}\u001b[0m\n",
            "\u001b[34m#metrics {\"StartTime\": 1650177990.6340077, \"EndTime\": 1650177990.634024, \"Dimensions\": {\"Algorithm\": \"Linear Learner\", \"Host\": \"algo-1\", \"Operation\": \"training\", \"epoch\": 3, \"model\": 6}, \"Metrics\": {\"validation_binary_classification_cross_entropy_objective\": {\"sum\": 0.4917542296517307, \"count\": 1, \"min\": 0.4917542296517307, \"max\": 0.4917542296517307}}}\u001b[0m\n",
            "\u001b[34m#metrics {\"StartTime\": 1650177990.6340833, \"EndTime\": 1650177990.634099, \"Dimensions\": {\"Algorithm\": \"Linear Learner\", \"Host\": \"algo-1\", \"Operation\": \"training\", \"epoch\": 3, \"model\": 7}, \"Metrics\": {\"validation_binary_classification_cross_entropy_objective\": {\"sum\": 0.5092327920303343, \"count\": 1, \"min\": 0.5092327920303343, \"max\": 0.5092327920303343}}}\u001b[0m\n",
            "\u001b[34m#metrics {\"StartTime\": 1650177990.634156, \"EndTime\": 1650177990.634173, \"Dimensions\": {\"Algorithm\": \"Linear Learner\", \"Host\": \"algo-1\", \"Operation\": \"training\", \"epoch\": 3, \"model\": 8}, \"Metrics\": {\"validation_binary_classification_cross_entropy_objective\": {\"sum\": 0.49187019678445787, \"count\": 1, \"min\": 0.49187019678445787, \"max\": 0.49187019678445787}}}\u001b[0m\n",
            "\u001b[34m#metrics {\"StartTime\": 1650177990.6342375, \"EndTime\": 1650177990.6342552, \"Dimensions\": {\"Algorithm\": \"Linear Learner\", \"Host\": \"algo-1\", \"Operation\": \"training\", \"epoch\": 3, \"model\": 9}, \"Metrics\": {\"validation_binary_classification_cross_entropy_objective\": {\"sum\": 0.49331805126722955, \"count\": 1, \"min\": 0.49331805126722955, \"max\": 0.49331805126722955}}}\u001b[0m\n",
            "\u001b[34m#metrics {\"StartTime\": 1650177990.6343117, \"EndTime\": 1650177990.6343284, \"Dimensions\": {\"Algorithm\": \"Linear Learner\", \"Host\": \"algo-1\", \"Operation\": \"training\", \"epoch\": 3, \"model\": 10}, \"Metrics\": {\"validation_binary_classification_cross_entropy_objective\": {\"sum\": 0.49188945771826315, \"count\": 1, \"min\": 0.49188945771826315, \"max\": 0.49188945771826315}}}\u001b[0m\n",
            "\u001b[34m#metrics {\"StartTime\": 1650177990.634384, \"EndTime\": 1650177990.634399, \"Dimensions\": {\"Algorithm\": \"Linear Learner\", \"Host\": \"algo-1\", \"Operation\": \"training\", \"epoch\": 3, \"model\": 11}, \"Metrics\": {\"validation_binary_classification_cross_entropy_objective\": {\"sum\": 0.4933180604098712, \"count\": 1, \"min\": 0.4933180604098712, \"max\": 0.4933180604098712}}}\u001b[0m\n",
            "\u001b[34m#metrics {\"StartTime\": 1650177990.6344533, \"EndTime\": 1650177990.6344697, \"Dimensions\": {\"Algorithm\": \"Linear Learner\", \"Host\": \"algo-1\", \"Operation\": \"training\", \"epoch\": 3, \"model\": 12}, \"Metrics\": {\"validation_binary_classification_cross_entropy_objective\": {\"sum\": 0.4920423101857429, \"count\": 1, \"min\": 0.4920423101857429, \"max\": 0.4920423101857429}}}\u001b[0m\n",
            "\u001b[34m#metrics {\"StartTime\": 1650177990.634519, \"EndTime\": 1650177990.6345344, \"Dimensions\": {\"Algorithm\": \"Linear Learner\", \"Host\": \"algo-1\", \"Operation\": \"training\", \"epoch\": 3, \"model\": 13}, \"Metrics\": {\"validation_binary_classification_cross_entropy_objective\": {\"sum\": 0.5081257485472559, \"count\": 1, \"min\": 0.5081257485472559, \"max\": 0.5081257485472559}}}\u001b[0m\n",
            "\u001b[34m#metrics {\"StartTime\": 1650177990.634584, \"EndTime\": 1650177990.6346002, \"Dimensions\": {\"Algorithm\": \"Linear Learner\", \"Host\": \"algo-1\", \"Operation\": \"training\", \"epoch\": 3, \"model\": 14}, \"Metrics\": {\"validation_binary_classification_cross_entropy_objective\": {\"sum\": 0.4920423114918346, \"count\": 1, \"min\": 0.4920423114918346, \"max\": 0.4920423114918346}}}\u001b[0m\n",
            "\u001b[34m#metrics {\"StartTime\": 1650177990.634741, \"EndTime\": 1650177990.6347678, \"Dimensions\": {\"Algorithm\": \"Linear Learner\", \"Host\": \"algo-1\", \"Operation\": \"training\", \"epoch\": 3, \"model\": 15}, \"Metrics\": {\"validation_binary_classification_cross_entropy_objective\": {\"sum\": 0.5081256461123523, \"count\": 1, \"min\": 0.5081256461123523, \"max\": 0.5081256461123523}}}\u001b[0m\n",
            "\u001b[34m#metrics {\"StartTime\": 1650177990.6348143, \"EndTime\": 1650177990.634854, \"Dimensions\": {\"Algorithm\": \"Linear Learner\", \"Host\": \"algo-1\", \"Operation\": \"training\", \"epoch\": 3, \"model\": 16}, \"Metrics\": {\"validation_binary_classification_cross_entropy_objective\": {\"sum\": 0.5077748112322881, \"count\": 1, \"min\": 0.5077748112322881, \"max\": 0.5077748112322881}}}\u001b[0m\n",
            "\u001b[34m#metrics {\"StartTime\": 1650177990.6349344, \"EndTime\": 1650177990.634948, \"Dimensions\": {\"Algorithm\": \"Linear Learner\", \"Host\": \"algo-1\", \"Operation\": \"training\", \"epoch\": 3, \"model\": 17}, \"Metrics\": {\"validation_binary_classification_cross_entropy_objective\": {\"sum\": 0.508128346176996, \"count\": 1, \"min\": 0.508128346176996, \"max\": 0.508128346176996}}}\u001b[0m\n",
            "\u001b[34m#metrics {\"StartTime\": 1650177990.6349776, \"EndTime\": 1650177990.6349852, \"Dimensions\": {\"Algorithm\": \"Linear Learner\", \"Host\": \"algo-1\", \"Operation\": \"training\", \"epoch\": 3, \"model\": 18}, \"Metrics\": {\"validation_binary_classification_cross_entropy_objective\": {\"sum\": 0.5077975428248201, \"count\": 1, \"min\": 0.5077975428248201, \"max\": 0.5077975428248201}}}\u001b[0m\n",
            "\u001b[34m#metrics {\"StartTime\": 1650177990.6350236, \"EndTime\": 1650177990.6350374, \"Dimensions\": {\"Algorithm\": \"Linear Learner\", \"Host\": \"algo-1\", \"Operation\": \"training\", \"epoch\": 3, \"model\": 19}, \"Metrics\": {\"validation_binary_classification_cross_entropy_objective\": {\"sum\": 0.5081283568123138, \"count\": 1, \"min\": 0.5081283568123138, \"max\": 0.5081283568123138}}}\u001b[0m\n",
            "\u001b[34m#metrics {\"StartTime\": 1650177990.635085, \"EndTime\": 1650177990.6351008, \"Dimensions\": {\"Algorithm\": \"Linear Learner\", \"Host\": \"algo-1\", \"Operation\": \"training\", \"epoch\": 3, \"model\": 20}, \"Metrics\": {\"validation_binary_classification_cross_entropy_objective\": {\"sum\": 0.507786208001585, \"count\": 1, \"min\": 0.507786208001585, \"max\": 0.507786208001585}}}\u001b[0m\n",
            "\u001b[34m#metrics {\"StartTime\": 1650177990.635159, \"EndTime\": 1650177990.6351767, \"Dimensions\": {\"Algorithm\": \"Linear Learner\", \"Host\": \"algo-1\", \"Operation\": \"training\", \"epoch\": 3, \"model\": 21}, \"Metrics\": {\"validation_binary_classification_cross_entropy_objective\": {\"sum\": 0.50944787230234, \"count\": 1, \"min\": 0.50944787230234, \"max\": 0.50944787230234}}}\u001b[0m\n",
            "\u001b[34m#metrics {\"StartTime\": 1650177990.63523, \"EndTime\": 1650177990.6352465, \"Dimensions\": {\"Algorithm\": \"Linear Learner\", \"Host\": \"algo-1\", \"Operation\": \"training\", \"epoch\": 3, \"model\": 22}, \"Metrics\": {\"validation_binary_classification_cross_entropy_objective\": {\"sum\": 0.5077862012845422, \"count\": 1, \"min\": 0.5077862012845422, \"max\": 0.5077862012845422}}}\u001b[0m\n",
            "\u001b[34m#metrics {\"StartTime\": 1650177990.6352994, \"EndTime\": 1650177990.635342, \"Dimensions\": {\"Algorithm\": \"Linear Learner\", \"Host\": \"algo-1\", \"Operation\": \"training\", \"epoch\": 3, \"model\": 23}, \"Metrics\": {\"validation_binary_classification_cross_entropy_objective\": {\"sum\": 0.5094478639060365, \"count\": 1, \"min\": 0.5094478639060365, \"max\": 0.5094478639060365}}}\u001b[0m\n",
            "\u001b[34m#metrics {\"StartTime\": 1650177990.6353996, \"EndTime\": 1650177990.6354175, \"Dimensions\": {\"Algorithm\": \"Linear Learner\", \"Host\": \"algo-1\", \"Operation\": \"training\", \"epoch\": 3, \"model\": 24}, \"Metrics\": {\"validation_binary_classification_cross_entropy_objective\": {\"sum\": 0.5137586799045829, \"count\": 1, \"min\": 0.5137586799045829, \"max\": 0.5137586799045829}}}\u001b[0m\n",
            "\u001b[34m#metrics {\"StartTime\": 1650177990.6354697, \"EndTime\": 1650177990.6354866, \"Dimensions\": {\"Algorithm\": \"Linear Learner\", \"Host\": \"algo-1\", \"Operation\": \"training\", \"epoch\": 3, \"model\": 25}, \"Metrics\": {\"validation_binary_classification_cross_entropy_objective\": {\"sum\": 0.514457105333012, \"count\": 1, \"min\": 0.514457105333012, \"max\": 0.514457105333012}}}\u001b[0m\n",
            "\u001b[34m#metrics {\"StartTime\": 1650177990.6355407, \"EndTime\": 1650177990.635557, \"Dimensions\": {\"Algorithm\": \"Linear Learner\", \"Host\": \"algo-1\", \"Operation\": \"training\", \"epoch\": 3, \"model\": 26}, \"Metrics\": {\"validation_binary_classification_cross_entropy_objective\": {\"sum\": 0.5137612855574575, \"count\": 1, \"min\": 0.5137612855574575, \"max\": 0.5137612855574575}}}\u001b[0m\n",
            "\u001b[34m#metrics {\"StartTime\": 1650177990.635612, \"EndTime\": 1650177990.6356294, \"Dimensions\": {\"Algorithm\": \"Linear Learner\", \"Host\": \"algo-1\", \"Operation\": \"training\", \"epoch\": 3, \"model\": 27}, \"Metrics\": {\"validation_binary_classification_cross_entropy_objective\": {\"sum\": 0.5144468803145243, \"count\": 1, \"min\": 0.5144468803145243, \"max\": 0.5144468803145243}}}\u001b[0m\n",
            "\u001b[34m#metrics {\"StartTime\": 1650177990.6356816, \"EndTime\": 1650177990.6356974, \"Dimensions\": {\"Algorithm\": \"Linear Learner\", \"Host\": \"algo-1\", \"Operation\": \"training\", \"epoch\": 3, \"model\": 28}, \"Metrics\": {\"validation_binary_classification_cross_entropy_objective\": {\"sum\": 0.5137644043177725, \"count\": 1, \"min\": 0.5137644043177725, \"max\": 0.5137644043177725}}}\u001b[0m\n",
            "\u001b[34m#metrics {\"StartTime\": 1650177990.6357517, \"EndTime\": 1650177990.6357677, \"Dimensions\": {\"Algorithm\": \"Linear Learner\", \"Host\": \"algo-1\", \"Operation\": \"training\", \"epoch\": 3, \"model\": 29}, \"Metrics\": {\"validation_binary_classification_cross_entropy_objective\": {\"sum\": 0.513965234383359, \"count\": 1, \"min\": 0.513965234383359, \"max\": 0.513965234383359}}}\u001b[0m\n",
            "\u001b[34m#metrics {\"StartTime\": 1650177990.6358209, \"EndTime\": 1650177990.6358368, \"Dimensions\": {\"Algorithm\": \"Linear Learner\", \"Host\": \"algo-1\", \"Operation\": \"training\", \"epoch\": 3, \"model\": 30}, \"Metrics\": {\"validation_binary_classification_cross_entropy_objective\": {\"sum\": 0.5137701016762061, \"count\": 1, \"min\": 0.5137701016762061, \"max\": 0.5137701016762061}}}\u001b[0m\n",
            "\u001b[34m#metrics {\"StartTime\": 1650177990.6358917, \"EndTime\": 1650177990.635909, \"Dimensions\": {\"Algorithm\": \"Linear Learner\", \"Host\": \"algo-1\", \"Operation\": \"training\", \"epoch\": 3, \"model\": 31}, \"Metrics\": {\"validation_binary_classification_cross_entropy_objective\": {\"sum\": 0.5139652032237435, \"count\": 1, \"min\": 0.5139652032237435, \"max\": 0.5139652032237435}}}\u001b[0m\n",
            "\u001b[34m[04/17/2022 06:46:30 INFO 140392468272960] #quality_metric: host=algo-1, epoch=3, validation binary_classification_cross_entropy_objective <loss>=0.49159323911366176\u001b[0m\n",
            "\u001b[34m[04/17/2022 06:46:30 INFO 140392468272960] #early_stopping_criteria_metric: host=algo-1, epoch=3, criteria=binary_classification_cross_entropy_objective, value=0.49159323911366176\u001b[0m\n",
            "\u001b[34m[04/17/2022 06:46:30 INFO 140392468272960] Saving model for epoch: 3\u001b[0m\n",
            "\u001b[34m[04/17/2022 06:46:30 INFO 140392468272960] Saved checkpoint to \"/tmp/tmptz8ls7ny/mx-mod-0000.params\"\u001b[0m\n",
            "\u001b[34m[04/17/2022 06:46:30 INFO 140392468272960] #progress_metric: host=algo-1, completed 26.666666666666668 % of epochs\u001b[0m\n",
            "\u001b[34m#metrics {\"StartTime\": 1650177929.6435647, \"EndTime\": 1650177990.643616, \"Dimensions\": {\"Algorithm\": \"Linear Learner\", \"Host\": \"algo-1\", \"Operation\": \"training\", \"epoch\": 3, \"Meta\": \"training_data_iter\"}, \"Metrics\": {\"Total Records Seen\": {\"sum\": 5245888.0, \"count\": 1, \"min\": 5245888, \"max\": 5245888}, \"Total Batches Seen\": {\"sum\": 5248.0, \"count\": 1, \"min\": 5248, \"max\": 5248}, \"Max Records Seen Between Resets\": {\"sum\": 1308472.0, \"count\": 1, \"min\": 1308472, \"max\": 1308472}, \"Max Batches Seen Between Resets\": {\"sum\": 1309.0, \"count\": 1, \"min\": 1309, \"max\": 1309}, \"Reset Count\": {\"sum\": 6.0, \"count\": 1, \"min\": 6, \"max\": 6}, \"Number of Records Since Last Reset\": {\"sum\": 1308472.0, \"count\": 1, \"min\": 1308472, \"max\": 1308472}, \"Number of Batches Since Last Reset\": {\"sum\": 1309.0, \"count\": 1, \"min\": 1309, \"max\": 1309}}}\u001b[0m\n",
            "\u001b[34m[04/17/2022 06:46:30 INFO 140392468272960] #throughput_metric: host=algo-1, train throughput=21450.30104654326 records/second\u001b[0m\n",
            "\u001b[34m[2022-04-17 06:47:27.079] [tensorio] [info] epoch_stats={\"data_pipeline\": \"/opt/ml/input/data/train\", \"epoch\": 11, \"duration\": 56425, \"num_examples\": 1309, \"num_bytes\": 554792128}\u001b[0m\n",
            "\u001b[34m#metrics {\"StartTime\": 1650178047.079453, \"EndTime\": 1650178047.0795422, \"Dimensions\": {\"Algorithm\": \"Linear Learner\", \"Host\": \"algo-1\", \"Operation\": \"training\", \"epoch\": 4, \"model\": 0}, \"Metrics\": {\"train_binary_classification_cross_entropy_objective\": {\"sum\": 0.49195426373962964, \"count\": 1, \"min\": 0.49195426373962964, \"max\": 0.49195426373962964}}}\u001b[0m\n",
            "\u001b[34m#metrics {\"StartTime\": 1650178047.0796306, \"EndTime\": 1650178047.079647, \"Dimensions\": {\"Algorithm\": \"Linear Learner\", \"Host\": \"algo-1\", \"Operation\": \"training\", \"epoch\": 4, \"model\": 1}, \"Metrics\": {\"train_binary_classification_cross_entropy_objective\": {\"sum\": 0.4928455391980092, \"count\": 1, \"min\": 0.4928455391980092, \"max\": 0.4928455391980092}}}\u001b[0m\n",
            "\u001b[34m#metrics {\"StartTime\": 1650178047.0796921, \"EndTime\": 1650178047.0797033, \"Dimensions\": {\"Algorithm\": \"Linear Learner\", \"Host\": \"algo-1\", \"Operation\": \"training\", \"epoch\": 4, \"model\": 2}, \"Metrics\": {\"train_binary_classification_cross_entropy_objective\": {\"sum\": 0.491997782925947, \"count\": 1, \"min\": 0.491997782925947, \"max\": 0.491997782925947}}}\u001b[0m\n",
            "\u001b[34m#metrics {\"StartTime\": 1650178047.0797422, \"EndTime\": 1650178047.0797527, \"Dimensions\": {\"Algorithm\": \"Linear Learner\", \"Host\": \"algo-1\", \"Operation\": \"training\", \"epoch\": 4, \"model\": 3}, \"Metrics\": {\"train_binary_classification_cross_entropy_objective\": {\"sum\": 0.49284569705881476, \"count\": 1, \"min\": 0.49284569705881476, \"max\": 0.49284569705881476}}}\u001b[0m\n",
            "\u001b[34m#metrics {\"StartTime\": 1650178047.0797906, \"EndTime\": 1650178047.0798008, \"Dimensions\": {\"Algorithm\": \"Linear Learner\", \"Host\": \"algo-1\", \"Operation\": \"training\", \"epoch\": 4, \"model\": 4}, \"Metrics\": {\"train_binary_classification_cross_entropy_objective\": {\"sum\": 0.49206768787162386, \"count\": 1, \"min\": 0.49206768787162386, \"max\": 0.49206768787162386}}}\u001b[0m\n",
            "\u001b[34m#metrics {\"StartTime\": 1650178047.0798385, \"EndTime\": 1650178047.0798485, \"Dimensions\": {\"Algorithm\": \"Linear Learner\", \"Host\": \"algo-1\", \"Operation\": \"training\", \"epoch\": 4, \"model\": 5}, \"Metrics\": {\"train_binary_classification_cross_entropy_objective\": {\"sum\": 0.5073723159696714, \"count\": 1, \"min\": 0.5073723159696714, \"max\": 0.5073723159696714}}}\u001b[0m\n",
            "\u001b[34m#metrics {\"StartTime\": 1650178047.079885, \"EndTime\": 1650178047.0798955, \"Dimensions\": {\"Algorithm\": \"Linear Learner\", \"Host\": \"algo-1\", \"Operation\": \"training\", \"epoch\": 4, \"model\": 6}, \"Metrics\": {\"train_binary_classification_cross_entropy_objective\": {\"sum\": 0.4920676883382535, \"count\": 1, \"min\": 0.4920676883382535, \"max\": 0.4920676883382535}}}\u001b[0m\n",
            "\u001b[34m#metrics {\"StartTime\": 1650178047.0799325, \"EndTime\": 1650178047.0799427, \"Dimensions\": {\"Algorithm\": \"Linear Learner\", \"Host\": \"algo-1\", \"Operation\": \"training\", \"epoch\": 4, \"model\": 7}, \"Metrics\": {\"train_binary_classification_cross_entropy_objective\": {\"sum\": 0.5073902735812219, \"count\": 1, \"min\": 0.5073902735812219, \"max\": 0.5073902735812219}}}\u001b[0m\n",
            "\u001b[34m#metrics {\"StartTime\": 1650178047.0799794, \"EndTime\": 1650178047.0799897, \"Dimensions\": {\"Algorithm\": \"Linear Learner\", \"Host\": \"algo-1\", \"Operation\": \"training\", \"epoch\": 4, \"model\": 8}, \"Metrics\": {\"train_binary_classification_cross_entropy_objective\": {\"sum\": 0.4921575605993242, \"count\": 1, \"min\": 0.4921575605993242, \"max\": 0.4921575605993242}}}\u001b[0m\n",
            "\u001b[34m#metrics {\"StartTime\": 1650178047.0800266, \"EndTime\": 1650178047.0800369, \"Dimensions\": {\"Algorithm\": \"Linear Learner\", \"Host\": \"algo-1\", \"Operation\": \"training\", \"epoch\": 4, \"model\": 9}, \"Metrics\": {\"train_binary_classification_cross_entropy_objective\": {\"sum\": 0.49301170822750173, \"count\": 1, \"min\": 0.49301170822750173, \"max\": 0.49301170822750173}}}\u001b[0m\n",
            "\u001b[34m#metrics {\"StartTime\": 1650178047.080074, \"EndTime\": 1650178047.0800843, \"Dimensions\": {\"Algorithm\": \"Linear Learner\", \"Host\": \"algo-1\", \"Operation\": \"training\", \"epoch\": 4, \"model\": 10}, \"Metrics\": {\"train_binary_classification_cross_entropy_objective\": {\"sum\": 0.4922007683570232, \"count\": 1, \"min\": 0.4922007683570232, \"max\": 0.4922007683570232}}}\u001b[0m\n",
            "\u001b[34m#metrics {\"StartTime\": 1650178047.080121, \"EndTime\": 1650178047.0801313, \"Dimensions\": {\"Algorithm\": \"Linear Learner\", \"Host\": \"algo-1\", \"Operation\": \"training\", \"epoch\": 4, \"model\": 11}, \"Metrics\": {\"train_binary_classification_cross_entropy_objective\": {\"sum\": 0.4930117098840369, \"count\": 1, \"min\": 0.4930117098840369, \"max\": 0.4930117098840369}}}\u001b[0m\n",
            "\u001b[34m#metrics {\"StartTime\": 1650178047.0801716, \"EndTime\": 1650178047.0801823, \"Dimensions\": {\"Algorithm\": \"Linear Learner\", \"Host\": \"algo-1\", \"Operation\": \"training\", \"epoch\": 4, \"model\": 12}, \"Metrics\": {\"train_binary_classification_cross_entropy_objective\": {\"sum\": 0.49227979693864826, \"count\": 1, \"min\": 0.49227979693864826, \"max\": 0.49227979693864826}}}\u001b[0m\n",
            "\u001b[34m#metrics {\"StartTime\": 1650178047.0802205, \"EndTime\": 1650178047.0802305, \"Dimensions\": {\"Algorithm\": \"Linear Learner\", \"Host\": \"algo-1\", \"Operation\": \"training\", \"epoch\": 4, \"model\": 13}, \"Metrics\": {\"train_binary_classification_cross_entropy_objective\": {\"sum\": 0.5065514104767312, \"count\": 1, \"min\": 0.5065514104767312, \"max\": 0.5065514104767312}}}\u001b[0m\n",
            "\u001b[34m#metrics {\"StartTime\": 1650178047.0802674, \"EndTime\": 1650178047.0802774, \"Dimensions\": {\"Algorithm\": \"Linear Learner\", \"Host\": \"algo-1\", \"Operation\": \"training\", \"epoch\": 4, \"model\": 14}, \"Metrics\": {\"train_binary_classification_cross_entropy_objective\": {\"sum\": 0.49227979682199086, \"count\": 1, \"min\": 0.49227979682199086, \"max\": 0.49227979682199086}}}\u001b[0m\n",
            "\u001b[34m#metrics {\"StartTime\": 1650178047.0803149, \"EndTime\": 1650178047.080325, \"Dimensions\": {\"Algorithm\": \"Linear Learner\", \"Host\": \"algo-1\", \"Operation\": \"training\", \"epoch\": 4, \"model\": 15}, \"Metrics\": {\"train_binary_classification_cross_entropy_objective\": {\"sum\": 0.5065514106867146, \"count\": 1, \"min\": 0.5065514106867146, \"max\": 0.5065514106867146}}}\u001b[0m\n",
            "\u001b[34m#metrics {\"StartTime\": 1650178047.0803611, \"EndTime\": 1650178047.0803711, \"Dimensions\": {\"Algorithm\": \"Linear Learner\", \"Host\": \"algo-1\", \"Operation\": \"training\", \"epoch\": 4, \"model\": 16}, \"Metrics\": {\"train_binary_classification_cross_entropy_objective\": {\"sum\": 0.5077779276669937, \"count\": 1, \"min\": 0.5077779276669937, \"max\": 0.5077779276669937}}}\u001b[0m\n",
            "\u001b[34m#metrics {\"StartTime\": 1650178047.0804079, \"EndTime\": 1650178047.0804179, \"Dimensions\": {\"Algorithm\": \"Linear Learner\", \"Host\": \"algo-1\", \"Operation\": \"training\", \"epoch\": 4, \"model\": 17}, \"Metrics\": {\"train_binary_classification_cross_entropy_objective\": {\"sum\": 0.5079786373453403, \"count\": 1, \"min\": 0.5079786373453403, \"max\": 0.5079786373453403}}}\u001b[0m\n",
            "\u001b[34m#metrics {\"StartTime\": 1650178047.0804543, \"EndTime\": 1650178047.0804644, \"Dimensions\": {\"Algorithm\": \"Linear Learner\", \"Host\": \"algo-1\", \"Operation\": \"training\", \"epoch\": 4, \"model\": 18}, \"Metrics\": {\"train_binary_classification_cross_entropy_objective\": {\"sum\": 0.5077901024074729, \"count\": 1, \"min\": 0.5077901024074729, \"max\": 0.5077901024074729}}}\u001b[0m\n",
            "\u001b[34m#metrics {\"StartTime\": 1650178047.0805013, \"EndTime\": 1650178047.0805113, \"Dimensions\": {\"Algorithm\": \"Linear Learner\", \"Host\": \"algo-1\", \"Operation\": \"training\", \"epoch\": 4, \"model\": 19}, \"Metrics\": {\"train_binary_classification_cross_entropy_objective\": {\"sum\": 0.5079786365754013, \"count\": 1, \"min\": 0.5079786365754013, \"max\": 0.5079786365754013}}}\u001b[0m\n",
            "\u001b[34m#metrics {\"StartTime\": 1650178047.0805478, \"EndTime\": 1650178047.0805578, \"Dimensions\": {\"Algorithm\": \"Linear Learner\", \"Host\": \"algo-1\", \"Operation\": \"training\", \"epoch\": 4, \"model\": 20}, \"Metrics\": {\"train_binary_classification_cross_entropy_objective\": {\"sum\": 0.5078022558929723, \"count\": 1, \"min\": 0.5078022558929723, \"max\": 0.5078022558929723}}}\u001b[0m\n",
            "\u001b[34m#metrics {\"StartTime\": 1650178047.0805945, \"EndTime\": 1650178047.0806043, \"Dimensions\": {\"Algorithm\": \"Linear Learner\", \"Host\": \"algo-1\", \"Operation\": \"training\", \"epoch\": 4, \"model\": 21}, \"Metrics\": {\"train_binary_classification_cross_entropy_objective\": {\"sum\": 0.5104910101234366, \"count\": 1, \"min\": 0.5104910101234366, \"max\": 0.5104910101234366}}}\u001b[0m\n",
            "\u001b[34m#metrics {\"StartTime\": 1650178047.0806408, \"EndTime\": 1650178047.0806508, \"Dimensions\": {\"Algorithm\": \"Linear Learner\", \"Host\": \"algo-1\", \"Operation\": \"training\", \"epoch\": 4, \"model\": 22}, \"Metrics\": {\"train_binary_classification_cross_entropy_objective\": {\"sum\": 0.5078022557763149, \"count\": 1, \"min\": 0.5078022557763149, \"max\": 0.5078022557763149}}}\u001b[0m\n",
            "\u001b[34m#metrics {\"StartTime\": 1650178047.0806901, \"EndTime\": 1650178047.0807006, \"Dimensions\": {\"Algorithm\": \"Linear Learner\", \"Host\": \"algo-1\", \"Operation\": \"training\", \"epoch\": 4, \"model\": 23}, \"Metrics\": {\"train_binary_classification_cross_entropy_objective\": {\"sum\": 0.5104910122932644, \"count\": 1, \"min\": 0.5104910122932644, \"max\": 0.5104910122932644}}}\u001b[0m\n",
            "\u001b[34m#metrics {\"StartTime\": 1650178047.0807378, \"EndTime\": 1650178047.0807478, \"Dimensions\": {\"Algorithm\": \"Linear Learner\", \"Host\": \"algo-1\", \"Operation\": \"training\", \"epoch\": 4, \"model\": 24}, \"Metrics\": {\"train_binary_classification_cross_entropy_objective\": {\"sum\": 0.5137664525676575, \"count\": 1, \"min\": 0.5137664525676575, \"max\": 0.5137664525676575}}}\u001b[0m\n",
            "\u001b[34m#metrics {\"StartTime\": 1650178047.0807846, \"EndTime\": 1650178047.0807946, \"Dimensions\": {\"Algorithm\": \"Linear Learner\", \"Host\": \"algo-1\", \"Operation\": \"training\", \"epoch\": 4, \"model\": 25}, \"Metrics\": {\"train_binary_classification_cross_entropy_objective\": {\"sum\": 0.5138550703882806, \"count\": 1, \"min\": 0.5138550703882806, \"max\": 0.5138550703882806}}}\u001b[0m\n",
            "\u001b[34m#metrics {\"StartTime\": 1650178047.080831, \"EndTime\": 1650178047.080841, \"Dimensions\": {\"Algorithm\": \"Linear Learner\", \"Host\": \"algo-1\", \"Operation\": \"training\", \"epoch\": 4, \"model\": 26}, \"Metrics\": {\"train_binary_classification_cross_entropy_objective\": {\"sum\": 0.513770098718299, \"count\": 1, \"min\": 0.513770098718299, \"max\": 0.513770098718299}}}\u001b[0m\n",
            "\u001b[34m#metrics {\"StartTime\": 1650178047.0808773, \"EndTime\": 1650178047.0808873, \"Dimensions\": {\"Algorithm\": \"Linear Learner\", \"Host\": \"algo-1\", \"Operation\": \"training\", \"epoch\": 4, \"model\": 27}, \"Metrics\": {\"train_binary_classification_cross_entropy_objective\": {\"sum\": 0.5138551725335078, \"count\": 1, \"min\": 0.5138551725335078, \"max\": 0.5138551725335078}}}\u001b[0m\n",
            "\u001b[34m#metrics {\"StartTime\": 1650178047.0809236, \"EndTime\": 1650178047.0809336, \"Dimensions\": {\"Algorithm\": \"Linear Learner\", \"Host\": \"algo-1\", \"Operation\": \"training\", \"epoch\": 4, \"model\": 28}, \"Metrics\": {\"train_binary_classification_cross_entropy_objective\": {\"sum\": 0.5137755617847501, \"count\": 1, \"min\": 0.5137755617847501, \"max\": 0.5137755617847501}}}\u001b[0m\n",
            "\u001b[34m#metrics {\"StartTime\": 1650178047.0809703, \"EndTime\": 1650178047.08098, \"Dimensions\": {\"Algorithm\": \"Linear Learner\", \"Host\": \"algo-1\", \"Operation\": \"training\", \"epoch\": 4, \"model\": 29}, \"Metrics\": {\"train_binary_classification_cross_entropy_objective\": {\"sum\": 0.51473131997578, \"count\": 1, \"min\": 0.51473131997578, \"max\": 0.51473131997578}}}\u001b[0m\n",
            "\u001b[34m#metrics {\"StartTime\": 1650178047.0810218, \"EndTime\": 1650178047.081031, \"Dimensions\": {\"Algorithm\": \"Linear Learner\", \"Host\": \"algo-1\", \"Operation\": \"training\", \"epoch\": 4, \"model\": 30}, \"Metrics\": {\"train_binary_classification_cross_entropy_objective\": {\"sum\": 0.513775641881727, \"count\": 1, \"min\": 0.513775641881727, \"max\": 0.513775641881727}}}\u001b[0m\n",
            "\u001b[34m#metrics {\"StartTime\": 1650178047.0810642, \"EndTime\": 1650178047.0810714, \"Dimensions\": {\"Algorithm\": \"Linear Learner\", \"Host\": \"algo-1\", \"Operation\": \"training\", \"epoch\": 4, \"model\": 31}, \"Metrics\": {\"train_binary_classification_cross_entropy_objective\": {\"sum\": 0.5147312997707169, \"count\": 1, \"min\": 0.5147312997707169, \"max\": 0.5147312997707169}}}\u001b[0m\n",
            "\u001b[34m[04/17/2022 06:47:27 INFO 140392468272960] #quality_metric: host=algo-1, epoch=4, train binary_classification_cross_entropy_objective <loss>=0.49195426373962964\u001b[0m\n",
            "\u001b[34m[2022-04-17 06:47:32.021] [tensorio] [info] epoch_stats={\"data_pipeline\": \"/opt/ml/input/data/validation\", \"epoch\": 14, \"duration\": 4916, \"num_examples\": 164, \"num_bytes\": 69349016}\u001b[0m\n",
            "\u001b[34m#metrics {\"StartTime\": 1650178052.0310323, \"EndTime\": 1650178052.0310946, \"Dimensions\": {\"Algorithm\": \"Linear Learner\", \"Host\": \"algo-1\", \"Operation\": \"training\", \"epoch\": 4, \"model\": 0}, \"Metrics\": {\"validation_binary_classification_cross_entropy_objective\": {\"sum\": 0.4915897318843683, \"count\": 1, \"min\": 0.4915897318843683, \"max\": 0.4915897318843683}}}\u001b[0m\n",
            "\u001b[34m#metrics {\"StartTime\": 1650178052.0311804, \"EndTime\": 1650178052.0312018, \"Dimensions\": {\"Algorithm\": \"Linear Learner\", \"Host\": \"algo-1\", \"Operation\": \"training\", \"epoch\": 4, \"model\": 1}, \"Metrics\": {\"validation_binary_classification_cross_entropy_objective\": {\"sum\": 0.4928925489924388, \"count\": 1, \"min\": 0.4928925489924388, \"max\": 0.4928925489924388}}}\u001b[0m\n",
            "\u001b[34m#metrics {\"StartTime\": 1650178052.0312622, \"EndTime\": 1650178052.03128, \"Dimensions\": {\"Algorithm\": \"Linear Learner\", \"Host\": \"algo-1\", \"Operation\": \"training\", \"epoch\": 4, \"model\": 2}, \"Metrics\": {\"validation_binary_classification_cross_entropy_objective\": {\"sum\": 0.4916069551285894, \"count\": 1, \"min\": 0.4916069551285894, \"max\": 0.4916069551285894}}}\u001b[0m\n",
            "\u001b[34m#metrics {\"StartTime\": 1650178052.0313363, \"EndTime\": 1650178052.0313554, \"Dimensions\": {\"Algorithm\": \"Linear Learner\", \"Host\": \"algo-1\", \"Operation\": \"training\", \"epoch\": 4, \"model\": 3}, \"Metrics\": {\"validation_binary_classification_cross_entropy_objective\": {\"sum\": 0.49289244207950667, \"count\": 1, \"min\": 0.49289244207950667, \"max\": 0.49289244207950667}}}\u001b[0m\n",
            "\u001b[34m#metrics {\"StartTime\": 1650178052.0314116, \"EndTime\": 1650178052.0314283, \"Dimensions\": {\"Algorithm\": \"Linear Learner\", \"Host\": \"algo-1\", \"Operation\": \"training\", \"epoch\": 4, \"model\": 4}, \"Metrics\": {\"validation_binary_classification_cross_entropy_objective\": {\"sum\": 0.4916107810442495, \"count\": 1, \"min\": 0.4916107810442495, \"max\": 0.4916107810442495}}}\u001b[0m\n",
            "\u001b[34m#metrics {\"StartTime\": 1650178052.0314817, \"EndTime\": 1650178052.0314987, \"Dimensions\": {\"Algorithm\": \"Linear Learner\", \"Host\": \"algo-1\", \"Operation\": \"training\", \"epoch\": 4, \"model\": 5}, \"Metrics\": {\"validation_binary_classification_cross_entropy_objective\": {\"sum\": 0.5077240580028055, \"count\": 1, \"min\": 0.5077240580028055, \"max\": 0.5077240580028055}}}\u001b[0m\n",
            "\u001b[34m#metrics {\"StartTime\": 1650178052.0315511, \"EndTime\": 1650178052.031567, \"Dimensions\": {\"Algorithm\": \"Linear Learner\", \"Host\": \"algo-1\", \"Operation\": \"training\", \"epoch\": 4, \"model\": 6}, \"Metrics\": {\"validation_binary_classification_cross_entropy_objective\": {\"sum\": 0.4916107879478769, \"count\": 1, \"min\": 0.4916107879478769, \"max\": 0.4916107879478769}}}\u001b[0m\n",
            "\u001b[34m#metrics {\"StartTime\": 1650178052.03162, \"EndTime\": 1650178052.0316362, \"Dimensions\": {\"Algorithm\": \"Linear Learner\", \"Host\": \"algo-1\", \"Operation\": \"training\", \"epoch\": 4, \"model\": 7}, \"Metrics\": {\"validation_binary_classification_cross_entropy_objective\": {\"sum\": 0.5076557451172055, \"count\": 1, \"min\": 0.5076557451172055, \"max\": 0.5076557451172055}}}\u001b[0m\n",
            "\u001b[34m#metrics {\"StartTime\": 1650178052.0316877, \"EndTime\": 1650178052.031704, \"Dimensions\": {\"Algorithm\": \"Linear Learner\", \"Host\": \"algo-1\", \"Operation\": \"training\", \"epoch\": 4, \"model\": 8}, \"Metrics\": {\"validation_binary_classification_cross_entropy_objective\": {\"sum\": 0.4918659816534811, \"count\": 1, \"min\": 0.4918659816534811, \"max\": 0.4918659816534811}}}\u001b[0m\n",
            "\u001b[34m#metrics {\"StartTime\": 1650178052.031757, \"EndTime\": 1650178052.0317724, \"Dimensions\": {\"Algorithm\": \"Linear Learner\", \"Host\": \"algo-1\", \"Operation\": \"training\", \"epoch\": 4, \"model\": 9}, \"Metrics\": {\"validation_binary_classification_cross_entropy_objective\": {\"sum\": 0.4931408049256953, \"count\": 1, \"min\": 0.4931408049256953, \"max\": 0.4931408049256953}}}\u001b[0m\n",
            "\u001b[34m#metrics {\"StartTime\": 1650178052.0318217, \"EndTime\": 1650178052.031837, \"Dimensions\": {\"Algorithm\": \"Linear Learner\", \"Host\": \"algo-1\", \"Operation\": \"training\", \"epoch\": 4, \"model\": 10}, \"Metrics\": {\"validation_binary_classification_cross_entropy_objective\": {\"sum\": 0.4918892257937001, \"count\": 1, \"min\": 0.4918892257937001, \"max\": 0.4918892257937001}}}\u001b[0m\n",
            "\u001b[34m#metrics {\"StartTime\": 1650178052.031886, \"EndTime\": 1650178052.0319026, \"Dimensions\": {\"Algorithm\": \"Linear Learner\", \"Host\": \"algo-1\", \"Operation\": \"training\", \"epoch\": 4, \"model\": 11}, \"Metrics\": {\"validation_binary_classification_cross_entropy_objective\": {\"sum\": 0.49314080399277266, \"count\": 1, \"min\": 0.49314080399277266, \"max\": 0.49314080399277266}}}\u001b[0m\n",
            "\u001b[34m#metrics {\"StartTime\": 1650178052.0319543, \"EndTime\": 1650178052.03197, \"Dimensions\": {\"Algorithm\": \"Linear Learner\", \"Host\": \"algo-1\", \"Operation\": \"training\", \"epoch\": 4, \"model\": 12}, \"Metrics\": {\"validation_binary_classification_cross_entropy_objective\": {\"sum\": 0.49190624827297363, \"count\": 1, \"min\": 0.49190624827297363, \"max\": 0.49190624827297363}}}\u001b[0m\n",
            "\u001b[34m#metrics {\"StartTime\": 1650178052.0320227, \"EndTime\": 1650178052.0320392, \"Dimensions\": {\"Algorithm\": \"Linear Learner\", \"Host\": \"algo-1\", \"Operation\": \"training\", \"epoch\": 4, \"model\": 13}, \"Metrics\": {\"validation_binary_classification_cross_entropy_objective\": {\"sum\": 0.5067773130157972, \"count\": 1, \"min\": 0.5067773130157972, \"max\": 0.5067773130157972}}}\u001b[0m\n",
            "\u001b[34m#metrics {\"StartTime\": 1650178052.0320907, \"EndTime\": 1650178052.0321074, \"Dimensions\": {\"Algorithm\": \"Linear Learner\", \"Host\": \"algo-1\", \"Operation\": \"training\", \"epoch\": 4, \"model\": 14}, \"Metrics\": {\"validation_binary_classification_cross_entropy_objective\": {\"sum\": 0.4919062501388189, \"count\": 1, \"min\": 0.4919062501388189, \"max\": 0.4919062501388189}}}\u001b[0m\n",
            "\u001b[34m#metrics {\"StartTime\": 1650178052.0321581, \"EndTime\": 1650178052.0321743, \"Dimensions\": {\"Algorithm\": \"Linear Learner\", \"Host\": \"algo-1\", \"Operation\": \"training\", \"epoch\": 4, \"model\": 15}, \"Metrics\": {\"validation_binary_classification_cross_entropy_objective\": {\"sum\": 0.5067772908122389, \"count\": 1, \"min\": 0.5067772908122389, \"max\": 0.5067772908122389}}}\u001b[0m\n",
            "\u001b[34m#metrics {\"StartTime\": 1650178052.0322273, \"EndTime\": 1650178052.0322425, \"Dimensions\": {\"Algorithm\": \"Linear Learner\", \"Host\": \"algo-1\", \"Operation\": \"training\", \"epoch\": 4, \"model\": 16}, \"Metrics\": {\"validation_binary_classification_cross_entropy_objective\": {\"sum\": 0.5077517572216987, \"count\": 1, \"min\": 0.5077517572216987, \"max\": 0.5077517572216987}}}\u001b[0m\n",
            "\u001b[34m#metrics {\"StartTime\": 1650178052.0322905, \"EndTime\": 1650178052.0323074, \"Dimensions\": {\"Algorithm\": \"Linear Learner\", \"Host\": \"algo-1\", \"Operation\": \"training\", \"epoch\": 4, \"model\": 17}, \"Metrics\": {\"validation_binary_classification_cross_entropy_objective\": {\"sum\": 0.5079980368516794, \"count\": 1, \"min\": 0.5079980368516794, \"max\": 0.5079980368516794}}}\u001b[0m\n",
            "\u001b[34m#metrics {\"StartTime\": 1650178052.0323584, \"EndTime\": 1650178052.0323737, \"Dimensions\": {\"Algorithm\": \"Linear Learner\", \"Host\": \"algo-1\", \"Operation\": \"training\", \"epoch\": 4, \"model\": 18}, \"Metrics\": {\"validation_binary_classification_cross_entropy_objective\": {\"sum\": 0.5077975639088714, \"count\": 1, \"min\": 0.5077975639088714, \"max\": 0.5077975639088714}}}\u001b[0m\n",
            "\u001b[34m#metrics {\"StartTime\": 1650178052.0324268, \"EndTime\": 1650178052.0324428, \"Dimensions\": {\"Algorithm\": \"Linear Learner\", \"Host\": \"algo-1\", \"Operation\": \"training\", \"epoch\": 4, \"model\": 19}, \"Metrics\": {\"validation_binary_classification_cross_entropy_objective\": {\"sum\": 0.507998045247983, \"count\": 1, \"min\": 0.507998045247983, \"max\": 0.507998045247983}}}\u001b[0m\n",
            "\u001b[34m#metrics {\"StartTime\": 1650178052.032494, \"EndTime\": 1650178052.03251, \"Dimensions\": {\"Algorithm\": \"Linear Learner\", \"Host\": \"algo-1\", \"Operation\": \"training\", \"epoch\": 4, \"model\": 20}, \"Metrics\": {\"validation_binary_classification_cross_entropy_objective\": {\"sum\": 0.5078035075588764, \"count\": 1, \"min\": 0.5078035075588764, \"max\": 0.5078035075588764}}}\u001b[0m\n",
            "\u001b[34m#metrics {\"StartTime\": 1650178052.0325608, \"EndTime\": 1650178052.032577, \"Dimensions\": {\"Algorithm\": \"Linear Learner\", \"Host\": \"algo-1\", \"Operation\": \"training\", \"epoch\": 4, \"model\": 21}, \"Metrics\": {\"validation_binary_classification_cross_entropy_objective\": {\"sum\": 0.5093313359002308, \"count\": 1, \"min\": 0.5093313359002308, \"max\": 0.5093313359002308}}}\u001b[0m\n",
            "\u001b[34m#metrics {\"StartTime\": 1650178052.0326288, \"EndTime\": 1650178052.0326443, \"Dimensions\": {\"Algorithm\": \"Linear Learner\", \"Host\": \"algo-1\", \"Operation\": \"training\", \"epoch\": 4, \"model\": 22}, \"Metrics\": {\"validation_binary_classification_cross_entropy_objective\": {\"sum\": 0.5078035055064466, \"count\": 1, \"min\": 0.5078035055064466, \"max\": 0.5078035055064466}}}\u001b[0m\n",
            "\u001b[34m#metrics {\"StartTime\": 1650178052.032694, \"EndTime\": 1650178052.0327103, \"Dimensions\": {\"Algorithm\": \"Linear Learner\", \"Host\": \"algo-1\", \"Operation\": \"training\", \"epoch\": 4, \"model\": 23}, \"Metrics\": {\"validation_binary_classification_cross_entropy_objective\": {\"sum\": 0.5093313304892797, \"count\": 1, \"min\": 0.5093313304892797, \"max\": 0.5093313304892797}}}\u001b[0m\n",
            "\u001b[34m#metrics {\"StartTime\": 1650178052.0327609, \"EndTime\": 1650178052.0327752, \"Dimensions\": {\"Algorithm\": \"Linear Learner\", \"Host\": \"algo-1\", \"Operation\": \"training\", \"epoch\": 4, \"model\": 24}, \"Metrics\": {\"validation_binary_classification_cross_entropy_objective\": {\"sum\": 0.5137600835799553, \"count\": 1, \"min\": 0.5137600835799553, \"max\": 0.5137600835799553}}}\u001b[0m\n",
            "\u001b[34m#metrics {\"StartTime\": 1650178052.0328243, \"EndTime\": 1650178052.0328407, \"Dimensions\": {\"Algorithm\": \"Linear Learner\", \"Host\": \"algo-1\", \"Operation\": \"training\", \"epoch\": 4, \"model\": 25}, \"Metrics\": {\"validation_binary_classification_cross_entropy_objective\": {\"sum\": 0.5143184260125432, \"count\": 1, \"min\": 0.5143184260125432, \"max\": 0.5143184260125432}}}\u001b[0m\n",
            "\u001b[34m#metrics {\"StartTime\": 1650178052.0328937, \"EndTime\": 1650178052.0329092, \"Dimensions\": {\"Algorithm\": \"Linear Learner\", \"Host\": \"algo-1\", \"Operation\": \"training\", \"epoch\": 4, \"model\": 26}, \"Metrics\": {\"validation_binary_classification_cross_entropy_objective\": {\"sum\": 0.5137591452463852, \"count\": 1, \"min\": 0.5137591452463852, \"max\": 0.5137591452463852}}}\u001b[0m\n",
            "\u001b[34m#metrics {\"StartTime\": 1650178052.0329633, \"EndTime\": 1650178052.0329797, \"Dimensions\": {\"Algorithm\": \"Linear Learner\", \"Host\": \"algo-1\", \"Operation\": \"training\", \"epoch\": 4, \"model\": 27}, \"Metrics\": {\"validation_binary_classification_cross_entropy_objective\": {\"sum\": 0.5143226306947866, \"count\": 1, \"min\": 0.5143226306947866, \"max\": 0.5143226306947866}}}\u001b[0m\n",
            "\u001b[34m#metrics {\"StartTime\": 1650178052.033032, \"EndTime\": 1650178052.033048, \"Dimensions\": {\"Algorithm\": \"Linear Learner\", \"Host\": \"algo-1\", \"Operation\": \"training\", \"epoch\": 4, \"model\": 28}, \"Metrics\": {\"validation_binary_classification_cross_entropy_objective\": {\"sum\": 0.5137618469902895, \"count\": 1, \"min\": 0.5137618469902895, \"max\": 0.5137618469902895}}}\u001b[0m\n",
            "\u001b[34m#metrics {\"StartTime\": 1650178052.0330994, \"EndTime\": 1650178052.0331159, \"Dimensions\": {\"Algorithm\": \"Linear Learner\", \"Host\": \"algo-1\", \"Operation\": \"training\", \"epoch\": 4, \"model\": 29}, \"Metrics\": {\"validation_binary_classification_cross_entropy_objective\": {\"sum\": 0.513916977095051, \"count\": 1, \"min\": 0.513916977095051, \"max\": 0.513916977095051}}}\u001b[0m\n",
            "\u001b[34m#metrics {\"StartTime\": 1650178052.0331686, \"EndTime\": 1650178052.033184, \"Dimensions\": {\"Algorithm\": \"Linear Learner\", \"Host\": \"algo-1\", \"Operation\": \"training\", \"epoch\": 4, \"model\": 30}, \"Metrics\": {\"validation_binary_classification_cross_entropy_objective\": {\"sum\": 0.5137601035444993, \"count\": 1, \"min\": 0.5137601035444993, \"max\": 0.5137601035444993}}}\u001b[0m\n",
            "\u001b[34m#metrics {\"StartTime\": 1650178052.0332344, \"EndTime\": 1650178052.0332496, \"Dimensions\": {\"Algorithm\": \"Linear Learner\", \"Host\": \"algo-1\", \"Operation\": \"training\", \"epoch\": 4, \"model\": 31}, \"Metrics\": {\"validation_binary_classification_cross_entropy_objective\": {\"sum\": 0.5139169672060713, \"count\": 1, \"min\": 0.5139169672060713, \"max\": 0.5139169672060713}}}\u001b[0m\n",
            "\u001b[34m[04/17/2022 06:47:32 INFO 140392468272960] #quality_metric: host=algo-1, epoch=4, validation binary_classification_cross_entropy_objective <loss>=0.4915897318843683\u001b[0m\n",
            "\u001b[34m[04/17/2022 06:47:32 INFO 140392468272960] #early_stopping_criteria_metric: host=algo-1, epoch=4, criteria=binary_classification_cross_entropy_objective, value=0.4915897318843683\u001b[0m\n",
            "\u001b[34m[04/17/2022 06:47:32 INFO 140392468272960] Saving model for epoch: 4\u001b[0m\n",
            "\u001b[34m[04/17/2022 06:47:32 INFO 140392468272960] Saved checkpoint to \"/tmp/tmpxvrqq08_/mx-mod-0000.params\"\u001b[0m\n",
            "\u001b[34m[04/17/2022 06:47:32 INFO 140392468272960] Early stop condition met. Stopping training.\u001b[0m\n",
            "\u001b[34m[04/17/2022 06:47:32 INFO 140392468272960] #progress_metric: host=algo-1, completed 100 % epochs\u001b[0m\n",
            "\u001b[34m#metrics {\"StartTime\": 1650177990.6534126, \"EndTime\": 1650178052.0420678, \"Dimensions\": {\"Algorithm\": \"Linear Learner\", \"Host\": \"algo-1\", \"Operation\": \"training\", \"epoch\": 4, \"Meta\": \"training_data_iter\"}, \"Metrics\": {\"Total Records Seen\": {\"sum\": 6554360.0, \"count\": 1, \"min\": 6554360, \"max\": 6554360}, \"Total Batches Seen\": {\"sum\": 6557.0, \"count\": 1, \"min\": 6557, \"max\": 6557}, \"Max Records Seen Between Resets\": {\"sum\": 1308472.0, \"count\": 1, \"min\": 1308472, \"max\": 1308472}, \"Max Batches Seen Between Resets\": {\"sum\": 1309.0, \"count\": 1, \"min\": 1309, \"max\": 1309}, \"Reset Count\": {\"sum\": 7.0, \"count\": 1, \"min\": 7, \"max\": 7}, \"Number of Records Since Last Reset\": {\"sum\": 1308472.0, \"count\": 1, \"min\": 1308472, \"max\": 1308472}, \"Number of Batches Since Last Reset\": {\"sum\": 1309.0, \"count\": 1, \"min\": 1309, \"max\": 1309}}}\u001b[0m\n",
            "\u001b[34m[04/17/2022 06:47:32 INFO 140392468272960] #throughput_metric: host=algo-1, train throughput=21314.4939997521 records/second\u001b[0m\n",
            "\u001b[34m[04/17/2022 06:47:32 WARNING 140392468272960] wait_for_all_workers will not sync workers since the kv store is not running distributed\u001b[0m\n",
            "\u001b[34m[04/17/2022 06:47:32 WARNING 140392468272960] wait_for_all_workers will not sync workers since the kv store is not running distributed\u001b[0m\n",
            "\u001b[34m[2022-04-17 06:47:36.914] [tensorio] [info] epoch_stats={\"data_pipeline\": \"/opt/ml/input/data/validation\", \"epoch\": 17, \"duration\": 4843, \"num_examples\": 164, \"num_bytes\": 69349016}\u001b[0m\n",
            "\u001b[34m[04/17/2022 06:47:36 INFO 140392468272960] #early_stopping_criteria_metric: host=algo-1, epoch=4, criteria=binary_classification_cross_entropy_objective, value=0.4915897318843683\u001b[0m\n",
            "\u001b[34m[2022-04-17 06:47:37.751] [tensorio] [info] epoch_stats={\"data_pipeline\": \"/opt/ml/input/data/validation\", \"epoch\": 19, \"duration\": 820, \"num_examples\": 164, \"num_bytes\": 69349016}\u001b[0m\n",
            "\u001b[34m[04/17/2022 06:47:38 INFO 140392468272960] #validation_score (algo-1) : ('binary_classification_cross_entropy_objective', 0.4920907714109353)\u001b[0m\n",
            "\u001b[34m[04/17/2022 06:47:38 INFO 140392468272960] #validation_score (algo-1) : ('binary_classification_accuracy', 0.7902652865326885)\u001b[0m\n",
            "\u001b[34m[04/17/2022 06:47:38 INFO 140392468272960] #validation_score (algo-1) : ('binary_f_1.000', 0.006487488415199258)\u001b[0m\n",
            "\u001b[34m[04/17/2022 06:47:38 INFO 140392468272960] #validation_score (algo-1) : ('precision', 0.5743589743589743)\u001b[0m\n",
            "\u001b[34m[04/17/2022 06:47:38 INFO 140392468272960] #validation_score (algo-1) : ('recall', 0.0032621675938601345)\u001b[0m\n",
            "\u001b[34m[04/17/2022 06:47:38 INFO 140392468272960] #validation_score (algo-1) : ('roc_auc_score', 0.6443009332286221)\u001b[0m\n",
            "\u001b[34m[04/17/2022 06:47:38 INFO 140392468272960] #validation_score (algo-1) : ('binary_balanced_accuracy', 0.5)\u001b[0m\n",
            "\u001b[34m[04/17/2022 06:47:38 INFO 140392468272960] #validation_score (algo-1) : ('binary_log_loss', 0.753502537472036)\u001b[0m\n",
            "\u001b[34m[04/17/2022 06:47:38 INFO 140392468272960] #quality_metric: host=algo-1, validation binary_classification_cross_entropy_objective <loss>=0.4920907714109353\u001b[0m\n",
            "\u001b[34m[04/17/2022 06:47:38 INFO 140392468272960] #quality_metric: host=algo-1, validation binary_classification_accuracy <score>=0.7902652865326885\u001b[0m\n",
            "\u001b[34m[04/17/2022 06:47:38 INFO 140392468272960] #quality_metric: host=algo-1, validation binary_f_1.000 <score>=0.006487488415199258\u001b[0m\n",
            "\u001b[34m[04/17/2022 06:47:38 INFO 140392468272960] #quality_metric: host=algo-1, validation precision <score>=0.5743589743589743\u001b[0m\n",
            "\u001b[34m[04/17/2022 06:47:38 INFO 140392468272960] #quality_metric: host=algo-1, validation recall <score>=0.0032621675938601345\u001b[0m\n",
            "\u001b[34m[04/17/2022 06:47:38 INFO 140392468272960] #quality_metric: host=algo-1, validation roc_auc_score <score>=0.6443009332286221\u001b[0m\n",
            "\u001b[34m[04/17/2022 06:47:38 INFO 140392468272960] #quality_metric: host=algo-1, validation binary_balanced_accuracy <score>=0.5\u001b[0m\n",
            "\u001b[34m[04/17/2022 06:47:38 INFO 140392468272960] #quality_metric: host=algo-1, validation binary_log_loss <score>=0.753502537472036\u001b[0m\n",
            "\u001b[34m[04/17/2022 06:47:38 INFO 140392468272960] Best model found for hyperparameters: {\"optimizer\": \"adam\", \"learning_rate\": 0.005, \"wd\": 0.0001, \"l1\": 0.0, \"lr_scheduler_step\": 10, \"lr_scheduler_factor\": 0.99, \"lr_scheduler_minimum_lr\": 0.0001}\u001b[0m\n",
            "\u001b[34m[04/17/2022 06:47:38 INFO 140392468272960] Saved checkpoint to \"/tmp/tmpbekvxvcg/mx-mod-0000.params\"\u001b[0m\n",
            "\u001b[34m[2022-04-17 06:47:38.099] [tensorio] [info] epoch_stats={\"data_pipeline\": \"/opt/ml/input/data/test\", \"epoch\": 0, \"duration\": 313047, \"num_examples\": 1, \"num_bytes\": 424000}\u001b[0m\n",
            "\u001b[34m[2022-04-17 06:47:38.958] [tensorio] [info] epoch_stats={\"data_pipeline\": \"/opt/ml/input/data/test\", \"epoch\": 1, \"duration\": 859, \"num_examples\": 164, \"num_bytes\": 69349016}\u001b[0m\n",
            "\u001b[34m#metrics {\"StartTime\": 1650178058.0953405, \"EndTime\": 1650178059.3191352, \"Dimensions\": {\"Algorithm\": \"Linear Learner\", \"Host\": \"algo-1\", \"Operation\": \"training\", \"Meta\": \"test_data_iter\"}, \"Metrics\": {\"Total Records Seen\": {\"sum\": 163559.0, \"count\": 1, \"min\": 163559, \"max\": 163559}, \"Total Batches Seen\": {\"sum\": 164.0, \"count\": 1, \"min\": 164, \"max\": 164}, \"Max Records Seen Between Resets\": {\"sum\": 163559.0, \"count\": 1, \"min\": 163559, \"max\": 163559}, \"Max Batches Seen Between Resets\": {\"sum\": 164.0, \"count\": 1, \"min\": 164, \"max\": 164}, \"Reset Count\": {\"sum\": 1.0, \"count\": 1, \"min\": 1, \"max\": 1}, \"Number of Records Since Last Reset\": {\"sum\": 163559.0, \"count\": 1, \"min\": 163559, \"max\": 163559}, \"Number of Batches Since Last Reset\": {\"sum\": 164.0, \"count\": 1, \"min\": 164, \"max\": 164}}}\u001b[0m\n",
            "\u001b[34m[04/17/2022 06:47:39 INFO 140392468272960] #test_score (algo-1) : ('binary_classification_cross_entropy_objective', 0.4930128805237617)\u001b[0m\n",
            "\u001b[34m[04/17/2022 06:47:39 INFO 140392468272960] #test_score (algo-1) : ('binary_classification_accuracy', 0.7903631105594923)\u001b[0m\n",
            "\u001b[34m[04/17/2022 06:47:39 INFO 140392468272960] #test_score (algo-1) : ('binary_f_1.000', 0.00809997685720898)\u001b[0m\n",
            "\u001b[34m[04/17/2022 06:47:39 INFO 140392468272960] #test_score (algo-1) : ('precision', 0.5957446808510638)\u001b[0m\n",
            "\u001b[34m[04/17/2022 06:47:39 INFO 140392468272960] #test_score (algo-1) : ('recall', 0.004077709492325168)\u001b[0m\n",
            "\u001b[34m[04/17/2022 06:47:39 INFO 140392468272960] #test_score (algo-1) : ('roc_auc_score', 0.6411015953231598)\u001b[0m\n",
            "\u001b[34m[04/17/2022 06:47:39 INFO 140392468272960] #test_score (algo-1) : ('binary_balanced_accuracy', 0.5)\u001b[0m\n",
            "\u001b[34m[04/17/2022 06:47:39 INFO 140392468272960] #test_score (algo-1) : ('binary_log_loss', 0.7537068288379805)\u001b[0m\n",
            "\u001b[34m[04/17/2022 06:47:39 INFO 140392468272960] #quality_metric: host=algo-1, test binary_classification_cross_entropy_objective <loss>=0.4930128805237617\u001b[0m\n",
            "\u001b[34m[04/17/2022 06:47:39 INFO 140392468272960] #quality_metric: host=algo-1, test binary_classification_accuracy <score>=0.7903631105594923\u001b[0m\n",
            "\u001b[34m[04/17/2022 06:47:39 INFO 140392468272960] #quality_metric: host=algo-1, test binary_f_1.000 <score>=0.00809997685720898\u001b[0m\n",
            "\u001b[34m[04/17/2022 06:47:39 INFO 140392468272960] #quality_metric: host=algo-1, test precision <score>=0.5957446808510638\u001b[0m\n",
            "\u001b[34m[04/17/2022 06:47:39 INFO 140392468272960] #quality_metric: host=algo-1, test recall <score>=0.004077709492325168\u001b[0m\n",
            "\u001b[34m[04/17/2022 06:47:39 INFO 140392468272960] #quality_metric: host=algo-1, test roc_auc_score <score>=0.6411015953231598\u001b[0m\n",
            "\u001b[34m[04/17/2022 06:47:39 INFO 140392468272960] #quality_metric: host=algo-1, test binary_balanced_accuracy <score>=0.5\u001b[0m\n",
            "\u001b[34m[04/17/2022 06:47:39 INFO 140392468272960] #quality_metric: host=algo-1, test binary_log_loss <score>=0.7537068288379805\u001b[0m\n",
            "\u001b[34m#metrics {\"StartTime\": 1650177745.0172725, \"EndTime\": 1650178059.328064, \"Dimensions\": {\"Algorithm\": \"Linear Learner\", \"Host\": \"algo-1\", \"Operation\": \"training\"}, \"Metrics\": {\"initialize.time\": {\"sum\": 483.02173614501953, \"count\": 1, \"min\": 483.02173614501953, \"max\": 483.02173614501953}, \"epochs\": {\"sum\": 15.0, \"count\": 1, \"min\": 15, \"max\": 15}, \"check_early_stopping.time\": {\"sum\": 2.191305160522461, \"count\": 6, \"min\": 0.23865699768066406, \"max\": 0.8230209350585938}, \"update.time\": {\"sum\": 306444.3693161011, \"count\": 5, \"min\": 60768.50175857544, \"max\": 61872.11203575134}, \"finalize.time\": {\"sum\": 6049.391269683838, \"count\": 1, \"min\": 6049.391269683838, \"max\": 6049.391269683838}, \"setuptime\": {\"sum\": 28.70631217956543, \"count\": 1, \"min\": 28.70631217956543, \"max\": 28.70631217956543}, \"totaltime\": {\"sum\": 314561.4757537842, \"count\": 1, \"min\": 314561.4757537842, \"max\": 314561.4757537842}}}\u001b[0m\n",
            "\u001b[34m[04/17/2022 06:47:39 INFO 140392468272960 integration.py:636] worker closed\u001b[0m\n",
            "\n",
            "2022-04-17 06:48:20 Uploading - Uploading generated training model\n",
            "2022-04-17 06:48:39 Completed - Training job completed\n",
            "ProfilerReport-1650177553: NoIssuesFound\n",
            "Training seconds: 448\n",
            "Billable seconds: 448\n"
          ]
        }
      ],
      "source": [
        "### Fit the classifier\n",
        "classifier_estimator.fit([train_records,val_records,test_records])"
      ]
    },
    {
      "cell_type": "markdown",
      "metadata": {
        "id": "-51E_tMLV__D"
      },
      "source": [
        "## Model evaluation\n",
        "In this section, you will evaluate your trained model. "
      ]
    },
    {
      "cell_type": "markdown",
      "metadata": {
        "id": "Mr8Qw8ItV__D"
      },
      "source": [
        "First, examine the metrics for the training job:"
      ]
    },
    {
      "cell_type": "code",
      "execution_count": null,
      "metadata": {
        "id": "HtQEdgATV__E"
      },
      "outputs": [],
      "source": [
        "sagemaker.analytics.TrainingJobAnalytics(classifier_estimator._current_job_name, \n",
        "                                         metric_names = ['test:objective_loss', \n",
        "                                                         'test:binary_f_beta',\n",
        "                                                         'test:precision',\n",
        "                                                         'test:recall']\n",
        "                                        ).dataframe()"
      ]
    },
    {
      "cell_type": "markdown",
      "metadata": {
        "id": "lAbxdrd5V__E"
      },
      "source": [
        "Next, set up some functions that will help load the test data into Amazon S3 and perform a prediction by using the batch prediction function. Using batch prediction will help reduce costs because the instances will only run when predictions are performed on the supplied test data.\n",
        "\n",
        "**Note:** Replace `<LabBucketName>` with the name of the lab bucket that was created during the lab setup."
      ]
    },
    {
      "cell_type": "code",
      "execution_count": null,
      "metadata": {
        "id": "edLfAaMVV__E"
      },
      "outputs": [],
      "source": [
        "import io\n",
        "bucket='sagemaker-us-east-1-513540975660'\n",
        "prefix='flight-linear'\n",
        "train_file='flight_train.csv'\n",
        "test_file='flight_test.csv'\n",
        "validate_file='flight_validate.csv'\n",
        "whole_file='flight.csv'\n",
        "s3_resource = boto3.Session().resource('s3')\n",
        "\n",
        "def upload_s3_csv(filename, folder, dataframe):\n",
        "    csv_buffer = io.StringIO()\n",
        "    dataframe.to_csv(csv_buffer, header=False, index=False )\n",
        "    s3_resource.Bucket(bucket).Object(os.path.join(prefix, folder, filename)).put(Body=csv_buffer.getvalue())"
      ]
    },
    {
      "cell_type": "code",
      "execution_count": null,
      "metadata": {
        "id": "CIvGwP5nV__E"
      },
      "outputs": [],
      "source": [
        "def batch_linear_predict(test_data, estimator):\n",
        "    batch_X = test_data.iloc[:,1:];\n",
        "    batch_X_file='batch-in.csv'\n",
        "    upload_s3_csv(batch_X_file, 'batch-in', batch_X)\n",
        "\n",
        "    batch_output = \"s3://{}/{}/batch-out/\".format(bucket,prefix)\n",
        "    batch_input = \"s3://{}/{}/batch-in/{}\".format(bucket,prefix,batch_X_file)\n",
        "\n",
        "    classifier_transformer = estimator.transformer(instance_count=1,\n",
        "                                           instance_type='ml.m4.xlarge',\n",
        "                                           strategy='MultiRecord',\n",
        "                                           assemble_with='Line',\n",
        "                                           output_path=batch_output)\n",
        "\n",
        "    classifier_transformer.transform(data=batch_input,\n",
        "                             data_type='S3Prefix',\n",
        "                             content_type='text/csv',\n",
        "                             split_type='Line')\n",
        "    \n",
        "    classifier_transformer.wait()\n",
        "\n",
        "    s3 = boto3.client('s3')\n",
        "    obj = s3.get_object(Bucket=bucket, Key=\"{}/batch-out/{}\".format(prefix,'batch-in.csv.out'))\n",
        "    target_predicted_df = pd.read_json(io.BytesIO(obj['Body'].read()),orient=\"records\",lines=True)\n",
        "    return test_data.iloc[:,0], target_predicted_df.iloc[:,0]"
      ]
    },
    {
      "cell_type": "markdown",
      "metadata": {
        "id": "cJVRHx9bV__E"
      },
      "source": [
        "\n",
        "To run the predictions on the test dataset, run the `batch_linear_predict` function (which was defined previously) on your test dataset.\n"
      ]
    },
    {
      "cell_type": "code",
      "execution_count": null,
      "metadata": {
        "id": "VQBt1bAaV__F",
        "outputId": "0be92cdc-7300-4a10-9518-93cef1007939"
      },
      "outputs": [
        {
          "name": "stderr",
          "output_type": "stream",
          "text": [
            "Defaulting to the only supported framework/algorithm version: 1. Ignoring framework/algorithm version: 1.\n"
          ]
        },
        {
          "name": "stdout",
          "output_type": "stream",
          "text": [
            "....................................\n",
            "\u001b[34mDocker entrypoint called with argument(s): serve\u001b[0m\n",
            "\u001b[34mRunning default environment configuration script\u001b[0m\n",
            "\u001b[34m[04/17/2022 06:56:34 INFO 140009717454656] loaded entry point class algorithm.serve.server_config:config_api\u001b[0m\n",
            "\u001b[34m[04/17/2022 06:56:34 INFO 140009717454656] loading entry points\u001b[0m\n",
            "\u001b[34m[04/17/2022 06:56:34 INFO 140009717454656] loaded request iterator application/json\u001b[0m\n",
            "\u001b[34m[04/17/2022 06:56:34 INFO 140009717454656] loaded request iterator application/jsonlines\u001b[0m\n",
            "\u001b[34m[04/17/2022 06:56:34 INFO 140009717454656] loaded request iterator application/x-recordio-protobuf\u001b[0m\n",
            "\u001b[34m[04/17/2022 06:56:34 INFO 140009717454656] loaded request iterator text/csv\u001b[0m\n",
            "\u001b[34m[04/17/2022 06:56:34 INFO 140009717454656] loaded response encoder application/json\u001b[0m\n",
            "\u001b[34m[04/17/2022 06:56:34 INFO 140009717454656] loaded response encoder application/jsonlines\u001b[0m\n",
            "\u001b[34m[04/17/2022 06:56:34 INFO 140009717454656] loaded response encoder application/x-recordio-protobuf\u001b[0m\n",
            "\u001b[34m[04/17/2022 06:56:34 INFO 140009717454656] loaded response encoder text/csv\u001b[0m\n",
            "\u001b[34m[04/17/2022 06:56:34 INFO 140009717454656] loaded entry point class algorithm:model\u001b[0m\n",
            "\u001b[34m[04/17/2022 06:56:34 INFO 140009717454656] Number of server workers: 4\u001b[0m\n",
            "\u001b[34m[04/17/2022 06:56:34 INFO 140009717454656] loading model...\u001b[0m\n",
            "\u001b[34m[04/17/2022 06:56:34 INFO 140009717454656] ...model loaded.\u001b[0m\n",
            "\u001b[34m[2022-04-17 06:56:35 +0000] [1] [INFO] Starting gunicorn 20.1.0\u001b[0m\n",
            "\u001b[34m[2022-04-17 06:56:35 +0000] [1] [INFO] Listening at: http://0.0.0.0:8080 (1)\u001b[0m\n",
            "\u001b[34m[2022-04-17 06:56:35 +0000] [1] [INFO] Using worker: sync\u001b[0m\n",
            "\u001b[34m[2022-04-17 06:56:35 +0000] [60] [INFO] Booting worker with pid: 60\u001b[0m\n",
            "\u001b[34m[2022-04-17 06:56:35 +0000] [69] [INFO] Booting worker with pid: 69\u001b[0m\n",
            "\u001b[34m[2022-04-17 06:56:35 +0000] [78] [INFO] Booting worker with pid: 78\u001b[0m\n",
            "\u001b[34m[2022-04-17 06:56:35 +0000] [87] [INFO] Booting worker with pid: 87\u001b[0m\n",
            "\u001b[34m#metrics {\"StartTime\": 1650178594.9565618, \"EndTime\": 1650178596.3951244, \"Dimensions\": {\"Algorithm\": \"LinearLearnerModel\", \"Host\": \"UNKNOWN\", \"Operation\": \"scoring\"}, \"Metrics\": {\"execution_parameters.count\": {\"sum\": 1.0, \"count\": 1, \"min\": 1, \"max\": 1}}}\u001b[0m\n",
            "\u001b[34m#metrics {\"StartTime\": 1650178594.9565618, \"EndTime\": 1650178599.514941, \"Dimensions\": {\"Algorithm\": \"LinearLearnerModel\", \"Host\": \"UNKNOWN\", \"Operation\": \"scoring\"}, \"Metrics\": {\"json.encoder.time\": {\"sum\": 154.45518493652344, \"count\": 1, \"min\": 154.45518493652344, \"max\": 154.45518493652344}, \"invocations.count\": {\"sum\": 1.0, \"count\": 1, \"min\": 1, \"max\": 1}}}\u001b[0m\n",
            "\u001b[34m#metrics {\"StartTime\": 1650178594.9565618, \"EndTime\": 1650178599.6344628, \"Dimensions\": {\"Algorithm\": \"LinearLearnerModel\", \"Host\": \"UNKNOWN\", \"Operation\": \"scoring\"}, \"Metrics\": {\"json.encoder.time\": {\"sum\": 153.15532684326172, \"count\": 1, \"min\": 153.15532684326172, \"max\": 153.15532684326172}, \"invocations.count\": {\"sum\": 1.0, \"count\": 1, \"min\": 1, \"max\": 1}}}\u001b[0m\n",
            "\u001b[34m#metrics {\"StartTime\": 1650178594.9565618, \"EndTime\": 1650178599.6934628, \"Dimensions\": {\"Algorithm\": \"LinearLearnerModel\", \"Host\": \"UNKNOWN\", \"Operation\": \"scoring\"}, \"Metrics\": {\"json.encoder.time\": {\"sum\": 156.02636337280273, \"count\": 1, \"min\": 156.02636337280273, \"max\": 156.02636337280273}, \"invocations.count\": {\"sum\": 1.0, \"count\": 1, \"min\": 1, \"max\": 1}}}\u001b[0m\n",
            "\u001b[34m#metrics {\"StartTime\": 1650178596.3953385, \"EndTime\": 1650178599.7547016, \"Dimensions\": {\"Algorithm\": \"LinearLearnerModel\", \"Host\": \"UNKNOWN\", \"Operation\": \"scoring\"}, \"Metrics\": {\"json.encoder.time\": {\"sum\": 150.0236988067627, \"count\": 1, \"min\": 150.0236988067627, \"max\": 150.0236988067627}, \"invocations.count\": {\"sum\": 1.0, \"count\": 1, \"min\": 1, \"max\": 1}}}\u001b[0m\n",
            "\u001b[34m#metrics {\"StartTime\": 1650178599.5159588, \"EndTime\": 1650178599.8133776, \"Dimensions\": {\"Algorithm\": \"LinearLearnerModel\", \"Host\": \"UNKNOWN\", \"Operation\": \"scoring\"}, \"Metrics\": {\"json.encoder.time\": {\"sum\": 8.226394653320312, \"count\": 1, \"min\": 8.226394653320312, \"max\": 8.226394653320312}, \"invocations.count\": {\"sum\": 1.0, \"count\": 1, \"min\": 1, \"max\": 1}}}\u001b[0m\n",
            "\u001b[34m#metrics {\"StartTime\": 1650178599.6348038, \"EndTime\": 1650178600.5722787, \"Dimensions\": {\"Algorithm\": \"LinearLearnerModel\", \"Host\": \"UNKNOWN\", \"Operation\": \"scoring\"}, \"Metrics\": {\"json.encoder.time\": {\"sum\": 70.96266746520996, \"count\": 1, \"min\": 70.96266746520996, \"max\": 70.96266746520996}, \"invocations.count\": {\"sum\": 1.0, \"count\": 1, \"min\": 1, \"max\": 1}}}\u001b[0m\n",
            "\u001b[32m2022-04-17T06:56:36.402:[sagemaker logs]: MaxConcurrentTransforms=4, MaxPayloadInMB=6, BatchStrategy=MULTI_RECORD\u001b[0m\n",
            "\u001b[34mDocker entrypoint called with argument(s): serve\u001b[0m\n",
            "\u001b[34mRunning default environment configuration script\u001b[0m\n",
            "\u001b[35mDocker entrypoint called with argument(s): serve\u001b[0m\n",
            "\u001b[35mRunning default environment configuration script\u001b[0m\n",
            "\u001b[34m[04/17/2022 06:56:34 INFO 140009717454656] loaded entry point class algorithm.serve.server_config:config_api\u001b[0m\n",
            "\u001b[34m[04/17/2022 06:56:34 INFO 140009717454656] loading entry points\u001b[0m\n",
            "\u001b[34m[04/17/2022 06:56:34 INFO 140009717454656] loaded request iterator application/json\u001b[0m\n",
            "\u001b[34m[04/17/2022 06:56:34 INFO 140009717454656] loaded request iterator application/jsonlines\u001b[0m\n",
            "\u001b[34m[04/17/2022 06:56:34 INFO 140009717454656] loaded request iterator application/x-recordio-protobuf\u001b[0m\n",
            "\u001b[34m[04/17/2022 06:56:34 INFO 140009717454656] loaded request iterator text/csv\u001b[0m\n",
            "\u001b[34m[04/17/2022 06:56:34 INFO 140009717454656] loaded response encoder application/json\u001b[0m\n",
            "\u001b[34m[04/17/2022 06:56:34 INFO 140009717454656] loaded response encoder application/jsonlines\u001b[0m\n",
            "\u001b[34m[04/17/2022 06:56:34 INFO 140009717454656] loaded response encoder application/x-recordio-protobuf\u001b[0m\n",
            "\u001b[34m[04/17/2022 06:56:34 INFO 140009717454656] loaded response encoder text/csv\u001b[0m\n",
            "\u001b[34m[04/17/2022 06:56:34 INFO 140009717454656] loaded entry point class algorithm:model\u001b[0m\n",
            "\u001b[34m[04/17/2022 06:56:34 INFO 140009717454656] Number of server workers: 4\u001b[0m\n",
            "\u001b[34m[04/17/2022 06:56:34 INFO 140009717454656] loading model...\u001b[0m\n",
            "\u001b[34m[04/17/2022 06:56:34 INFO 140009717454656] ...model loaded.\u001b[0m\n",
            "\u001b[34m[2022-04-17 06:56:35 +0000] [1] [INFO] Starting gunicorn 20.1.0\u001b[0m\n",
            "\u001b[34m[2022-04-17 06:56:35 +0000] [1] [INFO] Listening at: http://0.0.0.0:8080 (1)\u001b[0m\n",
            "\u001b[35m[04/17/2022 06:56:34 INFO 140009717454656] loaded entry point class algorithm.serve.server_config:config_api\u001b[0m\n",
            "\u001b[35m[04/17/2022 06:56:34 INFO 140009717454656] loading entry points\u001b[0m\n",
            "\u001b[35m[04/17/2022 06:56:34 INFO 140009717454656] loaded request iterator application/json\u001b[0m\n",
            "\u001b[35m[04/17/2022 06:56:34 INFO 140009717454656] loaded request iterator application/jsonlines\u001b[0m\n",
            "\u001b[35m[04/17/2022 06:56:34 INFO 140009717454656] loaded request iterator application/x-recordio-protobuf\u001b[0m\n",
            "\u001b[35m[04/17/2022 06:56:34 INFO 140009717454656] loaded request iterator text/csv\u001b[0m\n",
            "\u001b[35m[04/17/2022 06:56:34 INFO 140009717454656] loaded response encoder application/json\u001b[0m\n",
            "\u001b[35m[04/17/2022 06:56:34 INFO 140009717454656] loaded response encoder application/jsonlines\u001b[0m\n",
            "\u001b[35m[04/17/2022 06:56:34 INFO 140009717454656] loaded response encoder application/x-recordio-protobuf\u001b[0m\n",
            "\u001b[35m[04/17/2022 06:56:34 INFO 140009717454656] loaded response encoder text/csv\u001b[0m\n",
            "\u001b[35m[04/17/2022 06:56:34 INFO 140009717454656] loaded entry point class algorithm:model\u001b[0m\n",
            "\u001b[35m[04/17/2022 06:56:34 INFO 140009717454656] Number of server workers: 4\u001b[0m\n",
            "\u001b[35m[04/17/2022 06:56:34 INFO 140009717454656] loading model...\u001b[0m\n",
            "\u001b[35m[04/17/2022 06:56:34 INFO 140009717454656] ...model loaded.\u001b[0m\n",
            "\u001b[35m[2022-04-17 06:56:35 +0000] [1] [INFO] Starting gunicorn 20.1.0\u001b[0m\n",
            "\u001b[35m[2022-04-17 06:56:35 +0000] [1] [INFO] Listening at: http://0.0.0.0:8080 (1)\u001b[0m\n",
            "\u001b[34m[2022-04-17 06:56:35 +0000] [1] [INFO] Using worker: sync\u001b[0m\n",
            "\u001b[35m[2022-04-17 06:56:35 +0000] [1] [INFO] Using worker: sync\u001b[0m\n",
            "\u001b[34m[2022-04-17 06:56:35 +0000] [60] [INFO] Booting worker with pid: 60\u001b[0m\n",
            "\u001b[34m[2022-04-17 06:56:35 +0000] [69] [INFO] Booting worker with pid: 69\u001b[0m\n",
            "\u001b[34m[2022-04-17 06:56:35 +0000] [78] [INFO] Booting worker with pid: 78\u001b[0m\n",
            "\u001b[34m[2022-04-17 06:56:35 +0000] [87] [INFO] Booting worker with pid: 87\u001b[0m\n",
            "\u001b[35m[2022-04-17 06:56:35 +0000] [60] [INFO] Booting worker with pid: 60\u001b[0m\n",
            "\u001b[35m[2022-04-17 06:56:35 +0000] [69] [INFO] Booting worker with pid: 69\u001b[0m\n",
            "\u001b[35m[2022-04-17 06:56:35 +0000] [78] [INFO] Booting worker with pid: 78\u001b[0m\n",
            "\u001b[35m[2022-04-17 06:56:35 +0000] [87] [INFO] Booting worker with pid: 87\u001b[0m\n",
            "\u001b[34m#metrics {\"StartTime\": 1650178594.9565618, \"EndTime\": 1650178596.3951244, \"Dimensions\": {\"Algorithm\": \"LinearLearnerModel\", \"Host\": \"UNKNOWN\", \"Operation\": \"scoring\"}, \"Metrics\": {\"execution_parameters.count\": {\"sum\": 1.0, \"count\": 1, \"min\": 1, \"max\": 1}}}\u001b[0m\n",
            "\u001b[35m#metrics {\"StartTime\": 1650178594.9565618, \"EndTime\": 1650178596.3951244, \"Dimensions\": {\"Algorithm\": \"LinearLearnerModel\", \"Host\": \"UNKNOWN\", \"Operation\": \"scoring\"}, \"Metrics\": {\"execution_parameters.count\": {\"sum\": 1.0, \"count\": 1, \"min\": 1, \"max\": 1}}}\u001b[0m\n",
            "\u001b[34m#metrics {\"StartTime\": 1650178594.9565618, \"EndTime\": 1650178599.514941, \"Dimensions\": {\"Algorithm\": \"LinearLearnerModel\", \"Host\": \"UNKNOWN\", \"Operation\": \"scoring\"}, \"Metrics\": {\"json.encoder.time\": {\"sum\": 154.45518493652344, \"count\": 1, \"min\": 154.45518493652344, \"max\": 154.45518493652344}, \"invocations.count\": {\"sum\": 1.0, \"count\": 1, \"min\": 1, \"max\": 1}}}\u001b[0m\n",
            "\u001b[34m#metrics {\"StartTime\": 1650178594.9565618, \"EndTime\": 1650178599.6344628, \"Dimensions\": {\"Algorithm\": \"LinearLearnerModel\", \"Host\": \"UNKNOWN\", \"Operation\": \"scoring\"}, \"Metrics\": {\"json.encoder.time\": {\"sum\": 153.15532684326172, \"count\": 1, \"min\": 153.15532684326172, \"max\": 153.15532684326172}, \"invocations.count\": {\"sum\": 1.0, \"count\": 1, \"min\": 1, \"max\": 1}}}\u001b[0m\n",
            "\u001b[34m#metrics {\"StartTime\": 1650178594.9565618, \"EndTime\": 1650178599.6934628, \"Dimensions\": {\"Algorithm\": \"LinearLearnerModel\", \"Host\": \"UNKNOWN\", \"Operation\": \"scoring\"}, \"Metrics\": {\"json.encoder.time\": {\"sum\": 156.02636337280273, \"count\": 1, \"min\": 156.02636337280273, \"max\": 156.02636337280273}, \"invocations.count\": {\"sum\": 1.0, \"count\": 1, \"min\": 1, \"max\": 1}}}\u001b[0m\n",
            "\u001b[34m#metrics {\"StartTime\": 1650178596.3953385, \"EndTime\": 1650178599.7547016, \"Dimensions\": {\"Algorithm\": \"LinearLearnerModel\", \"Host\": \"UNKNOWN\", \"Operation\": \"scoring\"}, \"Metrics\": {\"json.encoder.time\": {\"sum\": 150.0236988067627, \"count\": 1, \"min\": 150.0236988067627, \"max\": 150.0236988067627}, \"invocations.count\": {\"sum\": 1.0, \"count\": 1, \"min\": 1, \"max\": 1}}}\u001b[0m\n",
            "\u001b[34m#metrics {\"StartTime\": 1650178599.5159588, \"EndTime\": 1650178599.8133776, \"Dimensions\": {\"Algorithm\": \"LinearLearnerModel\", \"Host\": \"UNKNOWN\", \"Operation\": \"scoring\"}, \"Metrics\": {\"json.encoder.time\": {\"sum\": 8.226394653320312, \"count\": 1, \"min\": 8.226394653320312, \"max\": 8.226394653320312}, \"invocations.count\": {\"sum\": 1.0, \"count\": 1, \"min\": 1, \"max\": 1}}}\u001b[0m\n",
            "\u001b[35m#metrics {\"StartTime\": 1650178594.9565618, \"EndTime\": 1650178599.514941, \"Dimensions\": {\"Algorithm\": \"LinearLearnerModel\", \"Host\": \"UNKNOWN\", \"Operation\": \"scoring\"}, \"Metrics\": {\"json.encoder.time\": {\"sum\": 154.45518493652344, \"count\": 1, \"min\": 154.45518493652344, \"max\": 154.45518493652344}, \"invocations.count\": {\"sum\": 1.0, \"count\": 1, \"min\": 1, \"max\": 1}}}\u001b[0m\n",
            "\u001b[35m#metrics {\"StartTime\": 1650178594.9565618, \"EndTime\": 1650178599.6344628, \"Dimensions\": {\"Algorithm\": \"LinearLearnerModel\", \"Host\": \"UNKNOWN\", \"Operation\": \"scoring\"}, \"Metrics\": {\"json.encoder.time\": {\"sum\": 153.15532684326172, \"count\": 1, \"min\": 153.15532684326172, \"max\": 153.15532684326172}, \"invocations.count\": {\"sum\": 1.0, \"count\": 1, \"min\": 1, \"max\": 1}}}\u001b[0m\n",
            "\u001b[35m#metrics {\"StartTime\": 1650178594.9565618, \"EndTime\": 1650178599.6934628, \"Dimensions\": {\"Algorithm\": \"LinearLearnerModel\", \"Host\": \"UNKNOWN\", \"Operation\": \"scoring\"}, \"Metrics\": {\"json.encoder.time\": {\"sum\": 156.02636337280273, \"count\": 1, \"min\": 156.02636337280273, \"max\": 156.02636337280273}, \"invocations.count\": {\"sum\": 1.0, \"count\": 1, \"min\": 1, \"max\": 1}}}\u001b[0m\n",
            "\u001b[35m#metrics {\"StartTime\": 1650178596.3953385, \"EndTime\": 1650178599.7547016, \"Dimensions\": {\"Algorithm\": \"LinearLearnerModel\", \"Host\": \"UNKNOWN\", \"Operation\": \"scoring\"}, \"Metrics\": {\"json.encoder.time\": {\"sum\": 150.0236988067627, \"count\": 1, \"min\": 150.0236988067627, \"max\": 150.0236988067627}, \"invocations.count\": {\"sum\": 1.0, \"count\": 1, \"min\": 1, \"max\": 1}}}\u001b[0m\n",
            "\u001b[35m#metrics {\"StartTime\": 1650178599.5159588, \"EndTime\": 1650178599.8133776, \"Dimensions\": {\"Algorithm\": \"LinearLearnerModel\", \"Host\": \"UNKNOWN\", \"Operation\": \"scoring\"}, \"Metrics\": {\"json.encoder.time\": {\"sum\": 8.226394653320312, \"count\": 1, \"min\": 8.226394653320312, \"max\": 8.226394653320312}, \"invocations.count\": {\"sum\": 1.0, \"count\": 1, \"min\": 1, \"max\": 1}}}\u001b[0m\n",
            "\u001b[32m2022-04-17T06:56:36.402:[sagemaker logs]: MaxConcurrentTransforms=4, MaxPayloadInMB=6, BatchStrategy=MULTI_RECORD\u001b[0m\n",
            "\u001b[34m#metrics {\"StartTime\": 1650178599.6348038, \"EndTime\": 1650178600.5722787, \"Dimensions\": {\"Algorithm\": \"LinearLearnerModel\", \"Host\": \"UNKNOWN\", \"Operation\": \"scoring\"}, \"Metrics\": {\"json.encoder.time\": {\"sum\": 70.96266746520996, \"count\": 1, \"min\": 70.96266746520996, \"max\": 70.96266746520996}, \"invocations.count\": {\"sum\": 1.0, \"count\": 1, \"min\": 1, \"max\": 1}}}\u001b[0m\n",
            "\u001b[35m#metrics {\"StartTime\": 1650178599.6348038, \"EndTime\": 1650178600.5722787, \"Dimensions\": {\"Algorithm\": \"LinearLearnerModel\", \"Host\": \"UNKNOWN\", \"Operation\": \"scoring\"}, \"Metrics\": {\"json.encoder.time\": {\"sum\": 70.96266746520996, \"count\": 1, \"min\": 70.96266746520996, \"max\": 70.96266746520996}, \"invocations.count\": {\"sum\": 1.0, \"count\": 1, \"min\": 1, \"max\": 1}}}\u001b[0m\n"
          ]
        }
      ],
      "source": [
        "test_labels, target_predicted = batch_linear_predict(test, classifier_estimator)"
      ]
    },
    {
      "cell_type": "markdown",
      "metadata": {
        "id": "K5i_NblKV__F"
      },
      "source": [
        "To view a plot of the confusion matrix, and various scoring metrics, create a couple of functions:"
      ]
    },
    {
      "cell_type": "code",
      "execution_count": null,
      "metadata": {
        "id": "5r4ttRvnV__F"
      },
      "outputs": [],
      "source": [
        "from sklearn.metrics import confusion_matrix\n",
        "\n",
        "def plot_confusion_matrix(test_labels, target_predicted):\n",
        "    matrix = confusion_matrix(test_labels, target_predicted)\n",
        "    df_confusion = pd.DataFrame(matrix)\n",
        "    colormap = sns.color_palette(\"BrBG\", 10)\n",
        "    sns.heatmap(df_confusion, annot=True, fmt='.2f', cbar=None, cmap=colormap)\n",
        "    plt.title(\"Confusion Matrix\")\n",
        "    plt.tight_layout()\n",
        "    plt.ylabel(\"True Class\")\n",
        "    plt.xlabel(\"Predicted Class\")\n",
        "    plt.show()\n",
        "    "
      ]
    },
    {
      "cell_type": "code",
      "execution_count": null,
      "metadata": {
        "id": "OOC3WJscV__F"
      },
      "outputs": [],
      "source": [
        "from sklearn import metrics\n",
        "\n",
        "def plot_roc(test_labels, target_predicted):\n",
        "    TN, FP, FN, TP = confusion_matrix(test_labels, target_predicted).ravel()\n",
        "    # Sensitivity, hit rate, recall, or true positive rate\n",
        "    Sensitivity  = float(TP)/(TP+FN)*100\n",
        "    # Specificity or true negative rate\n",
        "    Specificity  = float(TN)/(TN+FP)*100\n",
        "    # Precision or positive predictive value\n",
        "    Precision = float(TP)/(TP+FP)*100\n",
        "    # Negative predictive value\n",
        "    NPV = float(TN)/(TN+FN)*100\n",
        "    # Fall out or false positive rate\n",
        "    FPR = float(FP)/(FP+TN)*100\n",
        "    # False negative rate\n",
        "    FNR = float(FN)/(TP+FN)*100\n",
        "    # False discovery rate\n",
        "    FDR = float(FP)/(TP+FP)*100\n",
        "    # Overall accuracy\n",
        "    ACC = float(TP+TN)/(TP+FP+FN+TN)*100\n",
        "\n",
        "    print(\"Sensitivity or TPR: \", Sensitivity, \"%\") \n",
        "    print( \"Specificity or TNR: \",Specificity, \"%\") \n",
        "    print(\"Precision: \",Precision, \"%\") \n",
        "    print(\"Negative Predictive Value: \",NPV, \"%\") \n",
        "    print( \"False Positive Rate: \",FPR,\"%\")\n",
        "    print(\"False Negative Rate: \",FNR, \"%\") \n",
        "    print(\"False Discovery Rate: \",FDR, \"%\" )\n",
        "    print(\"Accuracy: \",ACC, \"%\") \n",
        "\n",
        "    test_labels = test.iloc[:,0];\n",
        "    print(\"Validation AUC\", metrics.roc_auc_score(test_labels, target_predicted) )\n",
        "\n",
        "    fpr, tpr, thresholds = metrics.roc_curve(test_labels, target_predicted)\n",
        "    roc_auc = metrics.auc(fpr, tpr)\n",
        "\n",
        "    plt.figure()\n",
        "    plt.plot(fpr, tpr, label='ROC curve (area = %0.2f)' % (roc_auc))\n",
        "    plt.plot([0, 1], [0, 1], 'k--')\n",
        "    plt.xlim([0.0, 1.0])\n",
        "    plt.ylim([0.0, 1.05])\n",
        "    plt.xlabel('False Positive Rate')\n",
        "    plt.ylabel('True Positive Rate')\n",
        "    plt.title('Receiver operating characteristic')\n",
        "    plt.legend(loc=\"lower right\")\n",
        "\n",
        "    # create the axis of thresholds (scores)\n",
        "    ax2 = plt.gca().twinx()\n",
        "    ax2.plot(fpr, thresholds, markeredgecolor='r',linestyle='dashed', color='r')\n",
        "    ax2.set_ylabel('Threshold',color='r')\n",
        "    ax2.set_ylim([thresholds[-1],thresholds[0]])\n",
        "    ax2.set_xlim([fpr[0],fpr[-1]])\n",
        "\n",
        "    print(plt.figure())"
      ]
    },
    {
      "cell_type": "markdown",
      "metadata": {
        "id": "XqYHc1I9V__F"
      },
      "source": [
        "To plot the confusion matrix, call the `plot_confusion_matrix` function on the `test_labels` and the `target_predicted` data from your batch job:"
      ]
    },
    {
      "cell_type": "code",
      "execution_count": null,
      "metadata": {
        "id": "XQpgYINUV__G",
        "outputId": "5565aae4-c598-474d-9bc2-2ada560c6376"
      },
      "outputs": [
        {
          "data": {
            "image/png": "[encoded data removed]",
            "text/plain": [
              "<Figure size 432x288 with 1 Axes>"
            ]
          },
          "metadata": {
            "needs_background": "light"
          },
          "output_type": "display_data"
        }
      ],
      "source": [
        "# add code plot the confusion matrix\n",
        "plot_confusion_matrix(test_labels , target_predicted)"
      ]
    },
    {
      "cell_type": "markdown",
      "metadata": {
        "id": "C8yprnrWV__G"
      },
      "source": [
        "To print statistics and plot a receiver operating characteristic (ROC) curve, call the `plot_roc` function on the `test_labels` and `target_predicted` data from your batch job:"
      ]
    },
    {
      "cell_type": "code",
      "execution_count": null,
      "metadata": {
        "id": "itAVU8FBV__G",
        "outputId": "2a4e4deb-af42-42a5-a4fe-a4e0c448c2df"
      },
      "outputs": [
        {
          "name": "stdout",
          "output_type": "stream",
          "text": [
            "Sensitivity or TPR:  0.40777094923251683 %\n",
            "Specificity or TNR:  99.92648538219862 %\n",
            "Precision:  59.57446808510638 %\n",
            "Negative Predictive Value:  79.06431387916044 %\n",
            "False Positive Rate:  0.07351461780137124 %\n",
            "False Negative Rate:  99.59222905076747 %\n",
            "False Discovery Rate:  40.42553191489361 %\n",
            "Accuracy:  79.03631105594923 %\n",
            "Validation AUC 0.5016712816571558\n",
            "Figure(432x288)\n"
          ]
        },
        {
          "data": {
            "image/png": "[encoded data removed]",
            "text/plain": [
              "<Figure size 432x288 with 2 Axes>"
            ]
          },
          "metadata": {
            "needs_background": "light"
          },
          "output_type": "display_data"
        },
        {
          "data": {
            "text/plain": [
              "<Figure size 432x288 with 0 Axes>"
            ]
          },
          "metadata": {},
          "output_type": "display_data"
        }
      ],
      "source": [
        "# add code test_labels , target_predicted for plot_roc\n",
        "plot_roc(test_labels , target_predicted)"
      ]
    },
    {
      "cell_type": "markdown",
      "metadata": {
        "id": "uvp3z6A_V__G"
      },
      "source": [
        "### Key questions to consider:\n",
        "\n",
        "1. How does your model's performance on the test set compare to its performance on the training set? What can you deduce from this comparison? \n",
        "2. Are there obvious differences between the outcomes of metrics like accuracy, precision, and recall? If so, why might you be seeing those differences? \n",
        "3. Given your business situation and goals, which metric (or metrics) is the most important for you to consider? Why?\n",
        "4. From a business standpoint, is the outcome for the metric (or metrics) that you consider to be the most important sufficient for what you need? If not, what are some things you might change in your next iteration? (This will happen in the feature engineering section, which is next.)\n",
        "\n",
        "Use the following cells to answer these (and other) questions. Insert and delete cells where needed.\n",
        "\n",
        "#### <span style=\"color: blue;\">Project presentation: In your project presentation, write down your answers to these questions -- and other similar questions that you might answer -- in this section. Record the key details and decisions that you made.</span>"
      ]
    },
    {
      "cell_type": "markdown",
      "metadata": {
        "id": "me9k_oO9V__G"
      },
      "source": [
        "\n",
        "**Question**: What can you summarize from the confusion matrix?\n"
      ]
    },
    {
      "cell_type": "code",
      "execution_count": null,
      "metadata": {
        "id": "uxXIG6B8V__H"
      },
      "outputs": [],
      "source": [
        "# It can be concluded from Accuracy that it is 79.03631105594923 % predictable and has a False Negative Rate 99.59%.**"
      ]
    },
    {
      "cell_type": "markdown",
      "metadata": {
        "id": "np2YvJ9WV__H"
      },
      "source": [
        "## <span style=\"color:red\"> End of Step 3 </span>\n",
        "\n",
        "Save the project file to your local computer. Follow these steps:\n",
        "\n",
        "1. In the file explorer on the left, right-click the notebook that you're working on. \n",
        "\n",
        "2. Select **Download**, and save the file locally.  \n",
        "\n",
        "This action downloads the current notebook to the default download folder on your computer."
      ]
    },
    {
      "cell_type": "markdown",
      "metadata": {
        "id": "fQksV0f1V__H"
      },
      "source": [
        "# Iteration II"
      ]
    },
    {
      "cell_type": "markdown",
      "metadata": {
        "id": "Yd-nP8C4V__H"
      },
      "source": [
        "# Step 4: Feature engineering\n",
        "\n",
        "You have now gone through one iteration of training and evaluating your model. Given that the first outcome that you reached for your model probably wasn't sufficient for solving your business problem, what could you change about your data to possibly improve model performance?\n",
        "\n",
        "### Key questions to consider:\n",
        "\n",
        "1. How might the balance of your two main classes (*delay* and *no delay*) impact model performance?\n",
        "2. Do you have any features that are correlated?\n",
        "3. At this stage, could you perform any feature-reduction techniques that might have a positive impact on model performance? \n",
        "4. Can you think of adding some more data or datasets?\n",
        "5. After performing some feature engineering, how does the performance of your model compare to the first iteration?\n",
        "\n",
        "Use the following cells to perform specific feature-engineering techniques that you think could improve your model performance (use the previous questions as a guide). Insert and delete cells where needed.\n",
        "\n",
        "#### <span style=\"color: blue;\">Project presentation: In your project presentation, record your key decisions and the methods that you use in this section. Also include any new performance metrics that you obtain after you evaluate your model again.</span>\n",
        "\n",
        "Before you start, think about why the precision and recall are around 80 percent, and the accuracy is at 99 percent."
      ]
    },
    {
      "cell_type": "markdown",
      "metadata": {
        "id": "GmNWshSwV__H"
      },
      "source": [
        "Add more features:\n",
        "\n",
        "1. Holidays\n",
        "2. Weather"
      ]
    },
    {
      "cell_type": "markdown",
      "metadata": {
        "id": "jyybu9MxV__H"
      },
      "source": [
        "Because the list of holidays from 2014 to 2018 is known, you can create an indicator variable **is_holiday** to mark them.\n",
        "\n",
        "The hypothesis is that airplane delays could be higher during holidays compared to the rest of the days. Add a boolean variable `is_holiday` that includes the holidays for the years 2014-2018."
      ]
    },
    {
      "cell_type": "code",
      "execution_count": null,
      "metadata": {
        "id": "jPLX5q52V__I"
      },
      "outputs": [],
      "source": [
        "# add code np.isin(data_orig['FlightDate'],holidays)\n",
        "# Source: http://www.calendarpedia.com/holidays/federal-holidays-2014.html\n",
        "\n",
        "holidays_14 = ['2014-01-01',  '2014-01-20', '2014-02-17', '2014-05-26', '2014-07-04', '2014-09-01', '2014-10-13', '2014-11-11', '2014-11-27', '2014-12-25' ] \n",
        "holidays_15 = ['2015-01-01',  '2015-01-19', '2015-02-16', '2015-05-25', '2015-06-03', '2015-07-04', '2015-09-07', '2015-10-12', '2015-11-11', '2015-11-26', '2015-12-25'] \n",
        "holidays_16 = ['2016-01-01',  '2016-01-18', '2016-02-15', '2016-05-30', '2016-07-04', '2016-09-05', '2016-10-10', '2016-11-11', '2016-11-24', '2016-12-25', '2016-12-26']\n",
        "holidays_17 = ['2017-01-02', '2017-01-16', '2017-02-20', '2017-05-29' , '2017-07-04', '2017-09-04' ,'2017-10-09', '2017-11-10', '2017-11-23', '2017-12-25']\n",
        "holidays_18 = ['2018-01-01', '2018-01-15', '2018-02-19', '2018-05-28' , '2018-07-04', '2018-09-03' ,'2018-10-08', '2018-11-12','2018-11-22', '2018-12-25']\n",
        "holidays = holidays_14+ holidays_15+ holidays_16 + holidays_17+ holidays_18\n",
        "\n",
        "### Add indicator variable for holidays\n",
        "data_orig['is_holiday'] = np.isin(data_orig['FlightDate'],holidays)"
      ]
    },
    {
      "cell_type": "markdown",
      "metadata": {
        "id": "N3pgfrR-V__I"
      },
      "source": [
        "Weather data was fetched from https://www.ncei.noaa.gov/access/services/data/v1?dataset=daily-summaries&stations=USW00023174,USW00012960,USW00003017,USW00094846,USW00013874,USW00023234,USW00003927,USW00023183,USW00013881&dataTypes=AWND,PRCP,SNOW,SNWD,TAVG,TMIN,TMAX&startDate=2014-01-01&endDate=2018-12-31.\n",
        "<br>\n",
        "\n",
        "This dataset has information on wind speed, precipitation, snow, and temperature for cities by their airport codes.\n",
        "\n",
        "**Question**: Could bad weather because of rain, heavy winds, or snow lead to airplane delays? You will now check."
      ]
    },
    {
      "cell_type": "code",
      "execution_count": null,
      "metadata": {
        "id": "COzLLLFTV__I"
      },
      "outputs": [],
      "source": [
        "!aws s3 cp s3://aws-tc-largeobjects/CUR-TF-200-ACMLFO-1/flight_delay_project/data2/daily-summaries.csv /home/ec2-user/SageMaker/project/data/\n",
        "#!wget 'https://www.ncei.noaa.gov/access/services/data/v1?dataset=daily-summaries&stations=USW00023174,USW00012960,USW00003017,USW00094846,USW00013874,USW00023234,USW00003927,USW00023183,USW00013881&dataTypes=AWND,PRCP,SNOW,SNWD,TAVG,TMIN,TMAX&startDate=2014-01-01&endDate=2018-12-31' -O /home/ec2-user/SageMaker/project/data/daily-summaries.csv"
      ]
    },
    {
      "cell_type": "markdown",
      "metadata": {
        "id": "pqSlQUjjV__I"
      },
      "source": [
        "Import the weather data that was prepared for the airport codes in the dataset. Use the following stations and airports  for the analysis. Create a new column called *airport* that maps the weather station to the airport name."
      ]
    },
    {
      "cell_type": "code",
      "execution_count": null,
      "metadata": {
        "id": "8JumDi66V__I"
      },
      "outputs": [],
      "source": [
        "weather = pd.read_csv('/home/ec2-user/SageMaker/project/data/daily-summaries.csv')\n",
        "station = ['USW00023174','USW00012960','USW00003017','USW00094846','USW00013874','USW00023234','USW00003927','USW00023183','USW00013881'] \n",
        "airports = ['LAX', 'IAH', 'DEN', 'ORD', 'ATL', 'SFO', 'DFW', 'PHX', 'CLT']\n",
        "\n",
        "### Map weather stations to airport code\n",
        "station_map = {s:a for s,a in zip(station, airports)}\n",
        "weather['airport'] = weather['STATION'].map(station_map)"
      ]
    },
    {
      "cell_type": "markdown",
      "metadata": {
        "id": "Paddm9gRV__J"
      },
      "source": [
        "From the **DATE** column, create another column called *MONTH*."
      ]
    },
    {
      "cell_type": "code",
      "execution_count": null,
      "metadata": {
        "id": "N1n0PxgvV__J"
      },
      "outputs": [],
      "source": [
        "weather['MONTH'] = weather['DATE'].apply(lambda x: x.split('-')[1])\n",
        "weather.head()"
      ]
    },
    {
      "cell_type": "markdown",
      "metadata": {
        "id": "rGVTsO9LV__J"
      },
      "source": [
        "### Sample output\n",
        "```\n",
        "  STATION     DATE      AWND PRCP SNOW SNWD TAVG TMAX  TMIN airport MONTH\n",
        "0 USW00023174 2014-01-01 16   0   NaN  NaN 131.0 178.0 78.0  LAX    01\n",
        "1 USW00023174 2014-01-02 22   0   NaN  NaN 159.0 256.0 100.0 LAX    01\n",
        "2 USW00023174 2014-01-03 17   0   NaN  NaN 140.0 178.0 83.0  LAX    01\n",
        "3 USW00023174 2014-01-04 18   0   NaN  NaN 136.0 183.0 100.0 LAX    01\n",
        "4 USW00023174 2014-01-05 18   0   NaN  NaN 151.0 244.0 83.0  LAX    01\n",
        "```"
      ]
    },
    {
      "cell_type": "markdown",
      "metadata": {
        "id": "VGaML2o9V__J"
      },
      "source": [
        "Analyze and handle the **SNOW** and **SNWD** columns for missing values by using `fillna()`. To check the missing values for all the columns, use the `isna()` function."
      ]
    },
    {
      "cell_type": "code",
      "execution_count": null,
      "metadata": {
        "id": "WhTxn6CIV__K",
        "outputId": "d6e417e8-f7a2-4440-9f7d-831b8fd5e07c"
      },
      "outputs": [
        {
          "data": {
            "text/plain": [
              "STATION     0\n",
              "DATE        0\n",
              "AWND        0\n",
              "PRCP        0\n",
              "SNOW        0\n",
              "SNWD        0\n",
              "TAVG       62\n",
              "TMAX       20\n",
              "TMIN       20\n",
              "airport     0\n",
              "MONTH       0\n",
              "dtype: int64"
            ]
          },
          "execution_count": 59,
          "metadata": {},
          "output_type": "execute_result"
        }
      ],
      "source": [
        "weather.SNOW.fillna(0, inplace=True)\n",
        "weather.SNWD.fillna(0, inplace=True)\n",
        "weather.isna().sum()"
      ]
    },
    {
      "cell_type": "markdown",
      "metadata": {
        "id": "103NujqEV__K"
      },
      "source": [
        "**Question**: Print the index of the rows that have missing values for *TAVG*, *TMAX*, *TMIN*.\n",
        "\n",
        "**Hint**: To find the rows that are missing, use the `isna()` function. Then, to get the index, use the list on the *idx* variable."
      ]
    },
    {
      "cell_type": "code",
      "execution_count": null,
      "metadata": {
        "id": "c5M0a9rAV__K",
        "outputId": "3c450cd8-6bd7-4408-8591-bbbe209bcff1"
      },
      "outputs": [
        {
          "data": {
            "text/plain": [
              "array([ 3956,  3957,  3958,  3959,  3960,  3961,  3962,  3963,  3964,\n",
              "        3965,  3966,  3967,  3968,  3969,  3970,  3971,  3972,  3973,\n",
              "        3974,  3975,  3976,  3977,  3978,  3979,  3980,  3981,  3982,\n",
              "        3983,  3984,  3985,  4017,  4018,  4019,  4020,  4021,  4022,\n",
              "        4023,  4024,  4025,  4026,  4027,  4028,  4029,  4030,  4031,\n",
              "        4032,  4033,  4034,  4035,  4036,  4037,  4038,  4039,  4040,\n",
              "        4041,  4042,  4043,  4044,  4045,  4046,  4047, 13420])"
            ]
          },
          "execution_count": 60,
          "metadata": {},
          "output_type": "execute_result"
        }
      ],
      "source": [
        "# add code idx[weather.TAVG.isna()] \n",
        "idx = np.array([i for i in range(len(weather))])\n",
        "TAVG_idx = idx[weather.TAVG.isna()] \n",
        "TMAX_idx = idx[weather.TAVG.isna()] \n",
        "TMIN_idx = idx[weather.TAVG.isna()] \n",
        "TAVG_idx"
      ]
    },
    {
      "cell_type": "markdown",
      "metadata": {
        "id": "-dhGS-MfV__L"
      },
      "source": [
        "### Sample output\n",
        "\n",
        "```\n",
        "array([ 3956,  3957,  3958,  3959,  3960,  3961,  3962,  3963,  3964,\n",
        "        3965,  3966,  3967,  3968,  3969,  3970,  3971,  3972,  3973,\n",
        "        3974,  3975,  3976,  3977,  3978,  3979,  3980,  3981,  3982,\n",
        "        3983,  3984,  3985,  4017,  4018,  4019,  4020,  4021,  4022,\n",
        "        4023,  4024,  4025,  4026,  4027,  4028,  4029,  4030,  4031,\n",
        "        4032,  4033,  4034,  4035,  4036,  4037,  4038,  4039,  4040,\n",
        "        4041,  4042,  4043,  4044,  4045,  4046,  4047, 13420])\n",
        "```"
      ]
    },
    {
      "cell_type": "markdown",
      "metadata": {
        "id": "ewjv678yV__L"
      },
      "source": [
        "You can replace the missing *TAVG*, *TMAX*, and *TMIN* values with the average value for a particular station or airport. Because consecutive rows of *TAVG_idx* are missing, replacing them with a previous value would not be possible. Instead, replace them with the mean. Use the `groupby` function to aggregate the variables with a mean value.\n",
        "\n",
        "**Hint:** Group by `MONTH` and `STATION`."
      ]
    },
    {
      "cell_type": "code",
      "execution_count": null,
      "metadata": {
        "id": "SgFHTydJV__L",
        "outputId": "d88dd3e4-52b9-428e-e386-138dcd4361e9"
      },
      "outputs": [
        {
          "data": {
            "text/html": [
              "<div>\n",
              "<style scoped>\n",
              "    .dataframe tbody tr th:only-of-type {\n",
              "        vertical-align: middle;\n",
              "    }\n",
              "\n",
              "    .dataframe tbody tr th {\n",
              "        vertical-align: top;\n",
              "    }\n",
              "\n",
              "    .dataframe thead th {\n",
              "        text-align: right;\n",
              "    }\n",
              "</style>\n",
              "<table border=\"1\" class=\"dataframe\">\n",
              "  <thead>\n",
              "    <tr style=\"text-align: right;\">\n",
              "      <th></th>\n",
              "      <th>MONTH</th>\n",
              "      <th>STATION</th>\n",
              "      <th>TAVG</th>\n",
              "      <th>TMAX</th>\n",
              "      <th>TMIN</th>\n",
              "    </tr>\n",
              "  </thead>\n",
              "  <tbody>\n",
              "    <tr>\n",
              "      <th>0</th>\n",
              "      <td>01</td>\n",
              "      <td>USW00003017</td>\n",
              "      <td>-2.741935</td>\n",
              "      <td>74.000000</td>\n",
              "      <td>-69.858065</td>\n",
              "    </tr>\n",
              "    <tr>\n",
              "      <th>1</th>\n",
              "      <td>01</td>\n",
              "      <td>USW00003927</td>\n",
              "      <td>79.529032</td>\n",
              "      <td>143.767742</td>\n",
              "      <td>20.696774</td>\n",
              "    </tr>\n",
              "  </tbody>\n",
              "</table>\n",
              "</div>"
            ],
            "text/plain": [
              "  MONTH      STATION       TAVG        TMAX       TMIN\n",
              "0    01  USW00003017  -2.741935   74.000000 -69.858065\n",
              "1    01  USW00003927  79.529032  143.767742  20.696774"
            ]
          },
          "execution_count": 62,
          "metadata": {},
          "output_type": "execute_result"
        }
      ],
      "source": [
        "# add code ['MONTH','STATION']\n",
        "weather_impute = weather.groupby(['MONTH','STATION']).agg({'TAVG':'mean','TMAX':'mean', 'TMIN':'mean' }).reset_index()# Enter your code here\n",
        "weather_impute.head(2)"
      ]
    },
    {
      "cell_type": "markdown",
      "metadata": {
        "id": "pbKP6CUEV__L"
      },
      "source": [
        "Merge the mean data with the weather data."
      ]
    },
    {
      "cell_type": "code",
      "execution_count": null,
      "metadata": {
        "id": "GhP6hLJyV__M"
      },
      "outputs": [],
      "source": [
        "\n",
        "weather = pd.merge(weather, weather_impute,  how='left', left_on=['MONTH','STATION'], right_on = ['MONTH','STATION'])\\\n",
        ".rename(columns = {'TAVG_y':'TAVG_AVG',\n",
        "                   'TMAX_y':'TMAX_AVG', \n",
        "                   'TMIN_y':'TMIN_AVG',\n",
        "                   'TAVG_x':'TAVG',\n",
        "                   'TMAX_x':'TMAX', \n",
        "                   'TMIN_x':'TMIN'})"
      ]
    },
    {
      "cell_type": "markdown",
      "metadata": {
        "id": "6uQgFPA0V__M"
      },
      "source": [
        "Check for missing values again."
      ]
    },
    {
      "cell_type": "code",
      "execution_count": null,
      "metadata": {
        "id": "FPoM52FCV__M",
        "outputId": "816c0843-761e-4042-8978-272833ce1381"
      },
      "outputs": [
        {
          "data": {
            "text/plain": [
              "STATION      0\n",
              "DATE         0\n",
              "AWND         0\n",
              "PRCP         0\n",
              "SNOW         0\n",
              "SNWD         0\n",
              "TAVG         0\n",
              "TMAX        20\n",
              "TMIN        20\n",
              "airport      0\n",
              "MONTH        0\n",
              "TAVG_AVG     0\n",
              "TMAX_AVG     0\n",
              "TMIN_AVG     0\n",
              "dtype: int64"
            ]
          },
          "execution_count": 64,
          "metadata": {},
          "output_type": "execute_result"
        }
      ],
      "source": [
        "weather.TAVG[TAVG_idx] = weather.TAVG_AVG[TAVG_idx]\n",
        "weather.TMAX[TMAX_idx] = weather.TMAX_AVG[TMAX_idx]\n",
        "weather.TMIN[TMIN_idx] = weather.TMIN_AVG[TMIN_idx]\n",
        "weather.isna().sum()"
      ]
    },
    {
      "cell_type": "markdown",
      "metadata": {
        "id": "kcThS-9EV__M"
      },
      "source": [
        "Drop `STATION,MONTH,TAVG_AVG,TMAX_AVG,TMIN_AVG,TMAX,TMIN,SNWD` from the dataset."
      ]
    },
    {
      "cell_type": "code",
      "execution_count": null,
      "metadata": {
        "id": "E69MCj_jV__M"
      },
      "outputs": [],
      "source": [
        "weather.drop(columns=['STATION','MONTH','TAVG_AVG', 'TMAX_AVG', 'TMIN_AVG', 'TMAX' ,'TMIN', 'SNWD'],inplace=True)"
      ]
    },
    {
      "cell_type": "markdown",
      "metadata": {
        "id": "yzzxhqZKV__N"
      },
      "source": [
        "Add the origin and destination weather conditions to the dataset."
      ]
    },
    {
      "cell_type": "code",
      "execution_count": null,
      "metadata": {
        "id": "Rim-yzhxV__N"
      },
      "outputs": [],
      "source": [
        "### Add origin weather conditions\n",
        "data_orig = pd.merge(data_orig, weather,  how='left', left_on=['FlightDate','Origin'], right_on = ['DATE','airport'])\\\n",
        ".rename(columns = {'AWND':'AWND_O','PRCP':'PRCP_O', 'TAVG':'TAVG_O', 'SNOW': 'SNOW_O'})\\\n",
        ".drop(columns=['DATE','airport'])\n",
        "\n",
        "### Add destination weather conditions\n",
        "data_orig = pd.merge(data_orig, weather,  how='left', left_on=['FlightDate','Dest'], right_on = ['DATE','airport'])\\\n",
        ".rename(columns = {'AWND':'AWND_D','PRCP':'PRCP_D', 'TAVG':'TAVG_D', 'SNOW': 'SNOW_D'})\\\n",
        ".drop(columns=['DATE','airport'])"
      ]
    },
    {
      "cell_type": "markdown",
      "metadata": {
        "id": "C2qV-FMRV__N"
      },
      "source": [
        "**Note**: It's always a good practice to check for nulls or NAs after joins."
      ]
    },
    {
      "cell_type": "code",
      "execution_count": null,
      "metadata": {
        "id": "0YozY6hYV__N",
        "outputId": "3bd0b807-a649-4099-9060-df1981eb4cd1"
      },
      "outputs": [
        {
          "data": {
            "text/plain": [
              "0"
            ]
          },
          "execution_count": 67,
          "metadata": {},
          "output_type": "execute_result"
        }
      ],
      "source": [
        "sum(data.isna().any())"
      ]
    },
    {
      "cell_type": "code",
      "execution_count": null,
      "metadata": {
        "id": "Y5gsxXHSV__N",
        "outputId": "1264d177-1496-4fd8-f59e-fe97c4887394"
      },
      "outputs": [
        {
          "data": {
            "text/plain": [
              "Index(['Year', 'Quarter', 'Month', 'DayofMonth', 'DayOfWeek', 'FlightDate',\n",
              "       'Reporting_Airline', 'Origin', 'OriginState', 'Dest', 'DestState',\n",
              "       'CRSDepTime', 'Cancelled', 'Diverted', 'Distance', 'DistanceGroup',\n",
              "       'ArrDelay', 'ArrDelayMinutes', 'is_delay', 'AirTime', 'DepHourofDay',\n",
              "       'is_holiday', 'AWND_O', 'PRCP_O', 'SNOW_O', 'TAVG_O', 'AWND_D',\n",
              "       'PRCP_D', 'SNOW_D', 'TAVG_D'],\n",
              "      dtype='object')"
            ]
          },
          "execution_count": 68,
          "metadata": {},
          "output_type": "execute_result"
        }
      ],
      "source": [
        "data_orig.columns"
      ]
    },
    {
      "cell_type": "markdown",
      "metadata": {
        "id": "AumtwylSV__N"
      },
      "source": [
        "Convert the categorical data into numerical data by using one-hot encoding."
      ]
    },
    {
      "cell_type": "code",
      "execution_count": null,
      "metadata": {
        "id": "4BIESACZV__O"
      },
      "outputs": [],
      "source": [
        "data = data_orig.copy()\n",
        "data = data[['is_delay', 'Year', 'Quarter', 'Month', 'DayofMonth', 'DayOfWeek', \n",
        "       'Reporting_Airline', 'Origin', 'Dest','Distance','DepHourofDay','is_holiday', 'AWND_O', 'PRCP_O',\n",
        "       'TAVG_O', 'AWND_D', 'PRCP_D', 'TAVG_D', 'SNOW_O', 'SNOW_D']]\n",
        "\n",
        "\n",
        "categorical_columns  = ['Year', 'Quarter', 'Month', 'DayofMonth', 'DayOfWeek', \n",
        "       'Reporting_Airline', 'Origin', 'Dest', 'is_holiday']\n",
        "for c in categorical_columns:\n",
        "    data[c] = data[c].astype('category')"
      ]
    },
    {
      "cell_type": "code",
      "execution_count": null,
      "metadata": {
        "id": "Aw9dzWVrV__O"
      },
      "outputs": [],
      "source": [
        "data_dummies = pd.get_dummies(data[['Year', 'Quarter', 'Month', 'DayofMonth', 'DayOfWeek', 'Reporting_Airline', 'Origin', 'Dest', 'is_holiday']], drop_first=True)\n",
        "data = pd.concat([data, data_dummies], axis = 1)\n",
        "data.drop(categorical_columns,axis=1, inplace=True)"
      ]
    },
    {
      "cell_type": "markdown",
      "metadata": {
        "id": "BXaI7JCkV__O"
      },
      "source": [
        "Check the new columns."
      ]
    },
    {
      "cell_type": "code",
      "execution_count": null,
      "metadata": {
        "id": "fzzMO-R7V__O",
        "outputId": "5f28be63-92e3-441c-a099-f424d097f206"
      },
      "outputs": [
        {
          "data": {
            "text/plain": [
              "(1635590, 86)"
            ]
          },
          "execution_count": 71,
          "metadata": {},
          "output_type": "execute_result"
        }
      ],
      "source": [
        "data.shape"
      ]
    },
    {
      "cell_type": "code",
      "execution_count": null,
      "metadata": {
        "id": "hyz5i9N6V__O",
        "outputId": "e2493529-3b19-4a36-8d3c-d76e73a56212"
      },
      "outputs": [
        {
          "data": {
            "text/plain": [
              "Index(['is_delay', 'Distance', 'DepHourofDay', 'AWND_O', 'PRCP_O', 'TAVG_O',\n",
              "       'AWND_D', 'PRCP_D', 'TAVG_D', 'SNOW_O', 'SNOW_D', 'Year_2015',\n",
              "       'Year_2016', 'Year_2017', 'Year_2018', 'Quarter_2', 'Quarter_3',\n",
              "       'Quarter_4', 'Month_2', 'Month_3', 'Month_4', 'Month_5', 'Month_6',\n",
              "       'Month_7', 'Month_8', 'Month_9', 'Month_10', 'Month_11', 'Month_12',\n",
              "       'DayofMonth_2', 'DayofMonth_3', 'DayofMonth_4', 'DayofMonth_5',\n",
              "       'DayofMonth_6', 'DayofMonth_7', 'DayofMonth_8', 'DayofMonth_9',\n",
              "       'DayofMonth_10', 'DayofMonth_11', 'DayofMonth_12', 'DayofMonth_13',\n",
              "       'DayofMonth_14', 'DayofMonth_15', 'DayofMonth_16', 'DayofMonth_17',\n",
              "       'DayofMonth_18', 'DayofMonth_19', 'DayofMonth_20', 'DayofMonth_21',\n",
              "       'DayofMonth_22', 'DayofMonth_23', 'DayofMonth_24', 'DayofMonth_25',\n",
              "       'DayofMonth_26', 'DayofMonth_27', 'DayofMonth_28', 'DayofMonth_29',\n",
              "       'DayofMonth_30', 'DayofMonth_31', 'DayOfWeek_2', 'DayOfWeek_3',\n",
              "       'DayOfWeek_4', 'DayOfWeek_5', 'DayOfWeek_6', 'DayOfWeek_7',\n",
              "       'Reporting_Airline_DL', 'Reporting_Airline_OO', 'Reporting_Airline_UA',\n",
              "       'Reporting_Airline_WN', 'Origin_CLT', 'Origin_DEN', 'Origin_DFW',\n",
              "       'Origin_IAH', 'Origin_LAX', 'Origin_ORD', 'Origin_PHX', 'Origin_SFO',\n",
              "       'Dest_CLT', 'Dest_DEN', 'Dest_DFW', 'Dest_IAH', 'Dest_LAX', 'Dest_ORD',\n",
              "       'Dest_PHX', 'Dest_SFO', 'is_holiday_True'],\n",
              "      dtype='object')"
            ]
          },
          "execution_count": 72,
          "metadata": {},
          "output_type": "execute_result"
        }
      ],
      "source": [
        "data.columns"
      ]
    },
    {
      "cell_type": "markdown",
      "metadata": {
        "id": "qchtNCafV__O"
      },
      "source": [
        "### Sample output\n",
        "\n",
        "```\n",
        "Index(['Distance', 'DepHourofDay', 'is_delay', 'AWND_O', 'PRCP_O', 'TAVG_O',\n",
        "       'AWND_D', 'PRCP_D', 'TAVG_D', 'SNOW_O', 'SNOW_D', 'Year_2015',\n",
        "       'Year_2016', 'Year_2017', 'Year_2018', 'Quarter_2', 'Quarter_3',\n",
        "       'Quarter_4', 'Month_2', 'Month_3', 'Month_4', 'Month_5', 'Month_6',\n",
        "       'Month_7', 'Month_8', 'Month_9', 'Month_10', 'Month_11', 'Month_12',\n",
        "       'DayofMonth_2', 'DayofMonth_3', 'DayofMonth_4', 'DayofMonth_5',\n",
        "       'DayofMonth_6', 'DayofMonth_7', 'DayofMonth_8', 'DayofMonth_9',\n",
        "       'DayofMonth_10', 'DayofMonth_11', 'DayofMonth_12', 'DayofMonth_13',\n",
        "       'DayofMonth_14', 'DayofMonth_15', 'DayofMonth_16', 'DayofMonth_17',\n",
        "       'DayofMonth_18', 'DayofMonth_19', 'DayofMonth_20', 'DayofMonth_21',\n",
        "       'DayofMonth_22', 'DayofMonth_23', 'DayofMonth_24', 'DayofMonth_25',\n",
        "       'DayofMonth_26', 'DayofMonth_27', 'DayofMonth_28', 'DayofMonth_29',\n",
        "       'DayofMonth_30', 'DayofMonth_31', 'DayOfWeek_2', 'DayOfWeek_3',\n",
        "       'DayOfWeek_4', 'DayOfWeek_5', 'DayOfWeek_6', 'DayOfWeek_7',\n",
        "       'Reporting_Airline_DL', 'Reporting_Airline_OO', 'Reporting_Airline_UA',\n",
        "       'Reporting_Airline_WN', 'Origin_CLT', 'Origin_DEN', 'Origin_DFW',\n",
        "       'Origin_IAH', 'Origin_LAX', 'Origin_ORD', 'Origin_PHX', 'Origin_SFO',\n",
        "       'Dest_CLT', 'Dest_DEN', 'Dest_DFW', 'Dest_IAH', 'Dest_LAX', 'Dest_ORD',\n",
        "       'Dest_PHX', 'Dest_SFO', 'is_holiday_1'],\n",
        "      dtype='object')\n",
        "```"
      ]
    },
    {
      "cell_type": "markdown",
      "metadata": {
        "id": "X67JSb_EV__P"
      },
      "source": [
        "Rename the **is_delay** column to *target* again. Use the same code that you used previously."
      ]
    },
    {
      "cell_type": "code",
      "execution_count": null,
      "metadata": {
        "id": "0mwywfQJV__P"
      },
      "outputs": [],
      "source": [
        "# add code for rename 'is_delay':'target'\n",
        "data.rename(columns = {'is_delay':'target'}, inplace=True )"
      ]
    },
    {
      "cell_type": "markdown",
      "metadata": {
        "id": "4XCLRn8dV__P"
      },
      "source": [
        "Create the training sets again.\n",
        "\n",
        "**Hint:** Use the `split_data` function that you defined (and used) earlier."
      ]
    },
    {
      "cell_type": "code",
      "execution_count": null,
      "metadata": {
        "id": "El_FDWycV__P",
        "outputId": "70098ed5-659a-4a4f-b679-be3bec9027c0"
      },
      "outputs": [
        {
          "name": "stdout",
          "output_type": "stream",
          "text": [
            "0.0    1033806\n",
            "1.0     274666\n",
            "Name: target, dtype: int64\n",
            "0.0    129226\n",
            "1.0     34333\n",
            "Name: target, dtype: int64\n",
            "0.0    129226\n",
            "1.0     34333\n",
            "Name: target, dtype: int64\n"
          ]
        }
      ],
      "source": [
        "# add code for splitdata\n",
        "train , validate,test = split_data(data)\n",
        "print(train['target'].value_counts())\n",
        "print(test['target'].value_counts())\n",
        "print(validate['target'].value_counts())"
      ]
    },
    {
      "cell_type": "markdown",
      "metadata": {
        "id": "VjAIxA42V__P"
      },
      "source": [
        "### New baseline classifier\n",
        "\n",
        "Now, see if these new features add any predictive power to the model."
      ]
    },
    {
      "cell_type": "code",
      "execution_count": null,
      "metadata": {
        "id": "8Wx0yEKQV__Q"
      },
      "outputs": [],
      "source": [
        "# Instantiate the LinearLearner estimator object\n",
        "classifier_estimator2 = sagemaker.LinearLearner(role=sagemaker.get_execution_role(),\n",
        "                                               instance_count=1,\n",
        "                                               instance_type='ml.m4.xlarge',\n",
        "                                               predictor_type='binary_classifier',\n",
        "                                               binary_classifier_model_selection_criteria = 'cross_entropy_loss')"
      ]
    },
    {
      "cell_type": "markdown",
      "metadata": {
        "id": "wXKY4XqVV__Q"
      },
      "source": [
        "### Sample code\n",
        "\n",
        "```\n",
        "num_classes = len(pd.unique(train_labels)) \n",
        "classifier_estimator2 = sagemaker.LinearLearner(role=sagemaker.get_execution_role(),\n",
        "                                               instance_count=1,\n",
        "                                               instance_type='ml.m4.xlarge',\n",
        "                                               predictor_type='binary_classifier',\n",
        "                                               binary_classifier_model_selection_criteria = 'cross_entropy_loss')\n",
        "```"
      ]
    },
    {
      "cell_type": "code",
      "execution_count": null,
      "metadata": {
        "id": "E1J2mYtLV__Q"
      },
      "outputs": [],
      "source": [
        "train_records = classifier_estimator2.record_set(train.values[:, 1:].astype(np.float32), train.values[:, 0].astype(np.float32), channel='train')\n",
        "val_records = classifier_estimator2.record_set(validate.values[:, 1:].astype(np.float32), validate.values[:, 0].astype(np.float32), channel='validation')\n",
        "test_records = classifier_estimator2.record_set(test.values[:, 1:].astype(np.float32), test.values[:, 0].astype(np.float32), channel='test')"
      ]
    },
    {
      "cell_type": "markdown",
      "metadata": {
        "id": "8Mo9A1AvV__Q"
      },
      "source": [
        "Train your model by using the three datasets that you just created."
      ]
    },
    {
      "cell_type": "code",
      "execution_count": null,
      "metadata": {
        "id": "i6iYYGBZV__Q",
        "outputId": "a3c53fa2-38c5-4374-c49e-367c1f50758f"
      },
      "outputs": [
        {
          "name": "stderr",
          "output_type": "stream",
          "text": [
            "Defaulting to the only supported framework/algorithm version: 1. Ignoring framework/algorithm version: 1.\n"
          ]
        },
        {
          "name": "stdout",
          "output_type": "stream",
          "text": [
            "2022-04-17 07:49:56 Starting - Starting the training job...ProfilerReport-1650181795: InProgress\n",
            "...\n",
            "2022-04-17 07:50:49 Starting - Preparing the instances for training......\n",
            "2022-04-17 07:51:52 Downloading - Downloading input data......\n",
            "2022-04-17 07:52:49 Training - Downloading the training image...\n",
            "2022-04-17 07:53:13 Training - Training image download completed. Training in progress.\u001b[34mDocker entrypoint called with argument(s): train\u001b[0m\n",
            "\u001b[34mRunning default environment configuration script\u001b[0m\n",
            "\u001b[34m[04/17/2022 07:53:20 INFO 139945056937792 integration.py:636] worker started\u001b[0m\n",
            "\u001b[34m[04/17/2022 07:53:20 INFO 139945056937792] Reading default configuration from /opt/amazon/lib/python3.7/site-packages/algorithm/resources/default-input.json: {'mini_batch_size': '1000', 'epochs': '15', 'feature_dim': 'auto', 'use_bias': 'true', 'binary_classifier_model_selection_criteria': 'accuracy', 'f_beta': '1.0', 'target_recall': '0.8', 'target_precision': '0.8', 'num_models': 'auto', 'num_calibration_samples': '10000000', 'init_method': 'uniform', 'init_scale': '0.07', 'init_sigma': '0.01', 'init_bias': '0.0', 'optimizer': 'auto', 'loss': 'auto', 'margin': '1.0', 'quantile': '0.5', 'loss_insensitivity': '0.01', 'huber_delta': '1.0', 'num_classes': '1', 'accuracy_top_k': '3', 'wd': 'auto', 'l1': 'auto', 'momentum': 'auto', 'learning_rate': 'auto', 'beta_1': 'auto', 'beta_2': 'auto', 'bias_lr_mult': 'auto', 'bias_wd_mult': 'auto', 'use_lr_scheduler': 'true', 'lr_scheduler_step': 'auto', 'lr_scheduler_factor': 'auto', 'lr_scheduler_minimum_lr': 'auto', 'positive_example_weight_mult': '1.0', 'balance_multiclass_weights': 'false', 'normalize_data': 'true', 'normalize_label': 'auto', 'unbias_data': 'auto', 'unbias_label': 'auto', 'num_point_for_scaler': '10000', '_kvstore': 'auto', '_num_gpus': 'auto', '_num_kv_servers': 'auto', '_log_level': 'info', '_tuning_objective_metric': '', 'early_stopping_patience': '3', 'early_stopping_tolerance': '0.001', '_enable_profiler': 'false'}\u001b[0m\n",
            "\u001b[34m[04/17/2022 07:53:20 INFO 139945056937792] Merging with provided configuration from /opt/ml/input/config/hyperparameters.json: {'binary_classifier_model_selection_criteria': 'cross_entropy_loss', 'feature_dim': '85', 'mini_batch_size': '1000', 'predictor_type': 'binary_classifier'}\u001b[0m\n",
            "\u001b[34m[04/17/2022 07:53:20 INFO 139945056937792] Final configuration: {'mini_batch_size': '1000', 'epochs': '15', 'feature_dim': '85', 'use_bias': 'true', 'binary_classifier_model_selection_criteria': 'cross_entropy_loss', 'f_beta': '1.0', 'target_recall': '0.8', 'target_precision': '0.8', 'num_models': 'auto', 'num_calibration_samples': '10000000', 'init_method': 'uniform', 'init_scale': '0.07', 'init_sigma': '0.01', 'init_bias': '0.0', 'optimizer': 'auto', 'loss': 'auto', 'margin': '1.0', 'quantile': '0.5', 'loss_insensitivity': '0.01', 'huber_delta': '1.0', 'num_classes': '1', 'accuracy_top_k': '3', 'wd': 'auto', 'l1': 'auto', 'momentum': 'auto', 'learning_rate': 'auto', 'beta_1': 'auto', 'beta_2': 'auto', 'bias_lr_mult': 'auto', 'bias_wd_mult': 'auto', 'use_lr_scheduler': 'true', 'lr_scheduler_step': 'auto', 'lr_scheduler_factor': 'auto', 'lr_scheduler_minimum_lr': 'auto', 'positive_example_weight_mult': '1.0', 'balance_multiclass_weights': 'false', 'normalize_data': 'true', 'normalize_label': 'auto', 'unbias_data': 'auto', 'unbias_label': 'auto', 'num_point_for_scaler': '10000', '_kvstore': 'auto', '_num_gpus': 'auto', '_num_kv_servers': 'auto', '_log_level': 'info', '_tuning_objective_metric': '', 'early_stopping_patience': '3', 'early_stopping_tolerance': '0.001', '_enable_profiler': 'false', 'predictor_type': 'binary_classifier'}\u001b[0m\n",
            "\u001b[34m[04/17/2022 07:53:20 WARNING 139945056937792] Loggers have already been setup.\u001b[0m\n",
            "\u001b[34mProcess 1 is a worker.\u001b[0m\n",
            "\u001b[34m[04/17/2022 07:53:20 INFO 139945056937792] Using default worker.\u001b[0m\n",
            "\u001b[34m[04/17/2022 07:53:20 INFO 139945056937792] Checkpoint loading and saving are disabled.\u001b[0m\n",
            "\u001b[34m[2022-04-17 07:53:20.408] [tensorio] [warning] TensorIO is already initialized; ignoring the initialization routine.\u001b[0m\n",
            "\u001b[34m[2022-04-17 07:53:20.420] [tensorio] [warning] TensorIO is already initialized; ignoring the initialization routine.\u001b[0m\n",
            "\u001b[34m[2022-04-17 07:53:20.464] [tensorio] [info] epoch_stats={\"data_pipeline\": \"/opt/ml/input/data/train\", \"epoch\": 0, \"duration\": 62, \"num_examples\": 1, \"num_bytes\": 388000}\u001b[0m\n",
            "\u001b[34m[04/17/2022 07:53:20 INFO 139945056937792] Create Store: local\u001b[0m\n",
            "\u001b[34m[2022-04-17 07:53:20.650] [tensorio] [info] epoch_stats={\"data_pipeline\": \"/opt/ml/input/data/train\", \"epoch\": 1, \"duration\": 184, \"num_examples\": 11, \"num_bytes\": 4268000}\u001b[0m\n",
            "\u001b[34m[04/17/2022 07:53:20 INFO 139945056937792] Scaler algorithm parameters\n",
            " <algorithm.scaler.ScalerAlgorithmStable object at 0x7f471f0fb190>\u001b[0m\n",
            "\u001b[34m[04/17/2022 07:53:20 INFO 139945056937792] Scaling model computed with parameters:\n",
            " {'stdev_label': None, 'stdev_weight': \u001b[0m\n",
            "\u001b[34m[5.3641687e+02 4.9825053e+00 1.6138762e+01 8.1469833e+01 8.9624786e+01\n",
            " 1.6074974e+01 8.1396790e+01 9.0574547e+01 6.9306459e+00 6.8829737e+00\n",
            " 3.9752445e-01 4.1226503e-01 4.0993649e-01 4.0462860e-01 4.3041015e-01\n",
            " 4.3498889e-01 4.3952560e-01 2.6132649e-01 2.8210127e-01 2.6874292e-01\n",
            " 2.7969170e-01 2.7380994e-01 2.8329492e-01 2.8076637e-01 2.7002233e-01\n",
            " 2.7996090e-01 2.7996090e-01 2.8644207e-01 1.8076091e-01 1.7208265e-01\n",
            " 1.7982028e-01 1.7058723e-01 1.7454273e-01 1.8005599e-01 1.8629010e-01\n",
            " 1.7600001e-01 1.7624155e-01 1.7307144e-01 1.7624155e-01 1.8831517e-01\n",
            " 1.8629010e-01 1.7672351e-01 1.7429848e-01 1.7307144e-01 1.7233047e-01\n",
            " 1.7208262e-01 1.8285701e-01 1.8122913e-01 1.7934787e-01 1.7454273e-01\n",
            " 1.7183442e-01 1.7839867e-01 1.7648271e-01 1.7672351e-01 1.8169595e-01\n",
            " 1.7405385e-01 1.7863649e-01 1.4308006e-01 3.5608852e-01 3.4914336e-01\n",
            " 3.5954881e-01 3.5635713e-01 3.2496154e-01 3.4604138e-01 3.7394696e-01\n",
            " 2.4345285e-01 4.6059972e-01 3.1491855e-01 2.3664276e-01 3.2066044e-01\n",
            " 3.2947785e-01 2.7656806e-01 3.5787159e-01 3.4006530e-01 2.9508927e-01\n",
            " 3.3082199e-01 2.3966353e-01 3.1978837e-01 3.2271576e-01 2.7227587e-01\n",
            " 3.5173386e-01 3.3348146e-01 3.0841854e-01 3.3102793e-01 1.6340379e-01]\u001b[0m\n",
            "\u001b[34m<NDArray 85 @cpu(0)>, 'mean_label': None, 'mean_weight': \u001b[0m\n",
            "\u001b[34m[1.01205817e+03 1.28226376e+01 3.86980896e+01 2.16448174e+01\n",
            " 1.70142365e+02 3.83891830e+01 2.07290916e+01 1.70205170e+02\n",
            " 6.29909098e-01 6.47545516e-01 1.96727306e-01 2.17090920e-01\n",
            " 2.13727295e-01 2.06272751e-01 2.45545477e-01 2.53454566e-01\n",
            " 2.61636376e-01 7.37272799e-02 8.71818364e-02 7.83636421e-02\n",
            " 8.55454579e-02 8.16363692e-02 8.79999995e-02 8.62727389e-02\n",
            " 7.91818202e-02 8.57272744e-02 8.57272819e-02 9.01818201e-02\n",
            " 3.38181816e-02 3.05454563e-02 3.34545448e-02 3.00000012e-02\n",
            " 3.14545445e-02 3.35454606e-02 3.60000059e-02 3.19999978e-02\n",
            " 3.20909135e-02 3.09090931e-02 3.20909098e-02 3.68181840e-02\n",
            " 3.60000022e-02 3.22727337e-02 3.13636400e-02 3.09090931e-02\n",
            " 3.06363646e-02 3.05454563e-02 3.46363634e-02 3.40000018e-02\n",
            " 3.32727283e-02 3.14545482e-02 3.04545462e-02 3.29090916e-02\n",
            " 3.21818218e-02 3.22727300e-02 3.41818221e-02 3.12727280e-02\n",
            " 3.29999998e-02 2.09090952e-02 1.49000019e-01 1.42090917e-01\n",
            " 1.52545467e-01 1.49272725e-01 1.20000005e-01 1.39090925e-01\n",
            " 1.68090910e-01 6.32727295e-02 3.05454522e-01 1.11636370e-01\n",
            " 5.95454574e-02 1.16363652e-01 1.23909101e-01 8.34545568e-02\n",
            " 1.50818214e-01 1.33454561e-01 9.63636413e-02 1.25090942e-01\n",
            " 6.11818247e-02 1.15636379e-01 1.18090905e-01 8.06363747e-02\n",
            " 1.44636393e-01 1.27454549e-01 1.06454559e-01 1.25272736e-01\n",
            " 2.74545439e-02]\u001b[0m\n",
            "\u001b[34m<NDArray 85 @cpu(0)>}\u001b[0m\n",
            "\u001b[34m[04/17/2022 07:53:20 INFO 139945056937792] nvidia-smi: took 0.087 seconds to run.\u001b[0m\n",
            "\u001b[34m[04/17/2022 07:53:20 INFO 139945056937792] nvidia-smi identified 0 GPUs.\u001b[0m\n",
            "\u001b[34m[04/17/2022 07:53:20 INFO 139945056937792] Number of GPUs being used: 0\u001b[0m\n",
            "\u001b[34m#metrics {\"StartTime\": 1650182000.8719058, \"EndTime\": 1650182000.871979, \"Dimensions\": {\"Algorithm\": \"Linear Learner\", \"Host\": \"algo-1\", \"Operation\": \"training\", \"Meta\": \"init_train_data_iter\"}, \"Metrics\": {\"Total Records Seen\": {\"sum\": 12000.0, \"count\": 1, \"min\": 12000, \"max\": 12000}, \"Total Batches Seen\": {\"sum\": 12.0, \"count\": 1, \"min\": 12, \"max\": 12}, \"Max Records Seen Between Resets\": {\"sum\": 11000.0, \"count\": 1, \"min\": 11000, \"max\": 11000}, \"Max Batches Seen Between Resets\": {\"sum\": 11.0, \"count\": 1, \"min\": 11, \"max\": 11}, \"Reset Count\": {\"sum\": 2.0, \"count\": 1, \"min\": 2, \"max\": 2}, \"Number of Records Since Last Reset\": {\"sum\": 0.0, \"count\": 1, \"min\": 0, \"max\": 0}, \"Number of Batches Since Last Reset\": {\"sum\": 0.0, \"count\": 1, \"min\": 0, \"max\": 0}}}\u001b[0m\n",
            "\u001b[34m[2022-04-17 07:54:20.822] [tensorio] [info] epoch_stats={\"data_pipeline\": \"/opt/ml/input/data/train\", \"epoch\": 3, \"duration\": 59949, \"num_examples\": 1309, \"num_bytes\": 507687136}\u001b[0m\n",
            "\u001b[34m#metrics {\"StartTime\": 1650182060.8224642, \"EndTime\": 1650182060.822566, \"Dimensions\": {\"Algorithm\": \"Linear Learner\", \"Host\": \"algo-1\", \"Operation\": \"training\", \"epoch\": 0, \"model\": 0}, \"Metrics\": {\"train_binary_classification_cross_entropy_objective\": {\"sum\": 0.4829363388388164, \"count\": 1, \"min\": 0.4829363388388164, \"max\": 0.4829363388388164}}}\u001b[0m\n",
            "\u001b[34m#metrics {\"StartTime\": 1650182060.8226762, \"EndTime\": 1650182060.8226943, \"Dimensions\": {\"Algorithm\": \"Linear Learner\", \"Host\": \"algo-1\", \"Operation\": \"training\", \"epoch\": 0, \"model\": 1}, \"Metrics\": {\"train_binary_classification_cross_entropy_objective\": {\"sum\": 0.4835287343063121, \"count\": 1, \"min\": 0.4835287343063121, \"max\": 0.4835287343063121}}}\u001b[0m\n",
            "\u001b[34m#metrics {\"StartTime\": 1650182060.8227417, \"EndTime\": 1650182060.8227544, \"Dimensions\": {\"Algorithm\": \"Linear Learner\", \"Host\": \"algo-1\", \"Operation\": \"training\", \"epoch\": 0, \"model\": 2}, \"Metrics\": {\"train_binary_classification_cross_entropy_objective\": {\"sum\": 0.4830309979266712, \"count\": 1, \"min\": 0.4830309979266712, \"max\": 0.4830309979266712}}}\u001b[0m\n",
            "\u001b[34m#metrics {\"StartTime\": 1650182060.8227966, \"EndTime\": 1650182060.822808, \"Dimensions\": {\"Algorithm\": \"Linear Learner\", \"Host\": \"algo-1\", \"Operation\": \"training\", \"epoch\": 0, \"model\": 3}, \"Metrics\": {\"train_binary_classification_cross_entropy_objective\": {\"sum\": 0.48353010888055925, \"count\": 1, \"min\": 0.48353010888055925, \"max\": 0.48353010888055925}}}\u001b[0m\n",
            "\u001b[34m#metrics {\"StartTime\": 1650182060.8228595, \"EndTime\": 1650182060.8228707, \"Dimensions\": {\"Algorithm\": \"Linear Learner\", \"Host\": \"algo-1\", \"Operation\": \"training\", \"epoch\": 0, \"model\": 4}, \"Metrics\": {\"train_binary_classification_cross_entropy_objective\": {\"sum\": 0.4947641468806369, \"count\": 1, \"min\": 0.4947641468806369, \"max\": 0.4947641468806369}}}\u001b[0m\n",
            "\u001b[34m#metrics {\"StartTime\": 1650182060.822909, \"EndTime\": 1650182060.82292, \"Dimensions\": {\"Algorithm\": \"Linear Learner\", \"Host\": \"algo-1\", \"Operation\": \"training\", \"epoch\": 0, \"model\": 5}, \"Metrics\": {\"train_binary_classification_cross_entropy_objective\": {\"sum\": 0.5040661610827898, \"count\": 1, \"min\": 0.5040661610827898, \"max\": 0.5040661610827898}}}\u001b[0m\n",
            "\u001b[34m#metrics {\"StartTime\": 1650182060.8229587, \"EndTime\": 1650182060.82297, \"Dimensions\": {\"Algorithm\": \"Linear Learner\", \"Host\": \"algo-1\", \"Operation\": \"training\", \"epoch\": 0, \"model\": 6}, \"Metrics\": {\"train_binary_classification_cross_entropy_objective\": {\"sum\": 0.4947911679795758, \"count\": 1, \"min\": 0.4947911679795758, \"max\": 0.4947911679795758}}}\u001b[0m\n",
            "\u001b[34m#metrics {\"StartTime\": 1650182060.8230085, \"EndTime\": 1650182060.8230195, \"Dimensions\": {\"Algorithm\": \"Linear Learner\", \"Host\": \"algo-1\", \"Operation\": \"training\", \"epoch\": 0, \"model\": 7}, \"Metrics\": {\"train_binary_classification_cross_entropy_objective\": {\"sum\": 0.5040802854952098, \"count\": 1, \"min\": 0.5040802854952098, \"max\": 0.5040802854952098}}}\u001b[0m\n",
            "\u001b[34m#metrics {\"StartTime\": 1650182060.823058, \"EndTime\": 1650182060.823069, \"Dimensions\": {\"Algorithm\": \"Linear Learner\", \"Host\": \"algo-1\", \"Operation\": \"training\", \"epoch\": 0, \"model\": 8}, \"Metrics\": {\"train_binary_classification_cross_entropy_objective\": {\"sum\": 0.48323728081939415, \"count\": 1, \"min\": 0.48323728081939415, \"max\": 0.48323728081939415}}}\u001b[0m\n",
            "\u001b[34m#metrics {\"StartTime\": 1650182060.823108, \"EndTime\": 1650182060.823119, \"Dimensions\": {\"Algorithm\": \"Linear Learner\", \"Host\": \"algo-1\", \"Operation\": \"training\", \"epoch\": 0, \"model\": 9}, \"Metrics\": {\"train_binary_classification_cross_entropy_objective\": {\"sum\": 0.4837047394918739, \"count\": 1, \"min\": 0.4837047394918739, \"max\": 0.4837047394918739}}}\u001b[0m\n",
            "\u001b[34m#metrics {\"StartTime\": 1650182060.8231568, \"EndTime\": 1650182060.8231678, \"Dimensions\": {\"Algorithm\": \"Linear Learner\", \"Host\": \"algo-1\", \"Operation\": \"training\", \"epoch\": 0, \"model\": 10}, \"Metrics\": {\"train_binary_classification_cross_entropy_objective\": {\"sum\": 0.4831840528668978, \"count\": 1, \"min\": 0.4831840528668978, \"max\": 0.4831840528668978}}}\u001b[0m\n",
            "\u001b[34m#metrics {\"StartTime\": 1650182060.8232062, \"EndTime\": 1650182060.8232174, \"Dimensions\": {\"Algorithm\": \"Linear Learner\", \"Host\": \"algo-1\", \"Operation\": \"training\", \"epoch\": 0, \"model\": 11}, \"Metrics\": {\"train_binary_classification_cross_entropy_objective\": {\"sum\": 0.48365970308263, \"count\": 1, \"min\": 0.48365970308263, \"max\": 0.48365970308263}}}\u001b[0m\n",
            "\u001b[34m#metrics {\"StartTime\": 1650182060.8232553, \"EndTime\": 1650182060.8232663, \"Dimensions\": {\"Algorithm\": \"Linear Learner\", \"Host\": \"algo-1\", \"Operation\": \"training\", \"epoch\": 0, \"model\": 12}, \"Metrics\": {\"train_binary_classification_cross_entropy_objective\": {\"sum\": 0.49398819986979164, \"count\": 1, \"min\": 0.49398819986979164, \"max\": 0.49398819986979164}}}\u001b[0m\n",
            "\u001b[34m#metrics {\"StartTime\": 1650182060.823305, \"EndTime\": 1650182060.8233159, \"Dimensions\": {\"Algorithm\": \"Linear Learner\", \"Host\": \"algo-1\", \"Operation\": \"training\", \"epoch\": 0, \"model\": 13}, \"Metrics\": {\"train_binary_classification_cross_entropy_objective\": {\"sum\": 0.5026196548975207, \"count\": 1, \"min\": 0.5026196548975207, \"max\": 0.5026196548975207}}}\u001b[0m\n",
            "\u001b[34m#metrics {\"StartTime\": 1650182060.8233538, \"EndTime\": 1650182060.823365, \"Dimensions\": {\"Algorithm\": \"Linear Learner\", \"Host\": \"algo-1\", \"Operation\": \"training\", \"epoch\": 0, \"model\": 14}, \"Metrics\": {\"train_binary_classification_cross_entropy_objective\": {\"sum\": 0.494053943599036, \"count\": 1, \"min\": 0.494053943599036, \"max\": 0.494053943599036}}}\u001b[0m\n",
            "\u001b[34m#metrics {\"StartTime\": 1650182060.8234031, \"EndTime\": 1650182060.823414, \"Dimensions\": {\"Algorithm\": \"Linear Learner\", \"Host\": \"algo-1\", \"Operation\": \"training\", \"epoch\": 0, \"model\": 15}, \"Metrics\": {\"train_binary_classification_cross_entropy_objective\": {\"sum\": 0.5025976780882669, \"count\": 1, \"min\": 0.5025976780882669, \"max\": 0.5025976780882669}}}\u001b[0m\n",
            "\u001b[34m#metrics {\"StartTime\": 1650182060.8234518, \"EndTime\": 1650182060.8234627, \"Dimensions\": {\"Algorithm\": \"Linear Learner\", \"Host\": \"algo-1\", \"Operation\": \"training\", \"epoch\": 0, \"model\": 16}, \"Metrics\": {\"train_binary_classification_cross_entropy_objective\": {\"sum\": 0.50585634060081, \"count\": 1, \"min\": 0.50585634060081, \"max\": 0.50585634060081}}}\u001b[0m\n",
            "\u001b[34m#metrics {\"StartTime\": 1650182060.8235004, \"EndTime\": 1650182060.8235111, \"Dimensions\": {\"Algorithm\": \"Linear Learner\", \"Host\": \"algo-1\", \"Operation\": \"training\", \"epoch\": 0, \"model\": 17}, \"Metrics\": {\"train_binary_classification_cross_entropy_objective\": {\"sum\": 0.5060052535264135, \"count\": 1, \"min\": 0.5060052535264135, \"max\": 0.5060052535264135}}}\u001b[0m\n",
            "\u001b[34m#metrics {\"StartTime\": 1650182060.8235495, \"EndTime\": 1650182060.8235605, \"Dimensions\": {\"Algorithm\": \"Linear Learner\", \"Host\": \"algo-1\", \"Operation\": \"training\", \"epoch\": 0, \"model\": 18}, \"Metrics\": {\"train_binary_classification_cross_entropy_objective\": {\"sum\": 0.5058593987747799, \"count\": 1, \"min\": 0.5058593987747799, \"max\": 0.5058593987747799}}}\u001b[0m\n",
            "\u001b[34m#metrics {\"StartTime\": 1650182060.8235986, \"EndTime\": 1650182060.8236094, \"Dimensions\": {\"Algorithm\": \"Linear Learner\", \"Host\": \"algo-1\", \"Operation\": \"training\", \"epoch\": 0, \"model\": 19}, \"Metrics\": {\"train_binary_classification_cross_entropy_objective\": {\"sum\": 0.5059593859564638, \"count\": 1, \"min\": 0.5059593859564638, \"max\": 0.5059593859564638}}}\u001b[0m\n",
            "\u001b[34m#metrics {\"StartTime\": 1650182060.823651, \"EndTime\": 1650182060.8236628, \"Dimensions\": {\"Algorithm\": \"Linear Learner\", \"Host\": \"algo-1\", \"Operation\": \"training\", \"epoch\": 0, \"model\": 20}, \"Metrics\": {\"train_binary_classification_cross_entropy_objective\": {\"sum\": 0.5072674921951528, \"count\": 1, \"min\": 0.5072674921951528, \"max\": 0.5072674921951528}}}\u001b[0m\n",
            "\u001b[34m#metrics {\"StartTime\": 1650182060.8237116, \"EndTime\": 1650182060.8237243, \"Dimensions\": {\"Algorithm\": \"Linear Learner\", \"Host\": \"algo-1\", \"Operation\": \"training\", \"epoch\": 0, \"model\": 21}, \"Metrics\": {\"train_binary_classification_cross_entropy_objective\": {\"sum\": 0.5089565294598221, \"count\": 1, \"min\": 0.5089565294598221, \"max\": 0.5089565294598221}}}\u001b[0m\n",
            "\u001b[34m#metrics {\"StartTime\": 1650182060.823765, \"EndTime\": 1650182060.8237762, \"Dimensions\": {\"Algorithm\": \"Linear Learner\", \"Host\": \"algo-1\", \"Operation\": \"training\", \"epoch\": 0, \"model\": 22}, \"Metrics\": {\"train_binary_classification_cross_entropy_objective\": {\"sum\": 0.5072157923380534, \"count\": 1, \"min\": 0.5072157923380534, \"max\": 0.5072157923380534}}}\u001b[0m\n",
            "\u001b[34m#metrics {\"StartTime\": 1650182060.8238149, \"EndTime\": 1650182060.8238256, \"Dimensions\": {\"Algorithm\": \"Linear Learner\", \"Host\": \"algo-1\", \"Operation\": \"training\", \"epoch\": 0, \"model\": 23}, \"Metrics\": {\"train_binary_classification_cross_entropy_objective\": {\"sum\": 0.50894019711929, \"count\": 1, \"min\": 0.50894019711929, \"max\": 0.50894019711929}}}\u001b[0m\n",
            "\u001b[34m#metrics {\"StartTime\": 1650182060.8238633, \"EndTime\": 1650182060.8238742, \"Dimensions\": {\"Algorithm\": \"Linear Learner\", \"Host\": \"algo-1\", \"Operation\": \"training\", \"epoch\": 0, \"model\": 24}, \"Metrics\": {\"train_binary_classification_cross_entropy_objective\": {\"sum\": 0.5150191194726786, \"count\": 1, \"min\": 0.5150191194726786, \"max\": 0.5150191194726786}}}\u001b[0m\n",
            "\u001b[34m#metrics {\"StartTime\": 1650182060.8239124, \"EndTime\": 1650182060.8239233, \"Dimensions\": {\"Algorithm\": \"Linear Learner\", \"Host\": \"algo-1\", \"Operation\": \"training\", \"epoch\": 0, \"model\": 25}, \"Metrics\": {\"train_binary_classification_cross_entropy_objective\": {\"sum\": 0.515047652171657, \"count\": 1, \"min\": 0.515047652171657, \"max\": 0.515047652171657}}}\u001b[0m\n",
            "\u001b[34m#metrics {\"StartTime\": 1650182060.823961, \"EndTime\": 1650182060.8239717, \"Dimensions\": {\"Algorithm\": \"Linear Learner\", \"Host\": \"algo-1\", \"Operation\": \"training\", \"epoch\": 0, \"model\": 26}, \"Metrics\": {\"train_binary_classification_cross_entropy_objective\": {\"sum\": 0.5150374901914451, \"count\": 1, \"min\": 0.5150374901914451, \"max\": 0.5150374901914451}}}\u001b[0m\n",
            "\u001b[34m#metrics {\"StartTime\": 1650182060.8240097, \"EndTime\": 1650182060.824043, \"Dimensions\": {\"Algorithm\": \"Linear Learner\", \"Host\": \"algo-1\", \"Operation\": \"training\", \"epoch\": 0, \"model\": 27}, \"Metrics\": {\"train_binary_classification_cross_entropy_objective\": {\"sum\": 0.5150932232684681, \"count\": 1, \"min\": 0.5150932232684681, \"max\": 0.5150932232684681}}}\u001b[0m\n",
            "\u001b[34m#metrics {\"StartTime\": 1650182060.8240993, \"EndTime\": 1650182060.8241167, \"Dimensions\": {\"Algorithm\": \"Linear Learner\", \"Host\": \"algo-1\", \"Operation\": \"training\", \"epoch\": 0, \"model\": 28}, \"Metrics\": {\"train_binary_classification_cross_entropy_objective\": {\"sum\": 0.5150217300555028, \"count\": 1, \"min\": 0.5150217300555028, \"max\": 0.5150217300555028}}}\u001b[0m\n",
            "\u001b[34m#metrics {\"StartTime\": 1650182060.824174, \"EndTime\": 1650182060.824189, \"Dimensions\": {\"Algorithm\": \"Linear Learner\", \"Host\": \"algo-1\", \"Operation\": \"training\", \"epoch\": 0, \"model\": 29}, \"Metrics\": {\"train_binary_classification_cross_entropy_objective\": {\"sum\": 0.5157503408729484, \"count\": 1, \"min\": 0.5157503408729484, \"max\": 0.5157503408729484}}}\u001b[0m\n",
            "\u001b[34m#metrics {\"StartTime\": 1650182060.8242238, \"EndTime\": 1650182060.8242323, \"Dimensions\": {\"Algorithm\": \"Linear Learner\", \"Host\": \"algo-1\", \"Operation\": \"training\", \"epoch\": 0, \"model\": 30}, \"Metrics\": {\"train_binary_classification_cross_entropy_objective\": {\"sum\": 0.5150340865248934, \"count\": 1, \"min\": 0.5150340865248934, \"max\": 0.5150340865248934}}}\u001b[0m\n",
            "\u001b[34m#metrics {\"StartTime\": 1650182060.8242586, \"EndTime\": 1650182060.8242664, \"Dimensions\": {\"Algorithm\": \"Linear Learner\", \"Host\": \"algo-1\", \"Operation\": \"training\", \"epoch\": 0, \"model\": 31}, \"Metrics\": {\"train_binary_classification_cross_entropy_objective\": {\"sum\": 0.5157570364015912, \"count\": 1, \"min\": 0.5157570364015912, \"max\": 0.5157570364015912}}}\u001b[0m\n",
            "\u001b[34m[04/17/2022 07:54:20 INFO 139945056937792] #quality_metric: host=algo-1, epoch=0, train binary_classification_cross_entropy_objective <loss>=0.4829363388388164\u001b[0m\n",
            "\u001b[34m[2022-04-17 07:54:20.852] [tensorio] [info] epoch_stats={\"data_pipeline\": \"/opt/ml/input/data/validation\", \"epoch\": 0, \"duration\": 60443, \"num_examples\": 1, \"num_bytes\": 388000}\u001b[0m\n",
            "\u001b[34m[2022-04-17 07:54:26.781] [tensorio] [info] epoch_stats={\"data_pipeline\": \"/opt/ml/input/data/validation\", \"epoch\": 2, \"duration\": 5928, \"num_examples\": 164, \"num_bytes\": 63460892}\u001b[0m\n",
            "\u001b[34m#metrics {\"StartTime\": 1650182066.791939, \"EndTime\": 1650182066.7920558, \"Dimensions\": {\"Algorithm\": \"Linear Learner\", \"Host\": \"algo-1\", \"Operation\": \"training\", \"epoch\": 0, \"model\": 0}, \"Metrics\": {\"validation_binary_classification_cross_entropy_objective\": {\"sum\": 0.48094746543463485, \"count\": 1, \"min\": 0.48094746543463485, \"max\": 0.48094746543463485}}}\u001b[0m\n",
            "\u001b[34m#metrics {\"StartTime\": 1650182066.7921815, \"EndTime\": 1650182066.792205, \"Dimensions\": {\"Algorithm\": \"Linear Learner\", \"Host\": \"algo-1\", \"Operation\": \"training\", \"epoch\": 0, \"model\": 1}, \"Metrics\": {\"validation_binary_classification_cross_entropy_objective\": {\"sum\": 0.48207572600366594, \"count\": 1, \"min\": 0.48207572600366594, \"max\": 0.48207572600366594}}}\u001b[0m\n",
            "\u001b[34m#metrics {\"StartTime\": 1650182066.792269, \"EndTime\": 1650182066.7922885, \"Dimensions\": {\"Algorithm\": \"Linear Learner\", \"Host\": \"algo-1\", \"Operation\": \"training\", \"epoch\": 0, \"model\": 2}, \"Metrics\": {\"validation_binary_classification_cross_entropy_objective\": {\"sum\": 0.4809494118843869, \"count\": 1, \"min\": 0.4809494118843869, \"max\": 0.4809494118843869}}}\u001b[0m\n",
            "\u001b[34m#metrics {\"StartTime\": 1650182066.7923489, \"EndTime\": 1650182066.7923667, \"Dimensions\": {\"Algorithm\": \"Linear Learner\", \"Host\": \"algo-1\", \"Operation\": \"training\", \"epoch\": 0, \"model\": 3}, \"Metrics\": {\"validation_binary_classification_cross_entropy_objective\": {\"sum\": 0.4820759666977016, \"count\": 1, \"min\": 0.4820759666977016, \"max\": 0.4820759666977016}}}\u001b[0m\n",
            "\u001b[34m#metrics {\"StartTime\": 1650182066.7924218, \"EndTime\": 1650182066.792441, \"Dimensions\": {\"Algorithm\": \"Linear Learner\", \"Host\": \"algo-1\", \"Operation\": \"training\", \"epoch\": 0, \"model\": 4}, \"Metrics\": {\"validation_binary_classification_cross_entropy_objective\": {\"sum\": 0.48928687882369903, \"count\": 1, \"min\": 0.48928687882369903, \"max\": 0.48928687882369903}}}\u001b[0m\n",
            "\u001b[34m#metrics {\"StartTime\": 1650182066.7924972, \"EndTime\": 1650182066.7925158, \"Dimensions\": {\"Algorithm\": \"Linear Learner\", \"Host\": \"algo-1\", \"Operation\": \"training\", \"epoch\": 0, \"model\": 5}, \"Metrics\": {\"validation_binary_classification_cross_entropy_objective\": {\"sum\": 0.49981905816538774, \"count\": 1, \"min\": 0.49981905816538774, \"max\": 0.49981905816538774}}}\u001b[0m\n",
            "\u001b[34m#metrics {\"StartTime\": 1650182066.7925832, \"EndTime\": 1650182066.7926004, \"Dimensions\": {\"Algorithm\": \"Linear Learner\", \"Host\": \"algo-1\", \"Operation\": \"training\", \"epoch\": 0, \"model\": 6}, \"Metrics\": {\"validation_binary_classification_cross_entropy_objective\": {\"sum\": 0.48928323221576625, \"count\": 1, \"min\": 0.48928323221576625, \"max\": 0.48928323221576625}}}\u001b[0m\n",
            "\u001b[34m#metrics {\"StartTime\": 1650182066.7926652, \"EndTime\": 1650182066.7926843, \"Dimensions\": {\"Algorithm\": \"Linear Learner\", \"Host\": \"algo-1\", \"Operation\": \"training\", \"epoch\": 0, \"model\": 7}, \"Metrics\": {\"validation_binary_classification_cross_entropy_objective\": {\"sum\": 0.4998185439384402, \"count\": 1, \"min\": 0.4998185439384402, \"max\": 0.4998185439384402}}}\u001b[0m\n",
            "\u001b[34m#metrics {\"StartTime\": 1650182066.7927375, \"EndTime\": 1650182066.7927566, \"Dimensions\": {\"Algorithm\": \"Linear Learner\", \"Host\": \"algo-1\", \"Operation\": \"training\", \"epoch\": 0, \"model\": 8}, \"Metrics\": {\"validation_binary_classification_cross_entropy_objective\": {\"sum\": 0.48116309650415473, \"count\": 1, \"min\": 0.48116309650415473, \"max\": 0.48116309650415473}}}\u001b[0m\n",
            "\u001b[34m#metrics {\"StartTime\": 1650182066.7928233, \"EndTime\": 1650182066.7928386, \"Dimensions\": {\"Algorithm\": \"Linear Learner\", \"Host\": \"algo-1\", \"Operation\": \"training\", \"epoch\": 0, \"model\": 9}, \"Metrics\": {\"validation_binary_classification_cross_entropy_objective\": {\"sum\": 0.48217726474175365, \"count\": 1, \"min\": 0.48217726474175365, \"max\": 0.48217726474175365}}}\u001b[0m\n",
            "\u001b[34m#metrics {\"StartTime\": 1650182066.792895, \"EndTime\": 1650182066.7929168, \"Dimensions\": {\"Algorithm\": \"Linear Learner\", \"Host\": \"algo-1\", \"Operation\": \"training\", \"epoch\": 0, \"model\": 10}, \"Metrics\": {\"validation_binary_classification_cross_entropy_objective\": {\"sum\": 0.4811627154985572, \"count\": 1, \"min\": 0.4811627154985572, \"max\": 0.4811627154985572}}}\u001b[0m\n",
            "\u001b[34m#metrics {\"StartTime\": 1650182066.7929797, \"EndTime\": 1650182066.792997, \"Dimensions\": {\"Algorithm\": \"Linear Learner\", \"Host\": \"algo-1\", \"Operation\": \"training\", \"epoch\": 0, \"model\": 11}, \"Metrics\": {\"validation_binary_classification_cross_entropy_objective\": {\"sum\": 0.4821758860687074, \"count\": 1, \"min\": 0.4821758860687074, \"max\": 0.4821758860687074}}}\u001b[0m\n",
            "\u001b[34m#metrics {\"StartTime\": 1650182066.793054, \"EndTime\": 1650182066.7930686, \"Dimensions\": {\"Algorithm\": \"Linear Learner\", \"Host\": \"algo-1\", \"Operation\": \"training\", \"epoch\": 0, \"model\": 12}, \"Metrics\": {\"validation_binary_classification_cross_entropy_objective\": {\"sum\": 0.489181210596931, \"count\": 1, \"min\": 0.489181210596931, \"max\": 0.489181210596931}}}\u001b[0m\n",
            "\u001b[34m#metrics {\"StartTime\": 1650182066.793118, \"EndTime\": 1650182066.7931333, \"Dimensions\": {\"Algorithm\": \"Linear Learner\", \"Host\": \"algo-1\", \"Operation\": \"training\", \"epoch\": 0, \"model\": 13}, \"Metrics\": {\"validation_binary_classification_cross_entropy_objective\": {\"sum\": 0.4983109365082659, \"count\": 1, \"min\": 0.4983109365082659, \"max\": 0.4983109365082659}}}\u001b[0m\n",
            "\u001b[34m#metrics {\"StartTime\": 1650182066.793181, \"EndTime\": 1650182066.7931955, \"Dimensions\": {\"Algorithm\": \"Linear Learner\", \"Host\": \"algo-1\", \"Operation\": \"training\", \"epoch\": 0, \"model\": 14}, \"Metrics\": {\"validation_binary_classification_cross_entropy_objective\": {\"sum\": 0.4891789708363075, \"count\": 1, \"min\": 0.4891789708363075, \"max\": 0.4891789708363075}}}\u001b[0m\n",
            "\u001b[34m#metrics {\"StartTime\": 1650182066.793251, \"EndTime\": 1650182066.7932682, \"Dimensions\": {\"Algorithm\": \"Linear Learner\", \"Host\": \"algo-1\", \"Operation\": \"training\", \"epoch\": 0, \"model\": 15}, \"Metrics\": {\"validation_binary_classification_cross_entropy_objective\": {\"sum\": 0.49833155671032703, \"count\": 1, \"min\": 0.49833155671032703, \"max\": 0.49833155671032703}}}\u001b[0m\n",
            "\u001b[34m#metrics {\"StartTime\": 1650182066.7933245, \"EndTime\": 1650182066.7933424, \"Dimensions\": {\"Algorithm\": \"Linear Learner\", \"Host\": \"algo-1\", \"Operation\": \"training\", \"epoch\": 0, \"model\": 16}, \"Metrics\": {\"validation_binary_classification_cross_entropy_objective\": {\"sum\": 0.5042733492664178, \"count\": 1, \"min\": 0.5042733492664178, \"max\": 0.5042733492664178}}}\u001b[0m\n",
            "\u001b[34m#metrics {\"StartTime\": 1650182066.793388, \"EndTime\": 1650182066.7934053, \"Dimensions\": {\"Algorithm\": \"Linear Learner\", \"Host\": \"algo-1\", \"Operation\": \"training\", \"epoch\": 0, \"model\": 17}, \"Metrics\": {\"validation_binary_classification_cross_entropy_objective\": {\"sum\": 0.5050510048275179, \"count\": 1, \"min\": 0.5050510048275179, \"max\": 0.5050510048275179}}}\u001b[0m\n",
            "\u001b[34m#metrics {\"StartTime\": 1650182066.7934494, \"EndTime\": 1650182066.7934663, \"Dimensions\": {\"Algorithm\": \"Linear Learner\", \"Host\": \"algo-1\", \"Operation\": \"training\", \"epoch\": 0, \"model\": 18}, \"Metrics\": {\"validation_binary_classification_cross_entropy_objective\": {\"sum\": 0.5042750537160424, \"count\": 1, \"min\": 0.5042750537160424, \"max\": 0.5042750537160424}}}\u001b[0m\n",
            "\u001b[34m#metrics {\"StartTime\": 1650182066.7935107, \"EndTime\": 1650182066.7935276, \"Dimensions\": {\"Algorithm\": \"Linear Learner\", \"Host\": \"algo-1\", \"Operation\": \"training\", \"epoch\": 0, \"model\": 19}, \"Metrics\": {\"validation_binary_classification_cross_entropy_objective\": {\"sum\": 0.5050490009097324, \"count\": 1, \"min\": 0.5050490009097324, \"max\": 0.5050490009097324}}}\u001b[0m\n",
            "\u001b[34m#metrics {\"StartTime\": 1650182066.79359, \"EndTime\": 1650182066.7936082, \"Dimensions\": {\"Algorithm\": \"Linear Learner\", \"Host\": \"algo-1\", \"Operation\": \"training\", \"epoch\": 0, \"model\": 20}, \"Metrics\": {\"validation_binary_classification_cross_entropy_objective\": {\"sum\": 0.508742922946037, \"count\": 1, \"min\": 0.508742922946037, \"max\": 0.508742922946037}}}\u001b[0m\n",
            "\u001b[34m#metrics {\"StartTime\": 1650182066.7936733, \"EndTime\": 1650182066.7936916, \"Dimensions\": {\"Algorithm\": \"Linear Learner\", \"Host\": \"algo-1\", \"Operation\": \"training\", \"epoch\": 0, \"model\": 21}, \"Metrics\": {\"validation_binary_classification_cross_entropy_objective\": {\"sum\": 0.5113861239036114, \"count\": 1, \"min\": 0.5113861239036114, \"max\": 0.5113861239036114}}}\u001b[0m\n",
            "\u001b[34m#metrics {\"StartTime\": 1650182066.793761, \"EndTime\": 1650182066.7937782, \"Dimensions\": {\"Algorithm\": \"Linear Learner\", \"Host\": \"algo-1\", \"Operation\": \"training\", \"epoch\": 0, \"model\": 22}, \"Metrics\": {\"validation_binary_classification_cross_entropy_objective\": {\"sum\": 0.508759564792882, \"count\": 1, \"min\": 0.508759564792882, \"max\": 0.508759564792882}}}\u001b[0m\n",
            "\u001b[34m#metrics {\"StartTime\": 1650182066.7938297, \"EndTime\": 1650182066.7938457, \"Dimensions\": {\"Algorithm\": \"Linear Learner\", \"Host\": \"algo-1\", \"Operation\": \"training\", \"epoch\": 0, \"model\": 23}, \"Metrics\": {\"validation_binary_classification_cross_entropy_objective\": {\"sum\": 0.511371028655884, \"count\": 1, \"min\": 0.511371028655884, \"max\": 0.511371028655884}}}\u001b[0m\n",
            "\u001b[34m#metrics {\"StartTime\": 1650182066.7939029, \"EndTime\": 1650182066.7939196, \"Dimensions\": {\"Algorithm\": \"Linear Learner\", \"Host\": \"algo-1\", \"Operation\": \"training\", \"epoch\": 0, \"model\": 24}, \"Metrics\": {\"validation_binary_classification_cross_entropy_objective\": {\"sum\": 0.5137624209242847, \"count\": 1, \"min\": 0.5137624209242847, \"max\": 0.5137624209242847}}}\u001b[0m\n",
            "\u001b[34m#metrics {\"StartTime\": 1650182066.7939737, \"EndTime\": 1650182066.7939894, \"Dimensions\": {\"Algorithm\": \"Linear Learner\", \"Host\": \"algo-1\", \"Operation\": \"training\", \"epoch\": 0, \"model\": 25}, \"Metrics\": {\"validation_binary_classification_cross_entropy_objective\": {\"sum\": 0.5144022666487967, \"count\": 1, \"min\": 0.5144022666487967, \"max\": 0.5144022666487967}}}\u001b[0m\n",
            "\u001b[34m#metrics {\"StartTime\": 1650182066.7940526, \"EndTime\": 1650182066.7940714, \"Dimensions\": {\"Algorithm\": \"Linear Learner\", \"Host\": \"algo-1\", \"Operation\": \"training\", \"epoch\": 0, \"model\": 26}, \"Metrics\": {\"validation_binary_classification_cross_entropy_objective\": {\"sum\": 0.5137434626305769, \"count\": 1, \"min\": 0.5137434626305769, \"max\": 0.5137434626305769}}}\u001b[0m\n",
            "\u001b[34m#metrics {\"StartTime\": 1650182066.7941399, \"EndTime\": 1650182066.7941587, \"Dimensions\": {\"Algorithm\": \"Linear Learner\", \"Host\": \"algo-1\", \"Operation\": \"training\", \"epoch\": 0, \"model\": 27}, \"Metrics\": {\"validation_binary_classification_cross_entropy_objective\": {\"sum\": 0.5144440931149081, \"count\": 1, \"min\": 0.5144440931149081, \"max\": 0.5144440931149081}}}\u001b[0m\n",
            "\u001b[34m#metrics {\"StartTime\": 1650182066.794218, \"EndTime\": 1650182066.7942364, \"Dimensions\": {\"Algorithm\": \"Linear Learner\", \"Host\": \"algo-1\", \"Operation\": \"training\", \"epoch\": 0, \"model\": 28}, \"Metrics\": {\"validation_binary_classification_cross_entropy_objective\": {\"sum\": 0.5152558468111446, \"count\": 1, \"min\": 0.5152558468111446, \"max\": 0.5152558468111446}}}\u001b[0m\n",
            "\u001b[34m#metrics {\"StartTime\": 1650182066.7942872, \"EndTime\": 1650182066.794302, \"Dimensions\": {\"Algorithm\": \"Linear Learner\", \"Host\": \"algo-1\", \"Operation\": \"training\", \"epoch\": 0, \"model\": 29}, \"Metrics\": {\"validation_binary_classification_cross_entropy_objective\": {\"sum\": 0.5137776572299121, \"count\": 1, \"min\": 0.5137776572299121, \"max\": 0.5137776572299121}}}\u001b[0m\n",
            "\u001b[34m#metrics {\"StartTime\": 1650182066.7943532, \"EndTime\": 1650182066.7943687, \"Dimensions\": {\"Algorithm\": \"Linear Learner\", \"Host\": \"algo-1\", \"Operation\": \"training\", \"epoch\": 0, \"model\": 30}, \"Metrics\": {\"validation_binary_classification_cross_entropy_objective\": {\"sum\": 0.5153179232956218, \"count\": 1, \"min\": 0.5153179232956218, \"max\": 0.5153179232956218}}}\u001b[0m\n",
            "\u001b[34m#metrics {\"StartTime\": 1650182066.7944183, \"EndTime\": 1650182066.7944345, \"Dimensions\": {\"Algorithm\": \"Linear Learner\", \"Host\": \"algo-1\", \"Operation\": \"training\", \"epoch\": 0, \"model\": 31}, \"Metrics\": {\"validation_binary_classification_cross_entropy_objective\": {\"sum\": 0.5138354633543936, \"count\": 1, \"min\": 0.5138354633543936, \"max\": 0.5138354633543936}}}\u001b[0m\n",
            "\u001b[34m[04/17/2022 07:54:26 INFO 139945056937792] #quality_metric: host=algo-1, epoch=0, validation binary_classification_cross_entropy_objective <loss>=0.48094746543463485\u001b[0m\n",
            "\u001b[34m[04/17/2022 07:54:26 INFO 139945056937792] #early_stopping_criteria_metric: host=algo-1, epoch=0, criteria=binary_classification_cross_entropy_objective, value=0.48094746543463485\u001b[0m\n",
            "\u001b[34m[04/17/2022 07:54:26 INFO 139945056937792] Epoch 0: Loss improved. Updating best model\u001b[0m\n",
            "\u001b[34m[04/17/2022 07:54:26 INFO 139945056937792] Saving model for epoch: 0\u001b[0m\n",
            "\u001b[34m[04/17/2022 07:54:26 INFO 139945056937792] Saved checkpoint to \"/tmp/tmp995q2hsu/mx-mod-0000.params\"\u001b[0m\n",
            "\u001b[34m[04/17/2022 07:54:26 INFO 139945056937792] #progress_metric: host=algo-1, completed 6.666666666666667 % of epochs\u001b[0m\n",
            "\u001b[34m#metrics {\"StartTime\": 1650182000.872402, \"EndTime\": 1650182066.8082123, \"Dimensions\": {\"Algorithm\": \"Linear Learner\", \"Host\": \"algo-1\", \"Operation\": \"training\", \"epoch\": 0, \"Meta\": \"training_data_iter\"}, \"Metrics\": {\"Total Records Seen\": {\"sum\": 1320472.0, \"count\": 1, \"min\": 1320472, \"max\": 1320472}, \"Total Batches Seen\": {\"sum\": 1321.0, \"count\": 1, \"min\": 1321, \"max\": 1321}, \"Max Records Seen Between Resets\": {\"sum\": 1308472.0, \"count\": 1, \"min\": 1308472, \"max\": 1308472}, \"Max Batches Seen Between Resets\": {\"sum\": 1309.0, \"count\": 1, \"min\": 1309, \"max\": 1309}, \"Reset Count\": {\"sum\": 3.0, \"count\": 1, \"min\": 3, \"max\": 3}, \"Number of Records Since Last Reset\": {\"sum\": 1308472.0, \"count\": 1, \"min\": 1308472, \"max\": 1308472}, \"Number of Batches Since Last Reset\": {\"sum\": 1309.0, \"count\": 1, \"min\": 1309, \"max\": 1309}}}\u001b[0m\n",
            "\u001b[34m[04/17/2022 07:54:26 INFO 139945056937792] #throughput_metric: host=algo-1, train throughput=19844.583486719042 records/second\u001b[0m\n",
            "\u001b[34m[2022-04-17 07:55:26.492] [tensorio] [info] epoch_stats={\"data_pipeline\": \"/opt/ml/input/data/train\", \"epoch\": 5, \"duration\": 59683, \"num_examples\": 1309, \"num_bytes\": 507687136}\u001b[0m\n",
            "\u001b[34m#metrics {\"StartTime\": 1650182126.4925756, \"EndTime\": 1650182126.492676, \"Dimensions\": {\"Algorithm\": \"Linear Learner\", \"Host\": \"algo-1\", \"Operation\": \"training\", \"epoch\": 1, \"model\": 0}, \"Metrics\": {\"train_binary_classification_cross_entropy_objective\": {\"sum\": 0.4806733589055706, \"count\": 1, \"min\": 0.4806733589055706, \"max\": 0.4806733589055706}}}\u001b[0m\n",
            "\u001b[34m#metrics {\"StartTime\": 1650182126.4927957, \"EndTime\": 1650182126.492817, \"Dimensions\": {\"Algorithm\": \"Linear Learner\", \"Host\": \"algo-1\", \"Operation\": \"training\", \"epoch\": 1, \"model\": 1}, \"Metrics\": {\"train_binary_classification_cross_entropy_objective\": {\"sum\": 0.48162715384573745, \"count\": 1, \"min\": 0.48162715384573745, \"max\": 0.48162715384573745}}}\u001b[0m\n",
            "\u001b[34m#metrics {\"StartTime\": 1650182126.4928741, \"EndTime\": 1650182126.4928908, \"Dimensions\": {\"Algorithm\": \"Linear Learner\", \"Host\": \"algo-1\", \"Operation\": \"training\", \"epoch\": 1, \"model\": 2}, \"Metrics\": {\"train_binary_classification_cross_entropy_objective\": {\"sum\": 0.4806739403027642, \"count\": 1, \"min\": 0.4806739403027642, \"max\": 0.4806739403027642}}}\u001b[0m\n",
            "\u001b[34m#metrics {\"StartTime\": 1650182126.4929504, \"EndTime\": 1650182126.492971, \"Dimensions\": {\"Algorithm\": \"Linear Learner\", \"Host\": \"algo-1\", \"Operation\": \"training\", \"epoch\": 1, \"model\": 3}, \"Metrics\": {\"train_binary_classification_cross_entropy_objective\": {\"sum\": 0.4816271682412617, \"count\": 1, \"min\": 0.4816271682412617, \"max\": 0.4816271682412617}}}\u001b[0m\n",
            "\u001b[34m#metrics {\"StartTime\": 1650182126.4931157, \"EndTime\": 1650182126.4931328, \"Dimensions\": {\"Algorithm\": \"Linear Learner\", \"Host\": \"algo-1\", \"Operation\": \"training\", \"epoch\": 1, \"model\": 4}, \"Metrics\": {\"train_binary_classification_cross_entropy_objective\": {\"sum\": 0.4844676464209134, \"count\": 1, \"min\": 0.4844676464209134, \"max\": 0.4844676464209134}}}\u001b[0m\n",
            "\u001b[34m#metrics {\"StartTime\": 1650182126.4931753, \"EndTime\": 1650182126.4931867, \"Dimensions\": {\"Algorithm\": \"Linear Learner\", \"Host\": \"algo-1\", \"Operation\": \"training\", \"epoch\": 1, \"model\": 5}, \"Metrics\": {\"train_binary_classification_cross_entropy_objective\": {\"sum\": 0.5005705037248244, \"count\": 1, \"min\": 0.5005705037248244, \"max\": 0.5005705037248244}}}\u001b[0m\n",
            "\u001b[34m#metrics {\"StartTime\": 1650182126.493267, \"EndTime\": 1650182126.4932816, \"Dimensions\": {\"Algorithm\": \"Linear Learner\", \"Host\": \"algo-1\", \"Operation\": \"training\", \"epoch\": 1, \"model\": 6}, \"Metrics\": {\"train_binary_classification_cross_entropy_objective\": {\"sum\": 0.48446669876611925, \"count\": 1, \"min\": 0.48446669876611925, \"max\": 0.48446669876611925}}}\u001b[0m\n",
            "\u001b[34m#metrics {\"StartTime\": 1650182126.4933221, \"EndTime\": 1650182126.4933338, \"Dimensions\": {\"Algorithm\": \"Linear Learner\", \"Host\": \"algo-1\", \"Operation\": \"training\", \"epoch\": 1, \"model\": 7}, \"Metrics\": {\"train_binary_classification_cross_entropy_objective\": {\"sum\": 0.5005685191956499, \"count\": 1, \"min\": 0.5005685191956499, \"max\": 0.5005685191956499}}}\u001b[0m\n",
            "\u001b[34m#metrics {\"StartTime\": 1650182126.4933724, \"EndTime\": 1650182126.4933836, \"Dimensions\": {\"Algorithm\": \"Linear Learner\", \"Host\": \"algo-1\", \"Operation\": \"training\", \"epoch\": 1, \"model\": 8}, \"Metrics\": {\"train_binary_classification_cross_entropy_objective\": {\"sum\": 0.48092316397104057, \"count\": 1, \"min\": 0.48092316397104057, \"max\": 0.48092316397104057}}}\u001b[0m\n",
            "\u001b[34m#metrics {\"StartTime\": 1650182126.4934225, \"EndTime\": 1650182126.493434, \"Dimensions\": {\"Algorithm\": \"Linear Learner\", \"Host\": \"algo-1\", \"Operation\": \"training\", \"epoch\": 1, \"model\": 9}, \"Metrics\": {\"train_binary_classification_cross_entropy_objective\": {\"sum\": 0.4818217710909129, \"count\": 1, \"min\": 0.4818217710909129, \"max\": 0.4818217710909129}}}\u001b[0m\n",
            "\u001b[34m#metrics {\"StartTime\": 1650182126.4934754, \"EndTime\": 1650182126.4934866, \"Dimensions\": {\"Algorithm\": \"Linear Learner\", \"Host\": \"algo-1\", \"Operation\": \"training\", \"epoch\": 1, \"model\": 10}, \"Metrics\": {\"train_binary_classification_cross_entropy_objective\": {\"sum\": 0.48092294738489555, \"count\": 1, \"min\": 0.48092294738489555, \"max\": 0.48092294738489555}}}\u001b[0m\n",
            "\u001b[34m#metrics {\"StartTime\": 1650182126.4935253, \"EndTime\": 1650182126.4935658, \"Dimensions\": {\"Algorithm\": \"Linear Learner\", \"Host\": \"algo-1\", \"Operation\": \"training\", \"epoch\": 1, \"model\": 11}, \"Metrics\": {\"train_binary_classification_cross_entropy_objective\": {\"sum\": 0.4818217824533445, \"count\": 1, \"min\": 0.4818217824533445, \"max\": 0.4818217824533445}}}\u001b[0m\n",
            "\u001b[34m#metrics {\"StartTime\": 1650182126.4936113, \"EndTime\": 1650182126.4936233, \"Dimensions\": {\"Algorithm\": \"Linear Learner\", \"Host\": \"algo-1\", \"Operation\": \"training\", \"epoch\": 1, \"model\": 12}, \"Metrics\": {\"train_binary_classification_cross_entropy_objective\": {\"sum\": 0.4844703421636459, \"count\": 1, \"min\": 0.4844703421636459, \"max\": 0.4844703421636459}}}\u001b[0m\n",
            "\u001b[34m#metrics {\"StartTime\": 1650182126.4936628, \"EndTime\": 1650182126.4936738, \"Dimensions\": {\"Algorithm\": \"Linear Learner\", \"Host\": \"algo-1\", \"Operation\": \"training\", \"epoch\": 1, \"model\": 13}, \"Metrics\": {\"train_binary_classification_cross_entropy_objective\": {\"sum\": 0.49939501075861287, \"count\": 1, \"min\": 0.49939501075861287, \"max\": 0.49939501075861287}}}\u001b[0m\n",
            "\u001b[34m#metrics {\"StartTime\": 1650182126.4937124, \"EndTime\": 1650182126.4937234, \"Dimensions\": {\"Algorithm\": \"Linear Learner\", \"Host\": \"algo-1\", \"Operation\": \"training\", \"epoch\": 1, \"model\": 14}, \"Metrics\": {\"train_binary_classification_cross_entropy_objective\": {\"sum\": 0.48446947857218053, \"count\": 1, \"min\": 0.48446947857218053, \"max\": 0.48446947857218053}}}\u001b[0m\n",
            "\u001b[34m#metrics {\"StartTime\": 1650182126.4937623, \"EndTime\": 1650182126.4937732, \"Dimensions\": {\"Algorithm\": \"Linear Learner\", \"Host\": \"algo-1\", \"Operation\": \"training\", \"epoch\": 1, \"model\": 15}, \"Metrics\": {\"train_binary_classification_cross_entropy_objective\": {\"sum\": 0.49939627952459026, \"count\": 1, \"min\": 0.49939627952459026, \"max\": 0.49939627952459026}}}\u001b[0m\n",
            "\u001b[34m#metrics {\"StartTime\": 1650182126.4938114, \"EndTime\": 1650182126.4938226, \"Dimensions\": {\"Algorithm\": \"Linear Learner\", \"Host\": \"algo-1\", \"Operation\": \"training\", \"epoch\": 1, \"model\": 16}, \"Metrics\": {\"train_binary_classification_cross_entropy_objective\": {\"sum\": 0.5044581212968272, \"count\": 1, \"min\": 0.5044581212968272, \"max\": 0.5044581212968272}}}\u001b[0m\n",
            "\u001b[34m#metrics {\"StartTime\": 1650182126.493861, \"EndTime\": 1650182126.493872, \"Dimensions\": {\"Algorithm\": \"Linear Learner\", \"Host\": \"algo-1\", \"Operation\": \"training\", \"epoch\": 1, \"model\": 17}, \"Metrics\": {\"train_binary_classification_cross_entropy_objective\": {\"sum\": 0.5046859180788746, \"count\": 1, \"min\": 0.5046859180788746, \"max\": 0.5046859180788746}}}\u001b[0m\n",
            "\u001b[34m#metrics {\"StartTime\": 1650182126.4939098, \"EndTime\": 1650182126.4939208, \"Dimensions\": {\"Algorithm\": \"Linear Learner\", \"Host\": \"algo-1\", \"Operation\": \"training\", \"epoch\": 1, \"model\": 18}, \"Metrics\": {\"train_binary_classification_cross_entropy_objective\": {\"sum\": 0.5044581614503073, \"count\": 1, \"min\": 0.5044581614503073, \"max\": 0.5044581614503073}}}\u001b[0m\n",
            "\u001b[34m#metrics {\"StartTime\": 1650182126.4939587, \"EndTime\": 1650182126.4939694, \"Dimensions\": {\"Algorithm\": \"Linear Learner\", \"Host\": \"algo-1\", \"Operation\": \"training\", \"epoch\": 1, \"model\": 19}, \"Metrics\": {\"train_binary_classification_cross_entropy_objective\": {\"sum\": 0.5046858478511146, \"count\": 1, \"min\": 0.5046858478511146, \"max\": 0.5046858478511146}}}\u001b[0m\n",
            "\u001b[34m#metrics {\"StartTime\": 1650182126.4940073, \"EndTime\": 1650182126.4940183, \"Dimensions\": {\"Algorithm\": \"Linear Learner\", \"Host\": \"algo-1\", \"Operation\": \"training\", \"epoch\": 1, \"model\": 20}, \"Metrics\": {\"train_binary_classification_cross_entropy_objective\": {\"sum\": 0.5052757433736725, \"count\": 1, \"min\": 0.5052757433736725, \"max\": 0.5052757433736725}}}\u001b[0m\n",
            "\u001b[34m#metrics {\"StartTime\": 1650182126.4940565, \"EndTime\": 1650182126.4940672, \"Dimensions\": {\"Algorithm\": \"Linear Learner\", \"Host\": \"algo-1\", \"Operation\": \"training\", \"epoch\": 1, \"model\": 21}, \"Metrics\": {\"train_binary_classification_cross_entropy_objective\": {\"sum\": 0.508212185710942, \"count\": 1, \"min\": 0.508212185710942, \"max\": 0.508212185710942}}}\u001b[0m\n",
            "\u001b[34m#metrics {\"StartTime\": 1650182126.494105, \"EndTime\": 1650182126.494116, \"Dimensions\": {\"Algorithm\": \"Linear Learner\", \"Host\": \"algo-1\", \"Operation\": \"training\", \"epoch\": 1, \"model\": 22}, \"Metrics\": {\"train_binary_classification_cross_entropy_objective\": {\"sum\": 0.5052768595284278, \"count\": 1, \"min\": 0.5052768595284278, \"max\": 0.5052768595284278}}}\u001b[0m\n",
            "\u001b[34m#metrics {\"StartTime\": 1650182126.4941537, \"EndTime\": 1650182126.4941647, \"Dimensions\": {\"Algorithm\": \"Linear Learner\", \"Host\": \"algo-1\", \"Operation\": \"training\", \"epoch\": 1, \"model\": 23}, \"Metrics\": {\"train_binary_classification_cross_entropy_objective\": {\"sum\": 0.5082122322572481, \"count\": 1, \"min\": 0.5082122322572481, \"max\": 0.5082122322572481}}}\u001b[0m\n",
            "\u001b[34m#metrics {\"StartTime\": 1650182126.4942024, \"EndTime\": 1650182126.494213, \"Dimensions\": {\"Algorithm\": \"Linear Learner\", \"Host\": \"algo-1\", \"Operation\": \"training\", \"epoch\": 1, \"model\": 24}, \"Metrics\": {\"train_binary_classification_cross_entropy_objective\": {\"sum\": 0.5137389481570742, \"count\": 1, \"min\": 0.5137389481570742, \"max\": 0.5137389481570742}}}\u001b[0m\n",
            "\u001b[34m#metrics {\"StartTime\": 1650182126.4942513, \"EndTime\": 1650182126.494262, \"Dimensions\": {\"Algorithm\": \"Linear Learner\", \"Host\": \"algo-1\", \"Operation\": \"training\", \"epoch\": 1, \"model\": 25}, \"Metrics\": {\"train_binary_classification_cross_entropy_objective\": {\"sum\": 0.513836891010996, \"count\": 1, \"min\": 0.513836891010996, \"max\": 0.513836891010996}}}\u001b[0m\n",
            "\u001b[34m#metrics {\"StartTime\": 1650182126.4943, \"EndTime\": 1650182126.4943106, \"Dimensions\": {\"Algorithm\": \"Linear Learner\", \"Host\": \"algo-1\", \"Operation\": \"training\", \"epoch\": 1, \"model\": 26}, \"Metrics\": {\"train_binary_classification_cross_entropy_objective\": {\"sum\": 0.5137379390704887, \"count\": 1, \"min\": 0.5137379390704887, \"max\": 0.5137379390704887}}}\u001b[0m\n",
            "\u001b[34m#metrics {\"StartTime\": 1650182126.4943488, \"EndTime\": 1650182126.4943595, \"Dimensions\": {\"Algorithm\": \"Linear Learner\", \"Host\": \"algo-1\", \"Operation\": \"training\", \"epoch\": 1, \"model\": 27}, \"Metrics\": {\"train_binary_classification_cross_entropy_objective\": {\"sum\": 0.5138377291711463, \"count\": 1, \"min\": 0.5138377291711463, \"max\": 0.5138377291711463}}}\u001b[0m\n",
            "\u001b[34m#metrics {\"StartTime\": 1650182126.4943972, \"EndTime\": 1650182126.4944081, \"Dimensions\": {\"Algorithm\": \"Linear Learner\", \"Host\": \"algo-1\", \"Operation\": \"training\", \"epoch\": 1, \"model\": 28}, \"Metrics\": {\"train_binary_classification_cross_entropy_objective\": {\"sum\": 0.514119621883474, \"count\": 1, \"min\": 0.514119621883474, \"max\": 0.514119621883474}}}\u001b[0m\n",
            "\u001b[34m#metrics {\"StartTime\": 1650182126.4944491, \"EndTime\": 1650182126.4944584, \"Dimensions\": {\"Algorithm\": \"Linear Learner\", \"Host\": \"algo-1\", \"Operation\": \"training\", \"epoch\": 1, \"model\": 29}, \"Metrics\": {\"train_binary_classification_cross_entropy_objective\": {\"sum\": 0.5152184549034189, \"count\": 1, \"min\": 0.5152184549034189, \"max\": 0.5152184549034189}}}\u001b[0m\n",
            "\u001b[34m#metrics {\"StartTime\": 1650182126.4944859, \"EndTime\": 1650182126.4944935, \"Dimensions\": {\"Algorithm\": \"Linear Learner\", \"Host\": \"algo-1\", \"Operation\": \"training\", \"epoch\": 1, \"model\": 30}, \"Metrics\": {\"train_binary_classification_cross_entropy_objective\": {\"sum\": 0.5141202388845088, \"count\": 1, \"min\": 0.5141202388845088, \"max\": 0.5141202388845088}}}\u001b[0m\n",
            "\u001b[34m#metrics {\"StartTime\": 1650182126.4945195, \"EndTime\": 1650182126.4945273, \"Dimensions\": {\"Algorithm\": \"Linear Learner\", \"Host\": \"algo-1\", \"Operation\": \"training\", \"epoch\": 1, \"model\": 31}, \"Metrics\": {\"train_binary_classification_cross_entropy_objective\": {\"sum\": 0.5152157376723917, \"count\": 1, \"min\": 0.5152157376723917, \"max\": 0.5152157376723917}}}\u001b[0m\n",
            "\u001b[34m[04/17/2022 07:55:26 INFO 139945056937792] #quality_metric: host=algo-1, epoch=1, train binary_classification_cross_entropy_objective <loss>=0.4806733589055706\u001b[0m\n",
            "\u001b[34m[2022-04-17 07:55:31.886] [tensorio] [info] epoch_stats={\"data_pipeline\": \"/opt/ml/input/data/validation\", \"epoch\": 5, \"duration\": 5365, \"num_examples\": 164, \"num_bytes\": 63460892}\u001b[0m\n",
            "\u001b[34m#metrics {\"StartTime\": 1650182131.8953328, \"EndTime\": 1650182131.895396, \"Dimensions\": {\"Algorithm\": \"Linear Learner\", \"Host\": \"algo-1\", \"Operation\": \"training\", \"epoch\": 1, \"model\": 0}, \"Metrics\": {\"validation_binary_classification_cross_entropy_objective\": {\"sum\": 0.48060957541566135, \"count\": 1, \"min\": 0.48060957541566135, \"max\": 0.48060957541566135}}}\u001b[0m\n",
            "\u001b[34m#metrics {\"StartTime\": 1650182131.8955123, \"EndTime\": 1650182131.8955371, \"Dimensions\": {\"Algorithm\": \"Linear Learner\", \"Host\": \"algo-1\", \"Operation\": \"training\", \"epoch\": 1, \"model\": 1}, \"Metrics\": {\"validation_binary_classification_cross_entropy_objective\": {\"sum\": 0.48208300671836835, \"count\": 1, \"min\": 0.48208300671836835, \"max\": 0.48208300671836835}}}\u001b[0m\n",
            "\u001b[34m#metrics {\"StartTime\": 1650182131.8956025, \"EndTime\": 1650182131.895616, \"Dimensions\": {\"Algorithm\": \"Linear Learner\", \"Host\": \"algo-1\", \"Operation\": \"training\", \"epoch\": 1, \"model\": 2}, \"Metrics\": {\"validation_binary_classification_cross_entropy_objective\": {\"sum\": 0.48061111641724324, \"count\": 1, \"min\": 0.48061111641724324, \"max\": 0.48061111641724324}}}\u001b[0m\n",
            "\u001b[34m#metrics {\"StartTime\": 1650182131.8956745, \"EndTime\": 1650182131.8956876, \"Dimensions\": {\"Algorithm\": \"Linear Learner\", \"Host\": \"algo-1\", \"Operation\": \"training\", \"epoch\": 1, \"model\": 3}, \"Metrics\": {\"validation_binary_classification_cross_entropy_objective\": {\"sum\": 0.4820831332226755, \"count\": 1, \"min\": 0.4820831332226755, \"max\": 0.4820831332226755}}}\u001b[0m\n",
            "\u001b[34m#metrics {\"StartTime\": 1650182131.8957279, \"EndTime\": 1650182131.895744, \"Dimensions\": {\"Algorithm\": \"Linear Learner\", \"Host\": \"algo-1\", \"Operation\": \"training\", \"epoch\": 1, \"model\": 4}, \"Metrics\": {\"validation_binary_classification_cross_entropy_objective\": {\"sum\": 0.4819834816004613, \"count\": 1, \"min\": 0.4819834816004613, \"max\": 0.4819834816004613}}}\u001b[0m\n",
            "\u001b[34m#metrics {\"StartTime\": 1650182131.8957858, \"EndTime\": 1650182131.8957958, \"Dimensions\": {\"Algorithm\": \"Linear Learner\", \"Host\": \"algo-1\", \"Operation\": \"training\", \"epoch\": 1, \"model\": 5}, \"Metrics\": {\"validation_binary_classification_cross_entropy_objective\": {\"sum\": 0.498528792971401, \"count\": 1, \"min\": 0.498528792971401, \"max\": 0.498528792971401}}}\u001b[0m\n",
            "\u001b[34m#metrics {\"StartTime\": 1650182131.8958244, \"EndTime\": 1650182131.8958325, \"Dimensions\": {\"Algorithm\": \"Linear Learner\", \"Host\": \"algo-1\", \"Operation\": \"training\", \"epoch\": 1, \"model\": 6}, \"Metrics\": {\"validation_binary_classification_cross_entropy_objective\": {\"sum\": 0.481983444470141, \"count\": 1, \"min\": 0.481983444470141, \"max\": 0.481983444470141}}}\u001b[0m\n",
            "\u001b[34m#metrics {\"StartTime\": 1650182131.8958619, \"EndTime\": 1650182131.8958702, \"Dimensions\": {\"Algorithm\": \"Linear Learner\", \"Host\": \"algo-1\", \"Operation\": \"training\", \"epoch\": 1, \"model\": 7}, \"Metrics\": {\"validation_binary_classification_cross_entropy_objective\": {\"sum\": 0.4985302298588186, \"count\": 1, \"min\": 0.4985302298588186, \"max\": 0.4985302298588186}}}\u001b[0m\n",
            "\u001b[34m#metrics {\"StartTime\": 1650182131.8959057, \"EndTime\": 1650182131.8959212, \"Dimensions\": {\"Algorithm\": \"Linear Learner\", \"Host\": \"algo-1\", \"Operation\": \"training\", \"epoch\": 1, \"model\": 8}, \"Metrics\": {\"validation_binary_classification_cross_entropy_objective\": {\"sum\": 0.48091603247283615, \"count\": 1, \"min\": 0.48091603247283615, \"max\": 0.48091603247283615}}}\u001b[0m\n",
            "\u001b[34m#metrics {\"StartTime\": 1650182131.8959577, \"EndTime\": 1650182131.895967, \"Dimensions\": {\"Algorithm\": \"Linear Learner\", \"Host\": \"algo-1\", \"Operation\": \"training\", \"epoch\": 1, \"model\": 9}, \"Metrics\": {\"validation_binary_classification_cross_entropy_objective\": {\"sum\": 0.48220264546135444, \"count\": 1, \"min\": 0.48220264546135444, \"max\": 0.48220264546135444}}}\u001b[0m\n",
            "\u001b[34m#metrics {\"StartTime\": 1650182131.8960147, \"EndTime\": 1650182131.8960533, \"Dimensions\": {\"Algorithm\": \"Linear Learner\", \"Host\": \"algo-1\", \"Operation\": \"training\", \"epoch\": 1, \"model\": 10}, \"Metrics\": {\"validation_binary_classification_cross_entropy_objective\": {\"sum\": 0.4809157634179529, \"count\": 1, \"min\": 0.4809157634179529, \"max\": 0.4809157634179529}}}\u001b[0m\n",
            "\u001b[34m#metrics {\"StartTime\": 1650182131.8961096, \"EndTime\": 1650182131.8961263, \"Dimensions\": {\"Algorithm\": \"Linear Learner\", \"Host\": \"algo-1\", \"Operation\": \"training\", \"epoch\": 1, \"model\": 11}, \"Metrics\": {\"validation_binary_classification_cross_entropy_objective\": {\"sum\": 0.48220235737484973, \"count\": 1, \"min\": 0.48220235737484973, \"max\": 0.48220235737484973}}}\u001b[0m\n",
            "\u001b[34m#metrics {\"StartTime\": 1650182131.8961668, \"EndTime\": 1650182131.8961763, \"Dimensions\": {\"Algorithm\": \"Linear Learner\", \"Host\": \"algo-1\", \"Operation\": \"training\", \"epoch\": 1, \"model\": 12}, \"Metrics\": {\"validation_binary_classification_cross_entropy_objective\": {\"sum\": 0.4820803488218271, \"count\": 1, \"min\": 0.4820803488218271, \"max\": 0.4820803488218271}}}\u001b[0m\n",
            "\u001b[34m#metrics {\"StartTime\": 1650182131.896204, \"EndTime\": 1650182131.8962123, \"Dimensions\": {\"Algorithm\": \"Linear Learner\", \"Host\": \"algo-1\", \"Operation\": \"training\", \"epoch\": 1, \"model\": 13}, \"Metrics\": {\"validation_binary_classification_cross_entropy_objective\": {\"sum\": 0.49730951180705674, \"count\": 1, \"min\": 0.49730951180705674, \"max\": 0.49730951180705674}}}\u001b[0m\n",
            "\u001b[34m#metrics {\"StartTime\": 1650182131.8962386, \"EndTime\": 1650182131.8962462, \"Dimensions\": {\"Algorithm\": \"Linear Learner\", \"Host\": \"algo-1\", \"Operation\": \"training\", \"epoch\": 1, \"model\": 14}, \"Metrics\": {\"validation_binary_classification_cross_entropy_objective\": {\"sum\": 0.4820807081836199, \"count\": 1, \"min\": 0.4820807081836199, \"max\": 0.4820807081836199}}}\u001b[0m\n",
            "\u001b[34m#metrics {\"StartTime\": 1650182131.896297, \"EndTime\": 1650182131.8963141, \"Dimensions\": {\"Algorithm\": \"Linear Learner\", \"Host\": \"algo-1\", \"Operation\": \"training\", \"epoch\": 1, \"model\": 15}, \"Metrics\": {\"validation_binary_classification_cross_entropy_objective\": {\"sum\": 0.49731174578355997, \"count\": 1, \"min\": 0.49731174578355997, \"max\": 0.49731174578355997}}}\u001b[0m\n",
            "\u001b[34m#metrics {\"StartTime\": 1650182131.8963785, \"EndTime\": 1650182131.8963974, \"Dimensions\": {\"Algorithm\": \"Linear Learner\", \"Host\": \"algo-1\", \"Operation\": \"training\", \"epoch\": 1, \"model\": 16}, \"Metrics\": {\"validation_binary_classification_cross_entropy_objective\": {\"sum\": 0.5043066379978899, \"count\": 1, \"min\": 0.5043066379978899, \"max\": 0.5043066379978899}}}\u001b[0m\n",
            "\u001b[34m#metrics {\"StartTime\": 1650182131.8964648, \"EndTime\": 1650182131.8964827, \"Dimensions\": {\"Algorithm\": \"Linear Learner\", \"Host\": \"algo-1\", \"Operation\": \"training\", \"epoch\": 1, \"model\": 17}, \"Metrics\": {\"validation_binary_classification_cross_entropy_objective\": {\"sum\": 0.5051116384538726, \"count\": 1, \"min\": 0.5051116384538726, \"max\": 0.5051116384538726}}}\u001b[0m\n",
            "\u001b[34m#metrics {\"StartTime\": 1650182131.8965497, \"EndTime\": 1650182131.8965678, \"Dimensions\": {\"Algorithm\": \"Linear Learner\", \"Host\": \"algo-1\", \"Operation\": \"training\", \"epoch\": 1, \"model\": 18}, \"Metrics\": {\"validation_binary_classification_cross_entropy_objective\": {\"sum\": 0.5043060778711496, \"count\": 1, \"min\": 0.5043060778711496, \"max\": 0.5043060778711496}}}\u001b[0m\n",
            "\u001b[34m#metrics {\"StartTime\": 1650182131.8966331, \"EndTime\": 1650182131.8966503, \"Dimensions\": {\"Algorithm\": \"Linear Learner\", \"Host\": \"algo-1\", \"Operation\": \"training\", \"epoch\": 1, \"model\": 19}, \"Metrics\": {\"validation_binary_classification_cross_entropy_objective\": {\"sum\": 0.5051118089921274, \"count\": 1, \"min\": 0.5051118089921274, \"max\": 0.5051118089921274}}}\u001b[0m\n",
            "\u001b[34m#metrics {\"StartTime\": 1650182131.896717, \"EndTime\": 1650182131.896735, \"Dimensions\": {\"Algorithm\": \"Linear Learner\", \"Host\": \"algo-1\", \"Operation\": \"training\", \"epoch\": 1, \"model\": 20}, \"Metrics\": {\"validation_binary_classification_cross_entropy_objective\": {\"sum\": 0.5049323730812065, \"count\": 1, \"min\": 0.5049323730812065, \"max\": 0.5049323730812065}}}\u001b[0m\n",
            "\u001b[34m#metrics {\"StartTime\": 1650182131.896801, \"EndTime\": 1650182131.8968203, \"Dimensions\": {\"Algorithm\": \"Linear Learner\", \"Host\": \"algo-1\", \"Operation\": \"training\", \"epoch\": 1, \"model\": 21}, \"Metrics\": {\"validation_binary_classification_cross_entropy_objective\": {\"sum\": 0.5101507791178613, \"count\": 1, \"min\": 0.5101507791178613, \"max\": 0.5101507791178613}}}\u001b[0m\n",
            "\u001b[34m#metrics {\"StartTime\": 1650182131.8968766, \"EndTime\": 1650182131.8968935, \"Dimensions\": {\"Algorithm\": \"Linear Learner\", \"Host\": \"algo-1\", \"Operation\": \"training\", \"epoch\": 1, \"model\": 22}, \"Metrics\": {\"validation_binary_classification_cross_entropy_objective\": {\"sum\": 0.5049323475191267, \"count\": 1, \"min\": 0.5049323475191267, \"max\": 0.5049323475191267}}}\u001b[0m\n",
            "\u001b[34m#metrics {\"StartTime\": 1650182131.8969438, \"EndTime\": 1650182131.8969593, \"Dimensions\": {\"Algorithm\": \"Linear Learner\", \"Host\": \"algo-1\", \"Operation\": \"training\", \"epoch\": 1, \"model\": 23}, \"Metrics\": {\"validation_binary_classification_cross_entropy_objective\": {\"sum\": 0.5101481242066724, \"count\": 1, \"min\": 0.5101481242066724, \"max\": 0.5101481242066724}}}\u001b[0m\n",
            "\u001b[34m#metrics {\"StartTime\": 1650182131.8970063, \"EndTime\": 1650182131.897022, \"Dimensions\": {\"Algorithm\": \"Linear Learner\", \"Host\": \"algo-1\", \"Operation\": \"training\", \"epoch\": 1, \"model\": 24}, \"Metrics\": {\"validation_binary_classification_cross_entropy_objective\": {\"sum\": 0.5137330331154512, \"count\": 1, \"min\": 0.5137330331154512, \"max\": 0.5137330331154512}}}\u001b[0m\n",
            "\u001b[34m#metrics {\"StartTime\": 1650182131.8970568, \"EndTime\": 1650182131.8970692, \"Dimensions\": {\"Algorithm\": \"Linear Learner\", \"Host\": \"algo-1\", \"Operation\": \"training\", \"epoch\": 1, \"model\": 25}, \"Metrics\": {\"validation_binary_classification_cross_entropy_objective\": {\"sum\": 0.5145276159977177, \"count\": 1, \"min\": 0.5145276159977177, \"max\": 0.5145276159977177}}}\u001b[0m\n",
            "\u001b[34m#metrics {\"StartTime\": 1650182131.897116, \"EndTime\": 1650182131.8971262, \"Dimensions\": {\"Algorithm\": \"Linear Learner\", \"Host\": \"algo-1\", \"Operation\": \"training\", \"epoch\": 1, \"model\": 26}, \"Metrics\": {\"validation_binary_classification_cross_entropy_objective\": {\"sum\": 0.513716903816293, \"count\": 1, \"min\": 0.513716903816293, \"max\": 0.513716903816293}}}\u001b[0m\n",
            "\u001b[34m#metrics {\"StartTime\": 1650182131.897154, \"EndTime\": 1650182131.897162, \"Dimensions\": {\"Algorithm\": \"Linear Learner\", \"Host\": \"algo-1\", \"Operation\": \"training\", \"epoch\": 1, \"model\": 27}, \"Metrics\": {\"validation_binary_classification_cross_entropy_objective\": {\"sum\": 0.51454769305223, \"count\": 1, \"min\": 0.51454769305223, \"max\": 0.51454769305223}}}\u001b[0m\n",
            "\u001b[34m#metrics {\"StartTime\": 1650182131.8971884, \"EndTime\": 1650182131.897196, \"Dimensions\": {\"Algorithm\": \"Linear Learner\", \"Host\": \"algo-1\", \"Operation\": \"training\", \"epoch\": 1, \"model\": 28}, \"Metrics\": {\"validation_binary_classification_cross_entropy_objective\": {\"sum\": 0.5139726744412447, \"count\": 1, \"min\": 0.5139726744412447, \"max\": 0.5139726744412447}}}\u001b[0m\n",
            "\u001b[34m#metrics {\"StartTime\": 1650182131.8972213, \"EndTime\": 1650182131.897229, \"Dimensions\": {\"Algorithm\": \"Linear Learner\", \"Host\": \"algo-1\", \"Operation\": \"training\", \"epoch\": 1, \"model\": 29}, \"Metrics\": {\"validation_binary_classification_cross_entropy_objective\": {\"sum\": 0.5135919015145863, \"count\": 1, \"min\": 0.5135919015145863, \"max\": 0.5135919015145863}}}\u001b[0m\n",
            "\u001b[34m#metrics {\"StartTime\": 1650182131.8972635, \"EndTime\": 1650182131.8972785, \"Dimensions\": {\"Algorithm\": \"Linear Learner\", \"Host\": \"algo-1\", \"Operation\": \"training\", \"epoch\": 1, \"model\": 30}, \"Metrics\": {\"validation_binary_classification_cross_entropy_objective\": {\"sum\": 0.5139686287290156, \"count\": 1, \"min\": 0.5139686287290156, \"max\": 0.5139686287290156}}}\u001b[0m\n",
            "\u001b[34m#metrics {\"StartTime\": 1650182131.897311, \"EndTime\": 1650182131.8973198, \"Dimensions\": {\"Algorithm\": \"Linear Learner\", \"Host\": \"algo-1\", \"Operation\": \"training\", \"epoch\": 1, \"model\": 31}, \"Metrics\": {\"validation_binary_classification_cross_entropy_objective\": {\"sum\": 0.513597168235939, \"count\": 1, \"min\": 0.513597168235939, \"max\": 0.513597168235939}}}\u001b[0m\n",
            "\u001b[34m[04/17/2022 07:55:31 INFO 139945056937792] #quality_metric: host=algo-1, epoch=1, validation binary_classification_cross_entropy_objective <loss>=0.48060957541566135\u001b[0m\n",
            "\u001b[34m[04/17/2022 07:55:31 INFO 139945056937792] #early_stopping_criteria_metric: host=algo-1, epoch=1, criteria=binary_classification_cross_entropy_objective, value=0.48060957541566135\u001b[0m\n",
            "\u001b[34m[04/17/2022 07:55:31 INFO 139945056937792] Saving model for epoch: 1\u001b[0m\n",
            "\u001b[34m[04/17/2022 07:55:31 INFO 139945056937792] Saved checkpoint to \"/tmp/tmpk7aozfo8/mx-mod-0000.params\"\u001b[0m\n",
            "\u001b[34m[04/17/2022 07:55:31 INFO 139945056937792] #progress_metric: host=algo-1, completed 13.333333333333334 % of epochs\u001b[0m\n",
            "\u001b[34m#metrics {\"StartTime\": 1650182066.80895, \"EndTime\": 1650182131.9084492, \"Dimensions\": {\"Algorithm\": \"Linear Learner\", \"Host\": \"algo-1\", \"Operation\": \"training\", \"epoch\": 1, \"Meta\": \"training_data_iter\"}, \"Metrics\": {\"Total Records Seen\": {\"sum\": 2628944.0, \"count\": 1, \"min\": 2628944, \"max\": 2628944}, \"Total Batches Seen\": {\"sum\": 2630.0, \"count\": 1, \"min\": 2630, \"max\": 2630}, \"Max Records Seen Between Resets\": {\"sum\": 1308472.0, \"count\": 1, \"min\": 1308472, \"max\": 1308472}, \"Max Batches Seen Between Resets\": {\"sum\": 1309.0, \"count\": 1, \"min\": 1309, \"max\": 1309}, \"Reset Count\": {\"sum\": 4.0, \"count\": 1, \"min\": 4, \"max\": 4}, \"Number of Records Since Last Reset\": {\"sum\": 1308472.0, \"count\": 1, \"min\": 1308472, \"max\": 1308472}, \"Number of Batches Since Last Reset\": {\"sum\": 1309.0, \"count\": 1, \"min\": 1309, \"max\": 1309}}}\u001b[0m\n",
            "\u001b[34m[04/17/2022 07:55:31 INFO 139945056937792] #throughput_metric: host=algo-1, train throughput=20099.532544483605 records/second\u001b[0m\n",
            "\u001b[34m[2022-04-17 07:56:31.431] [tensorio] [info] epoch_stats={\"data_pipeline\": \"/opt/ml/input/data/train\", \"epoch\": 7, \"duration\": 59520, \"num_examples\": 1309, \"num_bytes\": 507687136}\u001b[0m\n",
            "\u001b[34m#metrics {\"StartTime\": 1650182191.431136, \"EndTime\": 1650182191.4312427, \"Dimensions\": {\"Algorithm\": \"Linear Learner\", \"Host\": \"algo-1\", \"Operation\": \"training\", \"epoch\": 2, \"model\": 0}, \"Metrics\": {\"train_binary_classification_cross_entropy_objective\": {\"sum\": 0.48051877537998583, \"count\": 1, \"min\": 0.48051877537998583, \"max\": 0.48051877537998583}}}\u001b[0m\n",
            "\u001b[34m#metrics {\"StartTime\": 1650182191.431337, \"EndTime\": 1650182191.4313602, \"Dimensions\": {\"Algorithm\": \"Linear Learner\", \"Host\": \"algo-1\", \"Operation\": \"training\", \"epoch\": 2, \"model\": 1}, \"Metrics\": {\"train_binary_classification_cross_entropy_objective\": {\"sum\": 0.4815025461412716, \"count\": 1, \"min\": 0.4815025461412716, \"max\": 0.4815025461412716}}}\u001b[0m\n",
            "\u001b[34m#metrics {\"StartTime\": 1650182191.4314327, \"EndTime\": 1650182191.4314537, \"Dimensions\": {\"Algorithm\": \"Linear Learner\", \"Host\": \"algo-1\", \"Operation\": \"training\", \"epoch\": 2, \"model\": 2}, \"Metrics\": {\"train_binary_classification_cross_entropy_objective\": {\"sum\": 0.48051915115683086, \"count\": 1, \"min\": 0.48051915115683086, \"max\": 0.48051915115683086}}}\u001b[0m\n",
            "\u001b[34m#metrics {\"StartTime\": 1650182191.431517, \"EndTime\": 1650182191.4315357, \"Dimensions\": {\"Algorithm\": \"Linear Learner\", \"Host\": \"algo-1\", \"Operation\": \"training\", \"epoch\": 2, \"model\": 3}, \"Metrics\": {\"train_binary_classification_cross_entropy_objective\": {\"sum\": 0.48150256685962733, \"count\": 1, \"min\": 0.48150256685962733, \"max\": 0.48150256685962733}}}\u001b[0m\n",
            "\u001b[34m#metrics {\"StartTime\": 1650182191.4315922, \"EndTime\": 1650182191.4316115, \"Dimensions\": {\"Algorithm\": \"Linear Learner\", \"Host\": \"algo-1\", \"Operation\": \"training\", \"epoch\": 2, \"model\": 4}, \"Metrics\": {\"train_binary_classification_cross_entropy_objective\": {\"sum\": 0.48159522198318344, \"count\": 1, \"min\": 0.48159522198318344, \"max\": 0.48159522198318344}}}\u001b[0m\n",
            "\u001b[34m#metrics {\"StartTime\": 1650182191.4316669, \"EndTime\": 1650182191.4316857, \"Dimensions\": {\"Algorithm\": \"Linear Learner\", \"Host\": \"algo-1\", \"Operation\": \"training\", \"epoch\": 2, \"model\": 5}, \"Metrics\": {\"train_binary_classification_cross_entropy_objective\": {\"sum\": 0.4981645301795516, \"count\": 1, \"min\": 0.4981645301795516, \"max\": 0.4981645301795516}}}\u001b[0m\n",
            "\u001b[34m#metrics {\"StartTime\": 1650182191.4317322, \"EndTime\": 1650182191.4319754, \"Dimensions\": {\"Algorithm\": \"Linear Learner\", \"Host\": \"algo-1\", \"Operation\": \"training\", \"epoch\": 2, \"model\": 6}, \"Metrics\": {\"train_binary_classification_cross_entropy_objective\": {\"sum\": 0.4815951504955233, \"count\": 1, \"min\": 0.4815951504955233, \"max\": 0.4815951504955233}}}\u001b[0m\n",
            "\u001b[34m#metrics {\"StartTime\": 1650182191.4320607, \"EndTime\": 1650182191.4320831, \"Dimensions\": {\"Algorithm\": \"Linear Learner\", \"Host\": \"algo-1\", \"Operation\": \"training\", \"epoch\": 2, \"model\": 7}, \"Metrics\": {\"train_binary_classification_cross_entropy_objective\": {\"sum\": 0.4981641508563214, \"count\": 1, \"min\": 0.4981641508563214, \"max\": 0.4981641508563214}}}\u001b[0m\n",
            "\u001b[34m#metrics {\"StartTime\": 1650182191.4321425, \"EndTime\": 1650182191.432161, \"Dimensions\": {\"Algorithm\": \"Linear Learner\", \"Host\": \"algo-1\", \"Operation\": \"training\", \"epoch\": 2, \"model\": 8}, \"Metrics\": {\"train_binary_classification_cross_entropy_objective\": {\"sum\": 0.48077611149779154, \"count\": 1, \"min\": 0.48077611149779154, \"max\": 0.48077611149779154}}}\u001b[0m\n",
            "\u001b[34m#metrics {\"StartTime\": 1650182191.4322188, \"EndTime\": 1650182191.4322383, \"Dimensions\": {\"Algorithm\": \"Linear Learner\", \"Host\": \"algo-1\", \"Operation\": \"training\", \"epoch\": 2, \"model\": 9}, \"Metrics\": {\"train_binary_classification_cross_entropy_objective\": {\"sum\": 0.48170598802945663, \"count\": 1, \"min\": 0.48170598802945663, \"max\": 0.48170598802945663}}}\u001b[0m\n",
            "\u001b[34m#metrics {\"StartTime\": 1650182191.432289, \"EndTime\": 1650182191.4323065, \"Dimensions\": {\"Algorithm\": \"Linear Learner\", \"Host\": \"algo-1\", \"Operation\": \"training\", \"epoch\": 2, \"model\": 10}, \"Metrics\": {\"train_binary_classification_cross_entropy_objective\": {\"sum\": 0.4807759785083456, \"count\": 1, \"min\": 0.4807759785083456, \"max\": 0.4807759785083456}}}\u001b[0m\n",
            "\u001b[34m#metrics {\"StartTime\": 1650182191.43245, \"EndTime\": 1650182191.4324734, \"Dimensions\": {\"Algorithm\": \"Linear Learner\", \"Host\": \"algo-1\", \"Operation\": \"training\", \"epoch\": 2, \"model\": 11}, \"Metrics\": {\"train_binary_classification_cross_entropy_objective\": {\"sum\": 0.48170598952267146, \"count\": 1, \"min\": 0.48170598952267146, \"max\": 0.48170598952267146}}}\u001b[0m\n",
            "\u001b[34m#metrics {\"StartTime\": 1650182191.4325347, \"EndTime\": 1650182191.4325533, \"Dimensions\": {\"Algorithm\": \"Linear Learner\", \"Host\": \"algo-1\", \"Operation\": \"training\", \"epoch\": 2, \"model\": 12}, \"Metrics\": {\"train_binary_classification_cross_entropy_objective\": {\"sum\": 0.48179003168975176, \"count\": 1, \"min\": 0.48179003168975176, \"max\": 0.48179003168975176}}}\u001b[0m\n",
            "\u001b[34m#metrics {\"StartTime\": 1650182191.432611, \"EndTime\": 1650182191.4326286, \"Dimensions\": {\"Algorithm\": \"Linear Learner\", \"Host\": \"algo-1\", \"Operation\": \"training\", \"epoch\": 2, \"model\": 13}, \"Metrics\": {\"train_binary_classification_cross_entropy_objective\": {\"sum\": 0.49718164274816484, \"count\": 1, \"min\": 0.49718164274816484, \"max\": 0.49718164274816484}}}\u001b[0m\n",
            "\u001b[34m#metrics {\"StartTime\": 1650182191.4326868, \"EndTime\": 1650182191.4327042, \"Dimensions\": {\"Algorithm\": \"Linear Learner\", \"Host\": \"algo-1\", \"Operation\": \"training\", \"epoch\": 2, \"model\": 14}, \"Metrics\": {\"train_binary_classification_cross_entropy_objective\": {\"sum\": 0.4817899768607697, \"count\": 1, \"min\": 0.4817899768607697, \"max\": 0.4817899768607697}}}\u001b[0m\n",
            "\u001b[34m#metrics {\"StartTime\": 1650182191.432762, \"EndTime\": 1650182191.43278, \"Dimensions\": {\"Algorithm\": \"Linear Learner\", \"Host\": \"algo-1\", \"Operation\": \"training\", \"epoch\": 2, \"model\": 15}, \"Metrics\": {\"train_binary_classification_cross_entropy_objective\": {\"sum\": 0.4971818237771317, \"count\": 1, \"min\": 0.4971818237771317, \"max\": 0.4971818237771317}}}\u001b[0m\n",
            "\u001b[34m#metrics {\"StartTime\": 1650182191.4328427, \"EndTime\": 1650182191.4328601, \"Dimensions\": {\"Algorithm\": \"Linear Learner\", \"Host\": \"algo-1\", \"Operation\": \"training\", \"epoch\": 2, \"model\": 16}, \"Metrics\": {\"train_binary_classification_cross_entropy_objective\": {\"sum\": 0.5044313780991674, \"count\": 1, \"min\": 0.5044313780991674, \"max\": 0.5044313780991674}}}\u001b[0m\n",
            "\u001b[34m#metrics {\"StartTime\": 1650182191.432915, \"EndTime\": 1650182191.4329326, \"Dimensions\": {\"Algorithm\": \"Linear Learner\", \"Host\": \"algo-1\", \"Operation\": \"training\", \"epoch\": 2, \"model\": 17}, \"Metrics\": {\"train_binary_classification_cross_entropy_objective\": {\"sum\": 0.5046664608596662, \"count\": 1, \"min\": 0.5046664608596662, \"max\": 0.5046664608596662}}}\u001b[0m\n",
            "\u001b[34m#metrics {\"StartTime\": 1650182191.4329872, \"EndTime\": 1650182191.4330053, \"Dimensions\": {\"Algorithm\": \"Linear Learner\", \"Host\": \"algo-1\", \"Operation\": \"training\", \"epoch\": 2, \"model\": 18}, \"Metrics\": {\"train_binary_classification_cross_entropy_objective\": {\"sum\": 0.5044313872451083, \"count\": 1, \"min\": 0.5044313872451083, \"max\": 0.5044313872451083}}}\u001b[0m\n",
            "\u001b[34m#metrics {\"StartTime\": 1650182191.4330618, \"EndTime\": 1650182191.43308, \"Dimensions\": {\"Algorithm\": \"Linear Learner\", \"Host\": \"algo-1\", \"Operation\": \"training\", \"epoch\": 2, \"model\": 19}, \"Metrics\": {\"train_binary_classification_cross_entropy_objective\": {\"sum\": 0.5046664473507383, \"count\": 1, \"min\": 0.5046664473507383, \"max\": 0.5046664473507383}}}\u001b[0m\n",
            "\u001b[34m#metrics {\"StartTime\": 1650182191.4331353, \"EndTime\": 1650182191.4331527, \"Dimensions\": {\"Algorithm\": \"Linear Learner\", \"Host\": \"algo-1\", \"Operation\": \"training\", \"epoch\": 2, \"model\": 20}, \"Metrics\": {\"train_binary_classification_cross_entropy_objective\": {\"sum\": 0.5046652712107433, \"count\": 1, \"min\": 0.5046652712107433, \"max\": 0.5046652712107433}}}\u001b[0m\n",
            "\u001b[34m#metrics {\"StartTime\": 1650182191.4332097, \"EndTime\": 1650182191.4332268, \"Dimensions\": {\"Algorithm\": \"Linear Learner\", \"Host\": \"algo-1\", \"Operation\": \"training\", \"epoch\": 2, \"model\": 21}, \"Metrics\": {\"train_binary_classification_cross_entropy_objective\": {\"sum\": 0.5077828448234348, \"count\": 1, \"min\": 0.5077828448234348, \"max\": 0.5077828448234348}}}\u001b[0m\n",
            "\u001b[34m#metrics {\"StartTime\": 1650182191.4332821, \"EndTime\": 1650182191.4332998, \"Dimensions\": {\"Algorithm\": \"Linear Learner\", \"Host\": \"algo-1\", \"Operation\": \"training\", \"epoch\": 2, \"model\": 22}, \"Metrics\": {\"train_binary_classification_cross_entropy_objective\": {\"sum\": 0.5046653473413684, \"count\": 1, \"min\": 0.5046653473413684, \"max\": 0.5046653473413684}}}\u001b[0m\n",
            "\u001b[34m#metrics {\"StartTime\": 1650182191.4333532, \"EndTime\": 1650182191.4333699, \"Dimensions\": {\"Algorithm\": \"Linear Learner\", \"Host\": \"algo-1\", \"Operation\": \"training\", \"epoch\": 2, \"model\": 23}, \"Metrics\": {\"train_binary_classification_cross_entropy_objective\": {\"sum\": 0.5077828743377593, \"count\": 1, \"min\": 0.5077828743377593, \"max\": 0.5077828743377593}}}\u001b[0m\n",
            "\u001b[34m#metrics {\"StartTime\": 1650182191.4334219, \"EndTime\": 1650182191.4334393, \"Dimensions\": {\"Algorithm\": \"Linear Learner\", \"Host\": \"algo-1\", \"Operation\": \"training\", \"epoch\": 2, \"model\": 24}, \"Metrics\": {\"train_binary_classification_cross_entropy_objective\": {\"sum\": 0.5137299743325703, \"count\": 1, \"min\": 0.5137299743325703, \"max\": 0.5137299743325703}}}\u001b[0m\n",
            "\u001b[34m#metrics {\"StartTime\": 1650182191.4334888, \"EndTime\": 1650182191.4335043, \"Dimensions\": {\"Algorithm\": \"Linear Learner\", \"Host\": \"algo-1\", \"Operation\": \"training\", \"epoch\": 2, \"model\": 25}, \"Metrics\": {\"train_binary_classification_cross_entropy_objective\": {\"sum\": 0.5138393361036202, \"count\": 1, \"min\": 0.5138393361036202, \"max\": 0.5138393361036202}}}\u001b[0m\n",
            "\u001b[34m#metrics {\"StartTime\": 1650182191.4335608, \"EndTime\": 1650182191.4335794, \"Dimensions\": {\"Algorithm\": \"Linear Learner\", \"Host\": \"algo-1\", \"Operation\": \"training\", \"epoch\": 2, \"model\": 26}, \"Metrics\": {\"train_binary_classification_cross_entropy_objective\": {\"sum\": 0.5137300656286584, \"count\": 1, \"min\": 0.5137300656286584, \"max\": 0.5137300656286584}}}\u001b[0m\n",
            "\u001b[34m#metrics {\"StartTime\": 1650182191.433634, \"EndTime\": 1650182191.4336507, \"Dimensions\": {\"Algorithm\": \"Linear Learner\", \"Host\": \"algo-1\", \"Operation\": \"training\", \"epoch\": 2, \"model\": 27}, \"Metrics\": {\"train_binary_classification_cross_entropy_objective\": {\"sum\": 0.5138398423034481, \"count\": 1, \"min\": 0.5138398423034481, \"max\": 0.5138398423034481}}}\u001b[0m\n",
            "\u001b[34m#metrics {\"StartTime\": 1650182191.433708, \"EndTime\": 1650182191.4337246, \"Dimensions\": {\"Algorithm\": \"Linear Learner\", \"Host\": \"algo-1\", \"Operation\": \"training\", \"epoch\": 2, \"model\": 28}, \"Metrics\": {\"train_binary_classification_cross_entropy_objective\": {\"sum\": 0.5138318868981224, \"count\": 1, \"min\": 0.5138318868981224, \"max\": 0.5138318868981224}}}\u001b[0m\n",
            "\u001b[34m#metrics {\"StartTime\": 1650182191.4337792, \"EndTime\": 1650182191.433797, \"Dimensions\": {\"Algorithm\": \"Linear Learner\", \"Host\": \"algo-1\", \"Operation\": \"training\", \"epoch\": 2, \"model\": 29}, \"Metrics\": {\"train_binary_classification_cross_entropy_objective\": {\"sum\": 0.5150278331278296, \"count\": 1, \"min\": 0.5150278331278296, \"max\": 0.5150278331278296}}}\u001b[0m\n",
            "\u001b[34m#metrics {\"StartTime\": 1650182191.4338527, \"EndTime\": 1650182191.4338703, \"Dimensions\": {\"Algorithm\": \"Linear Learner\", \"Host\": \"algo-1\", \"Operation\": \"training\", \"epoch\": 2, \"model\": 30}, \"Metrics\": {\"train_binary_classification_cross_entropy_objective\": {\"sum\": 0.5138308442841976, \"count\": 1, \"min\": 0.5138308442841976, \"max\": 0.5138308442841976}}}\u001b[0m\n",
            "\u001b[34m#metrics {\"StartTime\": 1650182191.433927, \"EndTime\": 1650182191.4339435, \"Dimensions\": {\"Algorithm\": \"Linear Learner\", \"Host\": \"algo-1\", \"Operation\": \"training\", \"epoch\": 2, \"model\": 31}, \"Metrics\": {\"train_binary_classification_cross_entropy_objective\": {\"sum\": 0.5150285005948595, \"count\": 1, \"min\": 0.5150285005948595, \"max\": 0.5150285005948595}}}\u001b[0m\n",
            "\u001b[34m[04/17/2022 07:56:31 INFO 139945056937792] #quality_metric: host=algo-1, epoch=2, train binary_classification_cross_entropy_objective <loss>=0.48051877537998583\u001b[0m\n",
            "\u001b[34m[2022-04-17 07:56:36.592] [tensorio] [info] epoch_stats={\"data_pipeline\": \"/opt/ml/input/data/validation\", \"epoch\": 8, \"duration\": 5134, \"num_examples\": 164, \"num_bytes\": 63460892}\u001b[0m\n",
            "\u001b[34m#metrics {\"StartTime\": 1650182196.600989, \"EndTime\": 1650182196.601078, \"Dimensions\": {\"Algorithm\": \"Linear Learner\", \"Host\": \"algo-1\", \"Operation\": \"training\", \"epoch\": 2, \"model\": 0}, \"Metrics\": {\"validation_binary_classification_cross_entropy_objective\": {\"sum\": 0.48052368440207593, \"count\": 1, \"min\": 0.48052368440207593, \"max\": 0.48052368440207593}}}\u001b[0m\n",
            "\u001b[34m#metrics {\"StartTime\": 1650182196.601169, \"EndTime\": 1650182196.6011837, \"Dimensions\": {\"Algorithm\": \"Linear Learner\", \"Host\": \"algo-1\", \"Operation\": \"training\", \"epoch\": 2, \"model\": 1}, \"Metrics\": {\"validation_binary_classification_cross_entropy_objective\": {\"sum\": 0.4819834573444732, \"count\": 1, \"min\": 0.4819834573444732, \"max\": 0.4819834573444732}}}\u001b[0m\n",
            "\u001b[34m#metrics {\"StartTime\": 1650182196.601235, \"EndTime\": 1650182196.6012554, \"Dimensions\": {\"Algorithm\": \"Linear Learner\", \"Host\": \"algo-1\", \"Operation\": \"training\", \"epoch\": 2, \"model\": 2}, \"Metrics\": {\"validation_binary_classification_cross_entropy_objective\": {\"sum\": 0.4805249772462412, \"count\": 1, \"min\": 0.4805249772462412, \"max\": 0.4805249772462412}}}\u001b[0m\n",
            "\u001b[34m#metrics {\"StartTime\": 1650182196.6013138, \"EndTime\": 1650182196.601331, \"Dimensions\": {\"Algorithm\": \"Linear Learner\", \"Host\": \"algo-1\", \"Operation\": \"training\", \"epoch\": 2, \"model\": 3}, \"Metrics\": {\"validation_binary_classification_cross_entropy_objective\": {\"sum\": 0.4819835554879327, \"count\": 1, \"min\": 0.4819835554879327, \"max\": 0.4819835554879327}}}\u001b[0m\n",
            "\u001b[34m#metrics {\"StartTime\": 1650182196.6013842, \"EndTime\": 1650182196.6013966, \"Dimensions\": {\"Algorithm\": \"Linear Learner\", \"Host\": \"algo-1\", \"Operation\": \"training\", \"epoch\": 2, \"model\": 4}, \"Metrics\": {\"validation_binary_classification_cross_entropy_objective\": {\"sum\": 0.48129218929837625, \"count\": 1, \"min\": 0.48129218929837625, \"max\": 0.48129218929837625}}}\u001b[0m\n",
            "\u001b[34m#metrics {\"StartTime\": 1650182196.6014266, \"EndTime\": 1650182196.601435, \"Dimensions\": {\"Algorithm\": \"Linear Learner\", \"Host\": \"algo-1\", \"Operation\": \"training\", \"epoch\": 2, \"model\": 5}, \"Metrics\": {\"validation_binary_classification_cross_entropy_objective\": {\"sum\": 0.4972913728059929, \"count\": 1, \"min\": 0.4972913728059929, \"max\": 0.4972913728059929}}}\u001b[0m\n",
            "\u001b[34m#metrics {\"StartTime\": 1650182196.601461, \"EndTime\": 1650182196.601469, \"Dimensions\": {\"Algorithm\": \"Linear Learner\", \"Host\": \"algo-1\", \"Operation\": \"training\", \"epoch\": 2, \"model\": 6}, \"Metrics\": {\"validation_binary_classification_cross_entropy_objective\": {\"sum\": 0.48129215981802154, \"count\": 1, \"min\": 0.48129215981802154, \"max\": 0.48129215981802154}}}\u001b[0m\n",
            "\u001b[34m#metrics {\"StartTime\": 1650182196.6015196, \"EndTime\": 1650182196.601531, \"Dimensions\": {\"Algorithm\": \"Linear Learner\", \"Host\": \"algo-1\", \"Operation\": \"training\", \"epoch\": 2, \"model\": 7}, \"Metrics\": {\"validation_binary_classification_cross_entropy_objective\": {\"sum\": 0.4972916829094714, \"count\": 1, \"min\": 0.4972916829094714, \"max\": 0.4972916829094714}}}\u001b[0m\n",
            "\u001b[34m#metrics {\"StartTime\": 1650182196.6015613, \"EndTime\": 1650182196.6015697, \"Dimensions\": {\"Algorithm\": \"Linear Learner\", \"Host\": \"algo-1\", \"Operation\": \"training\", \"epoch\": 2, \"model\": 8}, \"Metrics\": {\"validation_binary_classification_cross_entropy_objective\": {\"sum\": 0.48085145407647956, \"count\": 1, \"min\": 0.48085145407647956, \"max\": 0.48085145407647956}}}\u001b[0m\n",
            "\u001b[34m#metrics {\"StartTime\": 1650182196.6015956, \"EndTime\": 1650182196.6016037, \"Dimensions\": {\"Algorithm\": \"Linear Learner\", \"Host\": \"algo-1\", \"Operation\": \"training\", \"epoch\": 2, \"model\": 9}, \"Metrics\": {\"validation_binary_classification_cross_entropy_objective\": {\"sum\": 0.4821185398750771, \"count\": 1, \"min\": 0.4821185398750771, \"max\": 0.4821185398750771}}}\u001b[0m\n",
            "\u001b[34m#metrics {\"StartTime\": 1650182196.6016295, \"EndTime\": 1650182196.6016371, \"Dimensions\": {\"Algorithm\": \"Linear Learner\", \"Host\": \"algo-1\", \"Operation\": \"training\", \"epoch\": 2, \"model\": 10}, \"Metrics\": {\"validation_binary_classification_cross_entropy_objective\": {\"sum\": 0.48085126469318795, \"count\": 1, \"min\": 0.48085126469318795, \"max\": 0.48085126469318795}}}\u001b[0m\n",
            "\u001b[34m#metrics {\"StartTime\": 1650182196.6016626, \"EndTime\": 1650182196.6016705, \"Dimensions\": {\"Algorithm\": \"Linear Learner\", \"Host\": \"algo-1\", \"Operation\": \"training\", \"epoch\": 2, \"model\": 11}, \"Metrics\": {\"validation_binary_classification_cross_entropy_objective\": {\"sum\": 0.4821184620693307, \"count\": 1, \"min\": 0.4821184620693307, \"max\": 0.4821184620693307}}}\u001b[0m\n",
            "\u001b[34m#metrics {\"StartTime\": 1650182196.601696, \"EndTime\": 1650182196.6017036, \"Dimensions\": {\"Algorithm\": \"Linear Learner\", \"Host\": \"algo-1\", \"Operation\": \"training\", \"epoch\": 2, \"model\": 12}, \"Metrics\": {\"validation_binary_classification_cross_entropy_objective\": {\"sum\": 0.48148203737206213, \"count\": 1, \"min\": 0.48148203737206213, \"max\": 0.48148203737206213}}}\u001b[0m\n",
            "\u001b[34m#metrics {\"StartTime\": 1650182196.6017294, \"EndTime\": 1650182196.6017368, \"Dimensions\": {\"Algorithm\": \"Linear Learner\", \"Host\": \"algo-1\", \"Operation\": \"training\", \"epoch\": 2, \"model\": 13}, \"Metrics\": {\"validation_binary_classification_cross_entropy_objective\": {\"sum\": 0.4963150207733357, \"count\": 1, \"min\": 0.4963150207733357, \"max\": 0.4963150207733357}}}\u001b[0m\n",
            "\u001b[34m#metrics {\"StartTime\": 1650182196.601762, \"EndTime\": 1650182196.6017697, \"Dimensions\": {\"Algorithm\": \"Linear Learner\", \"Host\": \"algo-1\", \"Operation\": \"training\", \"epoch\": 2, \"model\": 14}, \"Metrics\": {\"validation_binary_classification_cross_entropy_objective\": {\"sum\": 0.4814819860613181, \"count\": 1, \"min\": 0.4814819860613181, \"max\": 0.4814819860613181}}}\u001b[0m\n",
            "\u001b[34m#metrics {\"StartTime\": 1650182196.6017947, \"EndTime\": 1650182196.6018023, \"Dimensions\": {\"Algorithm\": \"Linear Learner\", \"Host\": \"algo-1\", \"Operation\": \"training\", \"epoch\": 2, \"model\": 15}, \"Metrics\": {\"validation_binary_classification_cross_entropy_objective\": {\"sum\": 0.49631511593144284, \"count\": 1, \"min\": 0.49631511593144284, \"max\": 0.49631511593144284}}}\u001b[0m\n",
            "\u001b[34m#metrics {\"StartTime\": 1650182196.6018279, \"EndTime\": 1650182196.6018355, \"Dimensions\": {\"Algorithm\": \"Linear Learner\", \"Host\": \"algo-1\", \"Operation\": \"training\", \"epoch\": 2, \"model\": 16}, \"Metrics\": {\"validation_binary_classification_cross_entropy_objective\": {\"sum\": 0.504384108078748, \"count\": 1, \"min\": 0.504384108078748, \"max\": 0.504384108078748}}}\u001b[0m\n",
            "\u001b[34m#metrics {\"StartTime\": 1650182196.6018612, \"EndTime\": 1650182196.6018689, \"Dimensions\": {\"Algorithm\": \"Linear Learner\", \"Host\": \"algo-1\", \"Operation\": \"training\", \"epoch\": 2, \"model\": 17}, \"Metrics\": {\"validation_binary_classification_cross_entropy_objective\": {\"sum\": 0.5049993589776735, \"count\": 1, \"min\": 0.5049993589776735, \"max\": 0.5049993589776735}}}\u001b[0m\n",
            "\u001b[34m#metrics {\"StartTime\": 1650182196.6018968, \"EndTime\": 1650182196.6019046, \"Dimensions\": {\"Algorithm\": \"Linear Learner\", \"Host\": \"algo-1\", \"Operation\": \"training\", \"epoch\": 2, \"model\": 18}, \"Metrics\": {\"validation_binary_classification_cross_entropy_objective\": {\"sum\": 0.5043837065488529, \"count\": 1, \"min\": 0.5043837065488529, \"max\": 0.5043837065488529}}}\u001b[0m\n",
            "\u001b[34m#metrics {\"StartTime\": 1650182196.6019304, \"EndTime\": 1650182196.6019382, \"Dimensions\": {\"Algorithm\": \"Linear Learner\", \"Host\": \"algo-1\", \"Operation\": \"training\", \"epoch\": 2, \"model\": 19}, \"Metrics\": {\"validation_binary_classification_cross_entropy_objective\": {\"sum\": 0.5049995561975151, \"count\": 1, \"min\": 0.5049995561975151, \"max\": 0.5049995561975151}}}\u001b[0m\n",
            "\u001b[34m#metrics {\"StartTime\": 1650182196.6019654, \"EndTime\": 1650182196.6019733, \"Dimensions\": {\"Algorithm\": \"Linear Learner\", \"Host\": \"algo-1\", \"Operation\": \"training\", \"epoch\": 2, \"model\": 20}, \"Metrics\": {\"validation_binary_classification_cross_entropy_objective\": {\"sum\": 0.5044754281422219, \"count\": 1, \"min\": 0.5044754281422219, \"max\": 0.5044754281422219}}}\u001b[0m\n",
            "\u001b[34m#metrics {\"StartTime\": 1650182196.6020007, \"EndTime\": 1650182196.6020088, \"Dimensions\": {\"Algorithm\": \"Linear Learner\", \"Host\": \"algo-1\", \"Operation\": \"training\", \"epoch\": 2, \"model\": 21}, \"Metrics\": {\"validation_binary_classification_cross_entropy_objective\": {\"sum\": 0.5089718173764298, \"count\": 1, \"min\": 0.5089718173764298, \"max\": 0.5089718173764298}}}\u001b[0m\n",
            "\u001b[34m#metrics {\"StartTime\": 1650182196.6020348, \"EndTime\": 1650182196.6020424, \"Dimensions\": {\"Algorithm\": \"Linear Learner\", \"Host\": \"algo-1\", \"Operation\": \"training\", \"epoch\": 2, \"model\": 22}, \"Metrics\": {\"validation_binary_classification_cross_entropy_objective\": {\"sum\": 0.50447553860026, \"count\": 1, \"min\": 0.50447553860026, \"max\": 0.50447553860026}}}\u001b[0m\n",
            "\u001b[34m#metrics {\"StartTime\": 1650182196.6020684, \"EndTime\": 1650182196.602076, \"Dimensions\": {\"Algorithm\": \"Linear Learner\", \"Host\": \"algo-1\", \"Operation\": \"training\", \"epoch\": 2, \"model\": 23}, \"Metrics\": {\"validation_binary_classification_cross_entropy_objective\": {\"sum\": 0.5089716727734239, \"count\": 1, \"min\": 0.5089716727734239, \"max\": 0.5089716727734239}}}\u001b[0m\n",
            "\u001b[34m#metrics {\"StartTime\": 1650182196.6021013, \"EndTime\": 1650182196.602109, \"Dimensions\": {\"Algorithm\": \"Linear Learner\", \"Host\": \"algo-1\", \"Operation\": \"training\", \"epoch\": 2, \"model\": 24}, \"Metrics\": {\"validation_binary_classification_cross_entropy_objective\": {\"sum\": 0.5137149405739337, \"count\": 1, \"min\": 0.5137149405739337, \"max\": 0.5137149405739337}}}\u001b[0m\n",
            "\u001b[34m#metrics {\"StartTime\": 1650182196.602134, \"EndTime\": 1650182196.6021416, \"Dimensions\": {\"Algorithm\": \"Linear Learner\", \"Host\": \"algo-1\", \"Operation\": \"training\", \"epoch\": 2, \"model\": 25}, \"Metrics\": {\"validation_binary_classification_cross_entropy_objective\": {\"sum\": 0.5145119929023725, \"count\": 1, \"min\": 0.5145119929023725, \"max\": 0.5145119929023725}}}\u001b[0m\n",
            "\u001b[34m#metrics {\"StartTime\": 1650182196.6021671, \"EndTime\": 1650182196.6021748, \"Dimensions\": {\"Algorithm\": \"Linear Learner\", \"Host\": \"algo-1\", \"Operation\": \"training\", \"epoch\": 2, \"model\": 26}, \"Metrics\": {\"validation_binary_classification_cross_entropy_objective\": {\"sum\": 0.5137181169888666, \"count\": 1, \"min\": 0.5137181169888666, \"max\": 0.5137181169888666}}}\u001b[0m\n",
            "\u001b[34m#metrics {\"StartTime\": 1650182196.6021998, \"EndTime\": 1650182196.6022074, \"Dimensions\": {\"Algorithm\": \"Linear Learner\", \"Host\": \"algo-1\", \"Operation\": \"training\", \"epoch\": 2, \"model\": 27}, \"Metrics\": {\"validation_binary_classification_cross_entropy_objective\": {\"sum\": 0.5145275887563772, \"count\": 1, \"min\": 0.5145275887563772, \"max\": 0.5145275887563772}}}\u001b[0m\n",
            "\u001b[34m#metrics {\"StartTime\": 1650182196.6022322, \"EndTime\": 1650182196.60224, \"Dimensions\": {\"Algorithm\": \"Linear Learner\", \"Host\": \"algo-1\", \"Operation\": \"training\", \"epoch\": 2, \"model\": 28}, \"Metrics\": {\"validation_binary_classification_cross_entropy_objective\": {\"sum\": 0.5139683270218407, \"count\": 1, \"min\": 0.5139683270218407, \"max\": 0.5139683270218407}}}\u001b[0m\n",
            "\u001b[34m#metrics {\"StartTime\": 1650182196.6022651, \"EndTime\": 1650182196.602273, \"Dimensions\": {\"Algorithm\": \"Linear Learner\", \"Host\": \"algo-1\", \"Operation\": \"training\", \"epoch\": 2, \"model\": 29}, \"Metrics\": {\"validation_binary_classification_cross_entropy_objective\": {\"sum\": 0.5135524484036175, \"count\": 1, \"min\": 0.5135524484036175, \"max\": 0.5135524484036175}}}\u001b[0m\n",
            "\u001b[34m#metrics {\"StartTime\": 1650182196.602298, \"EndTime\": 1650182196.602306, \"Dimensions\": {\"Algorithm\": \"Linear Learner\", \"Host\": \"algo-1\", \"Operation\": \"training\", \"epoch\": 2, \"model\": 30}, \"Metrics\": {\"validation_binary_classification_cross_entropy_objective\": {\"sum\": 0.5139640501313866, \"count\": 1, \"min\": 0.5139640501313866, \"max\": 0.5139640501313866}}}\u001b[0m\n",
            "\u001b[34m#metrics {\"StartTime\": 1650182196.6023307, \"EndTime\": 1650182196.6023383, \"Dimensions\": {\"Algorithm\": \"Linear Learner\", \"Host\": \"algo-1\", \"Operation\": \"training\", \"epoch\": 2, \"model\": 31}, \"Metrics\": {\"validation_binary_classification_cross_entropy_objective\": {\"sum\": 0.5135525607275008, \"count\": 1, \"min\": 0.5135525607275008, \"max\": 0.5135525607275008}}}\u001b[0m\n",
            "\u001b[34m[04/17/2022 07:56:36 INFO 139945056937792] #quality_metric: host=algo-1, epoch=2, validation binary_classification_cross_entropy_objective <loss>=0.48052368440207593\u001b[0m\n",
            "\u001b[34m[04/17/2022 07:56:36 INFO 139945056937792] #early_stopping_criteria_metric: host=algo-1, epoch=2, criteria=binary_classification_cross_entropy_objective, value=0.48052368440207593\u001b[0m\n",
            "\u001b[34m[04/17/2022 07:56:36 INFO 139945056937792] Saving model for epoch: 2\u001b[0m\n",
            "\u001b[34m[04/17/2022 07:56:36 INFO 139945056937792] Saved checkpoint to \"/tmp/tmphd7jaz8y/mx-mod-0000.params\"\u001b[0m\n",
            "\u001b[34m[04/17/2022 07:56:36 INFO 139945056937792] #progress_metric: host=algo-1, completed 20.0 % of epochs\u001b[0m\n",
            "\u001b[34m#metrics {\"StartTime\": 1650182131.9101074, \"EndTime\": 1650182196.6094794, \"Dimensions\": {\"Algorithm\": \"Linear Learner\", \"Host\": \"algo-1\", \"Operation\": \"training\", \"epoch\": 2, \"Meta\": \"training_data_iter\"}, \"Metrics\": {\"Total Records Seen\": {\"sum\": 3937416.0, \"count\": 1, \"min\": 3937416, \"max\": 3937416}, \"Total Batches Seen\": {\"sum\": 3939.0, \"count\": 1, \"min\": 3939, \"max\": 3939}, \"Max Records Seen Between Resets\": {\"sum\": 1308472.0, \"count\": 1, \"min\": 1308472, \"max\": 1308472}, \"Max Batches Seen Between Resets\": {\"sum\": 1309.0, \"count\": 1, \"min\": 1309, \"max\": 1309}, \"Reset Count\": {\"sum\": 5.0, \"count\": 1, \"min\": 5, \"max\": 5}, \"Number of Records Since Last Reset\": {\"sum\": 1308472.0, \"count\": 1, \"min\": 1308472, \"max\": 1308472}, \"Number of Batches Since Last Reset\": {\"sum\": 1309.0, \"count\": 1, \"min\": 1309, \"max\": 1309}}}\u001b[0m\n",
            "\u001b[34m[04/17/2022 07:56:36 INFO 139945056937792] #throughput_metric: host=algo-1, train throughput=20223.843126107946 records/second\u001b[0m\n"
          ]
        }
      ],
      "source": [
        "# add code train model\n",
        "classifier_estimator2.fit([train_records,val_records, test_records])"
      ]
    },
    {
      "cell_type": "markdown",
      "metadata": {
        "id": "FHvzIn4pV__Q"
      },
      "source": [
        "Perform a batch prediction by using the newly trained model."
      ]
    },
    {
      "cell_type": "code",
      "execution_count": null,
      "metadata": {
        "id": "_4HHuBnKV__R",
        "outputId": "4657c6a1-4313-4784-eab3-f3c93a301d49"
      },
      "outputs": [
        {
          "name": "stderr",
          "output_type": "stream",
          "text": [
            "Defaulting to the only supported framework/algorithm version: 1. Ignoring framework/algorithm version: 1.\n"
          ]
        },
        {
          "name": "stdout",
          "output_type": "stream",
          "text": [
            ".................................\n",
            "\u001b[34mDocker entrypoint called with argument(s): serve\u001b[0m\n",
            "\u001b[34mRunning default environment configuration script\u001b[0m\n",
            "\u001b[34m[04/17/2022 08:07:16 INFO 140232274102080] loaded entry point class algorithm.serve.server_config:config_api\u001b[0m\n",
            "\u001b[34m[04/17/2022 08:07:16 INFO 140232274102080] loading entry points\u001b[0m\n",
            "\u001b[34m[04/17/2022 08:07:16 INFO 140232274102080] loaded request iterator application/json\u001b[0m\n",
            "\u001b[34m[04/17/2022 08:07:16 INFO 140232274102080] loaded request iterator application/jsonlines\u001b[0m\n",
            "\u001b[34m[04/17/2022 08:07:16 INFO 140232274102080] loaded request iterator application/x-recordio-protobuf\u001b[0m\n",
            "\u001b[34m[04/17/2022 08:07:16 INFO 140232274102080] loaded request iterator text/csv\u001b[0m\n",
            "\u001b[34m[04/17/2022 08:07:16 INFO 140232274102080] loaded response encoder application/json\u001b[0m\n",
            "\u001b[34m[04/17/2022 08:07:16 INFO 140232274102080] loaded response encoder application/jsonlines\u001b[0m\n",
            "\u001b[34m[04/17/2022 08:07:16 INFO 140232274102080] loaded response encoder application/x-recordio-protobuf\u001b[0m\n",
            "\u001b[34m[04/17/2022 08:07:16 INFO 140232274102080] loaded response encoder text/csv\u001b[0m\n",
            "\u001b[34m[04/17/2022 08:07:17 INFO 140232274102080] loaded entry point class algorithm:model\u001b[0m\n",
            "\u001b[34m[04/17/2022 08:07:17 INFO 140232274102080] Number of server workers: 4\u001b[0m\n",
            "\u001b[34m[04/17/2022 08:07:17 INFO 140232274102080] loading model...\u001b[0m\n",
            "\u001b[34m[04/17/2022 08:07:17 INFO 140232274102080] ...model loaded.\u001b[0m\n",
            "\u001b[34m[2022-04-17 08:07:17 +0000] [1] [INFO] Starting gunicorn 20.1.0\u001b[0m\n",
            "\u001b[34m[2022-04-17 08:07:17 +0000] [1] [INFO] Listening at: http://0.0.0.0:8080 (1)\u001b[0m\n",
            "\u001b[34m[2022-04-17 08:07:17 +0000] [1] [INFO] Using worker: sync\u001b[0m\n",
            "\u001b[34m[2022-04-17 08:07:17 +0000] [60] [INFO] Booting worker with pid: 60\u001b[0m\n",
            "\u001b[34m[2022-04-17 08:07:17 +0000] [69] [INFO] Booting worker with pid: 69\u001b[0m\n",
            "\u001b[34m[2022-04-17 08:07:17 +0000] [78] [INFO] Booting worker with pid: 78\u001b[0m\n",
            "\u001b[34m[2022-04-17 08:07:17 +0000] [87] [INFO] Booting worker with pid: 87\u001b[0m\n",
            "\u001b[34m#metrics {\"StartTime\": 1650182837.0389051, \"EndTime\": 1650182838.001503, \"Dimensions\": {\"Algorithm\": \"LinearLearnerModel\", \"Host\": \"UNKNOWN\", \"Operation\": \"scoring\"}, \"Metrics\": {\"execution_parameters.count\": {\"sum\": 1.0, \"count\": 1, \"min\": 1, \"max\": 1}}}\u001b[0m\n",
            "\u001b[34m#metrics {\"StartTime\": 1650182838.0016425, \"EndTime\": 1650182840.7020552, \"Dimensions\": {\"Algorithm\": \"LinearLearnerModel\", \"Host\": \"UNKNOWN\", \"Operation\": \"scoring\"}, \"Metrics\": {\"json.encoder.time\": {\"sum\": 151.59320831298828, \"count\": 1, \"min\": 151.59320831298828, \"max\": 151.59320831298828}, \"invocations.count\": {\"sum\": 1.0, \"count\": 1, \"min\": 1, \"max\": 1}}}\u001b[0m\n",
            "\u001b[34m#metrics {\"StartTime\": 1650182837.0389051, \"EndTime\": 1650182840.8340347, \"Dimensions\": {\"Algorithm\": \"LinearLearnerModel\", \"Host\": \"UNKNOWN\", \"Operation\": \"scoring\"}, \"Metrics\": {\"json.encoder.time\": {\"sum\": 145.87831497192383, \"count\": 1, \"min\": 145.87831497192383, \"max\": 145.87831497192383}, \"invocations.count\": {\"sum\": 1.0, \"count\": 1, \"min\": 1, \"max\": 1}}}\u001b[0m\n",
            "\u001b[34m#metrics {\"StartTime\": 1650182837.0389051, \"EndTime\": 1650182840.862236, \"Dimensions\": {\"Algorithm\": \"LinearLearnerModel\", \"Host\": \"UNKNOWN\", \"Operation\": \"scoring\"}, \"Metrics\": {\"json.encoder.time\": {\"sum\": 152.45485305786133, \"count\": 1, \"min\": 152.45485305786133, \"max\": 152.45485305786133}, \"invocations.count\": {\"sum\": 1.0, \"count\": 1, \"min\": 1, \"max\": 1}}}\u001b[0m\n",
            "\u001b[34m#metrics {\"StartTime\": 1650182837.0389051, \"EndTime\": 1650182840.8632102, \"Dimensions\": {\"Algorithm\": \"LinearLearnerModel\", \"Host\": \"UNKNOWN\", \"Operation\": \"scoring\"}, \"Metrics\": {\"json.encoder.time\": {\"sum\": 153.6691188812256, \"count\": 1, \"min\": 153.6691188812256, \"max\": 153.6691188812256}, \"invocations.count\": {\"sum\": 1.0, \"count\": 1, \"min\": 1, \"max\": 1}}}\u001b[0m\n",
            "\u001b[34m#metrics {\"StartTime\": 1650182840.8633673, \"EndTime\": 1650182841.6232643, \"Dimensions\": {\"Algorithm\": \"LinearLearnerModel\", \"Host\": \"UNKNOWN\", \"Operation\": \"scoring\"}, \"Metrics\": {\"json.encoder.time\": {\"sum\": 66.08271598815918, \"count\": 1, \"min\": 66.08271598815918, \"max\": 66.08271598815918}, \"invocations.count\": {\"sum\": 1.0, \"count\": 1, \"min\": 1, \"max\": 1}}}\u001b[0m\n",
            "\u001b[32m2022-04-17T08:07:18.008:[sagemaker logs]: MaxConcurrentTransforms=4, MaxPayloadInMB=6, BatchStrategy=MULTI_RECORD\u001b[0m\n",
            "\u001b[34mDocker entrypoint called with argument(s): serve\u001b[0m\n",
            "\u001b[34mRunning default environment configuration script\u001b[0m\n",
            "\u001b[35mDocker entrypoint called with argument(s): serve\u001b[0m\n",
            "\u001b[35mRunning default environment configuration script\u001b[0m\n",
            "\u001b[34m[04/17/2022 08:07:16 INFO 140232274102080] loaded entry point class algorithm.serve.server_config:config_api\u001b[0m\n",
            "\u001b[35m[04/17/2022 08:07:16 INFO 140232274102080] loaded entry point class algorithm.serve.server_config:config_api\u001b[0m\n",
            "\u001b[34m[04/17/2022 08:07:16 INFO 140232274102080] loading entry points\u001b[0m\n",
            "\u001b[34m[04/17/2022 08:07:16 INFO 140232274102080] loaded request iterator application/json\u001b[0m\n",
            "\u001b[34m[04/17/2022 08:07:16 INFO 140232274102080] loaded request iterator application/jsonlines\u001b[0m\n",
            "\u001b[34m[04/17/2022 08:07:16 INFO 140232274102080] loaded request iterator application/x-recordio-protobuf\u001b[0m\n",
            "\u001b[34m[04/17/2022 08:07:16 INFO 140232274102080] loaded request iterator text/csv\u001b[0m\n",
            "\u001b[34m[04/17/2022 08:07:16 INFO 140232274102080] loaded response encoder application/json\u001b[0m\n",
            "\u001b[34m[04/17/2022 08:07:16 INFO 140232274102080] loaded response encoder application/jsonlines\u001b[0m\n",
            "\u001b[34m[04/17/2022 08:07:16 INFO 140232274102080] loaded response encoder application/x-recordio-protobuf\u001b[0m\n",
            "\u001b[34m[04/17/2022 08:07:16 INFO 140232274102080] loaded response encoder text/csv\u001b[0m\n",
            "\u001b[34m[04/17/2022 08:07:17 INFO 140232274102080] loaded entry point class algorithm:model\u001b[0m\n",
            "\u001b[34m[04/17/2022 08:07:17 INFO 140232274102080] Number of server workers: 4\u001b[0m\n",
            "\u001b[34m[04/17/2022 08:07:17 INFO 140232274102080] loading model...\u001b[0m\n",
            "\u001b[34m[04/17/2022 08:07:17 INFO 140232274102080] ...model loaded.\u001b[0m\n",
            "\u001b[34m[2022-04-17 08:07:17 +0000] [1] [INFO] Starting gunicorn 20.1.0\u001b[0m\n",
            "\u001b[34m[2022-04-17 08:07:17 +0000] [1] [INFO] Listening at: http://0.0.0.0:8080 (1)\u001b[0m\n",
            "\u001b[34m[2022-04-17 08:07:17 +0000] [1] [INFO] Using worker: sync\u001b[0m\n",
            "\u001b[35m[04/17/2022 08:07:16 INFO 140232274102080] loading entry points\u001b[0m\n",
            "\u001b[35m[04/17/2022 08:07:16 INFO 140232274102080] loaded request iterator application/json\u001b[0m\n",
            "\u001b[35m[04/17/2022 08:07:16 INFO 140232274102080] loaded request iterator application/jsonlines\u001b[0m\n",
            "\u001b[35m[04/17/2022 08:07:16 INFO 140232274102080] loaded request iterator application/x-recordio-protobuf\u001b[0m\n",
            "\u001b[35m[04/17/2022 08:07:16 INFO 140232274102080] loaded request iterator text/csv\u001b[0m\n",
            "\u001b[35m[04/17/2022 08:07:16 INFO 140232274102080] loaded response encoder application/json\u001b[0m\n",
            "\u001b[35m[04/17/2022 08:07:16 INFO 140232274102080] loaded response encoder application/jsonlines\u001b[0m\n",
            "\u001b[35m[04/17/2022 08:07:16 INFO 140232274102080] loaded response encoder application/x-recordio-protobuf\u001b[0m\n",
            "\u001b[35m[04/17/2022 08:07:16 INFO 140232274102080] loaded response encoder text/csv\u001b[0m\n",
            "\u001b[35m[04/17/2022 08:07:17 INFO 140232274102080] loaded entry point class algorithm:model\u001b[0m\n",
            "\u001b[35m[04/17/2022 08:07:17 INFO 140232274102080] Number of server workers: 4\u001b[0m\n",
            "\u001b[35m[04/17/2022 08:07:17 INFO 140232274102080] loading model...\u001b[0m\n",
            "\u001b[35m[04/17/2022 08:07:17 INFO 140232274102080] ...model loaded.\u001b[0m\n",
            "\u001b[35m[2022-04-17 08:07:17 +0000] [1] [INFO] Starting gunicorn 20.1.0\u001b[0m\n",
            "\u001b[35m[2022-04-17 08:07:17 +0000] [1] [INFO] Listening at: http://0.0.0.0:8080 (1)\u001b[0m\n",
            "\u001b[35m[2022-04-17 08:07:17 +0000] [1] [INFO] Using worker: sync\u001b[0m\n",
            "\u001b[34m[2022-04-17 08:07:17 +0000] [60] [INFO] Booting worker with pid: 60\u001b[0m\n",
            "\u001b[34m[2022-04-17 08:07:17 +0000] [69] [INFO] Booting worker with pid: 69\u001b[0m\n",
            "\u001b[34m[2022-04-17 08:07:17 +0000] [78] [INFO] Booting worker with pid: 78\u001b[0m\n",
            "\u001b[34m[2022-04-17 08:07:17 +0000] [87] [INFO] Booting worker with pid: 87\u001b[0m\n",
            "\u001b[35m[2022-04-17 08:07:17 +0000] [60] [INFO] Booting worker with pid: 60\u001b[0m\n",
            "\u001b[35m[2022-04-17 08:07:17 +0000] [69] [INFO] Booting worker with pid: 69\u001b[0m\n",
            "\u001b[35m[2022-04-17 08:07:17 +0000] [78] [INFO] Booting worker with pid: 78\u001b[0m\n",
            "\u001b[35m[2022-04-17 08:07:17 +0000] [87] [INFO] Booting worker with pid: 87\u001b[0m\n",
            "\u001b[34m#metrics {\"StartTime\": 1650182837.0389051, \"EndTime\": 1650182838.001503, \"Dimensions\": {\"Algorithm\": \"LinearLearnerModel\", \"Host\": \"UNKNOWN\", \"Operation\": \"scoring\"}, \"Metrics\": {\"execution_parameters.count\": {\"sum\": 1.0, \"count\": 1, \"min\": 1, \"max\": 1}}}\u001b[0m\n",
            "\u001b[35m#metrics {\"StartTime\": 1650182837.0389051, \"EndTime\": 1650182838.001503, \"Dimensions\": {\"Algorithm\": \"LinearLearnerModel\", \"Host\": \"UNKNOWN\", \"Operation\": \"scoring\"}, \"Metrics\": {\"execution_parameters.count\": {\"sum\": 1.0, \"count\": 1, \"min\": 1, \"max\": 1}}}\u001b[0m\n",
            "\u001b[32m2022-04-17T08:07:18.008:[sagemaker logs]: MaxConcurrentTransforms=4, MaxPayloadInMB=6, BatchStrategy=MULTI_RECORD\u001b[0m\n",
            "\u001b[34m#metrics {\"StartTime\": 1650182838.0016425, \"EndTime\": 1650182840.7020552, \"Dimensions\": {\"Algorithm\": \"LinearLearnerModel\", \"Host\": \"UNKNOWN\", \"Operation\": \"scoring\"}, \"Metrics\": {\"json.encoder.time\": {\"sum\": 151.59320831298828, \"count\": 1, \"min\": 151.59320831298828, \"max\": 151.59320831298828}, \"invocations.count\": {\"sum\": 1.0, \"count\": 1, \"min\": 1, \"max\": 1}}}\u001b[0m\n",
            "\u001b[34m#metrics {\"StartTime\": 1650182837.0389051, \"EndTime\": 1650182840.8340347, \"Dimensions\": {\"Algorithm\": \"LinearLearnerModel\", \"Host\": \"UNKNOWN\", \"Operation\": \"scoring\"}, \"Metrics\": {\"json.encoder.time\": {\"sum\": 145.87831497192383, \"count\": 1, \"min\": 145.87831497192383, \"max\": 145.87831497192383}, \"invocations.count\": {\"sum\": 1.0, \"count\": 1, \"min\": 1, \"max\": 1}}}\u001b[0m\n",
            "\u001b[34m#metrics {\"StartTime\": 1650182837.0389051, \"EndTime\": 1650182840.862236, \"Dimensions\": {\"Algorithm\": \"LinearLearnerModel\", \"Host\": \"UNKNOWN\", \"Operation\": \"scoring\"}, \"Metrics\": {\"json.encoder.time\": {\"sum\": 152.45485305786133, \"count\": 1, \"min\": 152.45485305786133, \"max\": 152.45485305786133}, \"invocations.count\": {\"sum\": 1.0, \"count\": 1, \"min\": 1, \"max\": 1}}}\u001b[0m\n",
            "\u001b[34m#metrics {\"StartTime\": 1650182837.0389051, \"EndTime\": 1650182840.8632102, \"Dimensions\": {\"Algorithm\": \"LinearLearnerModel\", \"Host\": \"UNKNOWN\", \"Operation\": \"scoring\"}, \"Metrics\": {\"json.encoder.time\": {\"sum\": 153.6691188812256, \"count\": 1, \"min\": 153.6691188812256, \"max\": 153.6691188812256}, \"invocations.count\": {\"sum\": 1.0, \"count\": 1, \"min\": 1, \"max\": 1}}}\u001b[0m\n",
            "\u001b[35m#metrics {\"StartTime\": 1650182838.0016425, \"EndTime\": 1650182840.7020552, \"Dimensions\": {\"Algorithm\": \"LinearLearnerModel\", \"Host\": \"UNKNOWN\", \"Operation\": \"scoring\"}, \"Metrics\": {\"json.encoder.time\": {\"sum\": 151.59320831298828, \"count\": 1, \"min\": 151.59320831298828, \"max\": 151.59320831298828}, \"invocations.count\": {\"sum\": 1.0, \"count\": 1, \"min\": 1, \"max\": 1}}}\u001b[0m\n",
            "\u001b[35m#metrics {\"StartTime\": 1650182837.0389051, \"EndTime\": 1650182840.8340347, \"Dimensions\": {\"Algorithm\": \"LinearLearnerModel\", \"Host\": \"UNKNOWN\", \"Operation\": \"scoring\"}, \"Metrics\": {\"json.encoder.time\": {\"sum\": 145.87831497192383, \"count\": 1, \"min\": 145.87831497192383, \"max\": 145.87831497192383}, \"invocations.count\": {\"sum\": 1.0, \"count\": 1, \"min\": 1, \"max\": 1}}}\u001b[0m\n",
            "\u001b[35m#metrics {\"StartTime\": 1650182837.0389051, \"EndTime\": 1650182840.862236, \"Dimensions\": {\"Algorithm\": \"LinearLearnerModel\", \"Host\": \"UNKNOWN\", \"Operation\": \"scoring\"}, \"Metrics\": {\"json.encoder.time\": {\"sum\": 152.45485305786133, \"count\": 1, \"min\": 152.45485305786133, \"max\": 152.45485305786133}, \"invocations.count\": {\"sum\": 1.0, \"count\": 1, \"min\": 1, \"max\": 1}}}\u001b[0m\n",
            "\u001b[35m#metrics {\"StartTime\": 1650182837.0389051, \"EndTime\": 1650182840.8632102, \"Dimensions\": {\"Algorithm\": \"LinearLearnerModel\", \"Host\": \"UNKNOWN\", \"Operation\": \"scoring\"}, \"Metrics\": {\"json.encoder.time\": {\"sum\": 153.6691188812256, \"count\": 1, \"min\": 153.6691188812256, \"max\": 153.6691188812256}, \"invocations.count\": {\"sum\": 1.0, \"count\": 1, \"min\": 1, \"max\": 1}}}\u001b[0m\n",
            "\u001b[34m#metrics {\"StartTime\": 1650182840.8633673, \"EndTime\": 1650182841.6232643, \"Dimensions\": {\"Algorithm\": \"LinearLearnerModel\", \"Host\": \"UNKNOWN\", \"Operation\": \"scoring\"}, \"Metrics\": {\"json.encoder.time\": {\"sum\": 66.08271598815918, \"count\": 1, \"min\": 66.08271598815918, \"max\": 66.08271598815918}, \"invocations.count\": {\"sum\": 1.0, \"count\": 1, \"min\": 1, \"max\": 1}}}\u001b[0m\n",
            "\u001b[35m#metrics {\"StartTime\": 1650182840.8633673, \"EndTime\": 1650182841.6232643, \"Dimensions\": {\"Algorithm\": \"LinearLearnerModel\", \"Host\": \"UNKNOWN\", \"Operation\": \"scoring\"}, \"Metrics\": {\"json.encoder.time\": {\"sum\": 66.08271598815918, \"count\": 1, \"min\": 66.08271598815918, \"max\": 66.08271598815918}, \"invocations.count\": {\"sum\": 1.0, \"count\": 1, \"min\": 1, \"max\": 1}}}\u001b[0m\n"
          ]
        }
      ],
      "source": [
        "# add code prediction\n",
        "test_labels , target_predicted = batch_linear_predict(test,classifier_estimator2)"
      ]
    },
    {
      "cell_type": "markdown",
      "metadata": {
        "id": "OKM0D_mDV__R"
      },
      "source": [
        "Plot a confusion matrix."
      ]
    },
    {
      "cell_type": "code",
      "execution_count": null,
      "metadata": {
        "id": "dRpnM_jGV__R",
        "outputId": "3cf1a655-08ae-42d2-f38c-fa66074c80dd"
      },
      "outputs": [
        {
          "data": {
            "image/png": "[encoded data removed]",
            "text/plain": [
              "<Figure size 432x288 with 1 Axes>"
            ]
          },
          "metadata": {
            "needs_background": "light"
          },
          "output_type": "display_data"
        }
      ],
      "source": [
        "# Plot a confusion matrix.\n",
        "plot_confusion_matrix(test_labels, target_predicted)"
      ]
    },
    {
      "cell_type": "markdown",
      "metadata": {
        "id": "ldwGsip8V__S"
      },
      "source": [
        "Plot the ROC curve."
      ]
    },
    {
      "cell_type": "code",
      "execution_count": null,
      "metadata": {
        "id": "OON53HKnV__S",
        "outputId": "c3289802-e3b9-4082-8445-6923a773ddc5"
      },
      "outputs": [
        {
          "name": "stdout",
          "output_type": "stream",
          "text": [
            "Sensitivity or TPR:  6.107826289575627 %\n",
            "Specificity or TNR:  98.64114032779781 %\n",
            "Precision:  54.425123280560605 %\n",
            "Negative Predictive Value:  79.81541081737693 %\n",
            "False Positive Rate:  1.3588596722021884 %\n",
            "False Negative Rate:  93.89217371042437 %\n",
            "False Discovery Rate:  45.5748767194394 %\n",
            "Accuracy:  79.21728550553622 %\n",
            "Validation AUC 0.5237448330868671\n",
            "Figure(432x288)\n"
          ]
        },
        {
          "data": {
            "image/png": "[encoded data removed]",
            "text/plain": [
              "<Figure size 432x288 with 2 Axes>"
            ]
          },
          "metadata": {
            "needs_background": "light"
          },
          "output_type": "display_data"
        },
        {
          "data": {
            "text/plain": [
              "<Figure size 432x288 with 0 Axes>"
            ]
          },
          "metadata": {},
          "output_type": "display_data"
        }
      ],
      "source": [
        "# Plot a confusion plot roc.\n",
        "plot_roc(test_labels,target_predicted)"
      ]
    },
    {
      "cell_type": "markdown",
      "metadata": {
        "id": "C5JbO3WyV__S"
      },
      "source": [
        "The linear model shows only a little improvement in performance. Try a tree-based ensemble model, which is called *XGBoost*, with Amazon SageMaker."
      ]
    },
    {
      "cell_type": "markdown",
      "metadata": {
        "id": "ulFzv8S2V__S"
      },
      "source": [
        "### Try the XGBoost model"
      ]
    },
    {
      "cell_type": "markdown",
      "metadata": {
        "id": "ew-E7tOxV__S"
      },
      "source": [
        "Perform these steps:  \n",
        "\n",
        "1. Use the training set variables and save them as CSV files: train.csv, validation.csv and test.csv.\n",
        "2. Store the bucket name in the variable. The Amazon S3 bucket name is provided to the left of the lab instructions.  \n",
        "a. `bucket = <LabBucketName>`  \n",
        "b. `prefix = 'flight-xgb'`  \n",
        "3. Use the AWS SDK for Python (Boto3) to upload the model to the bucket.    "
      ]
    },
    {
      "cell_type": "code",
      "execution_count": null,
      "metadata": {
        "id": "jWWI4hSWV__S"
      },
      "outputs": [],
      "source": [
        "bucket='c47433a664954l1895655t1w513540975660-flightbucket-15c2r4le70el5'\n",
        "prefix='flight-xgb'\n",
        "train_file='flight_train.csv'\n",
        "test_file='flight_test.csv'\n",
        "validate_file='flight_validate.csv'\n",
        "whole_file='flight.csv'\n",
        "s3_resource = boto3.Session().resource('s3')\n",
        "\n",
        "def upload_s3_csv(filename, folder, dataframe):\n",
        "    csv_buffer = io.StringIO()\n",
        "    dataframe.to_csv(csv_buffer, header=False, index=False )\n",
        "    s3_resource.Bucket(bucket).Object(os.path.join(prefix, folder, filename)).put(Body=csv_buffer.getvalue())\n",
        "\n",
        "upload_s3_csv(train_file, 'train', train)\n",
        "upload_s3_csv(test_file, 'test', test)\n",
        "upload_s3_csv(validate_file, 'validate', validate)"
      ]
    },
    {
      "cell_type": "markdown",
      "metadata": {
        "id": "gNP1QmLeV__T"
      },
      "source": [
        "Use the `sagemaker.inputs.TrainingInput` function to create a `record_set` for the training and validation datasets."
      ]
    },
    {
      "cell_type": "code",
      "execution_count": null,
      "metadata": {
        "id": "1j62MV-eV__T"
      },
      "outputs": [],
      "source": [
        "train_channel = sagemaker.inputs.TrainingInput(\n",
        "    \"s3://{}/{}/train/\".format(bucket,prefix,train_file),\n",
        "    content_type='text/csv')\n",
        "\n",
        "validate_channel = sagemaker.inputs.TrainingInput(\n",
        "    \"s3://{}/{}/validate/\".format(bucket,prefix,validate_file),\n",
        "    content_type='text/csv')\n",
        "\n",
        "data_channels = {'train': train_channel, 'validation': validate_channel}"
      ]
    },
    {
      "cell_type": "code",
      "execution_count": null,
      "metadata": {
        "id": "pyaXdGpRV__T"
      },
      "outputs": [],
      "source": [
        "from sagemaker.image_uris import retrieve\n",
        "container = retrieve('xgboost',boto3.Session().region_name,'1.0-1')"
      ]
    },
    {
      "cell_type": "code",
      "execution_count": null,
      "metadata": {
        "id": "SqIRqQ3GV__T",
        "outputId": "7823a042-a5dd-46b8-add7-2ecfef596761"
      },
      "outputs": [
        {
          "name": "stdout",
          "output_type": "stream",
          "text": [
            "2022-04-17 08:10:14 Starting - Starting the training job...\n",
            "2022-04-17 08:10:41 Starting - Preparing the instances for trainingProfilerReport-1650183013: InProgress\n",
            ".........\n",
            "2022-04-17 08:12:05 Downloading - Downloading input data...\n",
            "2022-04-17 08:12:41 Training - Downloading the training image......\n",
            "2022-04-17 08:13:42 Training - Training image download completed. Training in progress...\u001b[34mINFO:sagemaker-containers:Imported framework sagemaker_xgboost_container.training\u001b[0m\n",
            "\u001b[34mINFO:sagemaker-containers:Failed to parse hyperparameter eval_metric value auc to Json.\u001b[0m\n",
            "\u001b[34mReturning the value itself\u001b[0m\n",
            "\u001b[34mINFO:sagemaker-containers:Failed to parse hyperparameter objective value binary:logistic to Json.\u001b[0m\n",
            "\u001b[34mReturning the value itself\u001b[0m\n",
            "\u001b[34mINFO:sagemaker-containers:No GPUs detected (normal if no gpus installed)\u001b[0m\n",
            "\u001b[34mINFO:sagemaker_xgboost_container.training:Running XGBoost Sagemaker in algorithm mode\u001b[0m\n",
            "\u001b[34mINFO:root:Determined delimiter of CSV input is ','\u001b[0m\n",
            "\u001b[34mINFO:root:Determined delimiter of CSV input is ','\u001b[0m\n",
            "\u001b[34mINFO:root:Determined delimiter of CSV input is ','\u001b[0m\n",
            "\u001b[34m[08:13:52] 1308472x85 matrix with 111220120 entries loaded from /opt/ml/input/data/train?format=csv&label_column=0&delimiter=,\u001b[0m\n",
            "\u001b[34mINFO:root:Determined delimiter of CSV input is ','\u001b[0m\n",
            "\u001b[34m[08:13:53] 163559x85 matrix with 13902515 entries loaded from /opt/ml/input/data/validation?format=csv&label_column=0&delimiter=,\u001b[0m\n",
            "\u001b[34mINFO:root:Single node training.\u001b[0m\n",
            "\u001b[34mINFO:root:Train matrix has 1308472 rows\u001b[0m\n",
            "\u001b[34mINFO:root:Validation matrix has 163559 rows\u001b[0m\n",
            "\u001b[34m[0]#011train-auc:0.65481#011validation-auc:0.65551\u001b[0m\n",
            "\u001b[34m[1]#011train-auc:0.66762#011validation-auc:0.66751\u001b[0m\n",
            "\u001b[34m[2]#011train-auc:0.66940#011validation-auc:0.66919\u001b[0m\n",
            "\u001b[34m[3]#011train-auc:0.67466#011validation-auc:0.67514\u001b[0m\n",
            "\u001b[34m[4]#011train-auc:0.67547#011validation-auc:0.67559\u001b[0m\n",
            "\u001b[34m[5]#011train-auc:0.67778#011validation-auc:0.67814\u001b[0m\n",
            "\u001b[34m[6]#011train-auc:0.68023#011validation-auc:0.68036\u001b[0m\n",
            "\u001b[34m[7]#011train-auc:0.68229#011validation-auc:0.68253\u001b[0m\n",
            "\u001b[34m[8]#011train-auc:0.68471#011validation-auc:0.68519\u001b[0m\n",
            "\u001b[34m[9]#011train-auc:0.68656#011validation-auc:0.68667\u001b[0m\n",
            "\u001b[34m[10]#011train-auc:0.68886#011validation-auc:0.68923\u001b[0m\n",
            "\u001b[34m[11]#011train-auc:0.69123#011validation-auc:0.69130\u001b[0m\n",
            "\u001b[34m[12]#011train-auc:0.69330#011validation-auc:0.69346\u001b[0m\n",
            "\u001b[34m[13]#011train-auc:0.69417#011validation-auc:0.69410\u001b[0m\n",
            "\u001b[34m[14]#011train-auc:0.69607#011validation-auc:0.69599\u001b[0m\n",
            "\u001b[34m[15]#011train-auc:0.69791#011validation-auc:0.69795\u001b[0m\n",
            "\u001b[34m[16]#011train-auc:0.69986#011validation-auc:0.69994\u001b[0m\n",
            "\u001b[34m[17]#011train-auc:0.70117#011validation-auc:0.70128\u001b[0m\n",
            "\u001b[34m[18]#011train-auc:0.70242#011validation-auc:0.70260\u001b[0m\n",
            "\u001b[34m[19]#011train-auc:0.70323#011validation-auc:0.70316\u001b[0m\n",
            "\u001b[34m[20]#011train-auc:0.70405#011validation-auc:0.70384\u001b[0m\n",
            "\u001b[34m[21]#011train-auc:0.70511#011validation-auc:0.70514\u001b[0m\n",
            "\u001b[34m[22]#011train-auc:0.70617#011validation-auc:0.70622\u001b[0m\n",
            "\u001b[34m[23]#011train-auc:0.70669#011validation-auc:0.70656\u001b[0m\n",
            "\u001b[34m[24]#011train-auc:0.70735#011validation-auc:0.70718\u001b[0m\n",
            "\u001b[34m[25]#011train-auc:0.70828#011validation-auc:0.70817\u001b[0m\n",
            "\u001b[34m[26]#011train-auc:0.70883#011validation-auc:0.70885\u001b[0m\n",
            "\u001b[34m[27]#011train-auc:0.70956#011validation-auc:0.70956\u001b[0m\n",
            "\u001b[34m[28]#011train-auc:0.70993#011validation-auc:0.70995\u001b[0m\n",
            "\u001b[34m[29]#011train-auc:0.71087#011validation-auc:0.71078\u001b[0m\n",
            "\u001b[34m[30]#011train-auc:0.71208#011validation-auc:0.71212\u001b[0m\n",
            "\u001b[34m[31]#011train-auc:0.71389#011validation-auc:0.71390\u001b[0m\n",
            "\u001b[34m[32]#011train-auc:0.71433#011validation-auc:0.71431\u001b[0m\n",
            "\u001b[34m[33]#011train-auc:0.71480#011validation-auc:0.71474\u001b[0m\n",
            "\u001b[34m[34]#011train-auc:0.71611#011validation-auc:0.71603\u001b[0m\n",
            "\u001b[34m[35]#011train-auc:0.71650#011validation-auc:0.71639\u001b[0m\n",
            "\u001b[34m[36]#011train-auc:0.71697#011validation-auc:0.71681\u001b[0m\n",
            "\u001b[34m[37]#011train-auc:0.71717#011validation-auc:0.71697\u001b[0m\n",
            "\u001b[34m[38]#011train-auc:0.71765#011validation-auc:0.71735\u001b[0m\n",
            "\u001b[34m[39]#011train-auc:0.71787#011validation-auc:0.71757\u001b[0m\n",
            "\u001b[34m[40]#011train-auc:0.71822#011validation-auc:0.71791\u001b[0m\n",
            "\u001b[34m[41]#011train-auc:0.71864#011validation-auc:0.71826\u001b[0m\n",
            "\u001b[34m[42]#011train-auc:0.71896#011validation-auc:0.71853\u001b[0m\n",
            "\u001b[34m[43]#011train-auc:0.71929#011validation-auc:0.71884\u001b[0m\n",
            "\u001b[34m[44]#011train-auc:0.71993#011validation-auc:0.71951\u001b[0m\n",
            "\u001b[34m[45]#011train-auc:0.72025#011validation-auc:0.71978\u001b[0m\n",
            "\u001b[34m[46]#011train-auc:0.72059#011validation-auc:0.72006\u001b[0m\n",
            "\u001b[34m[47]#011train-auc:0.72114#011validation-auc:0.72049\u001b[0m\n",
            "\u001b[34m[48]#011train-auc:0.72162#011validation-auc:0.72097\u001b[0m\n",
            "\u001b[34m[49]#011train-auc:0.72206#011validation-auc:0.72141\u001b[0m\n",
            "\u001b[34m[50]#011train-auc:0.72246#011validation-auc:0.72176\u001b[0m\n",
            "\u001b[34m[51]#011train-auc:0.72292#011validation-auc:0.72214\u001b[0m\n",
            "\u001b[34m[52]#011train-auc:0.72335#011validation-auc:0.72254\u001b[0m\n",
            "\u001b[34m[53]#011train-auc:0.72369#011validation-auc:0.72296\u001b[0m\n",
            "\u001b[34m[54]#011train-auc:0.72396#011validation-auc:0.72313\u001b[0m\n",
            "\u001b[34m[55]#011train-auc:0.72431#011validation-auc:0.72355\u001b[0m\n",
            "\u001b[34m[56]#011train-auc:0.72451#011validation-auc:0.72374\u001b[0m\n",
            "\u001b[34m[57]#011train-auc:0.72494#011validation-auc:0.72411\u001b[0m\n",
            "\u001b[34m[58]#011train-auc:0.72555#011validation-auc:0.72462\u001b[0m\n",
            "\u001b[34m[59]#011train-auc:0.72570#011validation-auc:0.72476\u001b[0m\n",
            "\u001b[34m[60]#011train-auc:0.72591#011validation-auc:0.72498\u001b[0m\n",
            "\u001b[34m[61]#011train-auc:0.72648#011validation-auc:0.72545\u001b[0m\n",
            "\u001b[34m[62]#011train-auc:0.72686#011validation-auc:0.72582\u001b[0m\n",
            "\u001b[34m[63]#011train-auc:0.72698#011validation-auc:0.72593\u001b[0m\n",
            "\u001b[34m[64]#011train-auc:0.72703#011validation-auc:0.72598\u001b[0m\n",
            "\u001b[34m[65]#011train-auc:0.72726#011validation-auc:0.72617\u001b[0m\n",
            "\u001b[34m[66]#011train-auc:0.72755#011validation-auc:0.72644\u001b[0m\n",
            "\u001b[34m[67]#011train-auc:0.72797#011validation-auc:0.72683\u001b[0m\n",
            "\u001b[34m[68]#011train-auc:0.72806#011validation-auc:0.72693\u001b[0m\n",
            "\u001b[34m[69]#011train-auc:0.72844#011validation-auc:0.72722\u001b[0m\n",
            "\u001b[34m[70]#011train-auc:0.72888#011validation-auc:0.72754\u001b[0m\n",
            "\u001b[34m[71]#011train-auc:0.72908#011validation-auc:0.72767\u001b[0m\n",
            "\u001b[34m[72]#011train-auc:0.72941#011validation-auc:0.72801\u001b[0m\n",
            "\u001b[34m[73]#011train-auc:0.72955#011validation-auc:0.72810\u001b[0m\n",
            "\u001b[34m[74]#011train-auc:0.72982#011validation-auc:0.72831\u001b[0m\n",
            "\u001b[34m[75]#011train-auc:0.72992#011validation-auc:0.72840\u001b[0m\n",
            "\u001b[34m[76]#011train-auc:0.73028#011validation-auc:0.72867\u001b[0m\n",
            "\u001b[34m[77]#011train-auc:0.73041#011validation-auc:0.72874\u001b[0m\n",
            "\u001b[34m[78]#011train-auc:0.73067#011validation-auc:0.72894\u001b[0m\n",
            "\u001b[34m[79]#011train-auc:0.73082#011validation-auc:0.72908\u001b[0m\n",
            "\u001b[34m[80]#011train-auc:0.73105#011validation-auc:0.72926\u001b[0m\n",
            "\u001b[34m[81]#011train-auc:0.73131#011validation-auc:0.72953\u001b[0m\n",
            "\u001b[34m[82]#011train-auc:0.73148#011validation-auc:0.72962\u001b[0m\n",
            "\u001b[34m[83]#011train-auc:0.73165#011validation-auc:0.72971\u001b[0m\n",
            "\u001b[34m[84]#011train-auc:0.73205#011validation-auc:0.73000\u001b[0m\n",
            "\u001b[34m[85]#011train-auc:0.73222#011validation-auc:0.73013\u001b[0m\n",
            "\u001b[34m[86]#011train-auc:0.73248#011validation-auc:0.73040\u001b[0m\n",
            "\u001b[34m[87]#011train-auc:0.73253#011validation-auc:0.73046\u001b[0m\n",
            "\u001b[34m[88]#011train-auc:0.73275#011validation-auc:0.73064\u001b[0m\n",
            "\u001b[34m[89]#011train-auc:0.73289#011validation-auc:0.73082\u001b[0m\n",
            "\u001b[34m[90]#011train-auc:0.73293#011validation-auc:0.73086\u001b[0m\n",
            "\u001b[34m[91]#011train-auc:0.73298#011validation-auc:0.73089\u001b[0m\n",
            "\u001b[34m[92]#011train-auc:0.73312#011validation-auc:0.73102\u001b[0m\n",
            "\u001b[34m[93]#011train-auc:0.73329#011validation-auc:0.73119\u001b[0m\n",
            "\u001b[34m[94]#011train-auc:0.73346#011validation-auc:0.73134\u001b[0m\n",
            "\u001b[34m[95]#011train-auc:0.73376#011validation-auc:0.73158\u001b[0m\n",
            "\u001b[34m[96]#011train-auc:0.73397#011validation-auc:0.73173\u001b[0m\n",
            "\u001b[34m[97]#011train-auc:0.73412#011validation-auc:0.73189\u001b[0m\n",
            "\u001b[34m[98]#011train-auc:0.73434#011validation-auc:0.73206\u001b[0m\n",
            "\u001b[34m[99]#011train-auc:0.73436#011validation-auc:0.73207\u001b[0m\n",
            "\n",
            "2022-04-17 08:19:55 Uploading - Uploading generated training model\n",
            "2022-04-17 08:19:55 Completed - Training job completed\n",
            "Training seconds: 470\n",
            "Billable seconds: 470\n"
          ]
        }
      ],
      "source": [
        "sess = sagemaker.Session()\n",
        "s3_output_location=\"s3://{}/{}/output/\".format(bucket,prefix)\n",
        "\n",
        "xgb = sagemaker.estimator.Estimator(container,\n",
        "                                    role = sagemaker.get_execution_role(), \n",
        "                                    instance_count=1, \n",
        "                                    instance_type=instance_type,\n",
        "                                    output_path=s3_output_location,\n",
        "                                    sagemaker_session=sess)\n",
        "xgb.set_hyperparameters(max_depth=5,\n",
        "                        eta=0.2,\n",
        "                        gamma=4,\n",
        "                        min_child_weight=6,\n",
        "                        subsample=0.8,\n",
        "                        silent=0,\n",
        "                        objective='binary:logistic',\n",
        "                        eval_metric = \"auc\", \n",
        "                        num_round=100)\n",
        "\n",
        "xgb.fit(inputs=data_channels)"
      ]
    },
    {
      "cell_type": "markdown",
      "metadata": {
        "id": "ByYghkJEV__T"
      },
      "source": [
        "Use the batch transformer for your new model, and evaluate the model on the test dataset."
      ]
    },
    {
      "cell_type": "code",
      "execution_count": null,
      "metadata": {
        "id": "LQCSy1DUV__U"
      },
      "outputs": [],
      "source": [
        "batch_X = test.iloc[:,1:];\n",
        "batch_X_file='batch-in.csv'\n",
        "upload_s3_csv(batch_X_file, 'batch-in', batch_X)"
      ]
    },
    {
      "cell_type": "code",
      "execution_count": null,
      "metadata": {
        "id": "7xC11uiXV__U",
        "outputId": "cb55b3e0-03ba-49eb-ca77-0f5846f4d023"
      },
      "outputs": [
        {
          "name": "stdout",
          "output_type": "stream",
          "text": [
            "................................\u001b[34m[2022-04-17:08:26:11:INFO] No GPUs detected (normal if no gpus installed)\u001b[0m\n",
            "\u001b[34m[2022-04-17:08:26:11:INFO] No GPUs detected (normal if no gpus installed)\u001b[0m\n",
            "\u001b[34m[2022-04-17:08:26:11:INFO] nginx config: \u001b[0m\n",
            "\u001b[34mworker_processes auto;\u001b[0m\n",
            "\u001b[34mdaemon off;\u001b[0m\n",
            "\u001b[34mpid /tmp/nginx.pid;\u001b[0m\n",
            "\u001b[34merror_log  /dev/stderr;\u001b[0m\n",
            "\u001b[34mworker_rlimit_nofile 4096;\u001b[0m\n",
            "\u001b[34mevents {\n",
            "  worker_connections 2048;\u001b[0m\n",
            "\u001b[34m}\u001b[0m\n",
            "\u001b[34mhttp {\n",
            "  include /etc/nginx/mime.types;\n",
            "  default_type application/octet-stream;\n",
            "  access_log /dev/stdout combined;\n",
            "  upstream gunicorn {\n",
            "    server unix:/tmp/gunicorn.sock;\n",
            "  }\n",
            "  server {\n",
            "    listen 8080 deferred;\n",
            "    client_max_body_size 0;\n",
            "    keepalive_timeout 3;\n",
            "    location ~ ^/(ping|invocations|execution-parameters) {\n",
            "      proxy_set_header X-Forwarded-For $proxy_add_x_forwarded_for;\n",
            "      proxy_set_header Host $http_host;\n",
            "      proxy_redirect off;\n",
            "      proxy_read_timeout 60s;\n",
            "      proxy_pass http://gunicorn;\n",
            "    }\n",
            "    location / {\n",
            "      return 404 \"{}\";\n",
            "    }\n",
            "  }\u001b[0m\n",
            "\u001b[34m}\u001b[0m\n",
            "\u001b[34m[2022-04-17 08:26:11 +0000] [18] [INFO] Starting gunicorn 19.10.0\u001b[0m\n",
            "\u001b[34m[2022-04-17 08:26:11 +0000] [18] [INFO] Listening at: unix:/tmp/gunicorn.sock (18)\u001b[0m\n",
            "\u001b[34m[2022-04-17 08:26:11 +0000] [18] [INFO] Using worker: gevent\u001b[0m\n",
            "\u001b[34m[2022-04-17 08:26:11 +0000] [25] [INFO] Booting worker with pid: 25\u001b[0m\n",
            "\u001b[34m[2022-04-17 08:26:11 +0000] [26] [INFO] Booting worker with pid: 26\u001b[0m\n",
            "\u001b[34m[2022-04-17 08:26:11 +0000] [27] [INFO] Booting worker with pid: 27\u001b[0m\n",
            "\u001b[34m[2022-04-17 08:26:11 +0000] [28] [INFO] Booting worker with pid: 28\u001b[0m\n",
            "\u001b[34m[2022-04-17:08:26:18:INFO] No GPUs detected (normal if no gpus installed)\u001b[0m\n",
            "\u001b[34m169.254.255.130 - - [17/Apr/2022:08:26:18 +0000] \"GET /ping HTTP/1.1\" 200 0 \"-\" \"Go-http-client/1.1\"\u001b[0m\n",
            "\u001b[34m169.254.255.130 - - [17/Apr/2022:08:26:18 +0000] \"GET /execution-parameters HTTP/1.1\" 200 84 \"-\" \"Go-http-client/1.1\"\u001b[0m\n",
            "\n",
            "\u001b[34m[2022-04-17:08:26:18:INFO] No GPUs detected (normal if no gpus installed)\u001b[0m\n",
            "\u001b[34m[2022-04-17:08:26:18:INFO] Determined delimiter of CSV input is ','\u001b[0m\n",
            "\u001b[34m[2022-04-17:08:26:18:INFO] No GPUs detected (normal if no gpus installed)\u001b[0m\n",
            "\u001b[34m[2022-04-17:08:26:19:INFO] Determined delimiter of CSV input is ','\u001b[0m\n",
            "\u001b[35m[2022-04-17:08:26:18:INFO] No GPUs detected (normal if no gpus installed)\u001b[0m\n",
            "\u001b[35m[2022-04-17:08:26:18:INFO] Determined delimiter of CSV input is ','\u001b[0m\n",
            "\u001b[35m[2022-04-17:08:26:18:INFO] No GPUs detected (normal if no gpus installed)\u001b[0m\n",
            "\u001b[35m[2022-04-17:08:26:19:INFO] Determined delimiter of CSV input is ','\u001b[0m\n",
            "\u001b[32m2022-04-17T08:26:18.039:[sagemaker logs]: MaxConcurrentTransforms=4, MaxPayloadInMB=6, BatchStrategy=MULTI_RECORD\u001b[0m\n",
            "\u001b[34m[2022-04-17:08:26:19:INFO] Determined delimiter of CSV input is ','\u001b[0m\n",
            "\u001b[34m[2022-04-17:08:26:19:INFO] No GPUs detected (normal if no gpus installed)\u001b[0m\n",
            "\u001b[35m[2022-04-17:08:26:19:INFO] Determined delimiter of CSV input is ','\u001b[0m\n",
            "\u001b[35m[2022-04-17:08:26:19:INFO] No GPUs detected (normal if no gpus installed)\u001b[0m\n",
            "\u001b[34m[2022-04-17:08:26:19:INFO] Determined delimiter of CSV input is ','\u001b[0m\n",
            "\u001b[35m[2022-04-17:08:26:19:INFO] Determined delimiter of CSV input is ','\u001b[0m\n",
            "\u001b[34m169.254.255.130 - - [17/Apr/2022:08:26:22 +0000] \"POST /invocations HTTP/1.1\" 200 652726 \"-\" \"Go-http-client/1.1\"\u001b[0m\n",
            "\u001b[34m169.254.255.130 - - [17/Apr/2022:08:26:22 +0000] \"POST /invocations HTTP/1.1\" 200 652666 \"-\" \"Go-http-client/1.1\"\u001b[0m\n",
            "\u001b[34m169.254.255.130 - - [17/Apr/2022:08:26:22 +0000] \"POST /invocations HTTP/1.1\" 200 652727 \"-\" \"Go-http-client/1.1\"\u001b[0m\n",
            "\u001b[34m169.254.255.130 - - [17/Apr/2022:08:26:22 +0000] \"POST /invocations HTTP/1.1\" 200 652608 \"-\" \"Go-http-client/1.1\"\u001b[0m\n",
            "\u001b[34m[2022-04-17:08:26:22:INFO] Determined delimiter of CSV input is ','\u001b[0m\n",
            "\u001b[35m169.254.255.130 - - [17/Apr/2022:08:26:22 +0000] \"POST /invocations HTTP/1.1\" 200 652726 \"-\" \"Go-http-client/1.1\"\u001b[0m\n",
            "\u001b[35m169.254.255.130 - - [17/Apr/2022:08:26:22 +0000] \"POST /invocations HTTP/1.1\" 200 652666 \"-\" \"Go-http-client/1.1\"\u001b[0m\n",
            "\u001b[35m169.254.255.130 - - [17/Apr/2022:08:26:22 +0000] \"POST /invocations HTTP/1.1\" 200 652727 \"-\" \"Go-http-client/1.1\"\u001b[0m\n",
            "\u001b[35m169.254.255.130 - - [17/Apr/2022:08:26:22 +0000] \"POST /invocations HTTP/1.1\" 200 652608 \"-\" \"Go-http-client/1.1\"\u001b[0m\n",
            "\u001b[35m[2022-04-17:08:26:22:INFO] Determined delimiter of CSV input is ','\u001b[0m\n",
            "\u001b[34m169.254.255.130 - - [17/Apr/2022:08:26:24 +0000] \"POST /invocations HTTP/1.1\" 200 602453 \"-\" \"Go-http-client/1.1\"\u001b[0m\n",
            "\u001b[35m169.254.255.130 - - [17/Apr/2022:08:26:24 +0000] \"POST /invocations HTTP/1.1\" 200 602453 \"-\" \"Go-http-client/1.1\"\u001b[0m\n",
            "\u001b[34m[2022-04-17:08:26:11:INFO] No GPUs detected (normal if no gpus installed)\u001b[0m\n",
            "\u001b[34m[2022-04-17:08:26:11:INFO] No GPUs detected (normal if no gpus installed)\u001b[0m\n",
            "\u001b[34m[2022-04-17:08:26:11:INFO] nginx config: \u001b[0m\n",
            "\u001b[34mworker_processes auto;\u001b[0m\n",
            "\u001b[34mdaemon off;\u001b[0m\n",
            "\u001b[34mpid /tmp/nginx.pid;\u001b[0m\n",
            "\u001b[35m[2022-04-17:08:26:11:INFO] No GPUs detected (normal if no gpus installed)\u001b[0m\n",
            "\u001b[35m[2022-04-17:08:26:11:INFO] No GPUs detected (normal if no gpus installed)\u001b[0m\n",
            "\u001b[35m[2022-04-17:08:26:11:INFO] nginx config: \u001b[0m\n",
            "\u001b[35mworker_processes auto;\u001b[0m\n",
            "\u001b[35mdaemon off;\u001b[0m\n",
            "\u001b[35mpid /tmp/nginx.pid;\u001b[0m\n",
            "\u001b[34merror_log  /dev/stderr;\u001b[0m\n",
            "\u001b[34mworker_rlimit_nofile 4096;\u001b[0m\n",
            "\u001b[34mevents {\n",
            "  worker_connections 2048;\u001b[0m\n",
            "\u001b[34m}\u001b[0m\n",
            "\u001b[34mhttp {\n",
            "  include /etc/nginx/mime.types;\n",
            "  default_type application/octet-stream;\n",
            "  access_log /dev/stdout combined;\n",
            "  upstream gunicorn {\n",
            "    server unix:/tmp/gunicorn.sock;\n",
            "  }\n",
            "  server {\n",
            "    listen 8080 deferred;\n",
            "    client_max_body_size 0;\n",
            "    keepalive_timeout 3;\n",
            "    location ~ ^/(ping|invocations|execution-parameters) {\n",
            "      proxy_set_header X-Forwarded-For $proxy_add_x_forwarded_for;\n",
            "      proxy_set_header Host $http_host;\n",
            "      proxy_redirect off;\n",
            "      proxy_read_timeout 60s;\n",
            "      proxy_pass http://gunicorn;\n",
            "    }\n",
            "    location / {\n",
            "      return 404 \"{}\";\n",
            "    }\n",
            "  }\u001b[0m\n",
            "\u001b[34m}\u001b[0m\n",
            "\u001b[34m[2022-04-17 08:26:11 +0000] [18] [INFO] Starting gunicorn 19.10.0\u001b[0m\n",
            "\u001b[34m[2022-04-17 08:26:11 +0000] [18] [INFO] Listening at: unix:/tmp/gunicorn.sock (18)\u001b[0m\n",
            "\u001b[34m[2022-04-17 08:26:11 +0000] [18] [INFO] Using worker: gevent\u001b[0m\n",
            "\u001b[34m[2022-04-17 08:26:11 +0000] [25] [INFO] Booting worker with pid: 25\u001b[0m\n",
            "\u001b[35merror_log  /dev/stderr;\u001b[0m\n",
            "\u001b[35mworker_rlimit_nofile 4096;\u001b[0m\n",
            "\u001b[35mevents {\n",
            "  worker_connections 2048;\u001b[0m\n",
            "\u001b[35m}\u001b[0m\n",
            "\u001b[35mhttp {\n",
            "  include /etc/nginx/mime.types;\n",
            "  default_type application/octet-stream;\n",
            "  access_log /dev/stdout combined;\n",
            "  upstream gunicorn {\n",
            "    server unix:/tmp/gunicorn.sock;\n",
            "  }\n",
            "  server {\n",
            "    listen 8080 deferred;\n",
            "    client_max_body_size 0;\n",
            "    keepalive_timeout 3;\n",
            "    location ~ ^/(ping|invocations|execution-parameters) {\n",
            "      proxy_set_header X-Forwarded-For $proxy_add_x_forwarded_for;\n",
            "      proxy_set_header Host $http_host;\n",
            "      proxy_redirect off;\n",
            "      proxy_read_timeout 60s;\n",
            "      proxy_pass http://gunicorn;\n",
            "    }\n",
            "    location / {\n",
            "      return 404 \"{}\";\n",
            "    }\n",
            "  }\u001b[0m\n",
            "\u001b[35m}\u001b[0m\n",
            "\u001b[35m[2022-04-17 08:26:11 +0000] [18] [INFO] Starting gunicorn 19.10.0\u001b[0m\n",
            "\u001b[35m[2022-04-17 08:26:11 +0000] [18] [INFO] Listening at: unix:/tmp/gunicorn.sock (18)\u001b[0m\n",
            "\u001b[35m[2022-04-17 08:26:11 +0000] [18] [INFO] Using worker: gevent\u001b[0m\n",
            "\u001b[35m[2022-04-17 08:26:11 +0000] [25] [INFO] Booting worker with pid: 25\u001b[0m\n",
            "\u001b[34m[2022-04-17 08:26:11 +0000] [26] [INFO] Booting worker with pid: 26\u001b[0m\n",
            "\u001b[34m[2022-04-17 08:26:11 +0000] [27] [INFO] Booting worker with pid: 27\u001b[0m\n",
            "\u001b[34m[2022-04-17 08:26:11 +0000] [28] [INFO] Booting worker with pid: 28\u001b[0m\n",
            "\u001b[35m[2022-04-17 08:26:11 +0000] [26] [INFO] Booting worker with pid: 26\u001b[0m\n",
            "\u001b[35m[2022-04-17 08:26:11 +0000] [27] [INFO] Booting worker with pid: 27\u001b[0m\n",
            "\u001b[35m[2022-04-17 08:26:11 +0000] [28] [INFO] Booting worker with pid: 28\u001b[0m\n",
            "\u001b[34m[2022-04-17:08:26:18:INFO] No GPUs detected (normal if no gpus installed)\u001b[0m\n",
            "\u001b[34m169.254.255.130 - - [17/Apr/2022:08:26:18 +0000] \"GET /ping HTTP/1.1\" 200 0 \"-\" \"Go-http-client/1.1\"\u001b[0m\n",
            "\u001b[34m169.254.255.130 - - [17/Apr/2022:08:26:18 +0000] \"GET /execution-parameters HTTP/1.1\" 200 84 \"-\" \"Go-http-client/1.1\"\u001b[0m\n",
            "\u001b[35m[2022-04-17:08:26:18:INFO] No GPUs detected (normal if no gpus installed)\u001b[0m\n",
            "\u001b[35m169.254.255.130 - - [17/Apr/2022:08:26:18 +0000] \"GET /ping HTTP/1.1\" 200 0 \"-\" \"Go-http-client/1.1\"\u001b[0m\n",
            "\u001b[35m169.254.255.130 - - [17/Apr/2022:08:26:18 +0000] \"GET /execution-parameters HTTP/1.1\" 200 84 \"-\" \"Go-http-client/1.1\"\u001b[0m\n",
            "\u001b[34m[2022-04-17:08:26:18:INFO] No GPUs detected (normal if no gpus installed)\u001b[0m\n",
            "\u001b[34m[2022-04-17:08:26:18:INFO] Determined delimiter of CSV input is ','\u001b[0m\n",
            "\u001b[34m[2022-04-17:08:26:18:INFO] No GPUs detected (normal if no gpus installed)\u001b[0m\n",
            "\u001b[34m[2022-04-17:08:26:19:INFO] Determined delimiter of CSV input is ','\u001b[0m\n",
            "\u001b[35m[2022-04-17:08:26:18:INFO] No GPUs detected (normal if no gpus installed)\u001b[0m\n",
            "\u001b[35m[2022-04-17:08:26:18:INFO] Determined delimiter of CSV input is ','\u001b[0m\n",
            "\u001b[35m[2022-04-17:08:26:18:INFO] No GPUs detected (normal if no gpus installed)\u001b[0m\n",
            "\u001b[35m[2022-04-17:08:26:19:INFO] Determined delimiter of CSV input is ','\u001b[0m\n",
            "\u001b[32m2022-04-17T08:26:18.039:[sagemaker logs]: MaxConcurrentTransforms=4, MaxPayloadInMB=6, BatchStrategy=MULTI_RECORD\u001b[0m\n",
            "\u001b[34m[2022-04-17:08:26:19:INFO] Determined delimiter of CSV input is ','\u001b[0m\n",
            "\u001b[34m[2022-04-17:08:26:19:INFO] No GPUs detected (normal if no gpus installed)\u001b[0m\n",
            "\u001b[35m[2022-04-17:08:26:19:INFO] Determined delimiter of CSV input is ','\u001b[0m\n",
            "\u001b[35m[2022-04-17:08:26:19:INFO] No GPUs detected (normal if no gpus installed)\u001b[0m\n",
            "\u001b[34m[2022-04-17:08:26:19:INFO] Determined delimiter of CSV input is ','\u001b[0m\n",
            "\u001b[35m[2022-04-17:08:26:19:INFO] Determined delimiter of CSV input is ','\u001b[0m\n",
            "\u001b[34m169.254.255.130 - - [17/Apr/2022:08:26:22 +0000] \"POST /invocations HTTP/1.1\" 200 652726 \"-\" \"Go-http-client/1.1\"\u001b[0m\n",
            "\u001b[34m169.254.255.130 - - [17/Apr/2022:08:26:22 +0000] \"POST /invocations HTTP/1.1\" 200 652666 \"-\" \"Go-http-client/1.1\"\u001b[0m\n",
            "\u001b[34m169.254.255.130 - - [17/Apr/2022:08:26:22 +0000] \"POST /invocations HTTP/1.1\" 200 652727 \"-\" \"Go-http-client/1.1\"\u001b[0m\n",
            "\u001b[34m169.254.255.130 - - [17/Apr/2022:08:26:22 +0000] \"POST /invocations HTTP/1.1\" 200 652608 \"-\" \"Go-http-client/1.1\"\u001b[0m\n",
            "\u001b[34m[2022-04-17:08:26:22:INFO] Determined delimiter of CSV input is ','\u001b[0m\n",
            "\u001b[35m169.254.255.130 - - [17/Apr/2022:08:26:22 +0000] \"POST /invocations HTTP/1.1\" 200 652726 \"-\" \"Go-http-client/1.1\"\u001b[0m\n",
            "\u001b[35m169.254.255.130 - - [17/Apr/2022:08:26:22 +0000] \"POST /invocations HTTP/1.1\" 200 652666 \"-\" \"Go-http-client/1.1\"\u001b[0m\n",
            "\u001b[35m169.254.255.130 - - [17/Apr/2022:08:26:22 +0000] \"POST /invocations HTTP/1.1\" 200 652727 \"-\" \"Go-http-client/1.1\"\u001b[0m\n",
            "\u001b[35m169.254.255.130 - - [17/Apr/2022:08:26:22 +0000] \"POST /invocations HTTP/1.1\" 200 652608 \"-\" \"Go-http-client/1.1\"\u001b[0m\n",
            "\u001b[35m[2022-04-17:08:26:22:INFO] Determined delimiter of CSV input is ','\u001b[0m\n",
            "\u001b[34m169.254.255.130 - - [17/Apr/2022:08:26:24 +0000] \"POST /invocations HTTP/1.1\" 200 602453 \"-\" \"Go-http-client/1.1\"\u001b[0m\n",
            "\u001b[35m169.254.255.130 - - [17/Apr/2022:08:26:24 +0000] \"POST /invocations HTTP/1.1\" 200 602453 \"-\" \"Go-http-client/1.1\"\u001b[0m\n"
          ]
        }
      ],
      "source": [
        "batch_output = \"s3://{}/{}/batch-out/\".format(bucket,prefix)\n",
        "batch_input = \"s3://{}/{}/batch-in/{}\".format(bucket,prefix,batch_X_file)\n",
        "\n",
        "xgb_transformer = xgb.transformer(instance_count=1,\n",
        "                                       instance_type=instance_type,\n",
        "                                       strategy='MultiRecord',\n",
        "                                       assemble_with='Line',\n",
        "                                       output_path=batch_output)\n",
        "\n",
        "xgb_transformer.transform(data=batch_input,\n",
        "                         data_type='S3Prefix',\n",
        "                         content_type='text/csv',\n",
        "                         split_type='Line')\n",
        "xgb_transformer.wait()"
      ]
    },
    {
      "cell_type": "markdown",
      "metadata": {
        "id": "W0kfLMxQV__U"
      },
      "source": [
        "Get the predicted target and test labels."
      ]
    },
    {
      "cell_type": "code",
      "execution_count": null,
      "metadata": {
        "id": "8JoW1lXmV__U"
      },
      "outputs": [],
      "source": [
        "s3 = boto3.client('s3')\n",
        "obj = s3.get_object(Bucket=bucket, Key=\"{}/batch-out/{}\".format(prefix,'batch-in.csv.out'))\n",
        "target_predicted = pd.read_csv(io.BytesIO(obj['Body'].read()),',',names=['target'])\n",
        "test_labels = test.iloc[:,0]"
      ]
    },
    {
      "cell_type": "markdown",
      "metadata": {
        "id": "shg6AgXvV__U"
      },
      "source": [
        "Calculate the predicted values based on the defined threshold.\n",
        "\n",
        "**Note:** The predicted target will be a score, which must be converted to a binary class."
      ]
    },
    {
      "cell_type": "code",
      "execution_count": null,
      "metadata": {
        "id": "-MNzoFtiV__V",
        "outputId": "f8d1b746-406c-48aa-b2e6-2bd412cb01f1"
      },
      "outputs": [
        {
          "name": "stdout",
          "output_type": "stream",
          "text": [
            "     target\n",
            "0  0.166523\n",
            "1  0.151316\n",
            "2  0.237020\n",
            "3  0.118880\n",
            "4  0.224436\n",
            "   target\n",
            "0       0\n",
            "1       0\n",
            "2       0\n",
            "3       0\n",
            "4       0\n"
          ]
        }
      ],
      "source": [
        "print(target_predicted.head())\n",
        "\n",
        "def binary_convert(x):\n",
        "    threshold = 0.55\n",
        "    if x > threshold:\n",
        "        return 1\n",
        "    else:\n",
        "        return 0\n",
        "\n",
        "target_predicted['target'] = target_predicted['target'].apply(binary_convert)\n",
        "\n",
        "test_labels = test.iloc[:,0]\n",
        "\n",
        "print(target_predicted.head())"
      ]
    },
    {
      "cell_type": "markdown",
      "metadata": {
        "id": "MCy8SJtDV__V"
      },
      "source": [
        "Plot a confusion matrix for your `target_predicted` and `test_labels`."
      ]
    },
    {
      "cell_type": "code",
      "execution_count": null,
      "metadata": {
        "id": "Kqn1PILcV__V",
        "outputId": "f19687a5-3446-462c-aa8d-36bd95f7c76d"
      },
      "outputs": [
        {
          "data": {
            "image/png": "[encoded data removed]",
            "text/plain": [
              "<Figure size 432x288 with 1 Axes>"
            ]
          },
          "metadata": {
            "needs_background": "light"
          },
          "output_type": "display_data"
        }
      ],
      "source": [
        "# add code for Plot a confusion matrix \n",
        "plot_confusion_matrix(test_labels , target_predicted)"
      ]
    },
    {
      "cell_type": "markdown",
      "metadata": {
        "id": "UdhkpjM4V__V"
      },
      "source": [
        "Plot the ROC chart:"
      ]
    },
    {
      "cell_type": "code",
      "execution_count": null,
      "metadata": {
        "id": "FJv-BtXrV__W",
        "outputId": "e2e2e1f9-2ad4-454e-e2a7-80b7cc6fcb69"
      },
      "outputs": [
        {
          "name": "stdout",
          "output_type": "stream",
          "text": [
            "Sensitivity or TPR:  10.086505694230041 %\n",
            "Specificity or TNR:  98.90037608530791 %\n",
            "Precision:  70.9049959049959 %\n",
            "Negative Predictive Value:  80.545139435954 %\n",
            "False Positive Rate:  1.0996239146920899 %\n",
            "False Negative Rate:  89.91349430576996 %\n",
            "False Discovery Rate:  29.095004095004096 %\n",
            "Accuracy:  80.25727719049395 %\n",
            "Validation AUC 0.5449344088976897\n",
            "Figure(432x288)\n"
          ]
        },
        {
          "data": {
            "image/png": "[encoded data removed]",
            "text/plain": [
              "<Figure size 432x288 with 2 Axes>"
            ]
          },
          "metadata": {
            "needs_background": "light"
          },
          "output_type": "display_data"
        },
        {
          "data": {
            "text/plain": [
              "<Figure size 432x288 with 0 Axes>"
            ]
          },
          "metadata": {},
          "output_type": "display_data"
        }
      ],
      "source": [
        "# Plot the ROC chart\n",
        "plot_roc(test_labels,target_predicted)"
      ]
    },
    {
      "cell_type": "markdown",
      "metadata": {
        "id": "fylKde81V__W"
      },
      "source": [
        "### Try different thresholds"
      ]
    },
    {
      "cell_type": "markdown",
      "metadata": {
        "id": "RaNjreHeV__X"
      },
      "source": [
        "**Question**: Based on how well the model handled the test set, what can you conclude?"
      ]
    },
    {
      "cell_type": "code",
      "execution_count": null,
      "metadata": {
        "id": "eI-Q0gBCV__X"
      },
      "outputs": [],
      "source": [
        "#It can be concluded that the test set has increased Accuracy to 80.25727719049395 % **"
      ]
    },
    {
      "cell_type": "markdown",
      "metadata": {
        "id": "dTULQc_9V__X"
      },
      "source": [
        "### Hyperparameter optimization (HPO)"
      ]
    },
    {
      "cell_type": "code",
      "execution_count": null,
      "metadata": {
        "id": "kE0Hay5FV__Y"
      },
      "outputs": [],
      "source": [
        "from sagemaker.tuner import IntegerParameter, CategoricalParameter, ContinuousParameter, HyperparameterTuner\n",
        "\n",
        "### You can spin up multiple instances to do hyperparameter optimization in parallel\n",
        "\n",
        "xgb = sagemaker.estimator.Estimator(container,\n",
        "                                    role=sagemaker.get_execution_role(), \n",
        "                                    instance_count= 1, # make sure you have a limit set for these instances\n",
        "                                    instance_type=instance_type, \n",
        "                                    output_path='s3://{}/{}/output'.format(bucket, prefix),\n",
        "                                    sagemaker_session=sess)\n",
        "\n",
        "xgb.set_hyperparameters(eval_metric='auc',\n",
        "                        objective='binary:logistic',\n",
        "                        num_round=100,\n",
        "                        rate_drop=0.3,\n",
        "                        tweedie_variance_power=1.4)\n",
        "\n",
        "hyperparameter_ranges = {'alpha': ContinuousParameter(0, 1000, scaling_type='Linear'),\n",
        "                         'eta': ContinuousParameter(0.1, 0.5, scaling_type='Linear'),\n",
        "                         'min_child_weight': ContinuousParameter(3, 10, scaling_type='Linear'),\n",
        "                         'subsample': ContinuousParameter(0.5, 1),\n",
        "                         'num_round': IntegerParameter(10,150)}\n",
        "\n",
        "objective_metric_name = 'validation:auc'\n",
        "\n",
        "tuner = HyperparameterTuner(xgb,\n",
        "                            objective_metric_name,\n",
        "                            hyperparameter_ranges,\n",
        "                            max_jobs=10, # Set this to 10 or above depending upon budget and available time.\n",
        "                            max_parallel_jobs=1)"
      ]
    },
    {
      "cell_type": "code",
      "execution_count": null,
      "metadata": {
        "id": "7kdjrOX2V__Y",
        "outputId": "cef5e247-eb80-4af1-c29b-5a98f7c5591e"
      },
      "outputs": [
        {
          "name": "stdout",
          "output_type": "stream",
          "text": [
            ".........................................................................................................................................................................................................................................................................................................................................................................................................................................................................................................................................................................................................................................................................................................................................................................................................................................................................................................................................................................................................................................................................................................................................................................................................................................................................................!\n",
            "!\n"
          ]
        }
      ],
      "source": [
        "tuner.fit(inputs=data_channels)\n",
        "tuner.wait()"
      ]
    },
    {
      "cell_type": "markdown",
      "metadata": {
        "id": "VV-VHT25V__Z"
      },
      "source": [
        "<i class=\"fas fa-exclamation-triangle\" style=\"color:red\"></i> Wait until the training job is finished. It might take 25-30 minutes.\n",
        "\n",
        "**To monitor hyperparameter optimization jobs:**  \n",
        "\n",
        "1. In the AWS Management Console, on the **Services** menu, choose **Amazon SageMaker**.  \n",
        "2. Choose **Training > Hyperparameter tuning jobs**.\n",
        "3. You can check the status of each hyperparameter tuning job, its objective metric value, and its logs.  "
      ]
    },
    {
      "cell_type": "markdown",
      "metadata": {
        "id": "wWl322qiV__Z"
      },
      "source": [
        "Check that the job completed successfully."
      ]
    },
    {
      "cell_type": "code",
      "execution_count": null,
      "metadata": {
        "id": "uTBvxDELV__a",
        "outputId": "c0e814b7-aa88-432c-ac4c-50e12b6aa946"
      },
      "outputs": [
        {
          "data": {
            "text/plain": [
              "'Completed'"
            ]
          },
          "execution_count": 104,
          "metadata": {},
          "output_type": "execute_result"
        }
      ],
      "source": [
        "boto3.client('sagemaker').describe_hyper_parameter_tuning_job(\n",
        "    HyperParameterTuningJobName=tuner.latest_tuning_job.job_name)['HyperParameterTuningJobStatus']"
      ]
    },
    {
      "cell_type": "markdown",
      "metadata": {
        "id": "xd3zqUGeV__e"
      },
      "source": [
        "The hyperparameter tuning job will have a model that worked the best. You can get the information about that model from the tuning job."
      ]
    },
    {
      "cell_type": "code",
      "execution_count": null,
      "metadata": {
        "id": "SFv4MOu7V__e",
        "outputId": "7d959506-a5d1-4c91-a02b-2bedbaed7e73"
      },
      "outputs": [
        {
          "name": "stdout",
          "output_type": "stream",
          "text": [
            "tuning job name:sagemaker-xgboost-220417-0829\n",
            "best training job: sagemaker-xgboost-220417-0829-010-b07a1f8d\n",
            "\n",
            "2022-04-17 10:13:15 Starting - Preparing the instances for training\n",
            "2022-04-17 10:13:15 Downloading - Downloading input data\n",
            "2022-04-17 10:13:15 Training - Training image download completed. Training in progress.\n",
            "2022-04-17 10:13:15 Uploading - Uploading generated training model\n",
            "2022-04-17 10:13:15 Completed - Training job completed\n"
          ]
        },
        {
          "data": {
            "text/html": [
              "<div>\n",
              "<style scoped>\n",
              "    .dataframe tbody tr th:only-of-type {\n",
              "        vertical-align: middle;\n",
              "    }\n",
              "\n",
              "    .dataframe tbody tr th {\n",
              "        vertical-align: top;\n",
              "    }\n",
              "\n",
              "    .dataframe thead th {\n",
              "        text-align: right;\n",
              "    }\n",
              "</style>\n",
              "<table border=\"1\" class=\"dataframe\">\n",
              "  <thead>\n",
              "    <tr style=\"text-align: right;\">\n",
              "      <th></th>\n",
              "      <th>alpha</th>\n",
              "      <th>eta</th>\n",
              "      <th>min_child_weight</th>\n",
              "      <th>num_round</th>\n",
              "      <th>subsample</th>\n",
              "      <th>TrainingJobName</th>\n",
              "      <th>TrainingJobStatus</th>\n",
              "      <th>FinalObjectiveValue</th>\n",
              "      <th>TrainingStartTime</th>\n",
              "      <th>TrainingEndTime</th>\n",
              "      <th>TrainingElapsedTimeSeconds</th>\n",
              "    </tr>\n",
              "  </thead>\n",
              "  <tbody>\n",
              "    <tr>\n",
              "      <th>0</th>\n",
              "      <td>49.538125</td>\n",
              "      <td>0.444603</td>\n",
              "      <td>7.556329</td>\n",
              "      <td>120.0</td>\n",
              "      <td>0.933467</td>\n",
              "      <td>sagemaker-xgboost-220417-0829-010-b07a1f8d</td>\n",
              "      <td>Completed</td>\n",
              "      <td>0.74635</td>\n",
              "      <td>2022-04-17 10:04:13+00:00</td>\n",
              "      <td>2022-04-17 10:13:15+00:00</td>\n",
              "      <td>542.0</td>\n",
              "    </tr>\n",
              "    <tr>\n",
              "      <th>1</th>\n",
              "      <td>49.538125</td>\n",
              "      <td>0.452603</td>\n",
              "      <td>7.416329</td>\n",
              "      <td>122.0</td>\n",
              "      <td>0.943467</td>\n",
              "      <td>sagemaker-xgboost-220417-0829-009-e49dee36</td>\n",
              "      <td>Completed</td>\n",
              "      <td>0.74628</td>\n",
              "      <td>2022-04-17 09:52:33+00:00</td>\n",
              "      <td>2022-04-17 10:00:42+00:00</td>\n",
              "      <td>489.0</td>\n",
              "    </tr>\n",
              "    <tr>\n",
              "      <th>2</th>\n",
              "      <td>360.725869</td>\n",
              "      <td>0.486803</td>\n",
              "      <td>5.296838</td>\n",
              "      <td>116.0</td>\n",
              "      <td>0.996703</td>\n",
              "      <td>sagemaker-xgboost-220417-0829-008-122d8927</td>\n",
              "      <td>Completed</td>\n",
              "      <td>0.72751</td>\n",
              "      <td>2022-04-17 09:42:26+00:00</td>\n",
              "      <td>2022-04-17 09:49:04+00:00</td>\n",
              "      <td>398.0</td>\n",
              "    </tr>\n",
              "    <tr>\n",
              "      <th>3</th>\n",
              "      <td>380.725869</td>\n",
              "      <td>0.494803</td>\n",
              "      <td>5.156838</td>\n",
              "      <td>118.0</td>\n",
              "      <td>1.000000</td>\n",
              "      <td>sagemaker-xgboost-220417-0829-007-ab6497d2</td>\n",
              "      <td>Completed</td>\n",
              "      <td>0.72711</td>\n",
              "      <td>2022-04-17 09:33:15+00:00</td>\n",
              "      <td>2022-04-17 09:39:51+00:00</td>\n",
              "      <td>396.0</td>\n",
              "    </tr>\n",
              "    <tr>\n",
              "      <th>4</th>\n",
              "      <td>508.991250</td>\n",
              "      <td>0.426822</td>\n",
              "      <td>7.761407</td>\n",
              "      <td>126.0</td>\n",
              "      <td>0.868272</td>\n",
              "      <td>sagemaker-xgboost-220417-0829-006-a19c4635</td>\n",
              "      <td>Completed</td>\n",
              "      <td>0.72353</td>\n",
              "      <td>2022-04-17 09:22:28+00:00</td>\n",
              "      <td>2022-04-17 09:30:07+00:00</td>\n",
              "      <td>459.0</td>\n",
              "    </tr>\n",
              "  </tbody>\n",
              "</table>\n",
              "</div>"
            ],
            "text/plain": [
              "        alpha       eta  min_child_weight  num_round  subsample  \\\n",
              "0   49.538125  0.444603          7.556329      120.0   0.933467   \n",
              "1   49.538125  0.452603          7.416329      122.0   0.943467   \n",
              "2  360.725869  0.486803          5.296838      116.0   0.996703   \n",
              "3  380.725869  0.494803          5.156838      118.0   1.000000   \n",
              "4  508.991250  0.426822          7.761407      126.0   0.868272   \n",
              "\n",
              "                              TrainingJobName TrainingJobStatus  \\\n",
              "0  sagemaker-xgboost-220417-0829-010-b07a1f8d         Completed   \n",
              "1  sagemaker-xgboost-220417-0829-009-e49dee36         Completed   \n",
              "2  sagemaker-xgboost-220417-0829-008-122d8927         Completed   \n",
              "3  sagemaker-xgboost-220417-0829-007-ab6497d2         Completed   \n",
              "4  sagemaker-xgboost-220417-0829-006-a19c4635         Completed   \n",
              "\n",
              "   FinalObjectiveValue         TrainingStartTime           TrainingEndTime  \\\n",
              "0              0.74635 2022-04-17 10:04:13+00:00 2022-04-17 10:13:15+00:00   \n",
              "1              0.74628 2022-04-17 09:52:33+00:00 2022-04-17 10:00:42+00:00   \n",
              "2              0.72751 2022-04-17 09:42:26+00:00 2022-04-17 09:49:04+00:00   \n",
              "3              0.72711 2022-04-17 09:33:15+00:00 2022-04-17 09:39:51+00:00   \n",
              "4              0.72353 2022-04-17 09:22:28+00:00 2022-04-17 09:30:07+00:00   \n",
              "\n",
              "   TrainingElapsedTimeSeconds  \n",
              "0                       542.0  \n",
              "1                       489.0  \n",
              "2                       398.0  \n",
              "3                       396.0  \n",
              "4                       459.0  "
            ]
          },
          "execution_count": 105,
          "metadata": {},
          "output_type": "execute_result"
        }
      ],
      "source": [
        "sage_client = boto3.Session().client('sagemaker')\n",
        "tuning_job_name = tuner.latest_tuning_job.job_name\n",
        "print(f'tuning job name:{tuning_job_name}')\n",
        "tuning_job_result = sage_client.describe_hyper_parameter_tuning_job(HyperParameterTuningJobName=tuning_job_name)\n",
        "best_training_job = tuning_job_result['BestTrainingJob']\n",
        "best_training_job_name = best_training_job['TrainingJobName']\n",
        "print(f\"best training job: {best_training_job_name}\")\n",
        "\n",
        "best_estimator = tuner.best_estimator()\n",
        "\n",
        "tuner_df = sagemaker.HyperparameterTuningJobAnalytics(tuning_job_name).dataframe()\n",
        "tuner_df.head()"
      ]
    },
    {
      "cell_type": "markdown",
      "metadata": {
        "id": "blyc7tfXV__f"
      },
      "source": [
        "Use the estimator `best_estimator` and train it by using the data. \n",
        "\n",
        "**Tip:** See the previous XGBoost estimator fit function."
      ]
    },
    {
      "cell_type": "code",
      "execution_count": null,
      "metadata": {
        "id": "yageFnt0V__f",
        "outputId": "b08b6d29-e1d3-4a66-cd4a-ce08eaab9a0e"
      },
      "outputs": [
        {
          "name": "stdout",
          "output_type": "stream",
          "text": [
            "2022-04-17 10:23:42 Starting - Starting the training job...ProfilerReport-1650191021: InProgress\n",
            "...\n",
            "2022-04-17 10:24:25 Starting - Preparing the instances for training......\n",
            "2022-04-17 10:25:35 Downloading - Downloading input data......\n",
            "2022-04-17 10:26:26 Training - Downloading the training image...\n",
            "2022-04-17 10:27:07 Training - Training image download completed. Training in progress..\u001b[34mINFO:sagemaker-containers:Imported framework sagemaker_xgboost_container.training\u001b[0m\n",
            "\u001b[34mINFO:sagemaker-containers:Failed to parse hyperparameter _tuning_objective_metric value validation:auc to Json.\u001b[0m\n",
            "\u001b[34mReturning the value itself\u001b[0m\n",
            "\u001b[34mINFO:sagemaker-containers:Failed to parse hyperparameter eval_metric value auc to Json.\u001b[0m\n",
            "\u001b[34mReturning the value itself\u001b[0m\n",
            "\u001b[34mINFO:sagemaker-containers:Failed to parse hyperparameter objective value binary:logistic to Json.\u001b[0m\n",
            "\u001b[34mReturning the value itself\u001b[0m\n",
            "\u001b[34mINFO:sagemaker-containers:No GPUs detected (normal if no gpus installed)\u001b[0m\n",
            "\u001b[34mINFO:sagemaker_xgboost_container.training:Running XGBoost Sagemaker in algorithm mode\u001b[0m\n",
            "\u001b[34mINFO:root:Determined delimiter of CSV input is ','\u001b[0m\n",
            "\u001b[34mINFO:root:Determined delimiter of CSV input is ','\u001b[0m\n",
            "\u001b[34mINFO:root:Determined delimiter of CSV input is ','\u001b[0m\n",
            "\u001b[34m[10:27:18] 1308472x85 matrix with 111220120 entries loaded from /opt/ml/input/data/train?format=csv&label_column=0&delimiter=,\u001b[0m\n",
            "\u001b[34mINFO:root:Determined delimiter of CSV input is ','\u001b[0m\n",
            "\u001b[34m[10:27:19] 163559x85 matrix with 13902515 entries loaded from /opt/ml/input/data/validation?format=csv&label_column=0&delimiter=,\u001b[0m\n",
            "\u001b[34mINFO:root:Single node training.\u001b[0m\n",
            "\u001b[34mINFO:root:Setting up HPO optimized metric to be : auc\u001b[0m\n",
            "\u001b[34mINFO:root:Train matrix has 1308472 rows\u001b[0m\n",
            "\u001b[34mINFO:root:Validation matrix has 163559 rows\u001b[0m\n",
            "\u001b[34m[0]#011train-auc:0.66127#011validation-auc:0.66191\u001b[0m\n",
            "\u001b[34m[1]#011train-auc:0.67731#011validation-auc:0.67746\u001b[0m\n",
            "\u001b[34m[2]#011train-auc:0.68335#011validation-auc:0.68392\u001b[0m\n",
            "\u001b[34m[3]#011train-auc:0.68807#011validation-auc:0.68851\u001b[0m\n",
            "\u001b[34m[4]#011train-auc:0.69244#011validation-auc:0.69291\u001b[0m\n",
            "\u001b[34m[5]#011train-auc:0.69734#011validation-auc:0.69756\u001b[0m\n",
            "\u001b[34m[6]#011train-auc:0.70019#011validation-auc:0.70001\u001b[0m\n",
            "\u001b[34m[7]#011train-auc:0.70361#011validation-auc:0.70339\u001b[0m\n",
            "\u001b[34m[8]#011train-auc:0.70631#011validation-auc:0.70601\u001b[0m\n",
            "\u001b[34m[9]#011train-auc:0.70882#011validation-auc:0.70828\u001b[0m\n",
            "\u001b[34m[10]#011train-auc:0.71122#011validation-auc:0.71066\u001b[0m\n",
            "\u001b[34m[11]#011train-auc:0.71280#011validation-auc:0.71214\u001b[0m\n",
            "\u001b[34m[12]#011train-auc:0.71461#011validation-auc:0.71388\u001b[0m\n",
            "\u001b[34m[13]#011train-auc:0.71613#011validation-auc:0.71534\u001b[0m\n",
            "\u001b[34m[14]#011train-auc:0.71699#011validation-auc:0.71601\u001b[0m\n",
            "\u001b[34m[15]#011train-auc:0.71979#011validation-auc:0.71863\u001b[0m\n",
            "\u001b[34m[16]#011train-auc:0.72089#011validation-auc:0.71964\u001b[0m\n",
            "\u001b[34m[17]#011train-auc:0.72149#011validation-auc:0.72009\u001b[0m\n",
            "\u001b[34m[18]#011train-auc:0.72228#011validation-auc:0.72088\u001b[0m\n",
            "\u001b[34m[19]#011train-auc:0.72343#011validation-auc:0.72203\u001b[0m\n",
            "\u001b[34m[20]#011train-auc:0.72442#011validation-auc:0.72294\u001b[0m\n",
            "\u001b[34m[21]#011train-auc:0.72528#011validation-auc:0.72371\u001b[0m\n",
            "\u001b[34m[22]#011train-auc:0.72603#011validation-auc:0.72446\u001b[0m\n",
            "\u001b[34m[23]#011train-auc:0.72641#011validation-auc:0.72485\u001b[0m\n",
            "\u001b[34m[24]#011train-auc:0.72717#011validation-auc:0.72560\u001b[0m\n",
            "\u001b[34m[25]#011train-auc:0.72755#011validation-auc:0.72597\u001b[0m\n",
            "\u001b[34m[26]#011train-auc:0.72810#011validation-auc:0.72652\u001b[0m\n",
            "\u001b[34m[27]#011train-auc:0.72866#011validation-auc:0.72697\u001b[0m\n",
            "\u001b[34m[28]#011train-auc:0.72898#011validation-auc:0.72730\u001b[0m\n",
            "\u001b[34m[29]#011train-auc:0.72941#011validation-auc:0.72778\u001b[0m\n",
            "\u001b[34m[30]#011train-auc:0.72977#011validation-auc:0.72800\u001b[0m\n",
            "\u001b[34m[31]#011train-auc:0.73014#011validation-auc:0.72837\u001b[0m\n",
            "\u001b[34m[32]#011train-auc:0.73052#011validation-auc:0.72872\u001b[0m\n",
            "\u001b[34m[33]#011train-auc:0.73101#011validation-auc:0.72911\u001b[0m\n",
            "\u001b[34m[34]#011train-auc:0.73150#011validation-auc:0.72962\u001b[0m\n",
            "\u001b[34m[35]#011train-auc:0.73195#011validation-auc:0.72991\u001b[0m\n",
            "\u001b[34m[36]#011train-auc:0.73264#011validation-auc:0.73047\u001b[0m\n",
            "\u001b[34m[37]#011train-auc:0.73322#011validation-auc:0.73104\u001b[0m\n",
            "\u001b[34m[38]#011train-auc:0.73364#011validation-auc:0.73137\u001b[0m\n",
            "\u001b[34m[39]#011train-auc:0.73406#011validation-auc:0.73179\u001b[0m\n",
            "\u001b[34m[40]#011train-auc:0.73452#011validation-auc:0.73215\u001b[0m\n",
            "\u001b[34m[41]#011train-auc:0.73488#011validation-auc:0.73243\u001b[0m\n",
            "\u001b[34m[42]#011train-auc:0.73520#011validation-auc:0.73271\u001b[0m\n",
            "\u001b[34m[43]#011train-auc:0.73558#011validation-auc:0.73307\u001b[0m\n",
            "\u001b[34m[44]#011train-auc:0.73585#011validation-auc:0.73331\u001b[0m\n",
            "\u001b[34m[45]#011train-auc:0.73602#011validation-auc:0.73344\u001b[0m\n",
            "\u001b[34m[46]#011train-auc:0.73638#011validation-auc:0.73375\u001b[0m\n",
            "\u001b[34m[47]#011train-auc:0.73677#011validation-auc:0.73403\u001b[0m\n",
            "\u001b[34m[48]#011train-auc:0.73742#011validation-auc:0.73468\u001b[0m\n",
            "\u001b[34m[49]#011train-auc:0.73774#011validation-auc:0.73493\u001b[0m\n",
            "\u001b[34m[50]#011train-auc:0.73815#011validation-auc:0.73523\u001b[0m\n",
            "\u001b[34m[51]#011train-auc:0.73860#011validation-auc:0.73550\u001b[0m\n",
            "\u001b[34m[52]#011train-auc:0.73898#011validation-auc:0.73577\u001b[0m\n",
            "\u001b[34m[53]#011train-auc:0.73938#011validation-auc:0.73603\u001b[0m\n",
            "\u001b[34m[54]#011train-auc:0.73972#011validation-auc:0.73627\u001b[0m\n",
            "\u001b[34m[55]#011train-auc:0.74007#011validation-auc:0.73656\u001b[0m\n",
            "\u001b[34m[56]#011train-auc:0.74059#011validation-auc:0.73699\u001b[0m\n",
            "\u001b[34m[57]#011train-auc:0.74075#011validation-auc:0.73711\u001b[0m\n",
            "\u001b[34m[58]#011train-auc:0.74127#011validation-auc:0.73757\u001b[0m\n",
            "\u001b[34m[59]#011train-auc:0.74136#011validation-auc:0.73765\u001b[0m\n",
            "\u001b[34m[60]#011train-auc:0.74163#011validation-auc:0.73786\u001b[0m\n",
            "\u001b[34m[61]#011train-auc:0.74193#011validation-auc:0.73813\u001b[0m\n",
            "\u001b[34m[62]#011train-auc:0.74216#011validation-auc:0.73831\u001b[0m\n",
            "\u001b[34m[63]#011train-auc:0.74235#011validation-auc:0.73841\u001b[0m\n",
            "\u001b[34m[64]#011train-auc:0.74261#011validation-auc:0.73867\u001b[0m\n",
            "\u001b[34m[65]#011train-auc:0.74292#011validation-auc:0.73889\u001b[0m\n",
            "\u001b[34m[66]#011train-auc:0.74305#011validation-auc:0.73900\u001b[0m\n",
            "\u001b[34m[67]#011train-auc:0.74342#011validation-auc:0.73932\u001b[0m\n",
            "\u001b[34m[68]#011train-auc:0.74374#011validation-auc:0.73954\u001b[0m\n",
            "\u001b[34m[69]#011train-auc:0.74397#011validation-auc:0.73967\u001b[0m\n",
            "\u001b[34m[70]#011train-auc:0.74428#011validation-auc:0.73984\u001b[0m\n",
            "\u001b[34m[71]#011train-auc:0.74452#011validation-auc:0.74000\u001b[0m\n",
            "\u001b[34m[72]#011train-auc:0.74470#011validation-auc:0.74019\u001b[0m\n",
            "\u001b[34m[73]#011train-auc:0.74494#011validation-auc:0.74038\u001b[0m\n",
            "\u001b[34m[74]#011train-auc:0.74512#011validation-auc:0.74047\u001b[0m\n",
            "\u001b[34m[75]#011train-auc:0.74545#011validation-auc:0.74072\u001b[0m\n",
            "\u001b[34m[76]#011train-auc:0.74570#011validation-auc:0.74087\u001b[0m\n",
            "\u001b[34m[77]#011train-auc:0.74596#011validation-auc:0.74102\u001b[0m\n",
            "\u001b[34m[78]#011train-auc:0.74616#011validation-auc:0.74113\u001b[0m\n",
            "\u001b[34m[79]#011train-auc:0.74646#011validation-auc:0.74133\u001b[0m\n",
            "\u001b[34m[80]#011train-auc:0.74663#011validation-auc:0.74148\u001b[0m\n",
            "\u001b[34m[81]#011train-auc:0.74687#011validation-auc:0.74164\u001b[0m\n",
            "\u001b[34m[82]#011train-auc:0.74706#011validation-auc:0.74180\u001b[0m\n",
            "\u001b[34m[83]#011train-auc:0.74732#011validation-auc:0.74203\u001b[0m\n",
            "\u001b[34m[84]#011train-auc:0.74747#011validation-auc:0.74212\u001b[0m\n",
            "\u001b[34m[85]#011train-auc:0.74763#011validation-auc:0.74223\u001b[0m\n",
            "\u001b[34m[86]#011train-auc:0.74777#011validation-auc:0.74234\u001b[0m\n",
            "\u001b[34m[87]#011train-auc:0.74799#011validation-auc:0.74253\u001b[0m\n",
            "\u001b[34m[88]#011train-auc:0.74823#011validation-auc:0.74278\u001b[0m\n",
            "\u001b[34m[89]#011train-auc:0.74848#011validation-auc:0.74291\u001b[0m\n",
            "\u001b[34m[90]#011train-auc:0.74863#011validation-auc:0.74300\u001b[0m\n",
            "\u001b[34m[91]#011train-auc:0.74883#011validation-auc:0.74315\u001b[0m\n",
            "\u001b[34m[92]#011train-auc:0.74910#011validation-auc:0.74338\u001b[0m\n",
            "\u001b[34m[93]#011train-auc:0.74930#011validation-auc:0.74352\u001b[0m\n",
            "\u001b[34m[94]#011train-auc:0.74949#011validation-auc:0.74366\u001b[0m\n",
            "\u001b[34m[95]#011train-auc:0.74969#011validation-auc:0.74379\u001b[0m\n",
            "\u001b[34m[96]#011train-auc:0.74994#011validation-auc:0.74398\u001b[0m\n",
            "\u001b[34m[97]#011train-auc:0.75008#011validation-auc:0.74404\u001b[0m\n",
            "\u001b[34m[98]#011train-auc:0.75025#011validation-auc:0.74418\u001b[0m\n",
            "\u001b[34m[99]#011train-auc:0.75046#011validation-auc:0.74431\u001b[0m\n",
            "\u001b[34m[100]#011train-auc:0.75062#011validation-auc:0.74440\u001b[0m\n",
            "\u001b[34m[101]#011train-auc:0.75084#011validation-auc:0.74457\u001b[0m\n",
            "\u001b[34m[102]#011train-auc:0.75093#011validation-auc:0.74468\u001b[0m\n",
            "\u001b[34m[103]#011train-auc:0.75111#011validation-auc:0.74478\u001b[0m\n",
            "\u001b[34m[104]#011train-auc:0.75126#011validation-auc:0.74492\u001b[0m\n",
            "\u001b[34m[105]#011train-auc:0.75138#011validation-auc:0.74503\u001b[0m\n",
            "\u001b[34m[106]#011train-auc:0.75152#011validation-auc:0.74512\u001b[0m\n",
            "\u001b[34m[107]#011train-auc:0.75168#011validation-auc:0.74519\u001b[0m\n",
            "\u001b[34m[108]#011train-auc:0.75185#011validation-auc:0.74534\u001b[0m\n",
            "\u001b[34m[109]#011train-auc:0.75198#011validation-auc:0.74543\u001b[0m\n",
            "\u001b[34m[110]#011train-auc:0.75217#011validation-auc:0.74560\u001b[0m\n",
            "\u001b[34m[111]#011train-auc:0.75229#011validation-auc:0.74568\u001b[0m\n",
            "\u001b[34m[112]#011train-auc:0.75243#011validation-auc:0.74570\u001b[0m\n",
            "\u001b[34m[113]#011train-auc:0.75254#011validation-auc:0.74574\u001b[0m\n",
            "\u001b[34m[114]#011train-auc:0.75262#011validation-auc:0.74581\u001b[0m\n",
            "\u001b[34m[115]#011train-auc:0.75274#011validation-auc:0.74591\u001b[0m\n",
            "\u001b[34m[116]#011train-auc:0.75280#011validation-auc:0.74595\u001b[0m\n",
            "\u001b[34m[117]#011train-auc:0.75293#011validation-auc:0.74608\u001b[0m\n",
            "\u001b[34m[118]#011train-auc:0.75312#011validation-auc:0.74623\u001b[0m\n",
            "\u001b[34m[119]#011train-auc:0.75330#011validation-auc:0.74635\u001b[0m\n",
            "\n",
            "2022-04-17 10:34:08 Uploading - Uploading generated training model\n",
            "2022-04-17 10:34:41 Completed - Training job completed\n",
            "ProfilerReport-1650191021: NoIssuesFound\n",
            "Training seconds: 546\n",
            "Billable seconds: 546\n"
          ]
        }
      ],
      "source": [
        "# add code best_estimator\n",
        "best_estimator.fit(inputs = data_channels)"
      ]
    },
    {
      "cell_type": "markdown",
      "metadata": {
        "id": "rTtRx0XCV__f"
      },
      "source": [
        "Use the batch transformer for your new model, and evaluate the model on the test dataset."
      ]
    },
    {
      "cell_type": "code",
      "execution_count": null,
      "metadata": {
        "id": "LWWsM6BCV__f",
        "outputId": "99ec6bfa-ebe0-4c61-8b74-a8cc0efa9674"
      },
      "outputs": [
        {
          "name": "stdout",
          "output_type": "stream",
          "text": [
            "..................................\u001b[34m[2022-04-17:10:40:36:INFO] No GPUs detected (normal if no gpus installed)\u001b[0m\n",
            "\u001b[34m[2022-04-17:10:40:36:INFO] No GPUs detected (normal if no gpus installed)\u001b[0m\n",
            "\u001b[34m[2022-04-17:10:40:36:INFO] nginx config: \u001b[0m\n",
            "\u001b[34mworker_processes auto;\u001b[0m\n",
            "\u001b[34mdaemon off;\u001b[0m\n",
            "\u001b[34mpid /tmp/nginx.pid;\u001b[0m\n",
            "\u001b[34merror_log  /dev/stderr;\u001b[0m\n",
            "\u001b[34mworker_rlimit_nofile 4096;\u001b[0m\n",
            "\u001b[34mevents {\n",
            "  worker_connections 2048;\u001b[0m\n",
            "\u001b[34m}\u001b[0m\n",
            "\u001b[34mhttp {\n",
            "  include /etc/nginx/mime.types;\n",
            "  default_type application/octet-stream;\n",
            "  access_log /dev/stdout combined;\n",
            "  upstream gunicorn {\n",
            "    server unix:/tmp/gunicorn.sock;\n",
            "  }\n",
            "  server {\n",
            "    listen 8080 deferred;\n",
            "    client_max_body_size 0;\n",
            "    keepalive_timeout 3;\n",
            "    location ~ ^/(ping|invocations|execution-parameters) {\n",
            "      proxy_set_header X-Forwarded-For $proxy_add_x_forwarded_for;\n",
            "      proxy_set_header Host $http_host;\n",
            "      proxy_redirect off;\n",
            "      proxy_read_timeout 60s;\n",
            "      proxy_pass http://gunicorn;\n",
            "    }\n",
            "    location / {\n",
            "      return 404 \"{}\";\n",
            "    }\n",
            "  }\u001b[0m\n",
            "\u001b[34m}\u001b[0m\n",
            "\u001b[34m[2022-04-17 10:40:36 +0000] [18] [INFO] Starting gunicorn 19.10.0\u001b[0m\n",
            "\u001b[34m[2022-04-17 10:40:36 +0000] [18] [INFO] Listening at: unix:/tmp/gunicorn.sock (18)\u001b[0m\n",
            "\u001b[34m[2022-04-17 10:40:36 +0000] [18] [INFO] Using worker: gevent\u001b[0m\n",
            "\u001b[34m[2022-04-17 10:40:36 +0000] [25] [INFO] Booting worker with pid: 25\u001b[0m\n",
            "\u001b[34m[2022-04-17 10:40:36 +0000] [26] [INFO] Booting worker with pid: 26\u001b[0m\n",
            "\u001b[34m[2022-04-17 10:40:36 +0000] [27] [INFO] Booting worker with pid: 27\u001b[0m\n",
            "\u001b[34m[2022-04-17 10:40:36 +0000] [28] [INFO] Booting worker with pid: 28\u001b[0m\n",
            "\u001b[34m[2022-04-17:10:40:43:INFO] No GPUs detected (normal if no gpus installed)\u001b[0m\n",
            "\u001b[34m169.254.255.130 - - [17/Apr/2022:10:40:43 +0000] \"GET /ping HTTP/1.1\" 200 0 \"-\" \"Go-http-client/1.1\"\u001b[0m\n",
            "\u001b[34m[2022-04-17:10:40:43:INFO] No GPUs detected (normal if no gpus installed)\u001b[0m\n",
            "\u001b[34m169.254.255.130 - - [17/Apr/2022:10:40:43 +0000] \"GET /execution-parameters HTTP/1.1\" 200 84 \"-\" \"Go-http-client/1.1\"\u001b[0m\n",
            "\u001b[34m[2022-04-17:10:40:44:INFO] No GPUs detected (normal if no gpus installed)\u001b[0m\n",
            "\u001b[34m[2022-04-17:10:40:44:INFO] Determined delimiter of CSV input is ','\u001b[0m\n",
            "\u001b[34m[2022-04-17:10:40:44:INFO] Determined delimiter of CSV input is ','\u001b[0m\n",
            "\u001b[34m[2022-04-17:10:40:44:INFO] No GPUs detected (normal if no gpus installed)\u001b[0m\n",
            "\u001b[34m[2022-04-17:10:40:44:INFO] Determined delimiter of CSV input is ','\u001b[0m\n",
            "\u001b[34m[2022-04-17:10:40:44:INFO] Determined delimiter of CSV input is ','\u001b[0m\n",
            "\u001b[32m2022-04-17T10:40:43.129:[sagemaker logs]: MaxConcurrentTransforms=4, MaxPayloadInMB=6, BatchStrategy=MULTI_RECORD\u001b[0m\n",
            "\u001b[34m169.254.255.130 - - [17/Apr/2022:10:40:47 +0000] \"POST /invocations HTTP/1.1\" 200 653146 \"-\" \"Go-http-client/1.1\"\u001b[0m\n",
            "\u001b[34m169.254.255.130 - - [17/Apr/2022:10:40:47 +0000] \"POST /invocations HTTP/1.1\" 200 653074 \"-\" \"Go-http-client/1.1\"\u001b[0m\n",
            "\u001b[34m169.254.255.130 - - [17/Apr/2022:10:40:48 +0000] \"POST /invocations HTTP/1.1\" 200 652992 \"-\" \"Go-http-client/1.1\"\u001b[0m\n",
            "\u001b[34m169.254.255.130 - - [17/Apr/2022:10:40:48 +0000] \"POST /invocations HTTP/1.1\" 200 653172 \"-\" \"Go-http-client/1.1\"\u001b[0m\n",
            "\u001b[34m[2022-04-17:10:40:48:INFO] Determined delimiter of CSV input is ','\u001b[0m\n",
            "\u001b[35m169.254.255.130 - - [17/Apr/2022:10:40:47 +0000] \"POST /invocations HTTP/1.1\" 200 653146 \"-\" \"Go-http-client/1.1\"\u001b[0m\n",
            "\u001b[35m169.254.255.130 - - [17/Apr/2022:10:40:47 +0000] \"POST /invocations HTTP/1.1\" 200 653074 \"-\" \"Go-http-client/1.1\"\u001b[0m\n",
            "\u001b[35m169.254.255.130 - - [17/Apr/2022:10:40:48 +0000] \"POST /invocations HTTP/1.1\" 200 652992 \"-\" \"Go-http-client/1.1\"\u001b[0m\n",
            "\u001b[35m169.254.255.130 - - [17/Apr/2022:10:40:48 +0000] \"POST /invocations HTTP/1.1\" 200 653172 \"-\" \"Go-http-client/1.1\"\u001b[0m\n",
            "\u001b[35m[2022-04-17:10:40:48:INFO] Determined delimiter of CSV input is ','\u001b[0m\n",
            "\u001b[34m169.254.255.130 - - [17/Apr/2022:10:40:50 +0000] \"POST /invocations HTTP/1.1\" 200 602830 \"-\" \"Go-http-client/1.1\"\u001b[0m\n",
            "\u001b[35m169.254.255.130 - - [17/Apr/2022:10:40:50 +0000] \"POST /invocations HTTP/1.1\" 200 602830 \"-\" \"Go-http-client/1.1\"\u001b[0m\n",
            "\n",
            "\u001b[34m[2022-04-17:10:40:36:INFO] No GPUs detected (normal if no gpus installed)\u001b[0m\n",
            "\u001b[34m[2022-04-17:10:40:36:INFO] No GPUs detected (normal if no gpus installed)\u001b[0m\n",
            "\u001b[34m[2022-04-17:10:40:36:INFO] nginx config: \u001b[0m\n",
            "\u001b[34mworker_processes auto;\u001b[0m\n",
            "\u001b[34mdaemon off;\u001b[0m\n",
            "\u001b[34mpid /tmp/nginx.pid;\u001b[0m\n",
            "\u001b[34merror_log  /dev/stderr;\u001b[0m\n",
            "\u001b[34mworker_rlimit_nofile 4096;\u001b[0m\n",
            "\u001b[34mevents {\n",
            "  worker_connections 2048;\u001b[0m\n",
            "\u001b[35m[2022-04-17:10:40:36:INFO] No GPUs detected (normal if no gpus installed)\u001b[0m\n",
            "\u001b[35m[2022-04-17:10:40:36:INFO] No GPUs detected (normal if no gpus installed)\u001b[0m\n",
            "\u001b[35m[2022-04-17:10:40:36:INFO] nginx config: \u001b[0m\n",
            "\u001b[35mworker_processes auto;\u001b[0m\n",
            "\u001b[35mdaemon off;\u001b[0m\n",
            "\u001b[35mpid /tmp/nginx.pid;\u001b[0m\n",
            "\u001b[35merror_log  /dev/stderr;\u001b[0m\n",
            "\u001b[35mworker_rlimit_nofile 4096;\u001b[0m\n",
            "\u001b[35mevents {\n",
            "  worker_connections 2048;\u001b[0m\n",
            "\u001b[34m}\u001b[0m\n",
            "\u001b[34mhttp {\n",
            "  include /etc/nginx/mime.types;\n",
            "  default_type application/octet-stream;\n",
            "  access_log /dev/stdout combined;\n",
            "  upstream gunicorn {\n",
            "    server unix:/tmp/gunicorn.sock;\n",
            "  }\n",
            "  server {\n",
            "    listen 8080 deferred;\n",
            "    client_max_body_size 0;\n",
            "    keepalive_timeout 3;\n",
            "    location ~ ^/(ping|invocations|execution-parameters) {\n",
            "      proxy_set_header X-Forwarded-For $proxy_add_x_forwarded_for;\n",
            "      proxy_set_header Host $http_host;\n",
            "      proxy_redirect off;\n",
            "      proxy_read_timeout 60s;\n",
            "      proxy_pass http://gunicorn;\n",
            "    }\n",
            "    location / {\n",
            "      return 404 \"{}\";\n",
            "    }\n",
            "  }\u001b[0m\n",
            "\u001b[34m}\u001b[0m\n",
            "\u001b[35m}\u001b[0m\n",
            "\u001b[35mhttp {\n",
            "  include /etc/nginx/mime.types;\n",
            "  default_type application/octet-stream;\n",
            "  access_log /dev/stdout combined;\n",
            "  upstream gunicorn {\n",
            "    server unix:/tmp/gunicorn.sock;\n",
            "  }\n",
            "  server {\n",
            "    listen 8080 deferred;\n",
            "    client_max_body_size 0;\n",
            "    keepalive_timeout 3;\n",
            "    location ~ ^/(ping|invocations|execution-parameters) {\n",
            "      proxy_set_header X-Forwarded-For $proxy_add_x_forwarded_for;\n",
            "      proxy_set_header Host $http_host;\n",
            "      proxy_redirect off;\n",
            "      proxy_read_timeout 60s;\n",
            "      proxy_pass http://gunicorn;\n",
            "    }\n",
            "    location / {\n",
            "      return 404 \"{}\";\n",
            "    }\n",
            "  }\u001b[0m\n",
            "\u001b[35m}\u001b[0m\n",
            "\u001b[34m[2022-04-17 10:40:36 +0000] [18] [INFO] Starting gunicorn 19.10.0\u001b[0m\n",
            "\u001b[34m[2022-04-17 10:40:36 +0000] [18] [INFO] Listening at: unix:/tmp/gunicorn.sock (18)\u001b[0m\n",
            "\u001b[34m[2022-04-17 10:40:36 +0000] [18] [INFO] Using worker: gevent\u001b[0m\n",
            "\u001b[34m[2022-04-17 10:40:36 +0000] [25] [INFO] Booting worker with pid: 25\u001b[0m\n",
            "\u001b[35m[2022-04-17 10:40:36 +0000] [18] [INFO] Starting gunicorn 19.10.0\u001b[0m\n",
            "\u001b[35m[2022-04-17 10:40:36 +0000] [18] [INFO] Listening at: unix:/tmp/gunicorn.sock (18)\u001b[0m\n",
            "\u001b[35m[2022-04-17 10:40:36 +0000] [18] [INFO] Using worker: gevent\u001b[0m\n",
            "\u001b[35m[2022-04-17 10:40:36 +0000] [25] [INFO] Booting worker with pid: 25\u001b[0m\n",
            "\u001b[34m[2022-04-17 10:40:36 +0000] [26] [INFO] Booting worker with pid: 26\u001b[0m\n",
            "\u001b[34m[2022-04-17 10:40:36 +0000] [27] [INFO] Booting worker with pid: 27\u001b[0m\n",
            "\u001b[34m[2022-04-17 10:40:36 +0000] [28] [INFO] Booting worker with pid: 28\u001b[0m\n",
            "\u001b[35m[2022-04-17 10:40:36 +0000] [26] [INFO] Booting worker with pid: 26\u001b[0m\n",
            "\u001b[35m[2022-04-17 10:40:36 +0000] [27] [INFO] Booting worker with pid: 27\u001b[0m\n",
            "\u001b[35m[2022-04-17 10:40:36 +0000] [28] [INFO] Booting worker with pid: 28\u001b[0m\n",
            "\u001b[34m[2022-04-17:10:40:43:INFO] No GPUs detected (normal if no gpus installed)\u001b[0m\n",
            "\u001b[34m169.254.255.130 - - [17/Apr/2022:10:40:43 +0000] \"GET /ping HTTP/1.1\" 200 0 \"-\" \"Go-http-client/1.1\"\u001b[0m\n",
            "\u001b[34m[2022-04-17:10:40:43:INFO] No GPUs detected (normal if no gpus installed)\u001b[0m\n",
            "\u001b[34m169.254.255.130 - - [17/Apr/2022:10:40:43 +0000] \"GET /execution-parameters HTTP/1.1\" 200 84 \"-\" \"Go-http-client/1.1\"\u001b[0m\n",
            "\u001b[35m[2022-04-17:10:40:43:INFO] No GPUs detected (normal if no gpus installed)\u001b[0m\n",
            "\u001b[35m169.254.255.130 - - [17/Apr/2022:10:40:43 +0000] \"GET /ping HTTP/1.1\" 200 0 \"-\" \"Go-http-client/1.1\"\u001b[0m\n",
            "\u001b[35m[2022-04-17:10:40:43:INFO] No GPUs detected (normal if no gpus installed)\u001b[0m\n",
            "\u001b[35m169.254.255.130 - - [17/Apr/2022:10:40:43 +0000] \"GET /execution-parameters HTTP/1.1\" 200 84 \"-\" \"Go-http-client/1.1\"\u001b[0m\n",
            "\u001b[34m[2022-04-17:10:40:44:INFO] No GPUs detected (normal if no gpus installed)\u001b[0m\n",
            "\u001b[34m[2022-04-17:10:40:44:INFO] Determined delimiter of CSV input is ','\u001b[0m\n",
            "\u001b[35m[2022-04-17:10:40:44:INFO] No GPUs detected (normal if no gpus installed)\u001b[0m\n",
            "\u001b[35m[2022-04-17:10:40:44:INFO] Determined delimiter of CSV input is ','\u001b[0m\n",
            "\u001b[34m[2022-04-17:10:40:44:INFO] Determined delimiter of CSV input is ','\u001b[0m\n",
            "\u001b[34m[2022-04-17:10:40:44:INFO] No GPUs detected (normal if no gpus installed)\u001b[0m\n",
            "\u001b[34m[2022-04-17:10:40:44:INFO] Determined delimiter of CSV input is ','\u001b[0m\n",
            "\u001b[34m[2022-04-17:10:40:44:INFO] Determined delimiter of CSV input is ','\u001b[0m\n",
            "\u001b[35m[2022-04-17:10:40:44:INFO] Determined delimiter of CSV input is ','\u001b[0m\n",
            "\u001b[35m[2022-04-17:10:40:44:INFO] No GPUs detected (normal if no gpus installed)\u001b[0m\n",
            "\u001b[35m[2022-04-17:10:40:44:INFO] Determined delimiter of CSV input is ','\u001b[0m\n",
            "\u001b[35m[2022-04-17:10:40:44:INFO] Determined delimiter of CSV input is ','\u001b[0m\n",
            "\u001b[32m2022-04-17T10:40:43.129:[sagemaker logs]: MaxConcurrentTransforms=4, MaxPayloadInMB=6, BatchStrategy=MULTI_RECORD\u001b[0m\n",
            "\u001b[34m169.254.255.130 - - [17/Apr/2022:10:40:47 +0000] \"POST /invocations HTTP/1.1\" 200 653146 \"-\" \"Go-http-client/1.1\"\u001b[0m\n",
            "\u001b[34m169.254.255.130 - - [17/Apr/2022:10:40:47 +0000] \"POST /invocations HTTP/1.1\" 200 653074 \"-\" \"Go-http-client/1.1\"\u001b[0m\n",
            "\u001b[34m169.254.255.130 - - [17/Apr/2022:10:40:48 +0000] \"POST /invocations HTTP/1.1\" 200 652992 \"-\" \"Go-http-client/1.1\"\u001b[0m\n",
            "\u001b[34m169.254.255.130 - - [17/Apr/2022:10:40:48 +0000] \"POST /invocations HTTP/1.1\" 200 653172 \"-\" \"Go-http-client/1.1\"\u001b[0m\n",
            "\u001b[34m[2022-04-17:10:40:48:INFO] Determined delimiter of CSV input is ','\u001b[0m\n",
            "\u001b[35m169.254.255.130 - - [17/Apr/2022:10:40:47 +0000] \"POST /invocations HTTP/1.1\" 200 653146 \"-\" \"Go-http-client/1.1\"\u001b[0m\n",
            "\u001b[35m169.254.255.130 - - [17/Apr/2022:10:40:47 +0000] \"POST /invocations HTTP/1.1\" 200 653074 \"-\" \"Go-http-client/1.1\"\u001b[0m\n",
            "\u001b[35m169.254.255.130 - - [17/Apr/2022:10:40:48 +0000] \"POST /invocations HTTP/1.1\" 200 652992 \"-\" \"Go-http-client/1.1\"\u001b[0m\n",
            "\u001b[35m169.254.255.130 - - [17/Apr/2022:10:40:48 +0000] \"POST /invocations HTTP/1.1\" 200 653172 \"-\" \"Go-http-client/1.1\"\u001b[0m\n",
            "\u001b[35m[2022-04-17:10:40:48:INFO] Determined delimiter of CSV input is ','\u001b[0m\n",
            "\u001b[34m169.254.255.130 - - [17/Apr/2022:10:40:50 +0000] \"POST /invocations HTTP/1.1\" 200 602830 \"-\" \"Go-http-client/1.1\"\u001b[0m\n",
            "\u001b[35m169.254.255.130 - - [17/Apr/2022:10:40:50 +0000] \"POST /invocations HTTP/1.1\" 200 602830 \"-\" \"Go-http-client/1.1\"\u001b[0m\n"
          ]
        }
      ],
      "source": [
        "batch_output = \"s3://{}/{}/batch-out/\".format(bucket,prefix)\n",
        "batch_input = \"s3://{}/{}/batch-in/{}\".format(bucket,prefix,batch_X_file)\n",
        "\n",
        "xgb_transformer = best_estimator.transformer(instance_count=1,\n",
        "                                       instance_type=instance_type,\n",
        "                                       strategy='MultiRecord',\n",
        "                                       assemble_with='Line',\n",
        "                                       output_path=batch_output)\n",
        "\n",
        "xgb_transformer.transform(data=batch_input,\n",
        "                         data_type='S3Prefix',\n",
        "                         content_type='text/csv',\n",
        "                         split_type='Line')\n",
        "xgb_transformer.wait()"
      ]
    },
    {
      "cell_type": "code",
      "execution_count": null,
      "metadata": {
        "id": "lrUAagzWV__f"
      },
      "outputs": [],
      "source": [
        "s3 = boto3.client('s3')\n",
        "obj = s3.get_object(Bucket=bucket, Key=\"{}/batch-out/{}\".format(prefix,'batch-in.csv.out'))\n",
        "target_predicted = pd.read_csv(io.BytesIO(obj['Body'].read()),',',names=['target'])\n",
        "test_labels = test.iloc[:,0]"
      ]
    },
    {
      "cell_type": "markdown",
      "metadata": {
        "id": "9-P4eE_gV__g"
      },
      "source": [
        "Get the predicted target and test labels."
      ]
    },
    {
      "cell_type": "code",
      "execution_count": null,
      "metadata": {
        "id": "zQTPxhX1V__g"
      },
      "outputs": [],
      "source": [
        "print(target_predicted.head())\n",
        "\n",
        "def binary_convert(x):\n",
        "    threshold = 0.55\n",
        "    if x > threshold:\n",
        "        return 1\n",
        "    else:\n",
        "        return 0\n",
        "\n",
        "target_predicted['target'] = target_predicted['target'].apply(binary_convert)\n",
        "\n",
        "test_labels = test.iloc[:,0]\n",
        "\n",
        "print(target_predicted.head())"
      ]
    },
    {
      "cell_type": "markdown",
      "metadata": {
        "id": "rPj7TEH3V__g"
      },
      "source": [
        "Plot a confusion matrix for your `target_predicted` and `test_labels`."
      ]
    },
    {
      "cell_type": "code",
      "execution_count": null,
      "metadata": {
        "id": "fApJb_HsV__g"
      },
      "outputs": [],
      "source": [
        "# Enter your code here"
      ]
    },
    {
      "cell_type": "markdown",
      "metadata": {
        "id": "xO7LVkG2V__g"
      },
      "source": [
        "Plot the ROC chart:"
      ]
    },
    {
      "cell_type": "code",
      "execution_count": null,
      "metadata": {
        "id": "Jd8bYQQgV__g"
      },
      "outputs": [],
      "source": [
        "# Enter your code here"
      ]
    },
    {
      "cell_type": "markdown",
      "metadata": {
        "id": "hQfesHAuV__h"
      },
      "source": [
        "**Question**: Try different hyperparameters and hyperparameter ranges. Do these changes improve the model?"
      ]
    },
    {
      "cell_type": "markdown",
      "metadata": {
        "id": "NC1JOMZWV__h"
      },
      "source": [
        "## Conclusion\n",
        "\n",
        "You have now iterated through training and evaluating your model at least a couple of times. It's time to wrap up this project and reflect on:\n",
        "\n",
        "- What you learned \n",
        "- What types of steps you might take moving forward (assuming that you had more time)\n",
        "\n",
        "Use the following cell to answer some of these questions and other relevant questions:\n",
        "\n",
        "1. Does your model performance meet your business goal? If not, what are some things you'd like to do differently if you had more time for tuning?\n",
        "2. How much did your model improve as you made changes to your dataset, features, and hyperparameters? What types of techniques did you employ throughout this project, and which yielded the greatest improvements in your model?\n",
        "3. What were some of the biggest challenges that you encountered throughout this project?\n",
        "4. Do you have any unanswered questions about aspects of the pipeline that didn't make sense to you?\n",
        "5. What were the three most important things that you learned about machine learning while working on this project?\n",
        "\n",
        "#### <span style=\"color: blue;\">Project presentation: Make sure that you also summarize your answers to these questions in your project presentation. Combine all your notes for your project presentation and prepare to present your findings to the class.</span>"
      ]
    },
    {
      "cell_type": "code",
      "execution_count": null,
      "metadata": {
        "id": "xYi_2HX0V__h"
      },
      "outputs": [],
      "source": [
        "# Write your answers here"
      ]
    }
  ],
  "metadata": {
    "kernelspec": {
      "display_name": "conda_python3",
      "language": "python",
      "name": "conda_python3"
    },
    "language_info": {
      "codemirror_mode": {
        "name": "ipython",
        "version": 3
      },
      "file_extension": ".py",
      "mimetype": "text/x-python",
      "name": "python",
      "nbconvert_exporter": "python",
      "pygments_lexer": "ipython3",
      "version": "3.6.13"
    },
    "colab": {
      "name": "Flight_Delay-Student_6209520011.ipynb",
      "provenance": [],
      "collapsed_sections": [
        "AvCxg4kfV_-0",
        "23wF6iwEV_-5",
        "kpEEh_LuV_-6",
        "kJ4qqitlV_-9",
        "xoMmUgIHV_-9",
        "zeKsDuxXV_-_",
        "xaITTeLRV__B",
        "waF9hjyLV__B",
        "pDnjp_kjV__C",
        "6CNubd8pV__C",
        "_eozIVb1V__D",
        "-51E_tMLV__D",
        "uvp3z6A_V__G",
        "np2YvJ9WV__H",
        "rGVTsO9LV__J",
        "-dhGS-MfV__L",
        "qchtNCafV__O",
        "VjAIxA42V__P",
        "wXKY4XqVV__Q",
        "ulFzv8S2V__S",
        "fylKde81V__W",
        "dTULQc_9V__X",
        "NC1JOMZWV__h"
      ],
      "include_colab_link": true
    }
  },
  "nbformat": 4,
  "nbformat_minor": 0
}