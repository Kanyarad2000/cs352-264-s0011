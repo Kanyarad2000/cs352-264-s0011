{
  "nbformat": 4,
  "nbformat_minor": 0,
  "metadata": {
    "colab": {
      "name": "Notebook PythonBasic2_0011.ipynb",
      "provenance": [],
      "authorship_tag": "ABX9TyPeDKiVkhvIMnHvS8ScT5uJ",
      "include_colab_link": true
    },
    "kernelspec": {
      "name": "python3",
      "display_name": "Python 3"
    },
    "language_info": {
      "name": "python"
    }
  },
  "cells": [
    {
      "cell_type": "markdown",
      "metadata": {
        "id": "view-in-github",
        "colab_type": "text"
      },
      "source": [
        "<a href=\"https://colab.research.google.com/github/Kanyarad2000/cs352-264-s0011/blob/main/Notebook_PythonBasic2_0011.ipynb\" target=\"_parent\"><img src=\"https://colab.research.google.com/assets/colab-badge.svg\" alt=\"Open In Colab\"/></a>"
      ]
    },
    {
      "cell_type": "markdown",
      "source": [
        "Python List Basics"
      ],
      "metadata": {
        "id": "vyp_Y-Zi__5t"
      }
    },
    {
      "cell_type": "code",
      "execution_count": 1,
      "metadata": {
        "id": "kSBMLizt6yaM"
      },
      "outputs": [],
      "source": [
        "my_first_list = [3,4,1,4,5,2,7]"
      ]
    },
    {
      "cell_type": "code",
      "source": [
        "my_first_list"
      ],
      "metadata": {
        "colab": {
          "base_uri": "https://localhost:8080/"
        },
        "id": "B9V4y3yH7qRw",
        "outputId": "60217b3e-4211-434c-bf10-11b5a125a602"
      },
      "execution_count": 2,
      "outputs": [
        {
          "output_type": "execute_result",
          "data": {
            "text/plain": [
              "[3, 4, 1, 4, 5, 2, 7]"
            ]
          },
          "metadata": {},
          "execution_count": 2
        }
      ]
    },
    {
      "cell_type": "code",
      "source": [
        "dog_name = 'Freddie'\n",
        "age = 9\n",
        "is_vaccinated = True\n",
        "hight = 1.1\n",
        "birth_year = 2001\n"
      ],
      "metadata": {
        "id": "UNRYxBzV7uQv"
      },
      "execution_count": 3,
      "outputs": []
    },
    {
      "cell_type": "code",
      "source": [
        "dog = ['Frddie',9,True,1.1 ,2001]"
      ],
      "metadata": {
        "id": "KuyPJ5qq8GxP"
      },
      "execution_count": 8,
      "outputs": []
    },
    {
      "cell_type": "code",
      "source": [
        "dog"
      ],
      "metadata": {
        "colab": {
          "base_uri": "https://localhost:8080/"
        },
        "id": "4dLMgzHz8PrG",
        "outputId": "cfc441a4-1ced-4b81-ab68-806653a5f554"
      },
      "execution_count": 9,
      "outputs": [
        {
          "output_type": "execute_result",
          "data": {
            "text/plain": [
              "['Frddie', 9, True, 1.1, 2001]"
            ]
          },
          "metadata": {},
          "execution_count": 9
        }
      ]
    },
    {
      "cell_type": "code",
      "source": [
        "dog = ['Freddie', 9, True, 1.1, 2001, ['bone', 'little ball']]"
      ],
      "metadata": {
        "id": "c2mzwfjj8Y-G"
      },
      "execution_count": 10,
      "outputs": []
    },
    {
      "cell_type": "code",
      "source": [
        "sample_matrix = [[1,4,9], [1,8,27], [1,16,81] ]"
      ],
      "metadata": {
        "id": "3h79zk7p8dIy"
      },
      "execution_count": 11,
      "outputs": []
    },
    {
      "cell_type": "code",
      "source": [
        "dog"
      ],
      "metadata": {
        "colab": {
          "base_uri": "https://localhost:8080/"
        },
        "id": "dnegqUQR8ojm",
        "outputId": "0dcf5b2c-7ab5-4eda-eebf-c66999c63182"
      },
      "execution_count": 12,
      "outputs": [
        {
          "output_type": "execute_result",
          "data": {
            "text/plain": [
              "['Freddie', 9, True, 1.1, 2001, ['bone', 'little ball']]"
            ]
          },
          "metadata": {},
          "execution_count": 12
        }
      ]
    },
    {
      "cell_type": "code",
      "source": [
        "sample_matrix"
      ],
      "metadata": {
        "colab": {
          "base_uri": "https://localhost:8080/"
        },
        "id": "SwcnLX8N8q8e",
        "outputId": "fa98c7e4-4623-4c6d-f180-1371a4218010"
      },
      "execution_count": 13,
      "outputs": [
        {
          "output_type": "execute_result",
          "data": {
            "text/plain": [
              "[[1, 4, 9], [1, 8, 27], [1, 16, 81]]"
            ]
          },
          "metadata": {},
          "execution_count": 13
        }
      ]
    },
    {
      "cell_type": "code",
      "source": [
        "dog\n"
      ],
      "metadata": {
        "colab": {
          "base_uri": "https://localhost:8080/"
        },
        "id": "vjWL6Tka9K7W",
        "outputId": "23d9f0c1-0337-499e-ce79-580bc90539dd"
      },
      "execution_count": 14,
      "outputs": [
        {
          "output_type": "execute_result",
          "data": {
            "text/plain": [
              "['Freddie', 9, True, 1.1, 2001, ['bone', 'little ball']]"
            ]
          },
          "metadata": {},
          "execution_count": 14
        }
      ]
    },
    {
      "cell_type": "code",
      "source": [
        "dog[1]"
      ],
      "metadata": {
        "colab": {
          "base_uri": "https://localhost:8080/"
        },
        "id": "4a-FytQ_9OyX",
        "outputId": "9c13163e-a32a-4df9-9dbd-53cd6caf1228"
      },
      "execution_count": 15,
      "outputs": [
        {
          "output_type": "execute_result",
          "data": {
            "text/plain": [
              "9"
            ]
          },
          "metadata": {},
          "execution_count": 15
        }
      ]
    },
    {
      "cell_type": "code",
      "source": [
        "dog[0]"
      ],
      "metadata": {
        "colab": {
          "base_uri": "https://localhost:8080/",
          "height": 35
        },
        "id": "EJv_Fvyp9Uou",
        "outputId": "fd19ce9d-49c4-4d55-d13e-5e7d722fd9c9"
      },
      "execution_count": 17,
      "outputs": [
        {
          "output_type": "execute_result",
          "data": {
            "application/vnd.google.colaboratory.intrinsic+json": {
              "type": "string"
            },
            "text/plain": [
              "'Freddie'"
            ]
          },
          "metadata": {},
          "execution_count": 17
        }
      ]
    },
    {
      "cell_type": "code",
      "source": [
        "dog[1]\n"
      ],
      "metadata": {
        "colab": {
          "base_uri": "https://localhost:8080/"
        },
        "id": "fpLvF7UM9bom",
        "outputId": "78088415-96f4-44e1-ceab-bae5ef8f77bb"
      },
      "execution_count": 18,
      "outputs": [
        {
          "output_type": "execute_result",
          "data": {
            "text/plain": [
              "9"
            ]
          },
          "metadata": {},
          "execution_count": 18
        }
      ]
    },
    {
      "cell_type": "code",
      "source": [
        "dog[2]\n"
      ],
      "metadata": {
        "colab": {
          "base_uri": "https://localhost:8080/"
        },
        "id": "13R3Tv7A9eV-",
        "outputId": "2083b426-4d63-48ec-ba8c-aeec6ce08a0a"
      },
      "execution_count": 19,
      "outputs": [
        {
          "output_type": "execute_result",
          "data": {
            "text/plain": [
              "True"
            ]
          },
          "metadata": {},
          "execution_count": 19
        }
      ]
    },
    {
      "cell_type": "code",
      "source": [
        "dog[3]\n"
      ],
      "metadata": {
        "colab": {
          "base_uri": "https://localhost:8080/"
        },
        "id": "V6OvXr4z9huW",
        "outputId": "abde5745-8601-459c-c66e-c7814fa55922"
      },
      "execution_count": 20,
      "outputs": [
        {
          "output_type": "execute_result",
          "data": {
            "text/plain": [
              "1.1"
            ]
          },
          "metadata": {},
          "execution_count": 20
        }
      ]
    },
    {
      "cell_type": "code",
      "source": [
        "dog[4]"
      ],
      "metadata": {
        "colab": {
          "base_uri": "https://localhost:8080/"
        },
        "id": "HH3x1tkR9kke",
        "outputId": "cb123d47-3451-486b-867e-27ebb9b7a210"
      },
      "execution_count": 21,
      "outputs": [
        {
          "output_type": "execute_result",
          "data": {
            "text/plain": [
              "2001"
            ]
          },
          "metadata": {},
          "execution_count": 21
        }
      ]
    },
    {
      "cell_type": "code",
      "source": [
        "dog[5]"
      ],
      "metadata": {
        "colab": {
          "base_uri": "https://localhost:8080/"
        },
        "id": "Ul7IZur89ove",
        "outputId": "4d03b13c-9b7d-471f-8857-4bed13997216"
      },
      "execution_count": 22,
      "outputs": [
        {
          "output_type": "execute_result",
          "data": {
            "text/plain": [
              "['bone', 'little ball']"
            ]
          },
          "metadata": {},
          "execution_count": 22
        }
      ]
    },
    {
      "cell_type": "code",
      "source": [
        "dog[5][0]"
      ],
      "metadata": {
        "colab": {
          "base_uri": "https://localhost:8080/",
          "height": 35
        },
        "id": "wGqpt5Au9r1G",
        "outputId": "a3fc98ed-61ad-484b-d14a-2c4c29c67175"
      },
      "execution_count": 23,
      "outputs": [
        {
          "output_type": "execute_result",
          "data": {
            "application/vnd.google.colaboratory.intrinsic+json": {
              "type": "string"
            },
            "text/plain": [
              "'bone'"
            ]
          },
          "metadata": {},
          "execution_count": 23
        }
      ]
    },
    {
      "cell_type": "code",
      "source": [
        "dog[1:4]"
      ],
      "metadata": {
        "colab": {
          "base_uri": "https://localhost:8080/"
        },
        "id": "YxhcoC919w6G",
        "outputId": "4142d022-ab37-4580-f146-85ce4b652bfc"
      },
      "execution_count": 24,
      "outputs": [
        {
          "output_type": "execute_result",
          "data": {
            "text/plain": [
              "[9, True, 1.1]"
            ]
          },
          "metadata": {},
          "execution_count": 24
        }
      ]
    },
    {
      "cell_type": "markdown",
      "source": [
        "Tuples"
      ],
      "metadata": {
        "id": "wP2DwjNZAL8O"
      }
    },
    {
      "cell_type": "code",
      "source": [
        "book_tuple = ['A Game of Thrones', 'Digital Fortress', 'Practical Statistics for Data Scientists']"
      ],
      "metadata": {
        "id": "U3GglJiq96VO"
      },
      "execution_count": 28,
      "outputs": []
    },
    {
      "cell_type": "code",
      "source": [
        "book_tuple"
      ],
      "metadata": {
        "colab": {
          "base_uri": "https://localhost:8080/"
        },
        "id": "SEqFyCsz9-WG",
        "outputId": "4b66f9cb-c555-420b-8d95-cbfb08a534cf"
      },
      "execution_count": 29,
      "outputs": [
        {
          "output_type": "execute_result",
          "data": {
            "text/plain": [
              "['A Game of Thrones',\n",
              " 'Digital Fortress',\n",
              " 'Practical Statistics for Data Scientists']"
            ]
          },
          "metadata": {},
          "execution_count": 29
        }
      ]
    },
    {
      "cell_type": "code",
      "source": [
        "book_tuple[1]"
      ],
      "metadata": {
        "colab": {
          "base_uri": "https://localhost:8080/",
          "height": 35
        },
        "id": "YyF6qUvy-Hh1",
        "outputId": "2898812c-05b3-4f15-f0b7-83a45d9fad75"
      },
      "execution_count": 30,
      "outputs": [
        {
          "output_type": "execute_result",
          "data": {
            "application/vnd.google.colaboratory.intrinsic+json": {
              "type": "string"
            },
            "text/plain": [
              "'Digital Fortress'"
            ]
          },
          "metadata": {},
          "execution_count": 30
        }
      ]
    },
    {
      "cell_type": "markdown",
      "source": [
        "Dictionaries"
      ],
      "metadata": {
        "id": "jDDVYxnbATLK"
      }
    },
    {
      "cell_type": "code",
      "source": [
        "dog_dict = {'name': 'Freddie', 'age': 9, 'is_vaccinated': True, 'height': 1.1, 'birth_year': 2001, 'belongings': ['bone', 'little ball']}"
      ],
      "metadata": {
        "id": "HTFko2ia-LX1"
      },
      "execution_count": 32,
      "outputs": []
    },
    {
      "cell_type": "code",
      "source": [
        "dog_dict"
      ],
      "metadata": {
        "colab": {
          "base_uri": "https://localhost:8080/"
        },
        "id": "u-HLThkqAjjH",
        "outputId": "7edad115-8c6f-4fae-a8b2-ef9f28dbf989"
      },
      "execution_count": 33,
      "outputs": [
        {
          "output_type": "execute_result",
          "data": {
            "text/plain": [
              "{'age': 9,\n",
              " 'belongings': ['bone', 'little ball'],\n",
              " 'birth_year': 2001,\n",
              " 'height': 1.1,\n",
              " 'is_vaccinated': True,\n",
              " 'name': 'Freddie'}"
            ]
          },
          "metadata": {},
          "execution_count": 33
        }
      ]
    },
    {
      "cell_type": "code",
      "source": [
        "dog_dict['name']"
      ],
      "metadata": {
        "colab": {
          "base_uri": "https://localhost:8080/",
          "height": 35
        },
        "id": "EXwjP6-oAmj2",
        "outputId": "86303496-e76d-413a-f40e-393583701277"
      },
      "execution_count": 34,
      "outputs": [
        {
          "output_type": "execute_result",
          "data": {
            "application/vnd.google.colaboratory.intrinsic+json": {
              "type": "string"
            },
            "text/plain": [
              "'Freddie'"
            ]
          },
          "metadata": {},
          "execution_count": 34
        }
      ]
    },
    {
      "cell_type": "markdown",
      "source": [
        "Test yourself"
      ],
      "metadata": {
        "id": "Vd6iyBzLBG7Z"
      }
    },
    {
      "cell_type": "code",
      "source": [
        "test = [{'Arizona': 'Phoenix', 'California': 'Sacramento', 'Hawaii': 'Honolulu'},\n",
        "1000,\n",
        "2000,\n",
        "3000,\n",
        "['hat', 't-shirt', 'jeans', {'socks1': 'red', 'socks2': 'blue'}]]"
      ],
      "metadata": {
        "id": "aS-BXY76Ax2P"
      },
      "execution_count": 35,
      "outputs": []
    },
    {
      "cell_type": "markdown",
      "source": [
        "Exercise 1"
      ],
      "metadata": {
        "id": "9WNYXY4UBLaU"
      }
    },
    {
      "cell_type": "code",
      "source": [
        "test[2]"
      ],
      "metadata": {
        "colab": {
          "base_uri": "https://localhost:8080/"
        },
        "id": "nfm-7nnaBWSs",
        "outputId": "62931565-05cb-455a-d9f5-3a630cfa0f2d"
      },
      "execution_count": 36,
      "outputs": [
        {
          "output_type": "execute_result",
          "data": {
            "text/plain": [
              "2000"
            ]
          },
          "metadata": {},
          "execution_count": 36
        }
      ]
    },
    {
      "cell_type": "markdown",
      "source": [
        "Exercise 2"
      ],
      "metadata": {
        "id": "u0l5_zYVBfrD"
      }
    },
    {
      "cell_type": "code",
      "source": [
        "test[0]"
      ],
      "metadata": {
        "colab": {
          "base_uri": "https://localhost:8080/"
        },
        "id": "nnNg9igABdsV",
        "outputId": "1a649e00-ffad-4226-bd7b-c698639a0e1d"
      },
      "execution_count": 37,
      "outputs": [
        {
          "output_type": "execute_result",
          "data": {
            "text/plain": [
              "{'Arizona': 'Phoenix', 'California': 'Sacramento', 'Hawaii': 'Honolulu'}"
            ]
          },
          "metadata": {},
          "execution_count": 37
        }
      ]
    },
    {
      "cell_type": "markdown",
      "source": [
        "Exercise 3"
      ],
      "metadata": {
        "id": "8MpnQCuQBoG9"
      }
    },
    {
      "cell_type": "code",
      "source": [
        "test[4]"
      ],
      "metadata": {
        "colab": {
          "base_uri": "https://localhost:8080/"
        },
        "id": "tG4339mwBmu-",
        "outputId": "faf7450c-11bb-4daf-faa5-18a942aa4c0d"
      },
      "execution_count": 38,
      "outputs": [
        {
          "output_type": "execute_result",
          "data": {
            "text/plain": [
              "['hat', 't-shirt', 'jeans', {'socks1': 'red', 'socks2': 'blue'}]"
            ]
          },
          "metadata": {},
          "execution_count": 38
        }
      ]
    },
    {
      "cell_type": "markdown",
      "source": [
        "Exercise 4"
      ],
      "metadata": {
        "id": "eDct34JhBtiO"
      }
    },
    {
      "cell_type": "code",
      "source": [
        "test[0]['Arizona']"
      ],
      "metadata": {
        "colab": {
          "base_uri": "https://localhost:8080/",
          "height": 35
        },
        "id": "llbJUvYhBxaV",
        "outputId": "3d17d329-980c-4768-ccac-fef15b5b80f6"
      },
      "execution_count": 39,
      "outputs": [
        {
          "output_type": "execute_result",
          "data": {
            "application/vnd.google.colaboratory.intrinsic+json": {
              "type": "string"
            },
            "text/plain": [
              "'Phoenix'"
            ]
          },
          "metadata": {},
          "execution_count": 39
        }
      ]
    },
    {
      "cell_type": "markdown",
      "source": [
        "Exercise 5"
      ],
      "metadata": {
        "id": "c-Pr5r5UB2Gf"
      }
    },
    {
      "cell_type": "code",
      "source": [
        "test[4][2]"
      ],
      "metadata": {
        "colab": {
          "base_uri": "https://localhost:8080/",
          "height": 35
        },
        "id": "jRETvbxSB4mG",
        "outputId": "2d213690-f4ad-4ab4-cfad-ecad407ae72d"
      },
      "execution_count": 40,
      "outputs": [
        {
          "output_type": "execute_result",
          "data": {
            "application/vnd.google.colaboratory.intrinsic+json": {
              "type": "string"
            },
            "text/plain": [
              "'jeans'"
            ]
          },
          "metadata": {},
          "execution_count": 40
        }
      ]
    },
    {
      "cell_type": "markdown",
      "source": [
        "Exercise 6"
      ],
      "metadata": {
        "id": "KSAbVTSRB8XV"
      }
    },
    {
      "cell_type": "code",
      "source": [
        "test[4][3]['socks2']"
      ],
      "metadata": {
        "colab": {
          "base_uri": "https://localhost:8080/",
          "height": 35
        },
        "id": "prQU7h3kCBLu",
        "outputId": "6e2a905a-3ada-4f62-cd39-a25a16ff1e76"
      },
      "execution_count": 41,
      "outputs": [
        {
          "output_type": "execute_result",
          "data": {
            "application/vnd.google.colaboratory.intrinsic+json": {
              "type": "string"
            },
            "text/plain": [
              "'blue'"
            ]
          },
          "metadata": {},
          "execution_count": 41
        }
      ]
    }
  ]
}